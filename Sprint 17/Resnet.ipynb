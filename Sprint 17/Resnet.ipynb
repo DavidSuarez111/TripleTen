{
 "cells": [
  {
   "cell_type": "code",
   "execution_count": null,
   "id": "66a5119b",
   "metadata": {},
   "outputs": [],
   "source": [
    "import tensorflow as tf\n",
    "from tensorflow.keras.preprocessing.image import ImageDataGenerator\n",
    "from tensorflow.keras.applications import ResNet50\n",
    "from tensorflow.keras.layers import GlobalAveragePooling2D, Dense\n",
    "from tensorflow.keras.models import Sequential\n",
    "from tensorflow.keras.optimizers import Adam"
   ]
  },
  {
   "cell_type": "code",
   "execution_count": null,
   "id": "38c4cb5f",
   "metadata": {},
   "outputs": [],
   "source": [
    "\n",
    "\n",
    "def load_data(path, width, height, batch_size):\n",
    "    ## Podrías añadir más técnicas de aumento\n",
    "    train_datagen = ImageDataGenerator(rescale=1/255,\n",
    "                                    horizontal_flip=True,\n",
    "                                    vertical_flip=True)\n",
    "                                      \n",
    "    train_generator = train_datagen.flow_from_directory(path,\n",
    "                                                        seed=123,\n",
    "                                                        target_size = (width,height),\n",
    "                                                        batch_size = batch_size,\n",
    "                                                        class_mode = \"categorical\",\n",
    "                                                        shuffle=True,\n",
    "                                                        )\n",
    "    return train_generator\n",
    "    \n",
    "def create_resnet_model(input_shape):\n",
    "    backbone = ResNet50(input_shape=input_shape, weights='imagenet', include_top=False)\n",
    "    \n",
    "    # usaremos un modelo previamente entrenado con sus parámetros susceptibles de ser aprendidos intactos\n",
    "    for layer in backbone.layers:\n",
    "        layer.trainable = False\n",
    "    \n",
    "    # entrenemos la parte de clasificación\n",
    "    model = Sequential()\n",
    "    model.add(backbone)\n",
    "    model.add(GlobalAveragePooling2D())\n",
    "    # también podrías agregar una capa dense aquí: model.add(Dense(128, activation='relu'))\n",
    "    model.add(Dense(8, activation='softmax'))\n",
    "    \n",
    "    optimizer = Adam(learning_rate=0.001)\n",
    "    model.compile(optimizer=optimizer, loss='categorical_crossentropy', metrics=['accuracy'])\n",
    "    return model\n",
    "    \n",
    " def train_model(model, train_data, val_data, epochs=10):\n",
    "\n",
    "    model.fit(\n",
    "        train_data,\n",
    "        validation_data=val_data,\n",
    "        epochs=epochs,\n",
    "        verbose=1\n",
    "    )\n",
    "    return model"
   ]
  }
 ],
 "metadata": {
  "language_info": {
   "name": "python"
  }
 },
 "nbformat": 4,
 "nbformat_minor": 5
}
