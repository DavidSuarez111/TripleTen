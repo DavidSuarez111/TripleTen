{
 "cells": [
  {
   "cell_type": "markdown",
   "id": "c7902c4a",
   "metadata": {},
   "source": [
    "Proyect Description\n",
    "\n",
    "Beta Bank is experiencing a gradual decline in customers. \n",
    "\n",
    "The objective is to study the customers behavioral pattern to predict which clients will leave the bank service soon. \n",
    "\n",
    "For that a ML model with maximized F1 score >59% will be made. "
   ]
  },
  {
   "cell_type": "code",
   "execution_count": 119,
   "id": "6e448251",
   "metadata": {},
   "outputs": [],
   "source": [
    "#Libraries setup\n",
    "import pandas as pd\n",
    "import numpy as np\n",
    "import matplotlib.pyplot as plt\n",
    "import sklearn\n",
    "from sklearn.impute import KNNImputer\n",
    "from sklearn.base import BaseEstimator, TransformerMixin\n",
    "from sklearn.compose import ColumnTransformer\n",
    "from sklearn.compose import make_column_selector as selector\n",
    "from  sklearn.model_selection import train_test_split, GridSearchCV\n",
    "from  sklearn.ensemble import RandomForestClassifier\n",
    "from sklearn.metrics import classification_report, confusion_matrix, ConfusionMatrixDisplay\n",
    "from sklearn.utils import shuffle\n",
    "from sklearn.metrics import f1_score, roc_auc_score, roc_curve, auc, recall_score, precision_score\n",
    "from sklearn.pipeline import Pipeline\n",
    "from sklearn.impute import SimpleImputer\n",
    "from sklearn.preprocessing import LabelEncoder, StandardScaler"
   ]
  },
  {
   "cell_type": "code",
   "execution_count": 120,
   "id": "a441deb8",
   "metadata": {},
   "outputs": [
    {
     "name": "stdout",
     "output_type": "stream",
     "text": [
      "(10000, 14)\n",
      "Index(['RowNumber', 'CustomerId', 'Surname', 'CreditScore', 'Geography',\n",
      "       'Gender', 'Age', 'Tenure', 'Balance', 'NumOfProducts', 'HasCrCard',\n",
      "       'IsActiveMember', 'EstimatedSalary', 'Exited'],\n",
      "      dtype='object')\n",
      "<class 'pandas.core.frame.DataFrame'>\n",
      "RangeIndex: 10000 entries, 0 to 9999\n",
      "Data columns (total 14 columns):\n",
      " #   Column           Non-Null Count  Dtype  \n",
      "---  ------           --------------  -----  \n",
      " 0   RowNumber        10000 non-null  int64  \n",
      " 1   CustomerId       10000 non-null  int64  \n",
      " 2   Surname          10000 non-null  object \n",
      " 3   CreditScore      10000 non-null  int64  \n",
      " 4   Geography        10000 non-null  object \n",
      " 5   Gender           10000 non-null  object \n",
      " 6   Age              10000 non-null  int64  \n",
      " 7   Tenure           9091 non-null   float64\n",
      " 8   Balance          10000 non-null  float64\n",
      " 9   NumOfProducts    10000 non-null  int64  \n",
      " 10  HasCrCard        10000 non-null  int64  \n",
      " 11  IsActiveMember   10000 non-null  int64  \n",
      " 12  EstimatedSalary  10000 non-null  float64\n",
      " 13  Exited           10000 non-null  int64  \n",
      "dtypes: float64(3), int64(8), object(3)\n",
      "memory usage: 1.1+ MB\n",
      "0    1\n",
      "1    0\n",
      "2    1\n",
      "3    0\n",
      "4    0\n",
      "Name: Exited, dtype: int64\n",
      "0    1\n",
      "1    1\n",
      "2    0\n",
      "3    0\n",
      "4    1\n",
      "Name: IsActiveMember, dtype: int64\n"
     ]
    }
   ],
   "source": [
    "#Data importing and exploration\n",
    "\n",
    "#Data importing\n",
    "churned_data = pd.read_csv(\"Churn.csv\")\n",
    "\n",
    "\n",
    "#Exploratory Data Analysis\n",
    "print(churned_data.shape)\n",
    "print(churned_data.columns)\n",
    "churned_data.info()\n",
    "#Exited, IsActiveMember. Review of datatype: they are booleans in integer. 1 or 0. \n",
    "print(churned_data[\"Exited\"].head())\n",
    "print(churned_data[\"IsActiveMember\"].head())"
   ]
  },
  {
   "cell_type": "markdown",
   "id": "68f4c8d4",
   "metadata": {},
   "source": [
    "The data has categorical columns that may need to be numerically encoded to be managed in a Machine Learning model. \n",
    "\n",
    "Columns: Surname, Geography, Gender.\n",
    "\n",
    "Tenure column has nan so an imputing action would be of help. "
   ]
  },
  {
   "cell_type": "markdown",
   "id": "de5aeb04",
   "metadata": {},
   "source": [
    "Data imputation and splitting for ML model training and testing purposes."
   ]
  },
  {
   "cell_type": "code",
   "execution_count": 121,
   "id": "c2a1e5b5",
   "metadata": {},
   "outputs": [
    {
     "name": "stdout",
     "output_type": "stream",
     "text": [
      "Train data size:  (6000, 14)\n",
      "Test data size:  (2000, 14)\n",
      "Validation data size:  (2000, 14)\n",
      "Correct Data splitting.\n"
     ]
    }
   ],
   "source": [
    "#Data splitting \n",
    "#60% train, 40% test and validation. 20% each. \n",
    "train, test = train_test_split(churned_data, test_size= 0.4, random_state=12345)\n",
    "valid, test = train_test_split(test, test_size= 0.5, random_state=12345)\n",
    "#Testing the size of the samples to match the logic of the split\n",
    "print(\"Train data size: \", train.shape)\n",
    "print(\"Test data size: \", test.shape)\n",
    "print(\"Validation data size: \", valid.shape)\n",
    "print(\"Correct Data splitting.\")\n",
    "\n",
    "#Split data into target and features\n",
    "train_target = train[\"Exited\"]\n",
    "train_features = train.drop(columns=[\"Exited\"])\n",
    "valid_target = valid[\"Exited\"]\n",
    "valid_features = valid.drop(columns=[\"Exited\"])\n",
    "test_target = test[\"Exited\"]\n",
    "test_features = test.drop(columns=[\"Exited\"])\n",
    "\n",
    "#Note: Data splitting avoids influencing imputation with values of training data. \n",
    "\n"
   ]
  },
  {
   "cell_type": "code",
   "execution_count": 122,
   "id": "2f0691bc",
   "metadata": {},
   "outputs": [
    {
     "name": "stdout",
     "output_type": "stream",
     "text": [
      "<class 'pandas.core.frame.DataFrame'>\n",
      "RangeIndex: 6000 entries, 0 to 5999\n",
      "Data columns (total 13 columns):\n",
      " #   Column           Non-Null Count  Dtype  \n",
      "---  ------           --------------  -----  \n",
      " 0   RowNumber        6000 non-null   float64\n",
      " 1   CustomerId       6000 non-null   float64\n",
      " 2   CreditScore      6000 non-null   float64\n",
      " 3   Age              6000 non-null   float64\n",
      " 4   Tenure           6000 non-null   float64\n",
      " 5   Balance          6000 non-null   float64\n",
      " 6   NumOfProducts    6000 non-null   float64\n",
      " 7   HasCrCard        6000 non-null   float64\n",
      " 8   IsActiveMember   6000 non-null   float64\n",
      " 9   EstimatedSalary  6000 non-null   float64\n",
      " 10  Surname          6000 non-null   float64\n",
      " 11  Geography        6000 non-null   float64\n",
      " 12  Gender           6000 non-null   float64\n",
      "dtypes: float64(13)\n",
      "memory usage: 609.5 KB\n",
      "<class 'pandas.core.frame.DataFrame'>\n",
      "RangeIndex: 2000 entries, 0 to 1999\n",
      "Data columns (total 13 columns):\n",
      " #   Column           Non-Null Count  Dtype  \n",
      "---  ------           --------------  -----  \n",
      " 0   RowNumber        2000 non-null   float64\n",
      " 1   CustomerId       2000 non-null   float64\n",
      " 2   CreditScore      2000 non-null   float64\n",
      " 3   Age              2000 non-null   float64\n",
      " 4   Tenure           2000 non-null   float64\n",
      " 5   Balance          2000 non-null   float64\n",
      " 6   NumOfProducts    2000 non-null   float64\n",
      " 7   HasCrCard        2000 non-null   float64\n",
      " 8   IsActiveMember   2000 non-null   float64\n",
      " 9   EstimatedSalary  2000 non-null   float64\n",
      " 10  Surname          2000 non-null   float64\n",
      " 11  Geography        2000 non-null   float64\n",
      " 12  Gender           2000 non-null   float64\n",
      "dtypes: float64(13)\n",
      "memory usage: 203.3 KB\n",
      "<class 'pandas.core.frame.DataFrame'>\n",
      "RangeIndex: 2000 entries, 0 to 1999\n",
      "Data columns (total 13 columns):\n",
      " #   Column           Non-Null Count  Dtype  \n",
      "---  ------           --------------  -----  \n",
      " 0   RowNumber        2000 non-null   float64\n",
      " 1   CustomerId       2000 non-null   float64\n",
      " 2   CreditScore      2000 non-null   float64\n",
      " 3   Age              2000 non-null   float64\n",
      " 4   Tenure           2000 non-null   float64\n",
      " 5   Balance          2000 non-null   float64\n",
      " 6   NumOfProducts    2000 non-null   float64\n",
      " 7   HasCrCard        2000 non-null   float64\n",
      " 8   IsActiveMember   2000 non-null   float64\n",
      " 9   EstimatedSalary  2000 non-null   float64\n",
      " 10  Surname          2000 non-null   float64\n",
      " 11  Geography        2000 non-null   float64\n",
      " 12  Gender           2000 non-null   float64\n",
      "dtypes: float64(13)\n",
      "memory usage: 203.3 KB\n"
     ]
    },
    {
     "name": "stderr",
     "output_type": "stream",
     "text": [
      "c:\\Users\\david\\AppData\\Local\\Programs\\Python\\Python313\\Lib\\site-packages\\sklearn\\pipeline.py:62: FutureWarning: This Pipeline instance is not fitted yet. Call 'fit' with appropriate arguments before using other methods such as transform, predict, etc. This will raise an error in 1.8 instead of the current warning.\n",
      "  warnings.warn(\n",
      "c:\\Users\\david\\AppData\\Local\\Programs\\Python\\Python313\\Lib\\site-packages\\sklearn\\pipeline.py:62: FutureWarning: This Pipeline instance is not fitted yet. Call 'fit' with appropriate arguments before using other methods such as transform, predict, etc. This will raise an error in 1.8 instead of the current warning.\n",
      "  warnings.warn(\n"
     ]
    }
   ],
   "source": [
    "#Imputting tenure with the most relevantly fitted registries, advanced imputing. KNN algorithm of imputing. \n",
    "#Just Tenure column needs imputting and categorical columns need encoding. \n",
    "#ML does not manage well nan or absent data. \n",
    "knn_imputer = KNNImputer(n_neighbors=3)\n",
    "train_features['Tenure'] = knn_imputer.fit_transform(train_features[['Tenure']])\n",
    "valid_features['Tenure'] = knn_imputer.fit_transform(valid_features[['Tenure']])\n",
    "test_features['Tenure'] = knn_imputer.fit_transform(test_features[['Tenure']])\n",
    "\n",
    "#making changes to a function so that it can be applied to several columns: \n",
    "class LabelEncoderTransformer(BaseEstimator, TransformerMixin):\n",
    "    def fit(self, X, y=None):\n",
    "        return self  # Nothing needs to be fit here, since LabelEncoder does the job directly.\n",
    "\n",
    "    def transform(self, X):\n",
    "        # Apply LabelEncoder to each column\n",
    "        for column in X.columns:\n",
    "            le = LabelEncoder()\n",
    "            X[column] = le.fit_transform(X[column])\n",
    "        return X\n",
    "\n",
    "#Preprocessing pipelines\n",
    "numerical_pipeline = Pipeline([\n",
    "    ('scaler', StandardScaler())            \n",
    "])\n",
    "\n",
    "#Encoding of categorical data \n",
    "categorical_pipeline = Pipeline([\n",
    "    ('encoder', LabelEncoderTransformer())                            # Label encoding\n",
    "])\n",
    "#preprocessor pipeline \n",
    "preprocessor = ColumnTransformer(\n",
    "    transformers=[\n",
    "        ('num', numerical_pipeline, selector(dtype_exclude='object')),  \n",
    "        ('cat', categorical_pipeline, selector(dtype_include='object'))  \n",
    "    ])\n",
    "\n",
    "#Applying my preprocessor of data to conclude normalization and encoding\n",
    "train_features_preprocessed = preprocessor.fit_transform(train_features)\n",
    "train_features_preprocessed = pd.DataFrame(train_features_preprocessed, columns=numerical_columns.tolist() + categorical_columns.tolist())\n",
    "train_features_preprocessed.info() # The columns need to be reordered according to the original column order of the data. \n",
    "column_order = ['RowNumber', 'CustomerId', 'Surname', 'CreditScore', 'Geography',\n",
    "       'Gender', 'Age', 'Tenure', 'Balance', 'NumOfProducts', 'HasCrCard',\n",
    "       'IsActiveMember', 'EstimatedSalary']\n",
    "train_features_preprocessed = train_features_preprocessed[column_order]\n",
    "\n",
    "#Apply the preprocess to validation and test data\n",
    "valid_features_preprocessed = preprocessor.transform(valid_features)\n",
    "valid_features_preprocessed = pd.DataFrame(valid_features_preprocessed, columns=numerical_columns.tolist() + categorical_columns.tolist())\n",
    "valid_features_preprocessed.info() \n",
    "valid_features_preprocessed = valid_features_preprocessed[column_order]\n",
    "\n",
    "test_features_preprocessed = preprocessor.transform(test_features)\n",
    "test_features_preprocessed = pd.DataFrame(test_features_preprocessed, columns=numerical_columns.tolist() + categorical_columns.tolist())\n",
    "test_features_preprocessed.info() \n",
    "test_features_preprocessed = test_features_preprocessed[column_order]\n"
   ]
  },
  {
   "cell_type": "code",
   "execution_count": 123,
   "id": "03ddbd2c",
   "metadata": {},
   "outputs": [
    {
     "name": "stdout",
     "output_type": "stream",
     "text": [
      "F1 Score: 0.5197368421052632\n",
      "The model has a lower performance than the desired threshold: F1>59%);\n",
      "F1:51.973684210526315%, status: Failed.\n",
      "The model is high in precision: 83.15789473684211% appropriate at detecting positive cases that are true positives.\n",
      "\n",
      "The model detects 37.79904306220095% of all positive cases therefore low in sensitivity. \n",
      "This metric is highly relevant for the scope of predicting posibility of churning as it states how much churning is detected.\n"
     ]
    }
   ],
   "source": [
    "#Study the model previous to class balancing by class weight balancing, under or oversampling techniques. So basically data as is which is dominated by clients that have not yet churned while we want to mainly study the characteristics of churned clients. \n",
    "rf0_model = RandomForestClassifier(\n",
    "    n_estimators=100,              # Number of trees\n",
    "    max_depth=7,                   # Depth of each tree\n",
    "    random_state=12345,            # For reproducibility\n",
    "    n_jobs=-1                      # Use all cores to speed up computation\n",
    ")\n",
    "\n",
    "# Train the model\n",
    "rf0_model.fit(train_features_preprocessed, train_target)\n",
    "\n",
    "# Make predictions on the validation data\n",
    "valid_predictions = rf0_model.predict(valid_features_preprocessed)\n",
    "\n",
    "# Evaluate F1 Score\n",
    "f1 = f1_score(valid_target, valid_predictions)\n",
    "print(f\"F1 Score: {f1}\")\n",
    "print(f\"The model has a lower performance than the desired threshold: F1>59%);\\nF1:{f1*100}%, status: Failed.\")\n",
    "precision = precision_score(valid_target, valid_predictions)\n",
    "print(f\"The model is high in precision: {precision*100}% appropriate at detecting positive cases that are true positives.\") \n",
    "recall = recall_score(valid_target, valid_predictions)\n",
    "print(f\"\\nThe model detects {recall*100}% of all positive cases therefore low in sensitivity. \\nThis metric is highly relevant for the scope of predicting posibility of churning as it states how much churning is detected.\")"
   ]
  },
  {
   "cell_type": "markdown",
   "id": "02a67537",
   "metadata": {},
   "source": [
    "Train a model and test it previous to modifying the data and class weight balancing."
   ]
  },
  {
   "cell_type": "code",
   "execution_count": 124,
   "id": "bb87145e",
   "metadata": {},
   "outputs": [
    {
     "name": "stdout",
     "output_type": "stream",
     "text": [
      "F1 Score: 0.6111111111111112\n",
      "The model performs better than the desired threshold (F1>59%)61.111111111111114%.\n",
      "The model is 55.21235521235521% appropriate at detecting positive cases that are true positives.\n",
      "\n",
      "The model detects 68.42105263157895% of all positive cases.\n"
     ]
    }
   ],
   "source": [
    "#Study the model performance by class balancing with the argument class_weight. \n",
    "rf_model = RandomForestClassifier(\n",
    "    n_estimators=100,              # Number of trees\n",
    "    max_depth=7,                   # Depth of each tree\n",
    "    random_state=12345,            # For reproducibility\n",
    "    class_weight=\"balanced\",       #This argument allows for equal data classes value. \n",
    "    n_jobs=-1                      # Use all cores to speed up computation\n",
    ")\n",
    "\n",
    "# Train the model\n",
    "rf_model.fit(train_features_preprocessed, train_target)\n",
    "\n",
    "# Make predictions on the validation data\n",
    "valid_predictions = rf_model.predict(valid_features_preprocessed)\n",
    "\n",
    "# Evaluate F1 Score\n",
    "f1 = f1_score(valid_target, valid_predictions)\n",
    "print(f\"F1 Score: {f1}\")\n",
    "print(f\"The model performs better than the desired threshold (F1>59%){f1*100}%.\")\n",
    "precision = precision_score(valid_target, valid_predictions)\n",
    "print(f\"The model is {precision*100}% appropriate at detecting positive cases that are true positives.\") \n",
    "recall = recall_score(valid_target, valid_predictions)\n",
    "print(f\"\\nThe model detects {recall*100}% of all positive cases.\")"
   ]
  },
  {
   "cell_type": "code",
   "execution_count": 125,
   "id": "5abbae8e",
   "metadata": {},
   "outputs": [
    {
     "name": "stdout",
     "output_type": "stream",
     "text": [
      "ROC AUC: 0.7687803579745824\n"
     ]
    },
    {
     "data": {
      "image/png": "[encoded data removed]",
      "text/plain": [
       "<Figure size 800x600 with 1 Axes>"
      ]
     },
     "metadata": {},
     "output_type": "display_data"
    },
    {
     "name": "stdout",
     "output_type": "stream",
     "text": [
      "77% class distinction. The model is performing highly in identifying true positives.\n"
     ]
    }
   ],
   "source": [
    "# Evaluate ROC AUC of the training dataset in the first model. \n",
    "roc_auc = roc_auc_score(valid_target, valid_predictions)\n",
    "print(f\"ROC AUC: {roc_auc}\")\n",
    "\n",
    "# Plot ROC Curve\n",
    "valid_predict = rf_model.predict_proba(valid_features_preprocessed)[:, 1]\n",
    "fpr, tpr, thresholds = roc_curve(valid_target, valid_predict) \n",
    "roc_auc = auc(fpr, tpr)\n",
    "\n",
    "plt.figure(figsize=(8, 6))\n",
    "plt.plot(fpr, tpr, color='blue', label=f'ROC curve (AUC = {roc_auc:.2f})')\n",
    "plt.plot([0, 1], [0, 1], color='gray', linestyle='--')\n",
    "plt.xlabel('False Positive Rate')\n",
    "plt.ylabel('True Positive Rate')\n",
    "plt.title('Receiver Operating Characteristic (ROC) Curve')\n",
    "plt.legend(loc='lower right')\n",
    "plt.show()\n",
    "print(\"77% class distinction. The model is performing highly in identifying true positives.\")"
   ]
  },
  {
   "cell_type": "markdown",
   "id": "dc70df81",
   "metadata": {},
   "source": [
    "Class weight exploration"
   ]
  },
  {
   "cell_type": "code",
   "execution_count": 126,
   "id": "8790a14a",
   "metadata": {},
   "outputs": [
    {
     "name": "stdout",
     "output_type": "stream",
     "text": [
      "Exited\n",
      "0    0.800667\n",
      "1    0.199333\n",
      "Name: proportion, dtype: float64\n"
     ]
    },
    {
     "data": {
      "image/png": "[encoded data removed]",
      "text/plain": [
       "<Figure size 640x480 with 1 Axes>"
      ]
     },
     "metadata": {},
     "output_type": "display_data"
    },
    {
     "name": "stdout",
     "output_type": "stream",
     "text": [
      "The data consists of 80% non churn registries and roughly 20% clients that have churned.\n"
     ]
    }
   ],
   "source": [
    "#Class weight exploration\n",
    "#In a model having too much of one of the values can be detrimental for the predictions. Asses 0 and 1 representation to get close to 0.5 or at least a .7 to 0.3 with undersample and oversampling techniques. \n",
    "class_frequency = train_target.value_counts(normalize = True)\n",
    "print(class_frequency)\n",
    "class_frequency.plot(kind= \"bar\")\n",
    "plt.show()\n",
    "print(\"The data consists of 80% non churn registries and roughly 20% clients that have churned.\")\n",
    "#80% have not exited yet of the bank. The classes of churned and non churned are not balanced so bringing them to a ratio close to 50% each would help for the purpose of training the model and select a balanced weight. If not the model may generalize as having a bias towards predicting the class that repeats the most. "
   ]
  },
  {
   "cell_type": "markdown",
   "id": "b0699832",
   "metadata": {},
   "source": [
    "Undersampling to balance the classes of churned and non churned clients"
   ]
  },
  {
   "cell_type": "code",
   "execution_count": 127,
   "id": "ae56c940",
   "metadata": {},
   "outputs": [],
   "source": [
    "#Defining an undersampling function\n",
    "def random_undersample(df, target_column, random_state=None):\n",
    "    \"\"\"\n",
    "    Performs random undersampling to balance the classes in a target column.\n",
    "\n",
    "    Parameters:\n",
    "    - df (pd.DataFrame): the DataFrame containing the data.\n",
    "    - target_column (str): the name of the target column (class label).\n",
    "    - random_state (int, optional): seed for reproducibility.\n",
    "\n",
    "    Returns:\n",
    "    - balanced_df (pd.DataFrame): DataFrame with balanced classes via undersampling.\n",
    "    \"\"\"\n",
    "    # Get the minimum number of samples among all classes\n",
    "    min_count = df[target_column].value_counts().min()\n",
    "    \n",
    "    # Random undersampling for each class\n",
    "    balanced_dfs = []\n",
    "    for class_label, group in df.groupby(target_column):\n",
    "        undersampled_group = group.sample(n=min_count, random_state=random_state)\n",
    "        balanced_dfs.append(undersampled_group)\n",
    "    \n",
    "    # Combine the balanced subsets\n",
    "    balanced_df = pd.concat(balanced_dfs).sample(frac=1, random_state=random_state).reset_index(drop=True)\n",
    "    \n",
    "    return balanced_df\n",
    "\n",
    "#Calling the function on the training churn dataset.\n",
    "train_concat = pd.concat([train_features_preprocessed, train_target], axis= 1)\n",
    "train_balanced_undersampling = random_undersample(train_concat, \"Exited\",random_state= 12345)\n",
    "\n",
    "#splitting into features and target \n",
    "train_balanced_undersampling_target = train_balanced_undersampling[\"Exited\"]\n",
    "train_balanced_undersampling_features = train_balanced_undersampling.drop(columns=\"Exited\")\n"
   ]
  },
  {
   "cell_type": "markdown",
   "id": "4a786a17",
   "metadata": {},
   "source": [
    "Test the model after undersampling"
   ]
  },
  {
   "cell_type": "code",
   "execution_count": 128,
   "id": "5b5c6ae9",
   "metadata": {},
   "outputs": [
    {
     "name": "stdout",
     "output_type": "stream",
     "text": [
      "F1 Score: 0.2831215970961887\n",
      "The F1 metric reduced significantly after undersampling much lower than the acceptable F1 threshold.\n",
      "The model is 18.947368421052634% appropriate at detecting positive cases that are true positives.\n",
      "\n",
      "The model detects 55.980861244019145% of all positive cases.\n",
      "\n",
      "The model is less precise but detects 0.5598086124401914% of churning clients.\n"
     ]
    }
   ],
   "source": [
    "rf2_model = RandomForestClassifier(\n",
    "    n_estimators=100,              # Number of trees\n",
    "    max_depth=5,                   # Depth of each tree\n",
    "    class_weight= \"balanced\", \n",
    "    random_state=12345,            # For reproducibility\n",
    "    n_jobs=-1                      # Use all cores to speed up computation\n",
    ")\n",
    "\n",
    "# Train the model\n",
    "rf2_model.fit(train_balanced_undersampling_features, train_balanced_undersampling_target)\n",
    "\n",
    "# Make predictions on the validation data\n",
    "valid_predictions = rf2_model.predict(valid_features_preprocessed)\n",
    "\n",
    "# Evaluate F1 Score\n",
    "f1 = f1_score(valid_target, valid_predictions)\n",
    "print(f\"F1 Score: {f1}\")\n",
    "print(\"The F1 metric reduced significantly after undersampling much lower than the acceptable F1 threshold.\")\n",
    "#Precision vs Recall balance. Which one is more relevant for this project? \n",
    "precision = precision_score(valid_target, valid_predictions)\n",
    "print(f\"The model is {precision*100}% appropriate at detecting positive cases that are true positives.\") \n",
    "recall = recall_score(valid_target, valid_predictions)\n",
    "print(f\"\\nThe model detects {recall*100}% of all positive cases.\")\n",
    "print(f\"\\nThe model is less precise but detects {recall}% of churning clients.\")\n",
    "\n",
    "#Further delve into the model metrics to review its performance in detail regarding churning prediction. \n",
    "\n",
    "# Plot ROC Curve\n",
    "fpr, tpr, thresholds = roc_curve(valid_target, rf_model.predict_proba(valid_features_preprocessed)[:, 1])\n",
    "roc_auc = auc(fpr, tpr)\n"
   ]
  },
  {
   "cell_type": "markdown",
   "id": "0faf9b3c",
   "metadata": {},
   "source": [
    "Oversampling"
   ]
  },
  {
   "cell_type": "code",
   "execution_count": 129,
   "id": "560fc29c",
   "metadata": {},
   "outputs": [],
   "source": [
    "def random_oversample(df, target_column, random_state=None):\n",
    "    \"\"\"\n",
    "    Performs random oversampling to balance the classes in a target column.\n",
    "\n",
    "    Parameters:\n",
    "    - df (pd.DataFrame): the DataFrame containing the data.\n",
    "    - target_column (str): the name of the target column (class label).\n",
    "    - random_state (int, optional): seed for reproducibility.\n",
    "\n",
    "    Returns:\n",
    "    - df_balanced (pd.DataFrame): DataFrame with classes balanced through oversampling.\n",
    "    \"\"\"\n",
    "    # Get the maximum number of samples among the classes\n",
    "    max_count = df[target_column].value_counts().max()\n",
    "    \n",
    "    # Random oversampling per class\n",
    "    balanced_dfs = []\n",
    "    for class_value, group in df.groupby(target_column):\n",
    "        # Repeat with replacement until reaching the maximum count\n",
    "        oversampled_group = group.sample(n=max_count, replace=True, random_state=random_state)\n",
    "        balanced_dfs.append(oversampled_group)\n",
    "    \n",
    "    # Combine the balanced subsets\n",
    "    df_balanced = pd.concat(balanced_dfs).sample(frac=1, random_state=random_state).reset_index(drop=True)\n",
    "    \n",
    "    return df_balanced"
   ]
  },
  {
   "cell_type": "code",
   "execution_count": 130,
   "id": "34d47666",
   "metadata": {},
   "outputs": [],
   "source": [
    "#Calling the function on the training churn dataset.\n",
    "train_concat = pd.concat([train_features_preprocessed, train_target], axis= 1)\n",
    "train_balanced_oversampling = random_oversample(train_concat, \"Exited\",random_state= 12345)\n",
    "\n",
    "#splitting into features and target \n",
    "train_balanced_oversampling_target = train_balanced_oversampling[\"Exited\"]\n",
    "train_balanced_oversampling_features = train_balanced_oversampling.drop(columns=\"Exited\")"
   ]
  },
  {
   "cell_type": "code",
   "execution_count": 131,
   "id": "f5a8226e",
   "metadata": {},
   "outputs": [
    {
     "name": "stdout",
     "output_type": "stream",
     "text": [
      "F1 Score: 0.3442265795206972\n",
      "The F1 metric reduced significantly after oversampling in comparison to regular class weight balancing much lower than the acceptable threshold.\n",
      "The model is 24.713242961418143% appropriate at detecting positive cases that are true positives.\n",
      "\n",
      "The model detects 56.698564593301434% of all positive cases.\n",
      "\n",
      "The model has a weak performance in precision and recall.\n"
     ]
    }
   ],
   "source": [
    "#Testing the model on the oversampled training data\n",
    "rf3_model = RandomForestClassifier(\n",
    "    n_estimators=100,              # Number of trees\n",
    "    max_depth=5,                   # Depth of each tree\n",
    "    class_weight= \"balanced\", \n",
    "    random_state=12345,            # For reproducibility\n",
    "    n_jobs=-1                      # Use all cores to speed up computation\n",
    ")\n",
    "# Train the model\n",
    "rf3_model.fit(train_balanced_oversampling_features, train_balanced_oversampling_target)\n",
    "\n",
    "# Make predictions on the validation data\n",
    "valid_predictions = rf3_model.predict(valid_features_preprocessed)\n",
    "\n",
    "# Evaluate F1 Score\n",
    "f1 = f1_score(valid_target, valid_predictions)\n",
    "print(f\"F1 Score: {f1}\")\n",
    "print(\"The F1 metric reduced significantly after oversampling in comparison to regular class weight balancing much lower than the acceptable threshold.\")\n",
    "#Precision vs Recall balance. Which one is more relevant for this project? \n",
    "precision = precision_score(valid_target, valid_predictions)\n",
    "print(f\"The model is {precision*100}% appropriate at detecting positive cases that are true positives.\") \n",
    "recall = recall_score(valid_target, valid_predictions)\n",
    "print(f\"\\nThe model detects {recall*100}% of all positive cases.\")\n",
    "print(f\"\\nThe model has a weak performance in precision and recall.\")"
   ]
  },
  {
   "cell_type": "markdown",
   "id": "8674b6f7",
   "metadata": {},
   "source": [
    "The ML model performed better using regular class weight balancing than regular under or oversampling techniques.\n",
    "\n",
    "Cluster centroids or synthetic training data points using smote can be made to further improve the model as well as further fine tunning of hyperparameters. "
   ]
  },
  {
   "cell_type": "markdown",
   "id": "9a59dc7c",
   "metadata": {},
   "source": [
    "Reruning the best performing model with the test data to explore the degree of model consistency. \n",
    "\n",
    "Will the model give similar results?"
   ]
  },
  {
   "cell_type": "code",
   "execution_count": 132,
   "id": "0b3f2345",
   "metadata": {},
   "outputs": [
    {
     "name": "stdout",
     "output_type": "stream",
     "text": [
      "F1 Score: 0.5939139559286464\n",
      "The model is able to predict true false and true positives with a close consistency of the same f1 score of 57.6% assertiveness. Lower than desired threshold of 59%.\n",
      "\n",
      "The model is 53.39622641509434% appropriate at detecting positive cases that are true positives.\n",
      "\n",
      "The model detects 66.903073286052% of all positive cases.\n",
      "ROC AUC: 0.84606586105527\n"
     ]
    },
    {
     "data": {
      "image/png": "[encoded data removed]",
      "text/plain": [
       "<Figure size 800x600 with 1 Axes>"
      ]
     },
     "metadata": {},
     "output_type": "display_data"
    },
    {
     "name": "stdout",
     "output_type": "stream",
     "text": [
      "The model has 85% assertiveness distinguishing between true positives in new data and is therefore considered a strong model at detecting possibility of churning. \n",
      "The model shows consistency in f1 score ~59.4% and remains greater than the initially stated threshold.\n"
     ]
    }
   ],
   "source": [
    "#Check on test data to review consistency of the model \n",
    "test_predictions = rf_model.predict(test_features_preprocessed)\n",
    "\n",
    "# Evaluate F1 Score\n",
    "f1 = f1_score(test_target, test_predictions)\n",
    "print(f\"F1 Score: {f1}\")\n",
    "print(\"The model is able to predict true false and true positives with a close consistency of the same f1 score of 57.6% assertiveness. Lower than desired threshold of 59%.\")\n",
    "\n",
    "#Precision vs Recall exploration in test data.  \n",
    "precision = precision_score(test_target, test_predictions)\n",
    "print(f\"\\nThe model is {precision*100}% appropriate at detecting positive cases that are true positives.\") \n",
    "recall = recall_score(test_target, test_predictions)\n",
    "print(f\"\\nThe model detects {recall*100}% of all positive cases.\")\n",
    "\n",
    "#Further delve into the model metrics to review its performance in detail regarding churning prediction. \n",
    "\n",
    "# Plot ROC Curve\n",
    "fpr, tpr, thresholds = roc_curve(test_target, rf_model.predict_proba(test_features_preprocessed)[:, 1])\n",
    "roc_auc = auc(fpr, tpr)\n",
    "\n",
    "#Reviewing cosistency of ROC-AUC with the validation data. \n",
    "print(f\"ROC AUC: {roc_auc}\")\n",
    "\n",
    "plt.figure(figsize=(8, 6))\n",
    "plt.plot(fpr, tpr, color='blue', label=f'ROC curve (AUC = {roc_auc:.2f})')\n",
    "plt.plot([0, 1], [0, 1], color='gray', linestyle='--')\n",
    "plt.xlabel('False Positive Rate')\n",
    "plt.ylabel('True Positive Rate')\n",
    "plt.title('Receiver Operating Characteristic (ROC) Curve')\n",
    "plt.legend(loc='lower right')\n",
    "plt.show()\n",
    "print(\"The model has 85% assertiveness distinguishing between true positives in new data and is therefore considered a strong model at detecting possibility of churning. \\nThe model shows consistency in f1 score ~59.4% and remains greater than the initially stated threshold.\")\n"
   ]
  },
  {
   "cell_type": "markdown",
   "id": "460a719f",
   "metadata": {},
   "source": [
    "Conclusions\n",
    "\n",
    "A model was trained with and without sampling techniques (undersampling and oversampling). Regular balancing of the data with the argument class_weight = \"balanced\" gave the best performance.\n",
    "\n",
    "The model F1 or precission and recall balance ranges from ~59% to ~61% showing consistency in the results when using new data and having ~85% true positive detection according to the area under the curve. \n",
    "\n",
    "Especial advise: \n",
    "\n",
    "Following the objective of the enterprise to maximize for clients that will likely churn, lowering the detection threshold of churning at the expense of reducing the precision and therefore the F1 metric could be advantageous. \n",
    "\n",
    "Lowering the threshold would reduce precision by making more positive predictions. Great for the purpose of predicting clients close to churning and reduce the distinguishing ability between classes of the model at the advantage of being more sensitive to the possibility of churning. \n",
    "\n",
    "Threshold reduction could be lowered as much as required to predict positive as needed according to the reach and investment desired by the decision makers of the company. "
   ]
  }
 ],
 "metadata": {
  "kernelspec": {
   "display_name": "Python 3",
   "language": "python",
   "name": "python3"
  },
  "language_info": {
   "codemirror_mode": {
    "name": "ipython",
    "version": 3
   },
   "file_extension": ".py",
   "mimetype": "text/x-python",
   "name": "python",
   "nbconvert_exporter": "python",
   "pygments_lexer": "ipython3",
   "version": "3.13.0"
  }
 },
 "nbformat": 4,
 "nbformat_minor": 5
}
