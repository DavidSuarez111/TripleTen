{
 "cells": [
  {
   "cell_type": "markdown",
   "metadata": {},
   "source": [
    "Proyect Description\n",
    "\n",
    "Beta Bank is experiencing a gradual decline in customers. \n",
    "\n",
    "The objective is to study the customers behavioral pattern to predict which clients will leave the bank service soon. \n",
    "\n",
    "For that a ML model with maximized F1 score >59% will be made. "
   ]
  },
  {
   "cell_type": "markdown",
   "metadata": {},
   "source": []
  },
  {
   "cell_type": "code",
   "execution_count": 106,
   "metadata": {},
   "outputs": [],
   "source": [
    "#New installations \n",
    "#!pip install imblearn\n",
    "#!pip install xgboost\n",
    "\n",
    "\n",
    "#Library Setup\n",
    "from collections import Counter\n",
    "import pandas as pd\n",
    "import numpy as np\n",
    "import matplotlib.pyplot as plt\n",
    "import sklearn\n",
    "from sklearn.impute import KNNImputer\n",
    "from sklearn.compose import ColumnTransformer\n",
    "from sklearn.base import BaseEstimator, TransformerMixin\n",
    "from  sklearn.model_selection import train_test_split, GridSearchCV\n",
    "from  sklearn.ensemble import RandomForestClassifier\n",
    "from sklearn.metrics import classification_report, confusion_matrix, ConfusionMatrixDisplay\n",
    "from sklearn.utils import shuffle\n",
    "import xgboost as xgb\n",
    "from sklearn.metrics import f1_score, roc_auc_score, roc_curve, auc, recall_score, precision_score\n",
    "from sklearn.pipeline import Pipeline\n",
    "from sklearn.impute import SimpleImputer\n",
    "from sklearn.preprocessing import LabelEncoder, StandardScaler\n",
    "\n",
    "#libraries that can be used for influencing class weight\n",
    "from imblearn.over_sampling import SMOTE\n",
    "from imblearn.under_sampling import RandomUnderSampler, ClusterCentroids, NearMiss\n",
    "from imblearn.over_sampling import RandomOverSampler, SMOTE, ADASYN"
   ]
  },
  {
   "cell_type": "code",
   "execution_count": 79,
   "metadata": {},
   "outputs": [
    {
     "name": "stdout",
     "output_type": "stream",
     "text": [
      "(10000, 14)\n",
      "Index(['RowNumber', 'CustomerId', 'Surname', 'CreditScore', 'Geography',\n",
      "       'Gender', 'Age', 'Tenure', 'Balance', 'NumOfProducts', 'HasCrCard',\n",
      "       'IsActiveMember', 'EstimatedSalary', 'Exited'],\n",
      "      dtype='object')\n"
     ]
    }
   ],
   "source": [
    "#Data importing\n",
    "churned_data = pd.read_csv(\"Churn.csv\")\n",
    "print(churned_data.shape)\n",
    "print(churned_data.columns)\n"
   ]
  },
  {
   "cell_type": "code",
   "execution_count": 80,
   "metadata": {},
   "outputs": [
    {
     "name": "stdout",
     "output_type": "stream",
     "text": [
      "<class 'pandas.core.frame.DataFrame'>\n",
      "RangeIndex: 10000 entries, 0 to 9999\n",
      "Data columns (total 14 columns):\n",
      " #   Column           Non-Null Count  Dtype  \n",
      "---  ------           --------------  -----  \n",
      " 0   RowNumber        10000 non-null  int64  \n",
      " 1   CustomerId       10000 non-null  int64  \n",
      " 2   Surname          10000 non-null  object \n",
      " 3   CreditScore      10000 non-null  int64  \n",
      " 4   Geography        10000 non-null  object \n",
      " 5   Gender           10000 non-null  object \n",
      " 6   Age              10000 non-null  int64  \n",
      " 7   Tenure           9091 non-null   float64\n",
      " 8   Balance          10000 non-null  float64\n",
      " 9   NumOfProducts    10000 non-null  int64  \n",
      " 10  HasCrCard        10000 non-null  int64  \n",
      " 11  IsActiveMember   10000 non-null  int64  \n",
      " 12  EstimatedSalary  10000 non-null  float64\n",
      " 13  Exited           10000 non-null  int64  \n",
      "dtypes: float64(3), int64(8), object(3)\n",
      "memory usage: 1.1+ MB\n",
      "0    1\n",
      "1    0\n",
      "2    1\n",
      "3    0\n",
      "4    0\n",
      "Name: Exited, dtype: int64\n",
      "0    1\n",
      "1    1\n",
      "2    0\n",
      "3    0\n",
      "4    1\n",
      "Name: IsActiveMember, dtype: int64\n"
     ]
    }
   ],
   "source": [
    "#Exploratory Data Analysis\n",
    "churned_data.info()\n",
    "#Exited, IsActiveMember. Review of datatype: they are booleans in integer. 1 or 0. \n",
    "print(churned_data[\"Exited\"].head())\n",
    "print(churned_data[\"IsActiveMember\"].head())"
   ]
  },
  {
   "cell_type": "markdown",
   "metadata": {},
   "source": [
    "The data has categorical columns that may need to be numerically encoded to be managed in a Machine Learning model. \n",
    "\n",
    "Columns: Surname, Geography, Gender.\n",
    "\n",
    "Tenure column has nan so an imputing action would be of help. "
   ]
  },
  {
   "cell_type": "markdown",
   "metadata": {},
   "source": [
    "Status of the data"
   ]
  },
  {
   "cell_type": "code",
   "execution_count": 81,
   "metadata": {},
   "outputs": [
    {
     "name": "stdout",
     "output_type": "stream",
     "text": [
      "<class 'pandas.core.frame.DataFrame'>\n",
      "RangeIndex: 10000 entries, 0 to 9999\n",
      "Data columns (total 13 columns):\n",
      " #   Column           Non-Null Count  Dtype  \n",
      "---  ------           --------------  -----  \n",
      " 0   RowNumber        10000 non-null  float64\n",
      " 1   CustomerId       10000 non-null  float64\n",
      " 2   CreditScore      10000 non-null  float64\n",
      " 3   Age              10000 non-null  float64\n",
      " 4   Tenure           10000 non-null  float64\n",
      " 5   Balance          10000 non-null  float64\n",
      " 6   NumOfProducts    10000 non-null  float64\n",
      " 7   HasCrCard        10000 non-null  float64\n",
      " 8   IsActiveMember   10000 non-null  float64\n",
      " 9   EstimatedSalary  10000 non-null  float64\n",
      " 10  Surname          10000 non-null  float64\n",
      " 11  Geography        10000 non-null  float64\n",
      " 12  Gender           10000 non-null  float64\n",
      "dtypes: float64(13)\n",
      "memory usage: 1015.8 KB\n",
      "Train data size:  (6000, 13)\n",
      "Test data size:  (2000, 13)\n",
      "Validation data size:  (2000, 13)\n",
      "Correct Data splitting.\n"
     ]
    }
   ],
   "source": [
    "#Imputting tenure with the most relevantly fitted registries, advanced imputing. KNN algorithm of imputing. \n",
    "#Just Tenure column needs imputting and categorical columns need encoding. \n",
    "knn_imputer = KNNImputer(n_neighbors=3)\n",
    "churned_data['Tenure'] = knn_imputer.fit_transform(churned_data[['Tenure']])\n",
    "\n",
    "#making changes to a function so that it can be applied to several columns: \n",
    "class LabelEncoderTransformer(BaseEstimator, TransformerMixin):\n",
    "    def fit(self, X, y=None):\n",
    "        return self  # Nothing needs to be fit here, since LabelEncoder does the job directly.\n",
    "\n",
    "    def transform(self, X):\n",
    "        # Apply LabelEncoder to each column\n",
    "        for column in X.columns:\n",
    "            le = LabelEncoder()\n",
    "            X[column] = le.fit_transform(X[column])\n",
    "        return X\n",
    "\n",
    "#Split columns into categorical and numerical \n",
    "categorical_columns = churned_data.select_dtypes(include=['object']).columns #This ones need encoding\n",
    "numerical_columns = churned_data.select_dtypes(exclude=['object']).columns #Only tenure needed imputting but nothing extra happens by processing the columns if there are no Nan values. \n",
    "numerical_columns = numerical_columns.drop([\"Exited\"])\n",
    "#Split target so that the standardscaler does not affect it \n",
    "target = churned_data['Exited']\n",
    "features = churned_data.drop(columns=['Exited'])\n",
    "\n",
    "#Preprocessing pipelines\n",
    "numerical_pipeline = Pipeline([\n",
    "    ('scaler', StandardScaler())            \n",
    "])\n",
    "\n",
    "#Encoding of categorical data \n",
    "categorical_pipeline = Pipeline([\n",
    "    ('encoder', LabelEncoderTransformer())                            # Label encoding\n",
    "])\n",
    "#preprocessor pipeline \n",
    "preprocessor = ColumnTransformer(\n",
    "    transformers=[\n",
    "        ('num', numerical_pipeline, numerical_columns),  \n",
    "        ('cat', categorical_pipeline, categorical_columns)  \n",
    "    ])\n",
    "#Applying my preprocessor of data to conclude normalization and encoding\n",
    "churned_data_encoded = preprocessor.fit_transform(features)\n",
    "churned_data_encoded = pd.DataFrame(churned_data_encoded, columns=numerical_columns.tolist() + categorical_columns.tolist())\n",
    "churned_data_encoded.info()\n",
    "\n",
    "\n",
    "#Data splitting \n",
    "#60% train, 40% test and validation. 20% each. \n",
    "train, test = train_test_split(churned_data_encoded, test_size= 0.4, random_state=12345)\n",
    "valid, test = train_test_split(test, test_size= 0.5, random_state=12345)\n",
    "#Testing the size of the samples to match the logic of the split\n",
    "print(\"Train data size: \", train.shape)\n",
    "print(\"Test data size: \", test.shape)\n",
    "print(\"Validation data size: \", valid.shape)\n",
    "print(\"Correct Data splitting.\")\n",
    "\n",
    "#Splitting of my datasets (train, test, valid) into target and features. The variable to be modeled is Exited. \n",
    "train_target = target.loc[train.index]\n",
    "test_target = target.loc[test.index]\n",
    "valid_target = target.loc[valid.index]\n",
    "\n"
   ]
  },
  {
   "cell_type": "code",
   "execution_count": 82,
   "metadata": {},
   "outputs": [
    {
     "name": "stdout",
     "output_type": "stream",
     "text": [
      "F1 Score: 0.4906303236797274\n",
      "Without balancing the classes the model performs poorly in terms of making many false positives (clients that will churn when they really wont) and \n",
      "false negatives (predicting clients which will churn or have churned while they are still regular clients).\n"
     ]
    }
   ],
   "source": [
    "#Study the model previous to class balancing by under or oversampling techniques. So basically data as is which is dominated by clients that have not yet churned while we want to mainly study the characteristics of churned clients. \n",
    "rf_model = RandomForestClassifier(\n",
    "    n_estimators=100,              # Number of trees\n",
    "    max_depth=6,                   # Depth of each tree\n",
    "    random_state=12345,               # For reproducibility\n",
    "    n_jobs=-1                      # Use all cores to speed up computation\n",
    ")\n",
    "\n",
    "# Train the model\n",
    "rf_model.fit(train, train_target)\n",
    "\n",
    "# Make predictions on the validation data\n",
    "valid_predictions = rf_model.predict(valid)\n",
    "\n",
    "# Evaluate F1 Score\n",
    "f1 = f1_score(valid_target, valid_predictions)\n",
    "print(f\"F1 Score: {f1}\")\n",
    "print(\"Without balancing the classes the model performs poorly in terms of making many false positives (clients that will churn when they really wont) and \\nfalse negatives (predicting clients which will churn or have churned while they are still regular clients).\")\n"
   ]
  },
  {
   "cell_type": "code",
   "execution_count": 83,
   "metadata": {},
   "outputs": [
    {
     "name": "stdout",
     "output_type": "stream",
     "text": [
      "Exited\n",
      "0    0.800667\n",
      "1    0.199333\n",
      "Name: proportion, dtype: float64\n"
     ]
    },
    {
     "data": {
      "image/png": "[encoded data removed]",
      "text/plain": [
       "<Figure size 640x480 with 1 Axes>"
      ]
     },
     "metadata": {},
     "output_type": "display_data"
    },
    {
     "name": "stdout",
     "output_type": "stream",
     "text": [
      "The data consists of 80% non churn registries and roughly 20% clients that have churned.\n"
     ]
    }
   ],
   "source": [
    "#Class weight exploration\n",
    "#In a model having too much of one of the values can be detrimental for the predictions. Asses 0 and 1 representation to get close to 0.5 or at least a .7 to 0.3 with undersample and oversampling techniques. \n",
    "class_frequency = train_target.value_counts(normalize = True)\n",
    "print(class_frequency)\n",
    "class_frequency.plot(kind= \"bar\")\n",
    "plt.show()\n",
    "print(\"The data consists of 80% non churn registries and roughly 20% clients that have churned.\")\n",
    "#80% have not exited yet of the bank. The classes of churned and non churned are not balanced so bringing them to a ratio close to 50% each would help for the purpose of training the model and select a balanced weight. If not the model may generalize as having a bias towards predicting the class that repeats the most. "
   ]
  },
  {
   "cell_type": "code",
   "execution_count": 84,
   "metadata": {},
   "outputs": [
    {
     "name": "stdout",
     "output_type": "stream",
     "text": [
      "(2397, 13)\n",
      "(2397,)\n",
      "Exited\n",
      "0    1201\n",
      "1    1196\n",
      "Name: count, dtype: int64\n",
      "5 records of difference, samples are about 50% 0's and 50% 1's. Nonetheless, a significant portion of data got lost I will look to resample more assertively by an alternative method but first test my prediction assertiveness by training an ML model.\n"
     ]
    }
   ],
   "source": [
    "#To improve the prediction of churning it is relevant to have a close to 50% balance of each datatypes and in this particular model we could even think about \n",
    "#magnifying further the data of churning clients which are the ones we want to study more.\n",
    "\n",
    "#In this section regular undersample and oversample techniques are performed. Undersampling by simple random discarding of the most represented value (in this case 0)\n",
    "#can help balance the ratio between classes at the risk of loosing relevant data.\n",
    "\n",
    "#Undersampling can be performed by either logic or using the RandomUnderSampler function. \n",
    "#If desired (oversampling) repeating the less represented value which is 1 could also work.\n",
    "\n",
    "\n",
    "#concatenation of values in a new dataframe.  \n",
    "def downsample(features, target, fraction):\n",
    "    features_zeros = features[target == 0]\n",
    "    features_ones = features[target == 1]\n",
    "    target_zeros = target[target == 0]\n",
    "    target_ones = target[target == 1]\n",
    "\n",
    "    features_downsampled = pd.concat(\n",
    "        [features_zeros.sample(frac=fraction, random_state=12345)] + [features_ones]) #here it is stating to just select a fracting of the most represented value which is 0. This is a manual function made with logic. \n",
    "    target_downsampled = pd.concat(\n",
    "        [target_zeros.sample(frac=fraction, random_state=12345)] + [target_ones])\n",
    "\n",
    "    features_downsampled, target_downsampled = shuffle(\n",
    "        features_downsampled, target_downsampled, random_state=12345\n",
    "    )\n",
    "\n",
    "    return features_downsampled, target_downsampled\n",
    "\n",
    "\n",
    "features_downsampled, target_downsampled = downsample(\n",
    "    train, train_target, 0.25 #As the 0s where 80% of the sample and the 1 only 20% i just took a random 1/4 of the 0s data as my sample and joined it to the whole less represented 0 values. \n",
    ")\n",
    "\n",
    "print(features_downsampled.shape)\n",
    "print(target_downsampled.shape) \n",
    "#With his method 2600 values where lost out of 6000. How will this impact the model? It is interesting to check with my non balanced value data as a contrast. \n",
    "print(target_downsampled.value_counts())\n",
    "print(\"5 records of difference, samples are about 50% 0's and 50% 1's. Nonetheless, a significant portion of data got lost I will look to resample more assertively by an alternative method but first test my prediction assertiveness by training an ML model.\")\n",
    "\n",
    "#Alternatives to reduce more represented value:  cluster_centroids for representativity instead of random discarding or RandomUnderSampler for less code. \n"
   ]
  },
  {
   "cell_type": "code",
   "execution_count": 85,
   "metadata": {},
   "outputs": [
    {
     "name": "stdout",
     "output_type": "stream",
     "text": [
      "F1 Score: 0.584817244611059\n",
      "The model improved significantly to a f1 score of .58 we seek a prediction value with veracity given by assertively defining the classes (true false and true positives while really true).\n"
     ]
    }
   ],
   "source": [
    "#Study the model with regular under sampling\n",
    "rf_model = RandomForestClassifier(\n",
    "    n_estimators=100,              # Number of trees\n",
    "    max_depth=6,                   # Depth of each tree\n",
    "    random_state=12345,\n",
    "    class_weight=\"balanced\", #Adding this argument really did not improve f1score at all probably due to classes being really close to 50%. \n",
    "    n_jobs=-1                      # Use all cores to speed up computation\n",
    ")\n",
    "\n",
    "# Train the model\n",
    "rf_model.fit(features_downsampled, target_downsampled)\n",
    "\n",
    "# Make predictions on the validation data\n",
    "valid_predictions = rf_model.predict(valid)\n",
    "\n",
    "# Evaluate F1 Score\n",
    "f1 = f1_score(valid_target, valid_predictions)\n",
    "print(f\"F1 Score: {f1}\")\n",
    "print(\"The model improved significantly to a f1 score of .58 we seek a prediction value with veracity given by assertively defining the classes (true false and true positives while really true).\")\n"
   ]
  },
  {
   "cell_type": "code",
   "execution_count": 86,
   "metadata": {},
   "outputs": [
    {
     "name": "stdout",
     "output_type": "stream",
     "text": [
      "(5980, 13)\n",
      "(5980,)\n",
      "Exited\n",
      "0    2990\n",
      "1    2990\n",
      "Name: count, dtype: int64\n",
      "Completely balanced data classes. 50% churned, 50% non churned.\n",
      "Using cluster centroids and smote the representativity of my data is maximized while also being balanced.\n"
     ]
    }
   ],
   "source": [
    "#Aiming to lose less data, cluster centroids a representative undersampling technique which gets the most central data of the different patters in the sample in a fraction related to the amount of the minority was used.\n",
    "#Using cluster centroids with the argument sampling_strategy at 0.4 the majority class gets reduced to 4o% of the minority amount of data but is representative of the patterns of non churned and as it got reduced to being the minority class\n",
    "#using smote then generates synthethic data points that can rebalance the amount to even the same amount as the minority class if given a sampling strategy of 1. \n",
    "#Smote of 90% of the non churned amount of registries. \n",
    "undersample = ClusterCentroids(sampling_strategy=0.4, random_state=12345) #Cluster centroids favors the study of the minority class while maintaining as much representativity of churning as possible. \n",
    "features_train_under, target_train_under = undersample.fit_resample(train, train_target)\n",
    "smote = SMOTE(sampling_strategy=1, random_state=12345) #Smote generates synthetic data points of the minority class that now is non churned as it got reduced in the cluster centroids step. \n",
    "features_balanced_train, target_balanced_train = smote.fit_resample(features_train_under, target_train_under)\n",
    "print(features_balanced_train.shape)\n",
    "print(target_balanced_train.shape)\n",
    "print(target_balanced_train.value_counts())\n",
    "print(\"Completely balanced data classes. 50% churned, 50% non churned.\")\n",
    "print(\"Using cluster centroids and smote the representativity of my data is maximized while also being balanced.\")\n"
   ]
  },
  {
   "cell_type": "code",
   "execution_count": null,
   "metadata": {},
   "outputs": [
    {
     "name": "stdout",
     "output_type": "stream",
     "text": [
      "The model is 54.563894523326574% appropriate at detecting positive cases that are true positives.\n",
      "The model detects 64.35406698564593% of all positive cases. This metric should be high given the scope of predicting posibility of churning.\n",
      "F1 Score: 0.5905598243688255\n",
      "The model is able to predict true false and true positives with about 59% assertiveness at regular threshold 0.5.\n",
      "The model can be adjusted to augment the probability of catching likely to churn reducing the threshold to 0.4% instead of regular 50% chance for each. It is a way to prioritize predicting clients that may churn.\n",
      " Now we can test it with the test data. \n",
      "Also relevant to note the model is being tested in predicted with untreated or unmodified data of the valid and test portions made by splitting my initial data.\n"
     ]
    }
   ],
   "source": [
    "rf2_model = RandomForestClassifier(\n",
    "    n_estimators=100,              # Number of trees\n",
    "    max_depth=8,                   # Depth of each tree\n",
    "    random_state=12345,               # For reproducibility\n",
    "    class_weight=\"balanced\",  \n",
    "    n_jobs=-1                      # Use all cores to speed up computation\n",
    ")\n",
    "\n",
    "# Train the model\n",
    "rf2_model.fit(features_balanced_train, target_balanced_train)\n",
    "\n",
    "# Make predictions on the validation data\n",
    "valid_predictions = rf2_model.predict(valid)\n",
    "\n",
    "# Evaluate F1 Score, recall and precision prior to maximizing f1 score.\n",
    "precision = precision_score(valid_target, valid_predictions)\n",
    "print(f\"The model is {precision*100}% appropriate at detecting positive cases that are true positives.\")\n",
    "recall = recall_score(valid_target, valid_predictions)\n",
    "print(f\"The model detects {recall*100}% of all positive cases. This metric should be high given the scope of predicting posibility of churning.\")\n",
    "f1 = f1_score(valid_target, valid_predictions)\n",
    "print(f\"F1 Score: {f1}\")\n",
    "print(\"The model is able to predict true false and true positives with about 59% assertiveness at regular threshold 0.5.\\nThe model can be adjusted to augment the probability of catching likely to churn reducing the threshold to 0.4% instead of regular 50% chance for each. It is a way to prioritize predicting clients that may churn.\")\n",
    "print(\" Now we can test it with the test data. \\nAlso relevant to note the model is being tested in predicted with untreated or unmodified data of the valid and test portions made by splitting my initial data.\")"
   ]
  },
  {
   "cell_type": "code",
   "execution_count": 113,
   "metadata": {},
   "outputs": [
    {
     "name": "stdout",
     "output_type": "stream",
     "text": [
      "Improved recall by lowering threshold to 0.4: 0.7751196172248804\n",
      "By lowering the threshold incentives could be given to approximately 77% of clients that will likely churn.\n",
      "The threshold can be further reduced to reach more clients according to the decision of the executive chief officer regarding incentives investment.\n",
      "Implementing the strategy to make the model more sensitive to possibility of churning, of great relevance to the scope of the project, would reduce the f1 metric by 2% \n",
      "due to an imbalance of recall and precision failing the initial threshold stated to be 59% but achieving better real results.\n"
     ]
    }
   ],
   "source": [
    "#Setting an adjustment of reducing the threshold to catch more customers that could churn\n",
    "max_recall_proba = rf2_model.predict_proba(valid)[:, 1]\n",
    "threshold = 0.4 #lowering the threshold to facilitate catching more customers that could churn. \n",
    "max_recall_predictions = (max_recall_proba >= threshold).astype(int) #if the probability of churning is greater than threshold for now 40% it will be classified as churn. \n",
    "recall = recall_score(valid_target, max_recall_predictions)\n",
    "print(f\"Improved recall by lowering threshold to {threshold}: {recall}\") \n",
    "print(\"By lowering the threshold incentives could be given to approximately 77% of clients that will likely churn.\")\n",
    "print(\"The threshold can be further reduced to reach more clients according to the decision of the executive chief officer regarding incentives investment.\")\n",
    "new_f1 = f1_score(valid_target, max_recall_predictions)\n",
    "print(f\"Implementing the strategy to make the model more sensitive to possibility of churning, of great relevance to the scope of the project, would reduce the f1 metric by 2% \\ndue to an imbalance of recall and precision failing the initial threshold stated to be 59% but achieving better real results.\")"
   ]
  },
  {
   "cell_type": "code",
   "execution_count": 114,
   "metadata": {},
   "outputs": [
    {
     "name": "stdout",
     "output_type": "stream",
     "text": [
      "ROC AUC: 0.7509738747512386\n"
     ]
    },
    {
     "data": {
      "image/png": "[encoded data removed]",
      "text/plain": [
       "<Figure size 800x600 with 1 Axes>"
      ]
     },
     "metadata": {},
     "output_type": "display_data"
    },
    {
     "name": "stdout",
     "output_type": "stream",
     "text": [
      "The function roc_auc_score has the best mathematical performance due to technicism such as a broader threshold integration and states that the model correctly distinguishes between classes in 75% of the cases \n",
      "but at some thresholds it may even have a predictive ability of about 84%. This serves to state the model as a moderate to fairly strong predictive performance model to detect churning. \n",
      "If the aim is to catch more clients the threshold can be further reduced at the expense of applying the incentives to more clients and getting a lower ROC value as the model will not be as precise in distinguishing classes but rather good at pointing towards clients that could churn even if some were not as close to churning.\n"
     ]
    }
   ],
   "source": [
    "# Evaluate ROC AUC of the validation dataset. \n",
    "roc_auc = roc_auc_score(valid_target, valid_predictions)\n",
    "print(f\"ROC AUC: {roc_auc}\")\n",
    "\n",
    "# Plot ROC Curve\n",
    "valid_predict = rf_model.predict_proba(valid)[:, 1]\n",
    "fpr, tpr, thresholds = roc_curve(valid_target, valid_predict) \n",
    "roc_auc = auc(fpr, tpr)\n",
    "\n",
    "plt.figure(figsize=(8, 6))\n",
    "plt.plot(fpr, tpr, color='blue', label=f'ROC curve (AUC = {roc_auc:.2f})')\n",
    "plt.plot([0, 1], [0, 1], color='gray', linestyle='--')\n",
    "plt.xlabel('False Positive Rate')\n",
    "plt.ylabel('True Positive Rate')\n",
    "plt.title('Receiver Operating Characteristic (ROC) Curve')\n",
    "plt.legend(loc='lower right')\n",
    "plt.show()\n",
    "print(\"The function roc_auc_score has the best mathematical performance due to technicism such as a broader threshold integration and states that the model correctly distinguishes between classes in 75% of the cases \\nbut at some thresholds it may even have a predictive ability of about 84%. This serves to state the model as a moderate to fairly strong predictive performance model to detect churning. \\nIf the aim is to catch more clients the threshold can be further reduced at the expense of applying the incentives to more clients and getting a lower ROC value as the model will not be as precise in distinguishing classes but rather good at pointing towards clients that could churn even if some were not as close to churning.\")"
   ]
  },
  {
   "cell_type": "code",
   "execution_count": 115,
   "metadata": {},
   "outputs": [
    {
     "name": "stdout",
     "output_type": "stream",
     "text": [
      "F1 Score: 0.5906623235613464\n",
      "The model is able to predict true false and true positives with an extremely consistency of the same f1 score of 59% assertiveness.\n"
     ]
    }
   ],
   "source": [
    "#Testing the model with a new fraction of the initial data: test data. \n",
    "test_predictions = rf2_model.predict(test)\n",
    "\n",
    "# Evaluate F1 Score\n",
    "f1 = f1_score(test_target, test_predictions)\n",
    "print(f\"F1 Score: {f1}\")\n",
    "print(\"The model is able to predict true false and true positives with an extremely consistency of the same f1 score of 59% assertiveness.\")"
   ]
  },
  {
   "cell_type": "code",
   "execution_count": 116,
   "metadata": {},
   "outputs": [
    {
     "name": "stdout",
     "output_type": "stream",
     "text": [
      "ROC AUC: 0.843664370096601\n"
     ]
    },
    {
     "data": {
      "image/png": "[encoded data removed]",
      "text/plain": [
       "<Figure size 800x600 with 1 Axes>"
      ]
     },
     "metadata": {},
     "output_type": "display_data"
    },
    {
     "name": "stdout",
     "output_type": "stream",
     "text": [
      "A better performance was obtained in assertiveness distinguishing between true positives in data of about 83 to 84% performing as a strong model at detecting possibility of churning which is the main scope of the model in this project.\n"
     ]
    }
   ],
   "source": [
    "#Reviewing cosistency of ROC-AUC with the test data. \n",
    "print(f\"ROC AUC: {roc_auc}\")\n",
    "\n",
    "# Plot ROC Curve\n",
    "fpr, tpr, thresholds = roc_curve(test_target, rf_model.predict_proba(test)[:, 1])\n",
    "roc_auc = auc(fpr, tpr)\n",
    "\n",
    "plt.figure(figsize=(8, 6))\n",
    "plt.plot(fpr, tpr, color='blue', label=f'ROC curve (AUC = {roc_auc:.2f})')\n",
    "plt.plot([0, 1], [0, 1], color='gray', linestyle='--')\n",
    "plt.xlabel('False Positive Rate')\n",
    "plt.ylabel('True Positive Rate')\n",
    "plt.title('Receiver Operating Characteristic (ROC) Curve')\n",
    "plt.legend(loc='lower right')\n",
    "plt.show()\n",
    "print(\"A better performance was obtained in assertiveness distinguishing between true positives in data of about 83 to 84% performing as a strong model at detecting possibility of churning which is the main scope of the model in this project.\")"
   ]
  },
  {
   "cell_type": "markdown",
   "metadata": {},
   "source": [
    "Conclusions"
   ]
  },
  {
   "cell_type": "markdown",
   "metadata": {},
   "source": [
    "A model was trained under a range of sampling techniques reaching a predictive ability of detecting true positives of about 75%-84% assertiveness. \n",
    "\n",
    "Initially the model has an f1 score of about 60% which is a metric of balance between precision, the rate of identifying true positives out of all positive predictions made by the model. This metric is related to the model mistakenly making false positives which is not as relevant for the scope of the project. \n",
    "\n",
    "It is of the best interest of the entreprise to maximize recall which would diminish f1 score and area under the curve metrics as it would reduce precision by making more positive predictions for the purpose of predicting clients close to churning and reduce the distinguishing ability between classes of the model at the advantage of being more sensitive to the possibility of churning. \n",
    "\n",
    "My advise would be to reduce the threshold required to predict positive as needed according to the reach and investment desired by the according decision making people. \n",
    "\n",
    "As of now the model has precision in distinguishing classes and metrics acceptable for the task f1score consistent and greater than 59% and ROC from 75%-84% making it a strong performer in detecting churning of data. Still as mentioned if the model does not function as measured on data of clients that have not yet churned the threshold can be manipulated to prioritize the detection of the clients most related to the patterns of clients that have churned."
   ]
  }
 ],
 "metadata": {
  "kernelspec": {
   "display_name": "Python 3",
   "language": "python",
   "name": "python3"
  },
  "language_info": {
   "codemirror_mode": {
    "name": "ipython",
    "version": 3
   },
   "file_extension": ".py",
   "mimetype": "text/x-python",
   "name": "python",
   "nbconvert_exporter": "python",
   "pygments_lexer": "ipython3",
   "version": "3.13.0"
  }
 },
 "nbformat": 4,
 "nbformat_minor": 2
}
