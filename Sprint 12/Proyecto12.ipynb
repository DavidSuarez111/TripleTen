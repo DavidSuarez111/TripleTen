{
 "cells": [
  {
   "cell_type": "markdown",
   "id": "f092aea9",
   "metadata": {},
   "source": [
    "DESCRIPCIÓN DEL PROYECTO\n",
    "\n",
    "Zyfra, compañía de minería de oro, requiere un modelo de predicción de oro extraído. \n",
    "\n",
    "Los datos de prueba carecen de algunas medidas entre ellas las concentraciones y rendimiento de extracción de oro. \n",
    "\n",
    "Objetivo: \n",
    "\n",
    "A partir de los datos de prueba predecir los valores de recuperación, evaluando la fidelidad de la predicción y presentar los valores."
   ]
  },
  {
   "cell_type": "markdown",
   "id": "3432a3f1",
   "metadata": {},
   "source": [
    "Reporte de Resultados: \n",
    "\n",
    "Se llegó a una predicción con 5.38% de variación promedio de los valores reales. Datos presentados al final del proyecto. "
   ]
  },
  {
   "cell_type": "code",
   "execution_count": 1,
   "id": "0ae0c1f4",
   "metadata": {},
   "outputs": [],
   "source": [
    "#Configuración de librerías\n",
    "import pandas as pd\n",
    "import numpy as np\n",
    "import matplotlib.pyplot as plt\n",
    "import seaborn as sns\n",
    "\n",
    "#ML\n",
    "import sklearn\n",
    "from sklearn.impute import KNNImputer #imputador\n",
    "from sklearn.model_selection import cross_val_score, KFold, GridSearchCV, train_test_split\n",
    "from sklearn.linear_model import LinearRegression #modelo\n",
    "from sklearn.metrics import make_scorer, mean_absolute_error #Evaluación de la regresión\n",
    "from sklearn.utils import shuffle #Reordenar datos\n",
    "from sklearn.ensemble import RandomForestRegressor\n",
    "\n",
    "#Opcionales. \n",
    "from sklearn.pipeline import Pipeline #Automatizar"
   ]
  },
  {
   "cell_type": "markdown",
   "id": "ee84fa16",
   "metadata": {},
   "source": [
    "Importación y Exploración de datos"
   ]
  },
  {
   "cell_type": "code",
   "execution_count": 2,
   "id": "c7307ed5",
   "metadata": {},
   "outputs": [],
   "source": [
    "datos_fuente = pd.read_csv(\"/datasets/gold_recovery_full.csv\")\n",
    "datos_entrenamiento = pd.read_csv(\"/datasets/gold_recovery_train.csv\")\n",
    "datos_prueba = pd.read_csv(\"/datasets/gold_recovery_test.csv\")"
   ]
  },
  {
   "cell_type": "code",
   "execution_count": 3,
   "id": "6466dc23",
   "metadata": {},
   "outputs": [
    {
     "name": "stdout",
     "output_type": "stream",
     "text": [
      "<class 'pandas.core.frame.DataFrame'>\n",
      "RangeIndex: 22716 entries, 0 to 22715\n",
      "Data columns (total 87 columns):\n",
      " #   Column                                              Non-Null Count  Dtype  \n",
      "---  ------                                              --------------  -----  \n",
      " 0   date                                                22716 non-null  object \n",
      " 1   final.output.concentrate_ag                         22627 non-null  float64\n",
      " 2   final.output.concentrate_pb                         22629 non-null  float64\n",
      " 3   final.output.concentrate_sol                        22331 non-null  float64\n",
      " 4   final.output.concentrate_au                         22630 non-null  float64\n",
      " 5   final.output.recovery                               20753 non-null  float64\n",
      " 6   final.output.tail_ag                                22633 non-null  float64\n",
      " 7   final.output.tail_pb                                22516 non-null  float64\n",
      " 8   final.output.tail_sol                               22445 non-null  float64\n",
      " 9   final.output.tail_au                                22635 non-null  float64\n",
      " 10  primary_cleaner.input.sulfate                       21107 non-null  float64\n",
      " 11  primary_cleaner.input.depressant                    21170 non-null  float64\n",
      " 12  primary_cleaner.input.feed_size                     22716 non-null  float64\n",
      " 13  primary_cleaner.input.xanthate                      21565 non-null  float64\n",
      " 14  primary_cleaner.output.concentrate_ag               22618 non-null  float64\n",
      " 15  primary_cleaner.output.concentrate_pb               22268 non-null  float64\n",
      " 16  primary_cleaner.output.concentrate_sol              21918 non-null  float64\n",
      " 17  primary_cleaner.output.concentrate_au               22618 non-null  float64\n",
      " 18  primary_cleaner.output.tail_ag                      22614 non-null  float64\n",
      " 19  primary_cleaner.output.tail_pb                      22594 non-null  float64\n",
      " 20  primary_cleaner.output.tail_sol                     22365 non-null  float64\n",
      " 21  primary_cleaner.output.tail_au                      22617 non-null  float64\n",
      " 22  primary_cleaner.state.floatbank8_a_air              22660 non-null  float64\n",
      " 23  primary_cleaner.state.floatbank8_a_level            22667 non-null  float64\n",
      " 24  primary_cleaner.state.floatbank8_b_air              22660 non-null  float64\n",
      " 25  primary_cleaner.state.floatbank8_b_level            22673 non-null  float64\n",
      " 26  primary_cleaner.state.floatbank8_c_air              22662 non-null  float64\n",
      " 27  primary_cleaner.state.floatbank8_c_level            22673 non-null  float64\n",
      " 28  primary_cleaner.state.floatbank8_d_air              22661 non-null  float64\n",
      " 29  primary_cleaner.state.floatbank8_d_level            22673 non-null  float64\n",
      " 30  rougher.calculation.sulfate_to_au_concentrate       22672 non-null  float64\n",
      " 31  rougher.calculation.floatbank10_sulfate_to_au_feed  22672 non-null  float64\n",
      " 32  rougher.calculation.floatbank11_sulfate_to_au_feed  22672 non-null  float64\n",
      " 33  rougher.calculation.au_pb_ratio                     21089 non-null  float64\n",
      " 34  rougher.input.feed_ag                               22618 non-null  float64\n",
      " 35  rougher.input.feed_pb                               22472 non-null  float64\n",
      " 36  rougher.input.feed_rate                             22163 non-null  float64\n",
      " 37  rougher.input.feed_size                             22277 non-null  float64\n",
      " 38  rougher.input.feed_sol                              22357 non-null  float64\n",
      " 39  rougher.input.feed_au                               22617 non-null  float64\n",
      " 40  rougher.input.floatbank10_sulfate                   21415 non-null  float64\n",
      " 41  rougher.input.floatbank10_xanthate                  22247 non-null  float64\n",
      " 42  rougher.input.floatbank11_sulfate                   22038 non-null  float64\n",
      " 43  rougher.input.floatbank11_xanthate                  20459 non-null  float64\n",
      " 44  rougher.output.concentrate_ag                       22618 non-null  float64\n",
      " 45  rougher.output.concentrate_pb                       22618 non-null  float64\n",
      " 46  rougher.output.concentrate_sol                      22526 non-null  float64\n",
      " 47  rougher.output.concentrate_au                       22618 non-null  float64\n",
      " 48  rougher.output.recovery                             19597 non-null  float64\n",
      " 49  rougher.output.tail_ag                              19979 non-null  float64\n",
      " 50  rougher.output.tail_pb                              22618 non-null  float64\n",
      " 51  rougher.output.tail_sol                             19980 non-null  float64\n",
      " 52  rougher.output.tail_au                              19980 non-null  float64\n",
      " 53  rougher.state.floatbank10_a_air                     22646 non-null  float64\n",
      " 54  rougher.state.floatbank10_a_level                   22647 non-null  float64\n",
      " 55  rougher.state.floatbank10_b_air                     22646 non-null  float64\n",
      " 56  rougher.state.floatbank10_b_level                   22647 non-null  float64\n",
      " 57  rougher.state.floatbank10_c_air                     22646 non-null  float64\n",
      " 58  rougher.state.floatbank10_c_level                   22654 non-null  float64\n",
      " 59  rougher.state.floatbank10_d_air                     22641 non-null  float64\n",
      " 60  rougher.state.floatbank10_d_level                   22649 non-null  float64\n",
      " 61  rougher.state.floatbank10_e_air                     22096 non-null  float64\n",
      " 62  rougher.state.floatbank10_e_level                   22649 non-null  float64\n",
      " 63  rougher.state.floatbank10_f_air                     22641 non-null  float64\n",
      " 64  rougher.state.floatbank10_f_level                   22642 non-null  float64\n",
      " 65  secondary_cleaner.output.tail_ag                    22616 non-null  float64\n",
      " 66  secondary_cleaner.output.tail_pb                    22600 non-null  float64\n",
      " 67  secondary_cleaner.output.tail_sol                   20501 non-null  float64\n",
      " 68  secondary_cleaner.output.tail_au                    22618 non-null  float64\n",
      " 69  secondary_cleaner.state.floatbank2_a_air            22333 non-null  float64\n",
      " 70  secondary_cleaner.state.floatbank2_a_level          22591 non-null  float64\n",
      " 71  secondary_cleaner.state.floatbank2_b_air            22538 non-null  float64\n",
      " 72  secondary_cleaner.state.floatbank2_b_level          22588 non-null  float64\n",
      " 73  secondary_cleaner.state.floatbank3_a_air            22585 non-null  float64\n",
      " 74  secondary_cleaner.state.floatbank3_a_level          22587 non-null  float64\n",
      " 75  secondary_cleaner.state.floatbank3_b_air            22592 non-null  float64\n",
      " 76  secondary_cleaner.state.floatbank3_b_level          22590 non-null  float64\n",
      " 77  secondary_cleaner.state.floatbank4_a_air            22571 non-null  float64\n",
      " 78  secondary_cleaner.state.floatbank4_a_level          22587 non-null  float64\n",
      " 79  secondary_cleaner.state.floatbank4_b_air            22608 non-null  float64\n",
      " 80  secondary_cleaner.state.floatbank4_b_level          22607 non-null  float64\n",
      " 81  secondary_cleaner.state.floatbank5_a_air            22615 non-null  float64\n",
      " 82  secondary_cleaner.state.floatbank5_a_level          22615 non-null  float64\n",
      " 83  secondary_cleaner.state.floatbank5_b_air            22615 non-null  float64\n",
      " 84  secondary_cleaner.state.floatbank5_b_level          22616 non-null  float64\n",
      " 85  secondary_cleaner.state.floatbank6_a_air            22597 non-null  float64\n",
      " 86  secondary_cleaner.state.floatbank6_a_level          22615 non-null  float64\n",
      "dtypes: float64(86), object(1)\n",
      "memory usage: 15.1+ MB\n",
      "<class 'pandas.core.frame.DataFrame'>\n",
      "RangeIndex: 16860 entries, 0 to 16859\n",
      "Data columns (total 87 columns):\n",
      " #   Column                                              Non-Null Count  Dtype  \n",
      "---  ------                                              --------------  -----  \n",
      " 0   date                                                16860 non-null  object \n",
      " 1   final.output.concentrate_ag                         16788 non-null  float64\n",
      " 2   final.output.concentrate_pb                         16788 non-null  float64\n",
      " 3   final.output.concentrate_sol                        16490 non-null  float64\n",
      " 4   final.output.concentrate_au                         16789 non-null  float64\n",
      " 5   final.output.recovery                               15339 non-null  float64\n",
      " 6   final.output.tail_ag                                16794 non-null  float64\n",
      " 7   final.output.tail_pb                                16677 non-null  float64\n",
      " 8   final.output.tail_sol                               16715 non-null  float64\n",
      " 9   final.output.tail_au                                16794 non-null  float64\n",
      " 10  primary_cleaner.input.sulfate                       15553 non-null  float64\n",
      " 11  primary_cleaner.input.depressant                    15598 non-null  float64\n",
      " 12  primary_cleaner.input.feed_size                     16860 non-null  float64\n",
      " 13  primary_cleaner.input.xanthate                      15875 non-null  float64\n",
      " 14  primary_cleaner.output.concentrate_ag               16778 non-null  float64\n",
      " 15  primary_cleaner.output.concentrate_pb               16502 non-null  float64\n",
      " 16  primary_cleaner.output.concentrate_sol              16224 non-null  float64\n",
      " 17  primary_cleaner.output.concentrate_au               16778 non-null  float64\n",
      " 18  primary_cleaner.output.tail_ag                      16777 non-null  float64\n",
      " 19  primary_cleaner.output.tail_pb                      16761 non-null  float64\n",
      " 20  primary_cleaner.output.tail_sol                     16579 non-null  float64\n",
      " 21  primary_cleaner.output.tail_au                      16777 non-null  float64\n",
      " 22  primary_cleaner.state.floatbank8_a_air              16820 non-null  float64\n",
      " 23  primary_cleaner.state.floatbank8_a_level            16827 non-null  float64\n",
      " 24  primary_cleaner.state.floatbank8_b_air              16820 non-null  float64\n",
      " 25  primary_cleaner.state.floatbank8_b_level            16833 non-null  float64\n",
      " 26  primary_cleaner.state.floatbank8_c_air              16822 non-null  float64\n",
      " 27  primary_cleaner.state.floatbank8_c_level            16833 non-null  float64\n",
      " 28  primary_cleaner.state.floatbank8_d_air              16821 non-null  float64\n",
      " 29  primary_cleaner.state.floatbank8_d_level            16833 non-null  float64\n",
      " 30  rougher.calculation.sulfate_to_au_concentrate       16833 non-null  float64\n",
      " 31  rougher.calculation.floatbank10_sulfate_to_au_feed  16833 non-null  float64\n",
      " 32  rougher.calculation.floatbank11_sulfate_to_au_feed  16833 non-null  float64\n",
      " 33  rougher.calculation.au_pb_ratio                     15618 non-null  float64\n",
      " 34  rougher.input.feed_ag                               16778 non-null  float64\n",
      " 35  rougher.input.feed_pb                               16632 non-null  float64\n",
      " 36  rougher.input.feed_rate                             16347 non-null  float64\n",
      " 37  rougher.input.feed_size                             16443 non-null  float64\n",
      " 38  rougher.input.feed_sol                              16568 non-null  float64\n",
      " 39  rougher.input.feed_au                               16777 non-null  float64\n",
      " 40  rougher.input.floatbank10_sulfate                   15816 non-null  float64\n",
      " 41  rougher.input.floatbank10_xanthate                  16514 non-null  float64\n",
      " 42  rougher.input.floatbank11_sulfate                   16237 non-null  float64\n",
      " 43  rougher.input.floatbank11_xanthate                  14956 non-null  float64\n",
      " 44  rougher.output.concentrate_ag                       16778 non-null  float64\n",
      " 45  rougher.output.concentrate_pb                       16778 non-null  float64\n",
      " 46  rougher.output.concentrate_sol                      16698 non-null  float64\n",
      " 47  rougher.output.concentrate_au                       16778 non-null  float64\n",
      " 48  rougher.output.recovery                             14287 non-null  float64\n",
      " 49  rougher.output.tail_ag                              14610 non-null  float64\n",
      " 50  rougher.output.tail_pb                              16778 non-null  float64\n",
      " 51  rougher.output.tail_sol                             14611 non-null  float64\n",
      " 52  rougher.output.tail_au                              14611 non-null  float64\n",
      " 53  rougher.state.floatbank10_a_air                     16807 non-null  float64\n",
      " 54  rougher.state.floatbank10_a_level                   16807 non-null  float64\n",
      " 55  rougher.state.floatbank10_b_air                     16807 non-null  float64\n",
      " 56  rougher.state.floatbank10_b_level                   16807 non-null  float64\n",
      " 57  rougher.state.floatbank10_c_air                     16807 non-null  float64\n",
      " 58  rougher.state.floatbank10_c_level                   16814 non-null  float64\n",
      " 59  rougher.state.floatbank10_d_air                     16802 non-null  float64\n",
      " 60  rougher.state.floatbank10_d_level                   16809 non-null  float64\n",
      " 61  rougher.state.floatbank10_e_air                     16257 non-null  float64\n",
      " 62  rougher.state.floatbank10_e_level                   16809 non-null  float64\n",
      " 63  rougher.state.floatbank10_f_air                     16802 non-null  float64\n",
      " 64  rougher.state.floatbank10_f_level                   16802 non-null  float64\n",
      " 65  secondary_cleaner.output.tail_ag                    16776 non-null  float64\n",
      " 66  secondary_cleaner.output.tail_pb                    16764 non-null  float64\n",
      " 67  secondary_cleaner.output.tail_sol                   14874 non-null  float64\n",
      " 68  secondary_cleaner.output.tail_au                    16778 non-null  float64\n",
      " 69  secondary_cleaner.state.floatbank2_a_air            16497 non-null  float64\n",
      " 70  secondary_cleaner.state.floatbank2_a_level          16751 non-null  float64\n",
      " 71  secondary_cleaner.state.floatbank2_b_air            16705 non-null  float64\n",
      " 72  secondary_cleaner.state.floatbank2_b_level          16748 non-null  float64\n",
      " 73  secondary_cleaner.state.floatbank3_a_air            16763 non-null  float64\n",
      " 74  secondary_cleaner.state.floatbank3_a_level          16747 non-null  float64\n",
      " 75  secondary_cleaner.state.floatbank3_b_air            16752 non-null  float64\n",
      " 76  secondary_cleaner.state.floatbank3_b_level          16750 non-null  float64\n",
      " 77  secondary_cleaner.state.floatbank4_a_air            16731 non-null  float64\n",
      " 78  secondary_cleaner.state.floatbank4_a_level          16747 non-null  float64\n",
      " 79  secondary_cleaner.state.floatbank4_b_air            16768 non-null  float64\n",
      " 80  secondary_cleaner.state.floatbank4_b_level          16767 non-null  float64\n",
      " 81  secondary_cleaner.state.floatbank5_a_air            16775 non-null  float64\n",
      " 82  secondary_cleaner.state.floatbank5_a_level          16775 non-null  float64\n",
      " 83  secondary_cleaner.state.floatbank5_b_air            16775 non-null  float64\n",
      " 84  secondary_cleaner.state.floatbank5_b_level          16776 non-null  float64\n",
      " 85  secondary_cleaner.state.floatbank6_a_air            16757 non-null  float64\n",
      " 86  secondary_cleaner.state.floatbank6_a_level          16775 non-null  float64\n",
      "dtypes: float64(86), object(1)\n",
      "memory usage: 11.2+ MB\n",
      "<class 'pandas.core.frame.DataFrame'>\n",
      "RangeIndex: 5856 entries, 0 to 5855\n",
      "Data columns (total 53 columns):\n",
      " #   Column                                      Non-Null Count  Dtype  \n",
      "---  ------                                      --------------  -----  \n",
      " 0   date                                        5856 non-null   object \n",
      " 1   primary_cleaner.input.sulfate               5554 non-null   float64\n",
      " 2   primary_cleaner.input.depressant            5572 non-null   float64\n",
      " 3   primary_cleaner.input.feed_size             5856 non-null   float64\n",
      " 4   primary_cleaner.input.xanthate              5690 non-null   float64\n",
      " 5   primary_cleaner.state.floatbank8_a_air      5840 non-null   float64\n",
      " 6   primary_cleaner.state.floatbank8_a_level    5840 non-null   float64\n",
      " 7   primary_cleaner.state.floatbank8_b_air      5840 non-null   float64\n",
      " 8   primary_cleaner.state.floatbank8_b_level    5840 non-null   float64\n",
      " 9   primary_cleaner.state.floatbank8_c_air      5840 non-null   float64\n",
      " 10  primary_cleaner.state.floatbank8_c_level    5840 non-null   float64\n",
      " 11  primary_cleaner.state.floatbank8_d_air      5840 non-null   float64\n",
      " 12  primary_cleaner.state.floatbank8_d_level    5840 non-null   float64\n",
      " 13  rougher.input.feed_ag                       5840 non-null   float64\n",
      " 14  rougher.input.feed_pb                       5840 non-null   float64\n",
      " 15  rougher.input.feed_rate                     5816 non-null   float64\n",
      " 16  rougher.input.feed_size                     5834 non-null   float64\n",
      " 17  rougher.input.feed_sol                      5789 non-null   float64\n",
      " 18  rougher.input.feed_au                       5840 non-null   float64\n",
      " 19  rougher.input.floatbank10_sulfate           5599 non-null   float64\n",
      " 20  rougher.input.floatbank10_xanthate          5733 non-null   float64\n",
      " 21  rougher.input.floatbank11_sulfate           5801 non-null   float64\n",
      " 22  rougher.input.floatbank11_xanthate          5503 non-null   float64\n",
      " 23  rougher.state.floatbank10_a_air             5839 non-null   float64\n",
      " 24  rougher.state.floatbank10_a_level           5840 non-null   float64\n",
      " 25  rougher.state.floatbank10_b_air             5839 non-null   float64\n",
      " 26  rougher.state.floatbank10_b_level           5840 non-null   float64\n",
      " 27  rougher.state.floatbank10_c_air             5839 non-null   float64\n",
      " 28  rougher.state.floatbank10_c_level           5840 non-null   float64\n",
      " 29  rougher.state.floatbank10_d_air             5839 non-null   float64\n",
      " 30  rougher.state.floatbank10_d_level           5840 non-null   float64\n",
      " 31  rougher.state.floatbank10_e_air             5839 non-null   float64\n",
      " 32  rougher.state.floatbank10_e_level           5840 non-null   float64\n",
      " 33  rougher.state.floatbank10_f_air             5839 non-null   float64\n",
      " 34  rougher.state.floatbank10_f_level           5840 non-null   float64\n",
      " 35  secondary_cleaner.state.floatbank2_a_air    5836 non-null   float64\n",
      " 36  secondary_cleaner.state.floatbank2_a_level  5840 non-null   float64\n",
      " 37  secondary_cleaner.state.floatbank2_b_air    5833 non-null   float64\n",
      " 38  secondary_cleaner.state.floatbank2_b_level  5840 non-null   float64\n",
      " 39  secondary_cleaner.state.floatbank3_a_air    5822 non-null   float64\n",
      " 40  secondary_cleaner.state.floatbank3_a_level  5840 non-null   float64\n",
      " 41  secondary_cleaner.state.floatbank3_b_air    5840 non-null   float64\n",
      " 42  secondary_cleaner.state.floatbank3_b_level  5840 non-null   float64\n",
      " 43  secondary_cleaner.state.floatbank4_a_air    5840 non-null   float64\n",
      " 44  secondary_cleaner.state.floatbank4_a_level  5840 non-null   float64\n",
      " 45  secondary_cleaner.state.floatbank4_b_air    5840 non-null   float64\n",
      " 46  secondary_cleaner.state.floatbank4_b_level  5840 non-null   float64\n",
      " 47  secondary_cleaner.state.floatbank5_a_air    5840 non-null   float64\n",
      " 48  secondary_cleaner.state.floatbank5_a_level  5840 non-null   float64\n",
      " 49  secondary_cleaner.state.floatbank5_b_air    5840 non-null   float64\n",
      " 50  secondary_cleaner.state.floatbank5_b_level  5840 non-null   float64\n",
      " 51  secondary_cleaner.state.floatbank6_a_air    5840 non-null   float64\n",
      " 52  secondary_cleaner.state.floatbank6_a_level  5840 non-null   float64\n",
      "dtypes: float64(52), object(1)\n",
      "memory usage: 2.4+ MB\n",
      "Todas las columnas son float o numéricos a excepción de fecha que es un objeto podiendo ser datetime. \n",
      "Hay presencia de nulos.\n"
     ]
    }
   ],
   "source": [
    "#DEA\n",
    "#Revisión de tipos de datos, dimensionalidad, presencia de nulos. \n",
    "datos_fuente.info() #22716 registros, 87 columnas\n",
    "datos_entrenamiento.info() #16860 registros, 87.\n",
    "datos_prueba.info() #5856 registros, 53 columnas. Qué le pasó a las columnas?\n",
    "\n",
    "print(\"Todas las columnas son float o numéricos a excepción de fecha que es un objeto podiendo ser datetime. \\nHay presencia de nulos.\") \n"
   ]
  },
  {
   "cell_type": "code",
   "execution_count": 4,
   "id": "e295f980",
   "metadata": {},
   "outputs": [
    {
     "name": "stdout",
     "output_type": "stream",
     "text": [
      "                  date  final.output.concentrate_ag  \\\n",
      "0  2016-01-15 00:00:00                     6.055403   \n",
      "1  2016-01-15 01:00:00                     6.029369   \n",
      "2  2016-01-15 02:00:00                     6.055926   \n",
      "3  2016-01-15 03:00:00                     6.047977   \n",
      "4  2016-01-15 04:00:00                     6.148599   \n",
      "\n",
      "   final.output.concentrate_pb  final.output.concentrate_sol  \\\n",
      "0                     9.889648                      5.507324   \n",
      "1                     9.968944                      5.257781   \n",
      "2                    10.213995                      5.383759   \n",
      "3                     9.977019                      4.858634   \n",
      "4                    10.142511                      4.939416   \n",
      "\n",
      "   final.output.concentrate_au  final.output.recovery  final.output.tail_ag  \\\n",
      "0                    42.192020              70.541216             10.411962   \n",
      "1                    42.701629              69.266198             10.462676   \n",
      "2                    42.657501              68.116445             10.507046   \n",
      "3                    42.689819              68.347543             10.422762   \n",
      "4                    42.774141              66.927016             10.360302   \n",
      "\n",
      "   final.output.tail_pb  final.output.tail_sol  final.output.tail_au  ...  \\\n",
      "0              0.895447              16.904297              2.143149  ...   \n",
      "1              0.927452              16.634514              2.224930  ...   \n",
      "2              0.953716              16.208849              2.257889  ...   \n",
      "3              0.883763              16.532835              2.146849  ...   \n",
      "4              0.792826              16.525686              2.055292  ...   \n",
      "\n",
      "   secondary_cleaner.state.floatbank4_a_air  \\\n",
      "0                                 14.016835   \n",
      "1                                 13.992281   \n",
      "2                                 14.015015   \n",
      "3                                 14.036510   \n",
      "4                                 14.027298   \n",
      "\n",
      "   secondary_cleaner.state.floatbank4_a_level  \\\n",
      "0                                 -502.488007   \n",
      "1                                 -505.503262   \n",
      "2                                 -502.520901   \n",
      "3                                 -500.857308   \n",
      "4                                 -499.838632   \n",
      "\n",
      "   secondary_cleaner.state.floatbank4_b_air  \\\n",
      "0                                 12.099931   \n",
      "1                                 11.950531   \n",
      "2                                 11.912783   \n",
      "3                                 11.999550   \n",
      "4                                 11.953070   \n",
      "\n",
      "   secondary_cleaner.state.floatbank4_b_level  \\\n",
      "0                                 -504.715942   \n",
      "1                                 -501.331529   \n",
      "2                                 -501.133383   \n",
      "3                                 -501.193686   \n",
      "4                                 -501.053894   \n",
      "\n",
      "   secondary_cleaner.state.floatbank5_a_air  \\\n",
      "0                                  9.925633   \n",
      "1                                 10.039245   \n",
      "2                                 10.070913   \n",
      "3                                  9.970366   \n",
      "4                                  9.925709   \n",
      "\n",
      "   secondary_cleaner.state.floatbank5_a_level  \\\n",
      "0                                 -498.310211   \n",
      "1                                 -500.169983   \n",
      "2                                 -500.129135   \n",
      "3                                 -499.201640   \n",
      "4                                 -501.686727   \n",
      "\n",
      "   secondary_cleaner.state.floatbank5_b_air  \\\n",
      "0                                  8.079666   \n",
      "1                                  7.984757   \n",
      "2                                  8.013877   \n",
      "3                                  7.977324   \n",
      "4                                  7.894242   \n",
      "\n",
      "   secondary_cleaner.state.floatbank5_b_level  \\\n",
      "0                                 -500.470978   \n",
      "1                                 -500.582168   \n",
      "2                                 -500.517572   \n",
      "3                                 -500.255908   \n",
      "4                                 -500.356035   \n",
      "\n",
      "   secondary_cleaner.state.floatbank6_a_air  \\\n",
      "0                                 14.151341   \n",
      "1                                 13.998353   \n",
      "2                                 14.028663   \n",
      "3                                 14.005551   \n",
      "4                                 13.996647   \n",
      "\n",
      "   secondary_cleaner.state.floatbank6_a_level  \n",
      "0                                 -605.841980  \n",
      "1                                 -599.787184  \n",
      "2                                 -601.427363  \n",
      "3                                 -599.996129  \n",
      "4                                 -601.496691  \n",
      "\n",
      "[5 rows x 87 columns]\n",
      "(22716, 87)\n",
      "2016-01-15 00:00:00 2018-08-18 10:59:59\n",
      "Datos provenientes desde inicio del año 2016 hasta el mes 8 o agosto del año 2018.\n",
      "\n",
      "2016-01-15 00:00:00 2018-08-18 10:59:59\n",
      "2016-09-01 00:59:59 2017-12-31 23:59:59\n",
      "\n",
      "Los datos de entrenamiento mantienen el mismo rango de registro de fecha que los datos totales o fuente. Los datos prueba por otra parte inician en el mes 9 de 2016 y concluyen en el mes 12 de 2017.\n"
     ]
    }
   ],
   "source": [
    "#Exploración de los datos\n",
    "\n",
    "print(datos_fuente.head())\n",
    "print(datos_fuente.shape)\n",
    "\n",
    "#print(datos_entrenamiento.head()) \n",
    "#print(datos_prueba.head()) #Toma mucho espacio en formar los resultados. No genera mucha información relevante.\n",
    "\n",
    "\n",
    "#Cambio de dato a tipo datetime.\n",
    "#Modificar date a formato fecha\n",
    "datos_fuente[\"date\"] = pd.to_datetime(datos_fuente[\"date\"])\n",
    "datos_entrenamiento[\"date\"] = pd.to_datetime(datos_entrenamiento[\"date\"])\n",
    "datos_prueba[\"date\"] = pd.to_datetime(datos_prueba[\"date\"])\n",
    "\n",
    "#Exploración de rango de valores en fecha. \n",
    "print(datos_fuente[\"date\"].min(), datos_fuente[\"date\"].max()) #datos provenientes desde inicio del año 2016 hasta el mes 8 o agosto del año 2018.\n",
    "print(\"Datos provenientes desde inicio del año 2016 hasta el mes 8 o agosto del año 2018.\")\n",
    "print()\n",
    "print(datos_entrenamiento[\"date\"].min(), datos_entrenamiento[\"date\"].max()) #conservado en datos de entrenamiento. \n",
    "print(datos_prueba[\"date\"].min(), datos_prueba[\"date\"].max())\n",
    "print(\"\\nLos datos de entrenamiento mantienen el mismo rango de registro de fecha que los datos totales o fuente. Los datos prueba por otra parte inician en el mes 9 de 2016 y concluyen en el mes 12 de 2017.\") "
   ]
  },
  {
   "cell_type": "code",
   "execution_count": 5,
   "id": "64aebb7e",
   "metadata": {},
   "outputs": [
    {
     "name": "stdout",
     "output_type": "stream",
     "text": [
      "\n",
      "Datos nulos mayor a 10% en datos fuente:\n",
      "rougher.output.recovery    0.137304\n",
      "rougher.output.tail_ag     0.120488\n",
      "rougher.output.tail_sol    0.120444\n",
      "rougher.output.tail_au     0.120444\n",
      "\n",
      "Datos nulos mayor a 10% en datos entrenamiento.\n",
      "rougher.input.floatbank11_xanthate    0.112930\n",
      "rougher.output.recovery               0.152610\n",
      "rougher.output.tail_ag                0.133452\n",
      "rougher.output.tail_sol               0.133393\n",
      "rougher.output.tail_au                0.133393\n",
      "secondary_cleaner.output.tail_sol     0.117794\n",
      "\n",
      "Datos nulos mayor a 10% en datos prueba.\n",
      "Series([], )\n",
      "No hay. Por eso hay un objeto series vacío.\n"
     ]
    }
   ],
   "source": [
    "#Exploración y Manejo de nulos \n",
    "print(\"\\nDatos nulos mayor a 10% en datos fuente:\")\n",
    "tasa_na_fuente = datos_fuente.isna().mean()\n",
    "tasa_na_fuente = tasa_na_fuente[tasa_na_fuente>0.1]\n",
    "print(tasa_na_fuente.to_string()) #4 valores con más de 10% de nulos en datos completos. \n",
    "\n",
    "print(\"\\nDatos nulos mayor a 10% en datos entrenamiento.\")\n",
    "tasa_na_entrenamiento = datos_entrenamiento.isna().mean()\n",
    "tasa_na_entrenamiento = tasa_na_entrenamiento[tasa_na_entrenamiento>0.1]\n",
    "print(tasa_na_entrenamiento.to_string())\n",
    "\n",
    "print(\"\\nDatos nulos mayor a 10% en datos prueba.\")\n",
    "tasa_na_prueba = datos_prueba.isna().mean()\n",
    "tasa_na_prueba = tasa_na_prueba[tasa_na_prueba>0.1]\n",
    "print(tasa_na_prueba.to_string())\n",
    "print(\"No hay. Por eso hay un objeto series vacío.\")\n",
    "\n",
    "#Datos numéricos para imputar\n",
    "datos_entrenamiento_numericos = datos_entrenamiento.select_dtypes(include=['number'])"
   ]
  },
  {
   "cell_type": "code",
   "execution_count": 9,
   "id": "bbdcd54a",
   "metadata": {},
   "outputs": [
    {
     "name": "stdout",
     "output_type": "stream",
     "text": [
      "Index(['final.output.concentrate_au', 'final.output.recovery',\n",
      "       'final.output.tail_au', 'primary_cleaner.output.concentrate_au',\n",
      "       'primary_cleaner.output.tail_au', 'rougher.input.feed_au',\n",
      "       'rougher.output.concentrate_au', 'rougher.output.recovery',\n",
      "       'rougher.output.tail_au', 'secondary_cleaner.output.tail_au'],\n",
      "      dtype='object')\n"
     ]
    },
    {
     "data": {
      "text/html": [
       "<div>\n",
       "<style scoped>\n",
       "    .dataframe tbody tr th:only-of-type {\n",
       "        vertical-align: middle;\n",
       "    }\n",
       "\n",
       "    .dataframe tbody tr th {\n",
       "        vertical-align: top;\n",
       "    }\n",
       "\n",
       "    .dataframe thead th {\n",
       "        text-align: right;\n",
       "    }\n",
       "</style>\n",
       "<table border=\"1\" class=\"dataframe\">\n",
       "  <thead>\n",
       "    <tr style=\"text-align: right;\">\n",
       "      <th></th>\n",
       "      <th>final.output.concentrate_au</th>\n",
       "      <th>final.output.recovery</th>\n",
       "      <th>final.output.tail_au</th>\n",
       "      <th>primary_cleaner.output.concentrate_au</th>\n",
       "      <th>primary_cleaner.output.tail_au</th>\n",
       "      <th>rougher.input.feed_au</th>\n",
       "      <th>rougher.output.concentrate_au</th>\n",
       "      <th>rougher.output.recovery</th>\n",
       "      <th>rougher.output.tail_au</th>\n",
       "      <th>secondary_cleaner.output.tail_au</th>\n",
       "    </tr>\n",
       "  </thead>\n",
       "  <tbody>\n",
       "    <tr>\n",
       "      <th>0</th>\n",
       "      <td>42.192020</td>\n",
       "      <td>70.541216</td>\n",
       "      <td>2.143149</td>\n",
       "      <td>34.174427</td>\n",
       "      <td>2.106679</td>\n",
       "      <td>6.486150</td>\n",
       "      <td>19.793808</td>\n",
       "      <td>87.107763</td>\n",
       "      <td>1.170244</td>\n",
       "      <td>2.606185</td>\n",
       "    </tr>\n",
       "    <tr>\n",
       "      <th>1</th>\n",
       "      <td>42.701629</td>\n",
       "      <td>69.266198</td>\n",
       "      <td>2.224930</td>\n",
       "      <td>34.118526</td>\n",
       "      <td>2.353017</td>\n",
       "      <td>6.478583</td>\n",
       "      <td>20.050975</td>\n",
       "      <td>86.843261</td>\n",
       "      <td>1.184827</td>\n",
       "      <td>2.488248</td>\n",
       "    </tr>\n",
       "    <tr>\n",
       "      <th>2</th>\n",
       "      <td>42.657501</td>\n",
       "      <td>68.116445</td>\n",
       "      <td>2.257889</td>\n",
       "      <td>33.969464</td>\n",
       "      <td>2.416800</td>\n",
       "      <td>6.362222</td>\n",
       "      <td>19.737170</td>\n",
       "      <td>86.842308</td>\n",
       "      <td>1.162562</td>\n",
       "      <td>2.458187</td>\n",
       "    </tr>\n",
       "    <tr>\n",
       "      <th>3</th>\n",
       "      <td>42.689819</td>\n",
       "      <td>68.347543</td>\n",
       "      <td>2.146849</td>\n",
       "      <td>28.260743</td>\n",
       "      <td>2.262051</td>\n",
       "      <td>6.118189</td>\n",
       "      <td>19.320810</td>\n",
       "      <td>87.226430</td>\n",
       "      <td>1.079755</td>\n",
       "      <td>2.322062</td>\n",
       "    </tr>\n",
       "    <tr>\n",
       "      <th>4</th>\n",
       "      <td>42.774141</td>\n",
       "      <td>66.927016</td>\n",
       "      <td>2.055292</td>\n",
       "      <td>33.044932</td>\n",
       "      <td>2.277073</td>\n",
       "      <td>5.663707</td>\n",
       "      <td>19.216101</td>\n",
       "      <td>86.688794</td>\n",
       "      <td>1.012642</td>\n",
       "      <td>2.330448</td>\n",
       "    </tr>\n",
       "  </tbody>\n",
       "</table>\n",
       "</div>"
      ],
      "text/plain": [
       "   final.output.concentrate_au  final.output.recovery  final.output.tail_au  \\\n",
       "0                    42.192020              70.541216              2.143149   \n",
       "1                    42.701629              69.266198              2.224930   \n",
       "2                    42.657501              68.116445              2.257889   \n",
       "3                    42.689819              68.347543              2.146849   \n",
       "4                    42.774141              66.927016              2.055292   \n",
       "\n",
       "   primary_cleaner.output.concentrate_au  primary_cleaner.output.tail_au  \\\n",
       "0                              34.174427                        2.106679   \n",
       "1                              34.118526                        2.353017   \n",
       "2                              33.969464                        2.416800   \n",
       "3                              28.260743                        2.262051   \n",
       "4                              33.044932                        2.277073   \n",
       "\n",
       "   rougher.input.feed_au  rougher.output.concentrate_au  \\\n",
       "0               6.486150                      19.793808   \n",
       "1               6.478583                      20.050975   \n",
       "2               6.362222                      19.737170   \n",
       "3               6.118189                      19.320810   \n",
       "4               5.663707                      19.216101   \n",
       "\n",
       "   rougher.output.recovery  rougher.output.tail_au  \\\n",
       "0                87.107763                1.170244   \n",
       "1                86.843261                1.184827   \n",
       "2                86.842308                1.162562   \n",
       "3                87.226430                1.079755   \n",
       "4                86.688794                1.012642   \n",
       "\n",
       "   secondary_cleaner.output.tail_au  \n",
       "0                          2.606185  \n",
       "1                          2.488248  \n",
       "2                          2.458187  \n",
       "3                          2.322062  \n",
       "4                          2.330448  "
      ]
     },
     "metadata": {},
     "output_type": "display_data"
    }
   ],
   "source": [
    "#Adicion de calculo antes de imputacion\n",
    "#columnas relevantes a recuperación de oro\n",
    "datos_entrenamiento_au = datos_entrenamiento.filter(regex='au|final.output.recovery|rougher.output.recovery', axis=1) #selecciona columnas con oro y recuperación final. \n",
    "datos_entrenamiento_au.columns\n",
    "datos_entrenamiento_au = datos_entrenamiento_au.loc[:, ~datos_entrenamiento_au.columns.str.contains('floatbank')]\n",
    "datos_entrenamiento_au = datos_entrenamiento_au.drop(columns=[\"rougher.calculation.sulfate_to_au_concentrate\", 'rougher.calculation.au_pb_ratio'])\n",
    "print(datos_entrenamiento_au.columns)\n",
    "\n",
    "#Solo quedan los concentrados, colas, oro antes de proceso (input.feed)\n",
    "#Cuantos de cada uno? \n",
    "display(datos_entrenamiento_au.head()) \n",
    "#Se podrían ordenar para respetar la lógica de los procesos. Rougher antes que primary antes que secondary y final. "
   ]
  },
  {
   "cell_type": "code",
   "execution_count": 10,
   "id": "e1268779",
   "metadata": {
    "scrolled": true
   },
   "outputs": [
    {
     "name": "stdout",
     "output_type": "stream",
     "text": [
      "\n",
      "Datos de materia prima de entrada:\n"
     ]
    },
    {
     "data": {
      "text/plain": [
       "0    6.486150\n",
       "1    6.478583\n",
       "2    6.362222\n",
       "3    6.118189\n",
       "4    5.663707\n",
       "Name: rougher.input.feed_au, dtype: float64"
      ]
     },
     "metadata": {},
     "output_type": "display_data"
    },
    {
     "name": "stdout",
     "output_type": "stream",
     "text": [
      "\n",
      "Datos de restos colaterales de entrada:\n"
     ]
    },
    {
     "data": {
      "text/plain": [
       "0    1.170244\n",
       "1    1.184827\n",
       "2    1.162562\n",
       "3    1.079755\n",
       "4    1.012642\n",
       "Name: rougher.output.tail_au, dtype: float64"
      ]
     },
     "metadata": {},
     "output_type": "display_data"
    },
    {
     "name": "stdout",
     "output_type": "stream",
     "text": [
      "\n",
      "Datos de restos finales:\n"
     ]
    },
    {
     "data": {
      "text/plain": [
       "0    2.143149\n",
       "1    2.224930\n",
       "2    2.257889\n",
       "3    2.146849\n",
       "4    2.055292\n",
       "Name: final.output.tail_au, dtype: float64"
      ]
     },
     "metadata": {},
     "output_type": "display_data"
    },
    {
     "name": "stdout",
     "output_type": "stream",
     "text": [
      "\n",
      "Concentrados de flotado de Au:\n"
     ]
    },
    {
     "data": {
      "text/plain": [
       "0    19.793808\n",
       "1    20.050975\n",
       "2    19.737170\n",
       "3    19.320810\n",
       "4    19.216101\n",
       "Name: rougher.output.concentrate_au, dtype: float64"
      ]
     },
     "metadata": {},
     "output_type": "display_data"
    },
    {
     "name": "stdout",
     "output_type": "stream",
     "text": [
      "\n",
      "Datos de concentrados finales de Au:\n"
     ]
    },
    {
     "data": {
      "text/plain": [
       "0    42.192020\n",
       "1    42.701629\n",
       "2    42.657501\n",
       "3    42.689819\n",
       "4    42.774141\n",
       "Name: final.output.concentrate_au, dtype: float64"
      ]
     },
     "metadata": {},
     "output_type": "display_data"
    }
   ],
   "source": [
    "#formula de recuperación: R = (C * (F-T))/(F*(C-T))\n",
    "#T son colas, F son input, C concentrados. Hay 4 colas output.tail_au (T); Un F o input.feed_au; 4 concentrados \n",
    "\n",
    "F = datos_entrenamiento_au[\"rougher.input.feed_au\"]\n",
    "T = datos_entrenamiento_au[\"rougher.output.tail_au\"]\n",
    "#final.tail_au y T debe dar similar. \n",
    "print(\"\\nDatos de materia prima de entrada:\")\n",
    "display(F.head())\n",
    "print(\"\\nDatos de restos colaterales de entrada:\")\n",
    "display(T.head())\n",
    "print(\"\\nDatos de restos finales:\")\n",
    "display(datos_entrenamiento_au[\"final.output.tail_au\"].head()) #\"No dan igual, se suman todos?\"\n",
    "\n",
    "C = datos_entrenamiento_au[\"rougher.output.concentrate_au\"]\n",
    "#final.output.concentrate_au debe dar similar a los output de concentrados previos sumados. \n",
    "print(\"\\nConcentrados de flotado de Au:\")\n",
    "display(C.head()) #No son los mismos ni con sort. \n",
    "print(\"\\nDatos de concentrados finales de Au:\")\n",
    "display(datos_entrenamiento_au[\"final.output.concentrate_au\"].head())"
   ]
  },
  {
   "cell_type": "code",
   "execution_count": 12,
   "id": "bbfaf539",
   "metadata": {},
   "outputs": [
    {
     "name": "stdout",
     "output_type": "stream",
     "text": [
      "0    87.107763\n",
      "1    86.843261\n",
      "2    86.842308\n",
      "3    87.226430\n",
      "4    86.688794\n",
      "Name: rougher.output.recovery, dtype: float64\n",
      "\n",
      "Promedio de recuperación de oro de datos reales del set de entrenamiento:\n",
      "82.39420120842001\n",
      "\n",
      "0    87.107763\n",
      "1    86.843261\n",
      "2    86.842308\n",
      "3    87.226430\n",
      "4    86.688794\n",
      "Name: recovery_calculation, dtype: float64\n",
      "MAE: 9.303415616264301e-15\n",
      "El promedio de valores de recuperacion de oro es de 82.3 unidad desconocida. Los valores entre los calculados y los reales varían en 9.3 unidades, un 11.3%.\n"
     ]
    }
   ],
   "source": [
    "#Calculo de recuperación y comparación con recuperación reportada. \n",
    "#R = C * (F-T)/(F*(C-T))*100\n",
    "print(datos_entrenamiento_au[\"rougher.output.recovery\"].head())\n",
    "print()\n",
    "\n",
    "#Exploración de tendencia central. Promedio de recuperación de oro de datos reales del set de entrenamiento. \n",
    "print(\"Promedio de recuperación de oro de datos reales del set de entrenamiento:\")\n",
    "print(datos_entrenamiento_au[\"rougher.output.recovery\"].mean()) #68 de promedio. Interesante ver si la tendencia central predecida del set de prueba es cercano. \n",
    "\n",
    "print() #Espacio por estética de resultados. \n",
    "\n",
    "datos_entrenamiento_au[\"recovery_calculation\"] = C*(F-T)/(F*(C-T))*100\n",
    "print(datos_entrenamiento_au[\"recovery_calculation\"].head())\n",
    "\n",
    "#MAE de cálculo de recuperación \n",
    "recuperacion_real = datos_entrenamiento_au[\"rougher.output.recovery\"]\n",
    "recuperacion_calculada = datos_entrenamiento_au[\"recovery_calculation\"]\n",
    "#Evitar errores por datos nulos\n",
    "mask_no_nan = recuperacion_real.notna() & recuperacion_calculada.notna()\n",
    "mae = mean_absolute_error(recuperacion_real[mask_no_nan], recuperacion_calculada[mask_no_nan])\n",
    "print(\"MAE:\", mae)\n",
    "print(\"El promedio de valores de recuperacion de oro es de 82.3 unidad desconocida. Los valores entre los calculados y los reales varían en 9.3 unidades, un 11.3%.\")\n"
   ]
  },
  {
   "cell_type": "code",
   "execution_count": 9,
   "id": "61466dd7",
   "metadata": {},
   "outputs": [],
   "source": [
    "#Eliminación de nulos\n",
    "#Rellenar nulos de los datos de entrenamiento. Knn Imputer\n",
    "knn_imputer = KNNImputer(n_neighbors=2)\n",
    "\n",
    "#entrenar el imputador\n",
    "#Son 16860 registros y 85 columnas. Los datos son pesados y ocuparían muchos recursos computacionales para entrenar el modelo de imputación así que se hará una muestra\n",
    "muestra_imputado = datos_entrenamiento_numericos.sample(frac=0.5, random_state=54321) #Solo se usarían la mitad de los datos 8430 filas. \n",
    "#Se pierde un poco de precisión por no haber acceso a todos los vecinos pero se usan menos recursos. Pasó de 29 segundos a 12 en mi ordenador. \n",
    "\n",
    "knn_imputer.fit(muestra_imputado)\n",
    "#imputar el set de entrenamiento. Solo las columnas numéricas\n",
    "datos_entrenamiento_sin_nulos = knn_imputer.transform(datos_entrenamiento_numericos)\n"
   ]
  },
  {
   "cell_type": "code",
   "execution_count": 10,
   "id": "b86bf8f0",
   "metadata": {
    "scrolled": true
   },
   "outputs": [
    {
     "name": "stdout",
     "output_type": "stream",
     "text": [
      "(16860, 87)\n",
      "Los datos imputados mantienen su longitud de registros originales. 16860.\n",
      "<class 'pandas.core.frame.DataFrame'>\n",
      "RangeIndex: 16860 entries, 0 to 16859\n",
      "Data columns (total 87 columns):\n",
      " #   Column                                              Non-Null Count  Dtype         \n",
      "---  ------                                              --------------  -----         \n",
      " 0   date                                                16860 non-null  datetime64[ns]\n",
      " 1   final.output.concentrate_ag                         16860 non-null  float64       \n",
      " 2   final.output.concentrate_pb                         16860 non-null  float64       \n",
      " 3   final.output.concentrate_sol                        16860 non-null  float64       \n",
      " 4   final.output.concentrate_au                         16860 non-null  float64       \n",
      " 5   final.output.recovery                               16860 non-null  float64       \n",
      " 6   final.output.tail_ag                                16860 non-null  float64       \n",
      " 7   final.output.tail_pb                                16860 non-null  float64       \n",
      " 8   final.output.tail_sol                               16860 non-null  float64       \n",
      " 9   final.output.tail_au                                16860 non-null  float64       \n",
      " 10  primary_cleaner.input.sulfate                       16860 non-null  float64       \n",
      " 11  primary_cleaner.input.depressant                    16860 non-null  float64       \n",
      " 12  primary_cleaner.input.feed_size                     16860 non-null  float64       \n",
      " 13  primary_cleaner.input.xanthate                      16860 non-null  float64       \n",
      " 14  primary_cleaner.output.concentrate_ag               16860 non-null  float64       \n",
      " 15  primary_cleaner.output.concentrate_pb               16860 non-null  float64       \n",
      " 16  primary_cleaner.output.concentrate_sol              16860 non-null  float64       \n",
      " 17  primary_cleaner.output.concentrate_au               16860 non-null  float64       \n",
      " 18  primary_cleaner.output.tail_ag                      16860 non-null  float64       \n",
      " 19  primary_cleaner.output.tail_pb                      16860 non-null  float64       \n",
      " 20  primary_cleaner.output.tail_sol                     16860 non-null  float64       \n",
      " 21  primary_cleaner.output.tail_au                      16860 non-null  float64       \n",
      " 22  primary_cleaner.state.floatbank8_a_air              16860 non-null  float64       \n",
      " 23  primary_cleaner.state.floatbank8_a_level            16860 non-null  float64       \n",
      " 24  primary_cleaner.state.floatbank8_b_air              16860 non-null  float64       \n",
      " 25  primary_cleaner.state.floatbank8_b_level            16860 non-null  float64       \n",
      " 26  primary_cleaner.state.floatbank8_c_air              16860 non-null  float64       \n",
      " 27  primary_cleaner.state.floatbank8_c_level            16860 non-null  float64       \n",
      " 28  primary_cleaner.state.floatbank8_d_air              16860 non-null  float64       \n",
      " 29  primary_cleaner.state.floatbank8_d_level            16860 non-null  float64       \n",
      " 30  rougher.calculation.sulfate_to_au_concentrate       16860 non-null  float64       \n",
      " 31  rougher.calculation.floatbank10_sulfate_to_au_feed  16860 non-null  float64       \n",
      " 32  rougher.calculation.floatbank11_sulfate_to_au_feed  16860 non-null  float64       \n",
      " 33  rougher.calculation.au_pb_ratio                     16860 non-null  float64       \n",
      " 34  rougher.input.feed_ag                               16860 non-null  float64       \n",
      " 35  rougher.input.feed_pb                               16860 non-null  float64       \n",
      " 36  rougher.input.feed_rate                             16860 non-null  float64       \n",
      " 37  rougher.input.feed_size                             16860 non-null  float64       \n",
      " 38  rougher.input.feed_sol                              16860 non-null  float64       \n",
      " 39  rougher.input.feed_au                               16860 non-null  float64       \n",
      " 40  rougher.input.floatbank10_sulfate                   16860 non-null  float64       \n",
      " 41  rougher.input.floatbank10_xanthate                  16860 non-null  float64       \n",
      " 42  rougher.input.floatbank11_sulfate                   16860 non-null  float64       \n",
      " 43  rougher.input.floatbank11_xanthate                  16860 non-null  float64       \n",
      " 44  rougher.output.concentrate_ag                       16860 non-null  float64       \n",
      " 45  rougher.output.concentrate_pb                       16860 non-null  float64       \n",
      " 46  rougher.output.concentrate_sol                      16860 non-null  float64       \n",
      " 47  rougher.output.concentrate_au                       16860 non-null  float64       \n",
      " 48  rougher.output.recovery                             16860 non-null  float64       \n",
      " 49  rougher.output.tail_ag                              16860 non-null  float64       \n",
      " 50  rougher.output.tail_pb                              16860 non-null  float64       \n",
      " 51  rougher.output.tail_sol                             16860 non-null  float64       \n",
      " 52  rougher.output.tail_au                              16860 non-null  float64       \n",
      " 53  rougher.state.floatbank10_a_air                     16860 non-null  float64       \n",
      " 54  rougher.state.floatbank10_a_level                   16860 non-null  float64       \n",
      " 55  rougher.state.floatbank10_b_air                     16860 non-null  float64       \n",
      " 56  rougher.state.floatbank10_b_level                   16860 non-null  float64       \n",
      " 57  rougher.state.floatbank10_c_air                     16860 non-null  float64       \n",
      " 58  rougher.state.floatbank10_c_level                   16860 non-null  float64       \n",
      " 59  rougher.state.floatbank10_d_air                     16860 non-null  float64       \n",
      " 60  rougher.state.floatbank10_d_level                   16860 non-null  float64       \n",
      " 61  rougher.state.floatbank10_e_air                     16860 non-null  float64       \n",
      " 62  rougher.state.floatbank10_e_level                   16860 non-null  float64       \n",
      " 63  rougher.state.floatbank10_f_air                     16860 non-null  float64       \n",
      " 64  rougher.state.floatbank10_f_level                   16860 non-null  float64       \n",
      " 65  secondary_cleaner.output.tail_ag                    16860 non-null  float64       \n",
      " 66  secondary_cleaner.output.tail_pb                    16860 non-null  float64       \n",
      " 67  secondary_cleaner.output.tail_sol                   16860 non-null  float64       \n",
      " 68  secondary_cleaner.output.tail_au                    16860 non-null  float64       \n",
      " 69  secondary_cleaner.state.floatbank2_a_air            16860 non-null  float64       \n",
      " 70  secondary_cleaner.state.floatbank2_a_level          16860 non-null  float64       \n",
      " 71  secondary_cleaner.state.floatbank2_b_air            16860 non-null  float64       \n",
      " 72  secondary_cleaner.state.floatbank2_b_level          16860 non-null  float64       \n",
      " 73  secondary_cleaner.state.floatbank3_a_air            16860 non-null  float64       \n",
      " 74  secondary_cleaner.state.floatbank3_a_level          16860 non-null  float64       \n",
      " 75  secondary_cleaner.state.floatbank3_b_air            16860 non-null  float64       \n",
      " 76  secondary_cleaner.state.floatbank3_b_level          16860 non-null  float64       \n",
      " 77  secondary_cleaner.state.floatbank4_a_air            16860 non-null  float64       \n",
      " 78  secondary_cleaner.state.floatbank4_a_level          16860 non-null  float64       \n",
      " 79  secondary_cleaner.state.floatbank4_b_air            16860 non-null  float64       \n",
      " 80  secondary_cleaner.state.floatbank4_b_level          16860 non-null  float64       \n",
      " 81  secondary_cleaner.state.floatbank5_a_air            16860 non-null  float64       \n",
      " 82  secondary_cleaner.state.floatbank5_a_level          16860 non-null  float64       \n",
      " 83  secondary_cleaner.state.floatbank5_b_air            16860 non-null  float64       \n",
      " 84  secondary_cleaner.state.floatbank5_b_level          16860 non-null  float64       \n",
      " 85  secondary_cleaner.state.floatbank6_a_air            16860 non-null  float64       \n",
      " 86  secondary_cleaner.state.floatbank6_a_level          16860 non-null  float64       \n",
      "dtypes: datetime64[ns](1), float64(86)\n",
      "memory usage: 11.2 MB\n",
      "None\n",
      "Remoción de nulos exitosa.\n"
     ]
    }
   ],
   "source": [
    "#Unir el dataframe de regreso con las fechas\n",
    "datos_entrenamiento_datetime = datos_entrenamiento.select_dtypes(include=['datetime'])\n",
    "datos_numericos_imputados = pd.DataFrame(datos_entrenamiento_sin_nulos, columns=datos_entrenamiento_numericos.columns)\n",
    "datos_entrenamiento_imputados_y_completos = pd.concat([datos_numericos_imputados, datos_entrenamiento_datetime], axis=1)\n",
    "datos_entrenamiento_imputados_y_ordenados = datos_entrenamiento_imputados_y_completos[datos_entrenamiento.columns]\n",
    "\n",
    "print(datos_entrenamiento_imputados_y_ordenados.shape)\n",
    "print(\"Los datos imputados mantienen su longitud de registros originales. 16860.\")\n",
    "\n",
    "#Datos prueba imputados al momento de entrenar el modelo.  \n",
    "\n",
    "#Revisión de nulos \n",
    "print(datos_entrenamiento_imputados_y_ordenados.info())\n",
    "print(\"Remoción de nulos exitosa.\")"
   ]
  },
  {
   "cell_type": "code",
   "execution_count": 11,
   "id": "8cc1cbba",
   "metadata": {},
   "outputs": [
    {
     "name": "stdout",
     "output_type": "stream",
     "text": [
      "(16860, 87)\n",
      "(5856, 53)\n"
     ]
    }
   ],
   "source": [
    "#Tamaños de los datos.\n",
    "print(datos_entrenamiento.shape)\n",
    "print(datos_prueba.shape)"
   ]
  },
  {
   "cell_type": "code",
   "execution_count": 12,
   "id": "05b83354",
   "metadata": {},
   "outputs": [
    {
     "name": "stdout",
     "output_type": "stream",
     "text": [
      "Index(['date', 'primary_cleaner.input.sulfate',\n",
      "       'primary_cleaner.input.depressant', 'primary_cleaner.input.feed_size',\n",
      "       'primary_cleaner.input.xanthate', 'rougher.input.feed_ag',\n",
      "       'rougher.input.feed_pb', 'rougher.input.feed_rate',\n",
      "       'rougher.input.feed_size', 'rougher.input.feed_sol',\n",
      "       'rougher.input.feed_au'],\n",
      "      dtype='object')\n",
      "Solo hay columnas de datos de materia de entrada de oro en etapa inicial o flotador(rougher). Hace falta los reportes de concentrados por etapas y recuperación de oro.\n"
     ]
    }
   ],
   "source": [
    "#Análisis de conjunto de prueba: Datos faltantes\n",
    "datos_prueba_no_float = datos_prueba.loc[:, ~datos_prueba.columns.str.contains(r'\\.floatbank')]\n",
    "print(datos_prueba_no_float.columns)\n",
    "print(\"Solo hay columnas de datos de materia de entrada de oro en etapa inicial o flotador(rougher). Hace falta los reportes de concentrados por etapas y recuperación de oro.\")"
   ]
  },
  {
   "cell_type": "code",
   "execution_count": 13,
   "id": "464fd385",
   "metadata": {},
   "outputs": [
    {
     "data": {
      "image/png": "[encoded data removed]",
      "text/plain": [
       "<Figure size 1000x500 with 1 Axes>"
      ]
     },
     "metadata": {},
     "output_type": "display_data"
    },
    {
     "data": {
      "image/png": "[encoded data removed]",
      "text/plain": [
       "<Figure size 1000x500 with 1 Axes>"
      ]
     },
     "metadata": {},
     "output_type": "display_data"
    },
    {
     "data": {
      "image/png": "[encoded data removed]",
      "text/plain": [
       "<Figure size 1000x500 with 1 Axes>"
      ]
     },
     "metadata": {},
     "output_type": "display_data"
    },
    {
     "name": "stdout",
     "output_type": "stream",
     "text": [
      "Promedios de extracción concentrados de oro finales por año:\n"
     ]
    },
    {
     "data": {
      "text/plain": [
       "year\n",
       "2016    26728.16\n",
       "2017    29234.79\n",
       "2018    26863.94\n",
       "Name: final.output.concentrate_au, dtype: float64"
      ]
     },
     "metadata": {},
     "output_type": "display_data"
    },
    {
     "name": "stdout",
     "output_type": "stream",
     "text": [
      "El año de mayores concentrados de oro finales fue 2017.\n",
      "A notar, no hay datos en los ultimos 2 bimestres de cada año de septiembre a diciembre.\n"
     ]
    }
   ],
   "source": [
    "#Visualización\n",
    "#Fecha y recuperación. \n",
    "#date y final.output.recovery. Son 3 años así que se harán 3 distribuciones anuales por mes. \n",
    "\n",
    "distribucion = datos_entrenamiento #hacer un set de datos con modificaciones. Se le añadirá anotaciones de año y més para graficar distribuciones\n",
    "distribucion[\"year\"] = distribucion[\"date\"].dt.year\n",
    "distribucion[\"month\"] = distribucion[\"date\"].dt.month\n",
    "\n",
    "distribucion_por_año_y_mes = distribucion.groupby([\"year\", \"month\"])[\"final.output.concentrate_au\"].sum().reset_index()\n",
    "#for loop de graficación de distribuciones para los 3 años. \n",
    "años = sorted(distribucion_por_año_y_mes[\"year\"].unique())\n",
    "\n",
    "for año in años: \n",
    "    distribucion_año = distribucion_por_año_y_mes[distribucion_por_año_y_mes[\"year\"] == año]\n",
    "    plt.figure(figsize=(10, 5))\n",
    "    sns.barplot(data=distribucion_año, x=\"month\", y=\"final.output.concentrate_au\", color=\"blue\")\n",
    "    plt.title(f\"Distribución de concentrado de Oro mensual -{año}\")\n",
    "    plt.xlabel(\"Mes\")\n",
    "    plt.ylabel(\"Concentrado Au/Oro\")\n",
    "    plt.xticks(range(0,12), [\"Enero\", \"Febrero\", \"Marzo\", \"Abril\", \"Mayo\", \"Junio\",\"Julio\",\"Agosto\",\"Septiembre\",\"Octubre\", \"Noviembre\",\"Diciembre\"])\n",
    "    plt.tight_layout()\n",
    "    plt.show()\n",
    "\n",
    "#obtener el promedio anual.\n",
    "print(\"Promedios de extracción concentrados de oro finales por año:\")\n",
    "display(distribucion_por_año_y_mes.groupby(\"year\")[\"final.output.concentrate_au\"].mean().round(2)) #Sería útil conocer la unidad de los concentrados.\n",
    "print(\"El año de mayores concentrados de oro finales fue 2017.\\nA notar, no hay datos en los ultimos 2 bimestres de cada año de septiembre a diciembre.\")\n"
   ]
  },
  {
   "cell_type": "code",
   "execution_count": 14,
   "id": "2bc511b6",
   "metadata": {
    "scrolled": false
   },
   "outputs": [
    {
     "name": "stdout",
     "output_type": "stream",
     "text": [
      "Index(['date', 'final.output.concentrate_ag', 'final.output.concentrate_pb',\n",
      "       'final.output.concentrate_au', 'primary_cleaner.output.concentrate_ag',\n",
      "       'primary_cleaner.output.concentrate_pb',\n",
      "       'primary_cleaner.output.concentrate_au', 'rougher.input.feed_ag',\n",
      "       'rougher.input.feed_pb', 'rougher.input.feed_au',\n",
      "       'rougher.output.concentrate_ag', 'rougher.output.concentrate_pb',\n",
      "       'rougher.output.concentrate_au'],\n",
      "      dtype='object')\n",
      "['2016-01' '2016-02' '2016-03' '2016-04' '2017-01' '2017-02' '2017-03'\n",
      " '2017-04' '2018-01' '2018-02' '2018-03' '2018-04']\n",
      "Solo aparecen 4 bimestres por año revisando valores únicos.\n",
      "1    1896\n",
      "2    2040\n",
      "3    2232\n",
      "4    2161\n",
      "5    2232\n",
      "6    2160\n",
      "7    2232\n",
      "8    1907\n",
      "Name: month, dtype: int64\n",
      "1    1896\n",
      "2    2040\n",
      "3    2232\n",
      "4    2161\n",
      "5    2232\n",
      "6    2160\n",
      "7    2232\n",
      "8    1907\n",
      "Name: month, dtype: int64\n",
      "1    1896\n",
      "2    2040\n",
      "3    2232\n",
      "4    2161\n",
      "5    2232\n",
      "6    2160\n",
      "7    2232\n",
      "8    1907\n",
      "Name: month, dtype: int64\n",
      "En datos de entrenamiento solo hay reportes de datos en los primeros 4 bimestres de cada año.\n"
     ]
    },
    {
     "name": "stderr",
     "output_type": "stream",
     "text": [
      "/opt/conda/envs/python3/lib/python3.9/site-packages/pandas/core/indexing.py:1597: SettingWithCopyWarning: \n",
      "A value is trying to be set on a copy of a slice from a DataFrame.\n",
      "Try using .loc[row_indexer,col_indexer] = value instead\n",
      "\n",
      "See the caveats in the documentation: https://pandas.pydata.org/pandas-docs/stable/user_guide/indexing.html#returning-a-view-versus-a-copy\n",
      "  self.obj[key] = value\n",
      "/opt/conda/envs/python3/lib/python3.9/site-packages/pandas/core/indexing.py:1676: SettingWithCopyWarning: \n",
      "A value is trying to be set on a copy of a slice from a DataFrame.\n",
      "Try using .loc[row_indexer,col_indexer] = value instead\n",
      "\n",
      "See the caveats in the documentation: https://pandas.pydata.org/pandas-docs/stable/user_guide/indexing.html#returning-a-view-versus-a-copy\n",
      "  self._setitem_single_column(ilocs[0], value, pi)\n"
     ]
    },
    {
     "data": {
      "image/png": "[encoded data removed]",
      "text/plain": [
       "<Figure size 1000x500 with 1 Axes>"
      ]
     },
     "metadata": {},
     "output_type": "display_data"
    },
    {
     "data": {
      "image/png": "[encoded data removed]",
      "text/plain": [
       "<Figure size 1000x500 with 1 Axes>"
      ]
     },
     "metadata": {},
     "output_type": "display_data"
    },
    {
     "data": {
      "image/png": "[encoded data removed]",
      "text/plain": [
       "<Figure size 1000x500 with 1 Axes>"
      ]
     },
     "metadata": {},
     "output_type": "display_data"
    },
    {
     "data": {
      "image/png": "[encoded data removed]",
      "text/plain": [
       "<Figure size 1000x500 with 1 Axes>"
      ]
     },
     "metadata": {},
     "output_type": "display_data"
    },
    {
     "data": {
      "image/png": "[encoded data removed]",
      "text/plain": [
       "<Figure size 1000x500 with 1 Axes>"
      ]
     },
     "metadata": {},
     "output_type": "display_data"
    },
    {
     "data": {
      "image/png": "[encoded data removed]",
      "text/plain": [
       "<Figure size 1000x500 with 1 Axes>"
      ]
     },
     "metadata": {},
     "output_type": "display_data"
    },
    {
     "data": {
      "image/png": "[encoded data removed]",
      "text/plain": [
       "<Figure size 1000x500 with 1 Axes>"
      ]
     },
     "metadata": {},
     "output_type": "display_data"
    },
    {
     "data": {
      "image/png": "[encoded data removed]",
      "text/plain": [
       "<Figure size 1000x500 with 1 Axes>"
      ]
     },
     "metadata": {},
     "output_type": "display_data"
    },
    {
     "data": {
      "image/png": "[encoded data removed]",
      "text/plain": [
       "<Figure size 1000x500 with 1 Axes>"
      ]
     },
     "metadata": {},
     "output_type": "display_data"
    },
    {
     "name": "stdout",
     "output_type": "stream",
     "text": [
      "Los concentrados de Au son mayores a trávés de todas las etapas en comparación con Pb y Ag. En el rango del doble en la etapa rougher a triple o cuadruple en las etapas primary_cleaner y final respectivamente.\n",
      " Observable con mayor precisión mediante datos estadísticos.\n"
     ]
    },
    {
     "data": {
      "text/html": [
       "<div>\n",
       "<style scoped>\n",
       "    .dataframe tbody tr th:only-of-type {\n",
       "        vertical-align: middle;\n",
       "    }\n",
       "\n",
       "    .dataframe tbody tr th {\n",
       "        vertical-align: top;\n",
       "    }\n",
       "\n",
       "    .dataframe thead th {\n",
       "        text-align: right;\n",
       "    }\n",
       "</style>\n",
       "<table border=\"1\" class=\"dataframe\">\n",
       "  <thead>\n",
       "    <tr style=\"text-align: right;\">\n",
       "      <th></th>\n",
       "      <th>etapa</th>\n",
       "      <th>tipo</th>\n",
       "      <th>metal</th>\n",
       "      <th>promedio</th>\n",
       "    </tr>\n",
       "  </thead>\n",
       "  <tbody>\n",
       "    <tr>\n",
       "      <th>0</th>\n",
       "      <td>0</td>\n",
       "      <td>rougher</td>\n",
       "      <td>ag</td>\n",
       "      <td>10.580475</td>\n",
       "    </tr>\n",
       "    <tr>\n",
       "      <th>1</th>\n",
       "      <td>0</td>\n",
       "      <td>rougher</td>\n",
       "      <td>pb</td>\n",
       "      <td>6.880322</td>\n",
       "    </tr>\n",
       "    <tr>\n",
       "      <th>2</th>\n",
       "      <td>0</td>\n",
       "      <td>rougher</td>\n",
       "      <td>au</td>\n",
       "      <td>17.401541</td>\n",
       "    </tr>\n",
       "    <tr>\n",
       "      <th>3</th>\n",
       "      <td>1</td>\n",
       "      <td>primary_cleaner</td>\n",
       "      <td>ag</td>\n",
       "      <td>7.422640</td>\n",
       "    </tr>\n",
       "    <tr>\n",
       "      <th>4</th>\n",
       "      <td>1</td>\n",
       "      <td>primary_cleaner</td>\n",
       "      <td>pb</td>\n",
       "      <td>8.620294</td>\n",
       "    </tr>\n",
       "    <tr>\n",
       "      <th>5</th>\n",
       "      <td>1</td>\n",
       "      <td>primary_cleaner</td>\n",
       "      <td>au</td>\n",
       "      <td>29.164596</td>\n",
       "    </tr>\n",
       "    <tr>\n",
       "      <th>6</th>\n",
       "      <td>2</td>\n",
       "      <td>final</td>\n",
       "      <td>ag</td>\n",
       "      <td>4.716907</td>\n",
       "    </tr>\n",
       "    <tr>\n",
       "      <th>7</th>\n",
       "      <td>2</td>\n",
       "      <td>final</td>\n",
       "      <td>pb</td>\n",
       "      <td>9.113559</td>\n",
       "    </tr>\n",
       "    <tr>\n",
       "      <th>8</th>\n",
       "      <td>2</td>\n",
       "      <td>final</td>\n",
       "      <td>au</td>\n",
       "      <td>39.467217</td>\n",
       "    </tr>\n",
       "  </tbody>\n",
       "</table>\n",
       "</div>"
      ],
      "text/plain": [
       "   etapa             tipo metal   promedio\n",
       "0      0          rougher    ag  10.580475\n",
       "1      0          rougher    pb   6.880322\n",
       "2      0          rougher    au  17.401541\n",
       "3      1  primary_cleaner    ag   7.422640\n",
       "4      1  primary_cleaner    pb   8.620294\n",
       "5      1  primary_cleaner    au  29.164596\n",
       "6      2            final    ag   4.716907\n",
       "7      2            final    pb   9.113559\n",
       "8      2            final    au  39.467217"
      ]
     },
     "metadata": {},
     "output_type": "display_data"
    }
   ],
   "source": [
    "#Comparación de cambios en concentración de metales (Au, Ag, Pb) en función de la etapa de purificación. Rougher, primary cleaner, secondary cleaner, final. \n",
    "#Selección de columnas de concentración de metales en datos de entrenamiento. \n",
    "concentracion_metales = datos_entrenamiento.filter(regex=\"au|ag|pb|date\")\n",
    "concentracion_metales = concentracion_metales.loc[:, ~concentracion_metales.columns.str.contains(\"tail|calculation\")] #Eliminar columnas de calculaciones o colas para enfocarnos en observar los concentrados.\n",
    "print(concentracion_metales.columns) \n",
    "#no hay columnas de secondary_cleaner. Se revisó en las columnas de datos de entrenamiento y no existen esos datos. Hay datos rougher, primary_cleaner, final. \n",
    "\n",
    "#División de datos en etapas. \n",
    "mask_rougher = concentracion_metales.columns.str.contains(\"rougher|date\") #Se toman columnas relacionadas con la etapa deseada y el punto temporal. \n",
    "mask_primary = concentracion_metales.columns.str.contains(\"primary|date\")\n",
    "mask_final =  concentracion_metales.columns.str.contains(\"final|date\")\n",
    "\n",
    "\n",
    "concentracion_rougher = concentracion_metales.loc[:, mask_rougher]\n",
    "concentracion_primary = concentracion_metales.loc[:, mask_primary]\n",
    "concentracion_final = concentracion_metales.loc[:, mask_final]\n",
    "concentraciones_etapas = [concentracion_rougher, concentracion_primary, concentracion_final]\n",
    "\n",
    "#procesar las fechas\n",
    "for etapa in concentraciones_etapas:\n",
    "    etapa.loc[:,\"year\"] = etapa[\"date\"].dt.year\n",
    "    etapa.loc[:,\"month\"] = etapa[\"date\"].dt.month\n",
    "    etapa.loc[:,\"bimestre\"] = ((etapa[\"month\"] - 1) // 2) + 1\n",
    "    #agrupo por bimestres sin ordenar por año. Entonces se usaron los años para ordenar.\n",
    "    etapa.loc[:,\"año_bimestre\"] = etapa[\"year\"].astype(str) + \"-\" + etapa[\"bimestre\"].astype(str).str.zfill(2)\n",
    "    \n",
    "#Faltan bimestres en los gráficos. Exploración de los bimestres. \n",
    " # Mostrar los bimestres únicos en la etapa para verificar que todos estén cubiertos\n",
    "print(etapa[\"año_bimestre\"].unique())\n",
    "print(\"Solo aparecen 4 bimestres por año revisando valores únicos.\")\n",
    "\n",
    "for etapa in concentraciones_etapas:\n",
    "    print(etapa[\"month\"].value_counts().sort_index())\n",
    "\n",
    "print(\"En datos de entrenamiento solo hay reportes de datos en los primeros 4 bimestres de cada año.\")    \n",
    "\n",
    "nombres_etapa = {\n",
    "    \"rougher\": \"Rougher\",\n",
    "    \"primary_cleaner\": \"Primary Cleaner\",\n",
    "    \"final\": \"Final\"\n",
    "}\n",
    "nombres_metal = {\"au\": \"Au\", \"ag\": \"Ag\", \"pb\": \"Pb\"}\n",
    "metales = [\"ag\", \"pb\", \"au\"]\n",
    "for etapa in concentraciones_etapas: #Iterar para generar todos los gráficos de distribución de concentrados a través del tiempo por metal. \n",
    "    for metal in metales:\n",
    "        for tipo in nombres_etapa.keys():\n",
    "            nombre_columna = f\"{tipo}.output.concentrate_{metal}\"\n",
    "            if nombre_columna in etapa.columns:  \n",
    "                #etapa_agrupado_bimestral = etapa.groupby(\"bimestre\")[nombre_columna].mean().reset_index()\n",
    "                etapa_agrupado_bimestral = etapa.groupby(\"año_bimestre\")[nombre_columna].mean().reset_index()\n",
    "                etapa_agrupado_bimestral = etapa_agrupado_bimestral.sort_values(by=\"año_bimestre\")\n",
    "                plt.figure(figsize=(10,5))\n",
    "                sns.barplot(data=etapa_agrupado_bimestral, x=\"año_bimestre\", y=nombre_columna, color=\"orange\")\n",
    "                plt.title(f\"{nombres_etapa[tipo]} - Concentrado de {nombres_metal[metal]} (Bimestral)\")\n",
    "                plt.xlabel(\"Bimestre\")\n",
    "                plt.ylabel(f\"Concentrado de {nombres_metal[metal]}\")\n",
    "                plt.xticks(rotation=45)\n",
    "                plt.tight_layout()\n",
    "                plt.show() \n",
    "                \n",
    "#Conclusiones de las distribuciones\n",
    "print(\"Los concentrados de Au son mayores a trávés de todas las etapas en comparación con Pb y Ag. En el rango del doble en la etapa rougher a triple o cuadruple en las etapas primary_cleaner y final respectivamente.\\n Observable con mayor precisión mediante datos estadísticos.\")\n",
    "\n",
    "#Obtener promedios de concentrado en tablas para ver las concentraciones con estadísticos. \n",
    "promedios_concentracion = []\n",
    "\n",
    "for idx, etapa in enumerate(concentraciones_etapas):\n",
    "    for tipo in nombres_etapa.keys():\n",
    "        for metal in metales:\n",
    "            nombre_columna = f\"{tipo}.output.concentrate_{metal}\"\n",
    "            if nombre_columna in etapa.columns:\n",
    "                promedio = etapa[nombre_columna].mean()\n",
    "                promedios_concentracion.append({\n",
    "                    'etapa': idx,\n",
    "                    'tipo': tipo,\n",
    "                    'metal': metal,\n",
    "                    'promedio': promedio\n",
    "                })\n",
    "\n",
    "df_promedios = pd.DataFrame(promedios_concentracion)\n",
    "display(df_promedios)\n",
    "\n",
    "#Encontrar la comparación con los datos de prueba. A los datos de prueba le faltan columnas esenciales. Solamente tiene materia de entrada para comparar las distribuciones podría ser solo de los valores de entrada o conseguir los datos con predicción e ingeniería de datos. \n",
    "#Valores predecidos no reales.\n",
    "            "
   ]
  },
  {
   "cell_type": "markdown",
   "id": "80ac692d",
   "metadata": {},
   "source": [
    "Seguimiento: Comunicar con proveedor de datos sobre la escala empleada de los materiales o concentrados. En que unidad de medición se encuentran. "
   ]
  },
  {
   "cell_type": "code",
   "execution_count": 15,
   "id": "f4f9fa80",
   "metadata": {},
   "outputs": [
    {
     "data": {
      "image/png": "[encoded data removed]",
      "text/plain": [
       "<Figure size 1000x600 with 1 Axes>"
      ]
     },
     "metadata": {},
     "output_type": "display_data"
    },
    {
     "name": "stdout",
     "output_type": "stream",
     "text": [
      "El gráfico de distribución de caja nos hace conocer los datos que no siguen la tendencia central. Para reconocer que es posible que haya datos que cambian el promedio por ser extremos. \n",
      "En ocasiones los más externos son removidos para aumentar el poder predictivo de modelos de regresión. \n",
      "En oro en etapa primaria y final se encuentra un mayor rango visible sobre todo en valores menores a los centrales.\n"
     ]
    }
   ],
   "source": [
    "#Boxplot para revisar presencia de outliers o datos extremos.\n",
    "data_boxplot = []\n",
    "\n",
    "for etapa_idx, etapa in enumerate(concentraciones_etapas):\n",
    "    for tipo in nombres_etapa.keys():\n",
    "        if tipo not in etapa.columns.str.cat(sep=\" \"):\n",
    "            continue\n",
    "        for metal in metales:\n",
    "            nombre_columna = f\"{tipo}.output.concentrate_{metal}\"\n",
    "            if nombre_columna in etapa.columns:\n",
    "                df_temp = etapa[[nombre_columna]].copy()\n",
    "                df_temp = df_temp.dropna()\n",
    "                df_temp[\"Etapa\"] = nombres_etapa[tipo]\n",
    "                df_temp[\"Metal\"] = nombres_metal[metal]\n",
    "                df_temp = df_temp.rename(columns={nombre_columna: \"Concentración\"})\n",
    "                data_boxplot.append(df_temp)\n",
    "\n",
    "df_boxplot = pd.concat(data_boxplot, ignore_index=True)\n",
    "\n",
    "# Orden personalizado de etapas\n",
    "etapas_ordenadas = [\"Rougher\", \"Primary Cleaner\", \"Final\"]\n",
    "df_boxplot[\"Etapa\"] = pd.Categorical(df_boxplot[\"Etapa\"], categories=etapas_ordenadas, ordered=True)\n",
    "\n",
    "# Plot general\n",
    "plt.figure(figsize=(10, 6))\n",
    "sns.boxplot(data=df_boxplot, x=\"Etapa\", y=\"Concentración\", hue=\"Metal\")\n",
    "plt.title(\"Distribución de concentraciones por etapa\")\n",
    "plt.xlabel(\"Etapa del proceso\")\n",
    "plt.ylabel(\"Concentración\")\n",
    "plt.legend(title=\"Metal\")\n",
    "plt.tight_layout()\n",
    "plt.show()\n",
    "\n",
    "print(\"El gráfico de distribución de caja nos hace conocer los datos que no siguen la tendencia central. Para reconocer que es posible que haya datos que cambian el promedio por ser extremos. \\nEn ocasiones los más externos son removidos para aumentar el poder predictivo de modelos de regresión. \\nEn oro en etapa primaria y final se encuentra un mayor rango visible sobre todo en valores menores a los centrales.\")"
   ]
  },
  {
   "cell_type": "code",
   "execution_count": 16,
   "id": "21c29c74",
   "metadata": {},
   "outputs": [
    {
     "name": "stdout",
     "output_type": "stream",
     "text": [
      "<class 'pandas.core.frame.DataFrame'>\n",
      "RangeIndex: 5856 entries, 0 to 5855\n",
      "Data columns (total 52 columns):\n",
      " #   Column                                      Non-Null Count  Dtype  \n",
      "---  ------                                      --------------  -----  \n",
      " 0   primary_cleaner.input.sulfate               5856 non-null   float64\n",
      " 1   primary_cleaner.input.depressant            5856 non-null   float64\n",
      " 2   primary_cleaner.input.feed_size             5856 non-null   float64\n",
      " 3   primary_cleaner.input.xanthate              5856 non-null   float64\n",
      " 4   primary_cleaner.state.floatbank8_a_air      5856 non-null   float64\n",
      " 5   primary_cleaner.state.floatbank8_a_level    5856 non-null   float64\n",
      " 6   primary_cleaner.state.floatbank8_b_air      5856 non-null   float64\n",
      " 7   primary_cleaner.state.floatbank8_b_level    5856 non-null   float64\n",
      " 8   primary_cleaner.state.floatbank8_c_air      5856 non-null   float64\n",
      " 9   primary_cleaner.state.floatbank8_c_level    5856 non-null   float64\n",
      " 10  primary_cleaner.state.floatbank8_d_air      5856 non-null   float64\n",
      " 11  primary_cleaner.state.floatbank8_d_level    5856 non-null   float64\n",
      " 12  rougher.input.feed_ag                       5856 non-null   float64\n",
      " 13  rougher.input.feed_pb                       5856 non-null   float64\n",
      " 14  rougher.input.feed_rate                     5856 non-null   float64\n",
      " 15  rougher.input.feed_size                     5856 non-null   float64\n",
      " 16  rougher.input.feed_sol                      5856 non-null   float64\n",
      " 17  rougher.input.feed_au                       5856 non-null   float64\n",
      " 18  rougher.input.floatbank10_sulfate           5856 non-null   float64\n",
      " 19  rougher.input.floatbank10_xanthate          5856 non-null   float64\n",
      " 20  rougher.input.floatbank11_sulfate           5856 non-null   float64\n",
      " 21  rougher.input.floatbank11_xanthate          5856 non-null   float64\n",
      " 22  rougher.state.floatbank10_a_air             5856 non-null   float64\n",
      " 23  rougher.state.floatbank10_a_level           5856 non-null   float64\n",
      " 24  rougher.state.floatbank10_b_air             5856 non-null   float64\n",
      " 25  rougher.state.floatbank10_b_level           5856 non-null   float64\n",
      " 26  rougher.state.floatbank10_c_air             5856 non-null   float64\n",
      " 27  rougher.state.floatbank10_c_level           5856 non-null   float64\n",
      " 28  rougher.state.floatbank10_d_air             5856 non-null   float64\n",
      " 29  rougher.state.floatbank10_d_level           5856 non-null   float64\n",
      " 30  rougher.state.floatbank10_e_air             5856 non-null   float64\n",
      " 31  rougher.state.floatbank10_e_level           5856 non-null   float64\n",
      " 32  rougher.state.floatbank10_f_air             5856 non-null   float64\n",
      " 33  rougher.state.floatbank10_f_level           5856 non-null   float64\n",
      " 34  secondary_cleaner.state.floatbank2_a_air    5856 non-null   float64\n",
      " 35  secondary_cleaner.state.floatbank2_a_level  5856 non-null   float64\n",
      " 36  secondary_cleaner.state.floatbank2_b_air    5856 non-null   float64\n",
      " 37  secondary_cleaner.state.floatbank2_b_level  5856 non-null   float64\n",
      " 38  secondary_cleaner.state.floatbank3_a_air    5856 non-null   float64\n",
      " 39  secondary_cleaner.state.floatbank3_a_level  5856 non-null   float64\n",
      " 40  secondary_cleaner.state.floatbank3_b_air    5856 non-null   float64\n",
      " 41  secondary_cleaner.state.floatbank3_b_level  5856 non-null   float64\n",
      " 42  secondary_cleaner.state.floatbank4_a_air    5856 non-null   float64\n",
      " 43  secondary_cleaner.state.floatbank4_a_level  5856 non-null   float64\n",
      " 44  secondary_cleaner.state.floatbank4_b_air    5856 non-null   float64\n",
      " 45  secondary_cleaner.state.floatbank4_b_level  5856 non-null   float64\n",
      " 46  secondary_cleaner.state.floatbank5_a_air    5856 non-null   float64\n",
      " 47  secondary_cleaner.state.floatbank5_a_level  5856 non-null   float64\n",
      " 48  secondary_cleaner.state.floatbank5_b_air    5856 non-null   float64\n",
      " 49  secondary_cleaner.state.floatbank5_b_level  5856 non-null   float64\n",
      " 50  secondary_cleaner.state.floatbank6_a_air    5856 non-null   float64\n",
      " 51  secondary_cleaner.state.floatbank6_a_level  5856 non-null   float64\n",
      "dtypes: float64(52)\n",
      "memory usage: 2.3 MB\n",
      "None\n"
     ]
    }
   ],
   "source": [
    "#Preprocesamiento de datos prueba\n",
    "x_test = datos_prueba.drop(columns=[\"date\"]) #solo valores numericos. No datetime\n",
    "x_test_imputado = knn_imputer.fit_transform(x_test)\n",
    "\n",
    "x_test = pd.DataFrame(x_test_imputado, columns=x_test.columns)\n",
    "print(x_test.info()) #Remoción de nulos. Datos preparados para predecir el objetivo: final.output.recovery"
   ]
  },
  {
   "cell_type": "code",
   "execution_count": 17,
   "id": "5ebcf280",
   "metadata": {},
   "outputs": [
    {
     "data": {
      "image/png": "[encoded data removed]",
      "text/plain": [
       "<Figure size 1000x600 with 1 Axes>"
      ]
     },
     "metadata": {},
     "output_type": "display_data"
    },
    {
     "name": "stdout",
     "output_type": "stream",
     "text": [
      "Las distribuciones de materia de entrada entre datos de entrenamiento y prueba son parecidas, se concentran las frecuencias en los mismos valores. \n",
      "Por otro lado, hay algunos datos extremos que extienden el eje y griega.\n"
     ]
    }
   ],
   "source": [
    "#Distribución de rougher.input.feed_size entre información de entrenamiento y prueba. \n",
    "#Data de entrenamiento\n",
    "datos_entrenamiento_imputados_y_ordenados[\"rougher.input.feed_size\"]\n",
    "#Data de test\n",
    "x_test[\"rougher.input.feed_size\"]\n",
    "\n",
    "#Graficar la distribución \n",
    "plt.figure(figsize=(10, 6))\n",
    "\n",
    "plt.hist(\n",
    "    datos_entrenamiento_imputados_y_ordenados[\"rougher.input.feed_size\"].dropna(),\n",
    "    bins=50,\n",
    "    alpha=0.6,\n",
    "    label=\"Entrenamiento\"\n",
    ")\n",
    "\n",
    "plt.hist(\n",
    "    x_test[\"rougher.input.feed_size\"].dropna(),\n",
    "    bins=50,\n",
    "    alpha=0.6,\n",
    "    label=\"Test\"\n",
    ")\n",
    "\n",
    "plt.xlabel(\"rougher.input.feed_size\")\n",
    "plt.ylabel(\"Frecuencia\")\n",
    "plt.title(\"Histogramas de 'rougher.input.feed_size' (Entrenamiento vs Test)\")\n",
    "plt.legend()\n",
    "plt.grid(True)\n",
    "plt.tight_layout()\n",
    "plt.show()\n",
    "\n",
    "print(\"Las distribuciones de materia de entrada entre datos de entrenamiento y prueba son parecidas, se concentran las frecuencias en los mismos valores. \\nPor otro lado, hay algunos datos extremos que extienden el eje y griega.\")"
   ]
  },
  {
   "cell_type": "code",
   "execution_count": 18,
   "id": "7a94f026",
   "metadata": {},
   "outputs": [],
   "source": [
    "#Remoción de datos extremos\n",
    "def detectar_outliers_iqr(df, columna):\n",
    "    \"\"\"\n",
    "    Detecta outliers por el método del rango intercuartílico (IQR).\n",
    "    \n",
    "    Parámetros:\n",
    "    df (pd.DataFrame): El DataFrame que contiene los datos.\n",
    "    columna (str): El nombre de la columna a analizar.\n",
    "\n",
    "    Retorna:\n",
    "    dict: Un diccionario con los outliers por debajo del piso y por encima del techo.\n",
    "    \"\"\"\n",
    "    # Asegurarse de que la columna existe en el DataFrame\n",
    "    if columna not in df.columns:\n",
    "        raise ValueError(f\"La columna '{columna}' no existe en el DataFrame.\")\n",
    "    \n",
    "    # Calcular Q1 (percentil 25) y Q3 (percentil 75)\n",
    "    Q1 = df[columna].quantile(0.25)\n",
    "    Q3 = df[columna].quantile(0.75)\n",
    "    IQR = Q3 - Q1\n",
    "\n",
    "    # Limites inferior (piso) y superior (techo)\n",
    "    piso = Q1 - 1.5 * IQR\n",
    "    techo = Q3 + 1.5 * IQR\n",
    "\n",
    "\n",
    "    return {\n",
    "        'piso': piso,\n",
    "        'techo': techo}\n",
    "    \n",
    "#Función para filtrar los outliers detectados\n",
    "def filtrar_outliers(df, columna):\n",
    "    limites = detectar_outliers_iqr(df, columna)\n",
    "    return df[(df[columna] >= limites['piso']) & (df[columna] <= limites['techo'])] #Mantiene los valores que respetan el rango interquartílico de 1.5 menor y mayor al 25% y 75% de los valores. \n",
    "\n"
   ]
  },
  {
   "cell_type": "code",
   "execution_count": 19,
   "id": "788e8de8",
   "metadata": {},
   "outputs": [
    {
     "name": "stdout",
     "output_type": "stream",
     "text": [
      "(9100, 87)\n",
      "<class 'pandas.core.frame.DataFrame'>\n",
      "Int64Index: 9100 entries, 0 to 16850\n",
      "Data columns (total 87 columns):\n",
      " #   Column                                              Non-Null Count  Dtype         \n",
      "---  ------                                              --------------  -----         \n",
      " 0   date                                                9100 non-null   datetime64[ns]\n",
      " 1   final.output.concentrate_ag                         9100 non-null   float64       \n",
      " 2   final.output.concentrate_pb                         9100 non-null   float64       \n",
      " 3   final.output.concentrate_sol                        9100 non-null   float64       \n",
      " 4   final.output.concentrate_au                         9100 non-null   float64       \n",
      " 5   final.output.recovery                               9100 non-null   float64       \n",
      " 6   final.output.tail_ag                                9100 non-null   float64       \n",
      " 7   final.output.tail_pb                                9100 non-null   float64       \n",
      " 8   final.output.tail_sol                               9100 non-null   float64       \n",
      " 9   final.output.tail_au                                9100 non-null   float64       \n",
      " 10  primary_cleaner.input.sulfate                       9100 non-null   float64       \n",
      " 11  primary_cleaner.input.depressant                    9100 non-null   float64       \n",
      " 12  primary_cleaner.input.feed_size                     9100 non-null   float64       \n",
      " 13  primary_cleaner.input.xanthate                      9100 non-null   float64       \n",
      " 14  primary_cleaner.output.concentrate_ag               9100 non-null   float64       \n",
      " 15  primary_cleaner.output.concentrate_pb               9100 non-null   float64       \n",
      " 16  primary_cleaner.output.concentrate_sol              9100 non-null   float64       \n",
      " 17  primary_cleaner.output.concentrate_au               9100 non-null   float64       \n",
      " 18  primary_cleaner.output.tail_ag                      9100 non-null   float64       \n",
      " 19  primary_cleaner.output.tail_pb                      9100 non-null   float64       \n",
      " 20  primary_cleaner.output.tail_sol                     9100 non-null   float64       \n",
      " 21  primary_cleaner.output.tail_au                      9100 non-null   float64       \n",
      " 22  primary_cleaner.state.floatbank8_a_air              9100 non-null   float64       \n",
      " 23  primary_cleaner.state.floatbank8_a_level            9100 non-null   float64       \n",
      " 24  primary_cleaner.state.floatbank8_b_air              9100 non-null   float64       \n",
      " 25  primary_cleaner.state.floatbank8_b_level            9100 non-null   float64       \n",
      " 26  primary_cleaner.state.floatbank8_c_air              9100 non-null   float64       \n",
      " 27  primary_cleaner.state.floatbank8_c_level            9100 non-null   float64       \n",
      " 28  primary_cleaner.state.floatbank8_d_air              9100 non-null   float64       \n",
      " 29  primary_cleaner.state.floatbank8_d_level            9100 non-null   float64       \n",
      " 30  rougher.calculation.sulfate_to_au_concentrate       9100 non-null   float64       \n",
      " 31  rougher.calculation.floatbank10_sulfate_to_au_feed  9100 non-null   float64       \n",
      " 32  rougher.calculation.floatbank11_sulfate_to_au_feed  9100 non-null   float64       \n",
      " 33  rougher.calculation.au_pb_ratio                     9100 non-null   float64       \n",
      " 34  rougher.input.feed_ag                               9100 non-null   float64       \n",
      " 35  rougher.input.feed_pb                               9100 non-null   float64       \n",
      " 36  rougher.input.feed_rate                             9100 non-null   float64       \n",
      " 37  rougher.input.feed_size                             9100 non-null   float64       \n",
      " 38  rougher.input.feed_sol                              9100 non-null   float64       \n",
      " 39  rougher.input.feed_au                               9100 non-null   float64       \n",
      " 40  rougher.input.floatbank10_sulfate                   9100 non-null   float64       \n",
      " 41  rougher.input.floatbank10_xanthate                  9100 non-null   float64       \n",
      " 42  rougher.input.floatbank11_sulfate                   9100 non-null   float64       \n",
      " 43  rougher.input.floatbank11_xanthate                  9100 non-null   float64       \n",
      " 44  rougher.output.concentrate_ag                       9100 non-null   float64       \n",
      " 45  rougher.output.concentrate_pb                       9100 non-null   float64       \n",
      " 46  rougher.output.concentrate_sol                      9100 non-null   float64       \n",
      " 47  rougher.output.concentrate_au                       9100 non-null   float64       \n",
      " 48  rougher.output.recovery                             9100 non-null   float64       \n",
      " 49  rougher.output.tail_ag                              9100 non-null   float64       \n",
      " 50  rougher.output.tail_pb                              9100 non-null   float64       \n",
      " 51  rougher.output.tail_sol                             9100 non-null   float64       \n",
      " 52  rougher.output.tail_au                              9100 non-null   float64       \n",
      " 53  rougher.state.floatbank10_a_air                     9100 non-null   float64       \n",
      " 54  rougher.state.floatbank10_a_level                   9100 non-null   float64       \n",
      " 55  rougher.state.floatbank10_b_air                     9100 non-null   float64       \n",
      " 56  rougher.state.floatbank10_b_level                   9100 non-null   float64       \n",
      " 57  rougher.state.floatbank10_c_air                     9100 non-null   float64       \n",
      " 58  rougher.state.floatbank10_c_level                   9100 non-null   float64       \n",
      " 59  rougher.state.floatbank10_d_air                     9100 non-null   float64       \n",
      " 60  rougher.state.floatbank10_d_level                   9100 non-null   float64       \n",
      " 61  rougher.state.floatbank10_e_air                     9100 non-null   float64       \n",
      " 62  rougher.state.floatbank10_e_level                   9100 non-null   float64       \n",
      " 63  rougher.state.floatbank10_f_air                     9100 non-null   float64       \n",
      " 64  rougher.state.floatbank10_f_level                   9100 non-null   float64       \n",
      " 65  secondary_cleaner.output.tail_ag                    9100 non-null   float64       \n",
      " 66  secondary_cleaner.output.tail_pb                    9100 non-null   float64       \n",
      " 67  secondary_cleaner.output.tail_sol                   9100 non-null   float64       \n",
      " 68  secondary_cleaner.output.tail_au                    9100 non-null   float64       \n",
      " 69  secondary_cleaner.state.floatbank2_a_air            9100 non-null   float64       \n",
      " 70  secondary_cleaner.state.floatbank2_a_level          9100 non-null   float64       \n",
      " 71  secondary_cleaner.state.floatbank2_b_air            9100 non-null   float64       \n",
      " 72  secondary_cleaner.state.floatbank2_b_level          9100 non-null   float64       \n",
      " 73  secondary_cleaner.state.floatbank3_a_air            9100 non-null   float64       \n",
      " 74  secondary_cleaner.state.floatbank3_a_level          9100 non-null   float64       \n",
      " 75  secondary_cleaner.state.floatbank3_b_air            9100 non-null   float64       \n",
      " 76  secondary_cleaner.state.floatbank3_b_level          9100 non-null   float64       \n",
      " 77  secondary_cleaner.state.floatbank4_a_air            9100 non-null   float64       \n",
      " 78  secondary_cleaner.state.floatbank4_a_level          9100 non-null   float64       \n",
      " 79  secondary_cleaner.state.floatbank4_b_air            9100 non-null   float64       \n",
      " 80  secondary_cleaner.state.floatbank4_b_level          9100 non-null   float64       \n",
      " 81  secondary_cleaner.state.floatbank5_a_air            9100 non-null   float64       \n",
      " 82  secondary_cleaner.state.floatbank5_a_level          9100 non-null   float64       \n",
      " 83  secondary_cleaner.state.floatbank5_b_air            9100 non-null   float64       \n",
      " 84  secondary_cleaner.state.floatbank5_b_level          9100 non-null   float64       \n",
      " 85  secondary_cleaner.state.floatbank6_a_air            9100 non-null   float64       \n",
      " 86  secondary_cleaner.state.floatbank6_a_level          9100 non-null   float64       \n",
      "dtypes: datetime64[ns](1), float64(86)\n",
      "memory usage: 6.1 MB\n",
      "None\n",
      "Descripción estadística de columnas en datos entrenamiento:\n",
      "       final.output.concentrate_ag  final.output.concentrate_pb  \\\n",
      "count                 16788.000000                 16788.000000   \n",
      "mean                      4.716907                     9.113559   \n",
      "std                       2.096718                     3.389495   \n",
      "min                       0.000000                     0.000000   \n",
      "25%                       3.971262                     8.825748   \n",
      "50%                       4.869346                    10.065316   \n",
      "75%                       5.821176                    11.054809   \n",
      "max                      16.001945                    17.031899   \n",
      "\n",
      "       final.output.concentrate_sol  final.output.concentrate_au  \\\n",
      "count                  16490.000000                 16789.000000   \n",
      "mean                       8.301123                    39.467217   \n",
      "std                        3.825760                    13.917227   \n",
      "min                        0.000000                     0.000000   \n",
      "25%                        6.939185                    42.055722   \n",
      "50%                        8.557228                    44.498874   \n",
      "75%                       10.289741                    45.976222   \n",
      "max                       18.124851                    53.611374   \n",
      "\n",
      "       final.output.recovery  final.output.tail_ag  final.output.tail_pb  \\\n",
      "count           15339.000000          16794.000000          16677.000000   \n",
      "mean               67.213166              8.757048              2.360327   \n",
      "std                11.960446              3.634103              1.215576   \n",
      "min                 0.000000              0.000000              0.000000   \n",
      "25%                62.625685              7.610544              1.641604   \n",
      "50%                67.644601              9.220393              2.453690   \n",
      "75%                72.824595             10.971110              3.192404   \n",
      "max               100.000000             19.552149              6.086532   \n",
      "\n",
      "       final.output.tail_sol  final.output.tail_au  \\\n",
      "count           16715.000000          16794.000000   \n",
      "mean                9.303932              2.687512   \n",
      "std                 4.263208              1.272757   \n",
      "min                 0.000000              0.000000   \n",
      "25%                 7.870275              2.172953   \n",
      "50%                10.021968              2.781132   \n",
      "75%                11.648573              3.416936   \n",
      "max                22.317730              9.789625   \n",
      "\n",
      "       primary_cleaner.input.sulfate  ...  \\\n",
      "count                   15553.000000  ...   \n",
      "mean                      129.479789  ...   \n",
      "std                        45.386931  ...   \n",
      "min                         0.000003  ...   \n",
      "25%                       103.064021  ...   \n",
      "50%                       131.783108  ...   \n",
      "75%                       159.539839  ...   \n",
      "max                       251.999948  ...   \n",
      "\n",
      "       secondary_cleaner.state.floatbank4_b_air  \\\n",
      "count                              16768.000000   \n",
      "mean                                  14.778164   \n",
      "std                                    5.999149   \n",
      "min                                    0.000000   \n",
      "25%                                   10.741388   \n",
      "50%                                   14.943933   \n",
      "75%                                   20.023751   \n",
      "max                                   28.003828   \n",
      "\n",
      "       secondary_cleaner.state.floatbank4_b_level  \\\n",
      "count                                16767.000000   \n",
      "mean                                  -476.600082   \n",
      "std                                     89.381172   \n",
      "min                                   -800.021781   \n",
      "25%                                   -500.269182   \n",
      "50%                                   -499.593286   \n",
      "75%                                   -400.137948   \n",
      "max                                    -71.472472   \n",
      "\n",
      "       secondary_cleaner.state.floatbank5_a_air  \\\n",
      "count                              16775.000000   \n",
      "mean                                  15.779488   \n",
      "std                                    6.834703   \n",
      "min                                   -0.423260   \n",
      "25%                                   10.977713   \n",
      "50%                                   15.998340   \n",
      "75%                                   20.000701   \n",
      "max                                   63.116298   \n",
      "\n",
      "       secondary_cleaner.state.floatbank5_a_level  \\\n",
      "count                                16775.000000   \n",
      "mean                                  -500.230146   \n",
      "std                                     76.983542   \n",
      "min                                   -799.741097   \n",
      "25%                                   -500.530594   \n",
      "50%                                   -499.784231   \n",
      "75%                                   -496.531781   \n",
      "max                                   -275.073125   \n",
      "\n",
      "       secondary_cleaner.state.floatbank5_b_air  \\\n",
      "count                              16775.000000   \n",
      "mean                                  12.377241   \n",
      "std                                    6.219989   \n",
      "min                                    0.427084   \n",
      "25%                                    8.925586   \n",
      "50%                                   11.092839   \n",
      "75%                                   15.979467   \n",
      "max                                   39.846228   \n",
      "\n",
      "       secondary_cleaner.state.floatbank5_b_level  \\\n",
      "count                                16776.000000   \n",
      "mean                                  -498.956257   \n",
      "std                                     82.146207   \n",
      "min                                   -800.258209   \n",
      "25%                                   -500.147603   \n",
      "50%                                   -499.933330   \n",
      "75%                                   -498.418000   \n",
      "max                                   -120.190931   \n",
      "\n",
      "       secondary_cleaner.state.floatbank6_a_air  \\\n",
      "count                              16757.000000   \n",
      "mean                                  18.429208   \n",
      "std                                    6.958294   \n",
      "min                                    0.024270   \n",
      "25%                                   13.977626   \n",
      "50%                                   18.034960   \n",
      "75%                                   24.984992   \n",
      "max                                   54.876806   \n",
      "\n",
      "       secondary_cleaner.state.floatbank6_a_level          year         month  \n",
      "count                                16775.000000  16860.000000  16860.000000  \n",
      "mean                                  -521.801826   2016.999170      4.526453  \n",
      "std                                     77.170888      0.808783      2.235540  \n",
      "min                                   -810.473526   2016.000000      1.000000  \n",
      "25%                                   -501.080595   2016.000000      3.000000  \n",
      "50%                                   -500.109898   2017.000000      5.000000  \n",
      "75%                                   -499.565540   2018.000000      6.000000  \n",
      "max                                    -39.784927   2018.000000      8.000000  \n",
      "\n",
      "[8 rows x 88 columns]\n",
      "\n",
      "Descripción estadística de columnas en datos entrenamiento imputados y sin outliers:\n"
     ]
    },
    {
     "name": "stdout",
     "output_type": "stream",
     "text": [
      "       final.output.concentrate_ag  final.output.concentrate_pb  \\\n",
      "count                  9100.000000                  9100.000000   \n",
      "mean                      4.994012                    10.392731   \n",
      "std                       1.080762                     1.299381   \n",
      "min                       2.272034                     5.459754   \n",
      "25%                       4.149723                     9.515297   \n",
      "50%                       4.850818                    10.488838   \n",
      "75%                       5.683954                    11.296772   \n",
      "max                       8.604320                    14.420071   \n",
      "\n",
      "       final.output.concentrate_sol  final.output.concentrate_au  \\\n",
      "count                   9100.000000                  9100.000000   \n",
      "mean                       9.304572                    44.793707   \n",
      "std                        2.260995                     2.177085   \n",
      "min                        1.993871                    36.041221   \n",
      "25%                        7.763797                    43.664198   \n",
      "50%                        8.995673                    45.020115   \n",
      "75%                       10.459831                    46.197528   \n",
      "max                       15.190537                    51.571885   \n",
      "\n",
      "       final.output.recovery  final.output.tail_ag  final.output.tail_pb  \\\n",
      "count            9100.000000           9100.000000           9100.000000   \n",
      "mean               68.007783              9.518668              2.564717   \n",
      "std                 6.532451              2.018963              0.851011   \n",
      "min                46.272152              2.806328              0.263781   \n",
      "25%                63.802984              7.910006              1.963155   \n",
      "50%                67.886967              9.224605              2.565957   \n",
      "75%                72.666407             10.971973              3.120198   \n",
      "max                89.979909             15.849708              5.305776   \n",
      "\n",
      "       final.output.tail_sol  final.output.tail_au  \\\n",
      "count            9100.000000           9100.000000   \n",
      "mean               10.514415              2.810326   \n",
      "std                 2.335389              0.669863   \n",
      "min                 2.311931              0.622846   \n",
      "25%                 9.021595              2.364777   \n",
      "50%                10.621879              2.775409   \n",
      "75%                11.876426              3.259308   \n",
      "max                17.283464              5.240329   \n",
      "\n",
      "       primary_cleaner.input.sulfate  ...  \\\n",
      "count                    9100.000000  ...   \n",
      "mean                      137.367550  ...   \n",
      "std                        34.261187  ...   \n",
      "min                        29.991807  ...   \n",
      "25%                       113.571746  ...   \n",
      "50%                       135.367319  ...   \n",
      "75%                       159.718527  ...   \n",
      "max                       237.862167  ...   \n",
      "\n",
      "       secondary_cleaner.state.floatbank4_a_air  \\\n",
      "count                               9100.000000   \n",
      "mean                                  19.840704   \n",
      "std                                    5.536471   \n",
      "min                                    5.006961   \n",
      "25%                                   14.995482   \n",
      "50%                                   19.989017   \n",
      "75%                                   24.983374   \n",
      "max                                   30.084500   \n",
      "\n",
      "       secondary_cleaner.state.floatbank4_a_level  \\\n",
      "count                                 9100.000000   \n",
      "mean                                  -479.672580   \n",
      "std                                     49.386217   \n",
      "min                                   -799.706757   \n",
      "25%                                   -500.575134   \n",
      "50%                                   -499.719492   \n",
      "75%                                   -496.021207   \n",
      "max                                   -245.239184   \n",
      "\n",
      "       secondary_cleaner.state.floatbank4_b_air  \\\n",
      "count                               9100.000000   \n",
      "mean                                  15.242876   \n",
      "std                                    5.062935   \n",
      "min                                    4.852787   \n",
      "25%                                   11.077660   \n",
      "50%                                   14.947418   \n",
      "75%                                   20.005467   \n",
      "max                                   23.981198   \n",
      "\n",
      "       secondary_cleaner.state.floatbank4_b_level  \\\n",
      "count                                 9100.000000   \n",
      "mean                                  -459.554677   \n",
      "std                                     58.309135   \n",
      "min                                   -799.860840   \n",
      "25%                                   -500.140862   \n",
      "50%                                   -499.347517   \n",
      "75%                                   -400.035883   \n",
      "max                                   -145.071088   \n",
      "\n",
      "       secondary_cleaner.state.floatbank5_a_air  \\\n",
      "count                               9100.000000   \n",
      "mean                                  16.745526   \n",
      "std                                    5.722295   \n",
      "min                                    2.002103   \n",
      "25%                                   11.094991   \n",
      "50%                                   17.948339   \n",
      "75%                                   19.988393   \n",
      "max                                   43.709931   \n",
      "\n",
      "       secondary_cleaner.state.floatbank5_a_level  \\\n",
      "count                                 9100.000000   \n",
      "mean                                  -484.922317   \n",
      "std                                     35.899002   \n",
      "min                                   -637.398127   \n",
      "25%                                   -500.357945   \n",
      "50%                                   -499.747979   \n",
      "75%                                   -497.070913   \n",
      "max                                   -275.073125   \n",
      "\n",
      "       secondary_cleaner.state.floatbank5_b_air  \\\n",
      "count                               9100.000000   \n",
      "mean                                  12.855795   \n",
      "std                                    5.677518   \n",
      "min                                    4.836604   \n",
      "25%                                    8.989213   \n",
      "50%                                   11.995448   \n",
      "75%                                   15.019194   \n",
      "max                                   27.926001   \n",
      "\n",
      "       secondary_cleaner.state.floatbank5_b_level  \\\n",
      "count                                 9100.000000   \n",
      "mean                                  -484.599806   \n",
      "std                                     35.786416   \n",
      "min                                   -743.113601   \n",
      "25%                                   -500.108616   \n",
      "50%                                   -499.926277   \n",
      "75%                                   -498.991249   \n",
      "max                                   -185.720890   \n",
      "\n",
      "       secondary_cleaner.state.floatbank6_a_air  \\\n",
      "count                               9100.000000   \n",
      "mean                                  19.360140   \n",
      "std                                    5.816660   \n",
      "min                                    5.967292   \n",
      "25%                                   14.982268   \n",
      "50%                                   19.943614   \n",
      "75%                                   24.988702   \n",
      "max                                   32.188906   \n",
      "\n",
      "       secondary_cleaner.state.floatbank6_a_level  \n",
      "count                                 9100.000000  \n",
      "mean                                  -504.532568  \n",
      "std                                     30.717191  \n",
      "min                                   -801.091733  \n",
      "25%                                   -500.615094  \n",
      "50%                                   -500.044925  \n",
      "75%                                   -499.559561  \n",
      "max                                   -104.427459  \n",
      "\n",
      "[8 rows x 86 columns]\n",
      "De las descripciones se puede observar como las columnas de concentrados ejemplo final.output.concentrate_ag varían entre la remoción de datos extremos (8.5 valor máximo) y sin la remoción (16), \n",
      "de forma similar los valores menores fueron reducidos. Sin embargo, el número de registros es de tan solo 9235 en lugar de 16860. Casi se pierde la mitad de los datos. Se puede observar si este paso es valioso en el poder de predicción del modelo de regresión.\n"
     ]
    }
   ],
   "source": [
    "#Filtrar las columnas que no son relevantes para remoción de datos extremos. (así se previene pérdida de datos) \n",
    "#Se puede aumentar la filtración para considerar menos columnas de remoción de datos extremos si se busca preservar mayor cantidad de datos de entrenamiento.\n",
    "\n",
    "columnas_a_filtrar = datos_entrenamiento_imputados_y_ordenados.columns[\n",
    "    ~datos_entrenamiento_imputados_y_ordenados.columns.str.contains('floatbank|calculation')\n",
    "]\n",
    "#filtrar los outliers de los datos de entrenamiento imputados\n",
    "\n",
    "outlier_indices = set() # Guardar índices de filas que tengan outliers en cualquier columna\n",
    "\n",
    "for col in columnas_a_filtrar:\n",
    "    limites = detectar_outliers_iqr(datos_entrenamiento_imputados_y_ordenados, col)\n",
    "    piso = limites['piso']\n",
    "    techo = limites['techo']\n",
    "    \n",
    "    # Detectar filas que están fuera de límites\n",
    "    outliers = datos_entrenamiento_imputados_y_ordenados[\n",
    "        (datos_entrenamiento_imputados_y_ordenados[col] < piso) |\n",
    "        (datos_entrenamiento_imputados_y_ordenados[col] > techo)\n",
    "    ].index\n",
    "    \n",
    "    outlier_indices.update(outliers)\n",
    "\n",
    "# Ahora quitamos las filas con outliers\n",
    "df_entrenamiento_sin_outliers = datos_entrenamiento_imputados_y_ordenados.drop(index=outlier_indices)\n",
    "\n",
    "print(df_entrenamiento_sin_outliers.shape)\n",
    "print(df_entrenamiento_sin_outliers.info())  #Sin nulos y sin datos extremos se puede comparar con boxplot meramente se deberían ver valores menos extremos. \n",
    "                                             #Reducciones en el eje Y para las mediciones de concentrados de cada metal. Se puede ver en un boxplot o con comparación de rangos (mínimos y máximos de las columnas relevantes.)\n",
    "\n",
    "print(\"Descripción estadística de columnas en datos entrenamiento:\")\n",
    "print(datos_entrenamiento.describe())\n",
    "print(\"\\nDescripción estadística de columnas en datos entrenamiento imputados y sin outliers:\")\n",
    "print(df_entrenamiento_sin_outliers.describe())\n",
    "\n",
    "print(\"De las descripciones se puede observar como las columnas de concentrados ejemplo final.output.concentrate_ag varían entre la remoción de datos extremos (8.5 valor máximo) y sin la remoción (16), \\nde forma similar los valores menores fueron reducidos. Sin embargo, el número de registros es de tan solo 9235 en lugar de 16860. Casi se pierde la mitad de los datos. Se puede observar si este paso es valioso en el poder de predicción del modelo de regresión.\")\n",
    "#Aplicar solo a columnas de concentrados, colas y recuperación. "
   ]
  },
  {
   "cell_type": "code",
   "execution_count": 20,
   "id": "ef0b7d4e",
   "metadata": {},
   "outputs": [],
   "source": [
    "#Función EAM o Smape. Función a utilizar para evaluar los modelos de regresión realizados a continuación. \n",
    "def smape(y_true, y_pred):\n",
    "    denominator = (np.abs(y_true) + np.abs(y_pred)) / 2.0\n",
    "    diff = np.abs(y_true - y_pred) / denominator\n",
    "    diff[denominator == 0] = 0.0  # Manejar divisiones por cero\n",
    "    return np.mean(diff) * 100\n",
    "\n",
    "smape_scorer = make_scorer(smape, greater_is_better=False)"
   ]
  },
  {
   "cell_type": "code",
   "execution_count": 21,
   "id": "6501acb2",
   "metadata": {},
   "outputs": [
    {
     "name": "stdout",
     "output_type": "stream",
     "text": [
      "Puntaje SMAPE por validación cruzada del modelo alimentado sin datos extremos: 5.38%\n",
      "El Poder predictivo del modelo 1 llegó a generar resultados de recuperación de oro con variación promedio de tan solo 5.38%. Un modelo bastante bueno. \n",
      "Los resultados serán muy cercanos a lo real, resaltando de nuevo: al rededor de 5% de variación.\n"
     ]
    }
   ],
   "source": [
    "#El objetivo es conocer final.output.recovery de los datos de prueba. En todo caso generarlos o predecirlos a partir de los datos de entrenamiento. \n",
    "#Como no se conocen los valores de múltiples columnas de pruebas la validez del modelo se explora usando validación cruzada y métricas de precisión de la regresión como R2, EAM o smape. \n",
    "\n",
    "#Modelo sin datos extremos\n",
    "df_entrenamiento_sin_outliers\n",
    "\n",
    "#Generar el modelo\n",
    "modelo = LinearRegression() \n",
    "\n",
    "#Eliminar la columna date\n",
    "df_entrenamiento_sin_outliers_numerical = df_entrenamiento_sin_outliers.drop(columns=[\"date\"])\n",
    "\n",
    "\n",
    "#Al entrenar un modelo. Las columnas deben coincidir con aquellas de los datos a ser predichos por lo tanto se puede hacer un código para que se consideren solamente los datos en común. \n",
    "x_train = df_entrenamiento_sin_outliers_numerical.loc[:, df_entrenamiento_sin_outliers.columns.intersection(x_test.columns)]\n",
    "x_train_objetivo = df_entrenamiento_sin_outliers[\"final.output.recovery\"]\n",
    "x_train = x_train.loc[:, x_test.columns] #mismo orden de columnas. \n",
    "\n",
    "modelo.fit(x_train, x_train_objetivo)\n",
    "\n",
    "predict = modelo.predict(x_test) \n",
    "#Métricas del modelo/Evaluación\n",
    "\n",
    "#Validación cruzada con smape. \n",
    "kf = KFold(n_splits=5, shuffle=True, random_state=54321)\n",
    "puntajes1_smape = cross_val_score(modelo, x_train, x_train_objetivo, cv=kf, scoring=smape_scorer)\n",
    "\n",
    "print(f\"Puntaje SMAPE por validación cruzada del modelo alimentado sin datos extremos: {-puntajes1_smape.mean():.2f}%\")\n",
    "print(f\"El Poder predictivo del modelo 1 llegó a generar resultados de recuperación de oro con variación promedio de tan solo {-puntajes1_smape.mean():.2f}%. Un modelo bastante bueno. \\nLos resultados serán muy cercanos a lo real, resaltando de nuevo: al rededor de 5% de variación.\")\n",
    " \n"
   ]
  },
  {
   "cell_type": "code",
   "execution_count": 22,
   "id": "5a42bf27",
   "metadata": {},
   "outputs": [
    {
     "name": "stdout",
     "output_type": "stream",
     "text": [
      "Puntaje SMAPE por validación cruzada del modelo alimentado sin datos extremos para predecir rougher.output.recovery: 5.38%\n",
      "El modelo predice rougher output recovery con  5.38 de variación.\n"
     ]
    }
   ],
   "source": [
    "#Regresor de rougher output recovery\n",
    "x_train_objetivo2 = df_entrenamiento_sin_outliers[\"rougher.output.recovery\"]\n",
    "modelo_rougher = LinearRegression()\n",
    "\n",
    "modelo_rougher.fit(x_train, x_train_objetivo2)\n",
    "predict_rougher = modelo_rougher.predict(x_test)\n",
    "\n",
    "#Metricas\n",
    "#Validación cruzada con smape. \n",
    "kf = KFold(n_splits=5, shuffle=True, random_state=54321)\n",
    "puntajes_rougher_smape = cross_val_score(modelo_rougher, x_train, x_train_objetivo, cv=kf, scoring=smape_scorer)\n",
    "\n",
    "print(f\"Puntaje SMAPE por validación cruzada del modelo alimentado sin datos extremos para predecir rougher.output.recovery: {-puntajes_rougher_smape.mean():.2f}%\")\n",
    "print(f\"El modelo predice rougher output recovery con  {-puntajes_rougher_smape.mean():.2f} de variación.\")\n",
    "\n",
    "#Smape promedio ponderado de regresores lineales. \n",
    "smape_promedio_ponderado_regresores_lineales = ((-puntajes1_smape.mean()*.75) + (-puntajes_rougher_smape.mean()*.25))/2\n",
    "print(f\"\\nSmape Promedio Ponderado de regresores lineales: {smape_promedio_ponerdado_regresores_lineales}\")\n"
   ]
  },
  {
   "cell_type": "code",
   "execution_count": 23,
   "id": "1859de39",
   "metadata": {},
   "outputs": [
    {
     "name": "stdout",
     "output_type": "stream",
     "text": [
      "Puntaje SMAPE del modelo alimentado con todos los datos de entrenamiento: 10.92%\n",
      "El Poder predictivo del modelo 2 llegó a generar resultados de recuperación de oro con variación promedio de tan solo 10.86%. Un modelo bueno. \n",
      "Los resultados serán cercanos a lo real, al rededor de 11% de variación de la recuperación real de oro. Aquí se demuestra que retirar los datos extremos apoyó en los resultados del modelo.\n"
     ]
    }
   ],
   "source": [
    "#Modelo para predecir output.recovery con mayor cantidad de muestra. Mantiene datos extremos. \n",
    "datos_entrenamiento_imputados_y_ordenados\n",
    "\n",
    "#Generar el modelo \n",
    "modelo2 = LinearRegression()\n",
    "\n",
    "datos_entrenamiento_imputados = datos_entrenamiento_imputados_y_ordenados.drop(columns=[\"date\"])\n",
    "x_train2 = datos_entrenamiento_imputados.loc[:, datos_entrenamiento_imputados.columns.intersection(x_test.columns)] #Entrenamiento con datos imputados pero sin remoción de valores extremos.\n",
    "x_train2_objetivo = datos_entrenamiento_imputados_y_ordenados[\"final.output.recovery\"]\n",
    "modelo2.fit(x_train2, x_train2_objetivo)\n",
    "\n",
    "predict2 = modelo2.predict(x_test)\n",
    "\n",
    "#Métricas del modelo \n",
    "\n",
    "#validación cruzada con smape. \n",
    "kf = KFold(n_splits=5, shuffle=True, random_state=42)\n",
    "puntajes2_smape = cross_val_score(modelo2, x_train2, x_train2_objetivo, cv=kf, scoring=smape_scorer)\n",
    "\n",
    "print(f\"Puntaje SMAPE del modelo alimentado con todos los datos de entrenamiento: {-puntajes2_smape.mean():.2f}%\")\n",
    "print(\"El Poder predictivo del modelo 2 llegó a generar resultados de recuperación de oro con variación promedio de tan solo 10.86%. Un modelo bueno. \\nLos resultados serán cercanos a lo real, al rededor de 11% de variación de la recuperación real de oro. Aquí se demuestra que retirar los datos extremos apoyó en los resultados del modelo.\")"
   ]
  },
  {
   "cell_type": "markdown",
   "id": "43f6dcad",
   "metadata": {},
   "source": [
    "Revisión de modelos alternos: RandomForestRegressor"
   ]
  },
  {
   "cell_type": "code",
   "execution_count": 24,
   "id": "72ff803d",
   "metadata": {},
   "outputs": [
    {
     "name": "stdout",
     "output_type": "stream",
     "text": [
      "Mejores parámetros: {'max_depth': 5, 'min_samples_leaf': 5, 'min_samples_split': 5, 'n_estimators': 100}\n"
     ]
    }
   ],
   "source": [
    "#Buscar hiperparámetros para los datos para la predicción de recuperacion final. RandomizedSearchCV \n",
    "\n",
    "#Definir la red de hiperparámetros de forma aleatorizada. \n",
    "param_grid = {\n",
    "    'n_estimators': [50, 100],\n",
    "    'max_depth': [3, 5],\n",
    "    'min_samples_split': [5, 10],\n",
    "    'min_samples_leaf': [2, 5],\n",
    "} #16 combinaciones de valores\n",
    "#Buscar los parámetros\n",
    "random_search = GridSearchCV(RandomForestRegressor(n_jobs=-1, random_state = 54321), param_grid=param_grid, cv=2, scoring='neg_mean_absolute_error')\n",
    "#Se toma una muestra aleatoria 0.3 para reducir el uso de recursos computacionales ya que hay casi 17K registros.\n",
    "x_muestra, _, x_muestra_objetivo, _ = train_test_split(\n",
    "    x_train, x_train_objetivo, train_size=0.3, random_state=42\n",
    ")\n",
    "random_search.fit(x_muestra, x_muestra_objetivo)\n",
    "\n",
    "#Imprimir los mejores parámetros para los datos dados. \n",
    "print(\"Mejores parámetros:\", random_search.best_params_) "
   ]
  },
  {
   "cell_type": "code",
   "execution_count": 25,
   "id": "69343026",
   "metadata": {},
   "outputs": [
    {
     "name": "stdout",
     "output_type": "stream",
     "text": [
      "Mejores parámetros: {'max_depth': 5, 'min_samples_leaf': 5, 'min_samples_split': 5, 'n_estimators': 100}\n"
     ]
    }
   ],
   "source": [
    "#Buscar hiperparámetros para los datos para la predicción de recuperación rougher. RandomizedSearchCV \n",
    "\n",
    "#Definir la red de hiperparámetros de forma aleatorizada. \n",
    "param_grid = {\n",
    "    'n_estimators': [50, 100],\n",
    "    'max_depth': [3, 5],\n",
    "    'min_samples_split': [5, 10],\n",
    "    'min_samples_leaf': [2, 5],\n",
    "}\n",
    "#Buscar los parámetros\n",
    "random_search = GridSearchCV(RandomForestRegressor(n_jobs=-1, random_state = 54321), param_grid=param_grid, cv=2, scoring=smape_scorer)\n",
    "#Muestra para reducir recursos computacionales \n",
    "x_muestra, _, x_muestra_objetivo2, _ = train_test_split(\n",
    "    x_train, x_train_objetivo2, train_size=0.3, random_state=42\n",
    ")\n",
    "random_search.fit(x_muestra, x_muestra_objetivo2)\n",
    "#Imprimir los mejores parámetros para los datos dados. \n",
    "print(\"Mejores parámetros:\", random_search.best_params_)\n",
    "#Como el orden de las funciones genera reportes. Aunque se llamen igual ya habrán reportado con los valores previos. "
   ]
  },
  {
   "cell_type": "code",
   "execution_count": 26,
   "id": "fba166eb",
   "metadata": {},
   "outputs": [
    {
     "name": "stdout",
     "output_type": "stream",
     "text": [
      "Puntaje SMAPE de regresión por bosque aleatorio en validación cruzada del modelo alimentado sin datos extremos al predecir recuperación final: 5.01%\n",
      "El Poder predictivo de regresión por bosque aleatorio de recuperacion de oro final generó resultados con variación promedio de tan solo 5.01%. Un modelo bastante bueno. \n",
      "Los resultados serán muy cercanos a lo real, resaltando de nuevo: al rededor de 5% de variación.\n"
     ]
    }
   ],
   "source": [
    "#Predicción por RandomForestRegressor\n",
    "#Predicción de variable 1\n",
    "#Preparar los datos\n",
    "x_train  \n",
    "x_train_objetivo #preparados en el modelo de regresión lineal.\n",
    "#Generar el modelo\n",
    "#búsqueda de mejores hiperparámetros\n",
    "model_forest_final = RandomForestRegressor(max_depth= 5, min_samples_leaf=5, min_samples_split = 5, n_estimators = 100)\n",
    "#Entrenado de modelo \n",
    "model_forest_final.fit(x_train, x_train_objetivo)\n",
    "predict_forest = model_forest_final.predict(x_test) \n",
    "#Métricas del modelo/Evaluación\n",
    "\n",
    "#Validación cruzada con smape. \n",
    "kf = KFold(n_splits=5, shuffle=True, random_state=54321)\n",
    "puntajes3_smape = cross_val_score(model_forest_final, x_train, x_train_objetivo, cv=kf, scoring=smape_scorer)\n",
    "\n",
    "print(f\"Puntaje SMAPE de regresión por bosque aleatorio en validación cruzada del modelo alimentado sin datos extremos al predecir recuperación final: {-puntajes3_smape.mean():.2f}%\")\n",
    "print(f\"El Poder predictivo de regresión por bosque aleatorio de recuperacion de oro final generó resultados con variación promedio de tan solo {-puntajes3_smape.mean():.2f}%. Un modelo bastante bueno. \\nLos resultados serán muy cercanos a lo real, resaltando de nuevo: al rededor de 5% de variación.\")\n"
   ]
  },
  {
   "cell_type": "code",
   "execution_count": 27,
   "id": "f35c7e1e",
   "metadata": {},
   "outputs": [
    {
     "name": "stdout",
     "output_type": "stream",
     "text": [
      "Puntaje SMAPE de regresión por bosque aleatorio en validación cruzada del modelo alimentado sin datos extremos al predecir recuperación rougher o de flotado es: 3.12%\n",
      "El Poder predictivo de regresión por bosque aleatorio de recuperacion de oro final generó resultados con variación promedio de tan solo 3.12%. Un modelo bastante bueno. \n",
      "Los resultados serán muy cercanos a lo real, resaltando de nuevo: al rededor de 5% de variación.\n",
      "Smape promedio: 4.061290413998183\n"
     ]
    }
   ],
   "source": [
    "#Predicción de variable 2: recuperación en rougher o flotación\n",
    "#Preparar los datos\n",
    "x_train \n",
    "x_train_objetivo2 = df_entrenamiento_sin_outliers[\"rougher.output.recovery\"]\n",
    "#Generar el modelo \n",
    "model_forest_rougher = RandomForestRegressor(max_depth= 5, min_samples_leaf=5, min_samples_split = 5, n_estimators = 100)\n",
    "#Entrenado de modelo \n",
    "model_forest_rougher.fit(x_train, x_train_objetivo)\n",
    "predict_forest_rougher = model_forest_final.predict(x_test)\n",
    "#Metricas del modelo \n",
    "#Validación cruzada con smape. \n",
    "kf = KFold(n_splits=5, shuffle=True, random_state=54321)\n",
    "puntajes4_smape = cross_val_score(model_forest_rougher, x_train, x_train_objetivo2, cv=kf, scoring=smape_scorer)\n",
    "\n",
    "print(f\"Puntaje SMAPE de regresión por bosque aleatorio en validación cruzada del modelo alimentado sin datos extremos al predecir recuperación rougher o de flotado es: {-puntajes4_smape.mean():.2f}%\")\n",
    "print(f\"El Poder predictivo de regresión por bosque aleatorio de recuperacion de oro final generó resultados con variación promedio de tan solo {-puntajes4_smape.mean():.2f}%. Un modelo bastante bueno. \\nLos resultados serán muy cercanos a lo real, resaltando de nuevo: al rededor de 5% de variación.\")\n",
    "\n",
    "#SMAPE resultante de predicción de mis dos variables por regresión con modelo de bosque aleatorio\n",
    "smape_promedio_bosque = ((-puntajes3_smape.mean()*.75) + (-puntajes4_smape.mean()*.25))/2 #puntajes 3 proviene de smape final y puntajes 4 de rougher. \n",
    "print(f\"Smape promedio: {smape_promedio_bosque}\")"
   ]
  },
  {
   "cell_type": "code",
   "execution_count": 28,
   "id": "f055c574",
   "metadata": {},
   "outputs": [
    {
     "name": "stdout",
     "output_type": "stream",
     "text": [
      "Primeras 5 filas del set de datos de prueba. Al final se encuentra la predicción de oro recuperado:\n"
     ]
    },
    {
     "data": {
      "text/html": [
       "<div>\n",
       "<style scoped>\n",
       "    .dataframe tbody tr th:only-of-type {\n",
       "        vertical-align: middle;\n",
       "    }\n",
       "\n",
       "    .dataframe tbody tr th {\n",
       "        vertical-align: top;\n",
       "    }\n",
       "\n",
       "    .dataframe thead th {\n",
       "        text-align: right;\n",
       "    }\n",
       "</style>\n",
       "<table border=\"1\" class=\"dataframe\">\n",
       "  <thead>\n",
       "    <tr style=\"text-align: right;\">\n",
       "      <th></th>\n",
       "      <th>date</th>\n",
       "      <th>primary_cleaner.input.sulfate</th>\n",
       "      <th>primary_cleaner.input.depressant</th>\n",
       "      <th>primary_cleaner.input.feed_size</th>\n",
       "      <th>primary_cleaner.input.xanthate</th>\n",
       "      <th>primary_cleaner.state.floatbank8_a_air</th>\n",
       "      <th>primary_cleaner.state.floatbank8_a_level</th>\n",
       "      <th>primary_cleaner.state.floatbank8_b_air</th>\n",
       "      <th>primary_cleaner.state.floatbank8_b_level</th>\n",
       "      <th>primary_cleaner.state.floatbank8_c_air</th>\n",
       "      <th>...</th>\n",
       "      <th>secondary_cleaner.state.floatbank4_b_air</th>\n",
       "      <th>secondary_cleaner.state.floatbank4_b_level</th>\n",
       "      <th>secondary_cleaner.state.floatbank5_a_air</th>\n",
       "      <th>secondary_cleaner.state.floatbank5_a_level</th>\n",
       "      <th>secondary_cleaner.state.floatbank5_b_air</th>\n",
       "      <th>secondary_cleaner.state.floatbank5_b_level</th>\n",
       "      <th>secondary_cleaner.state.floatbank6_a_air</th>\n",
       "      <th>secondary_cleaner.state.floatbank6_a_level</th>\n",
       "      <th>rougher.output_recovery_predicted</th>\n",
       "      <th>final.output_recovery_predicted</th>\n",
       "    </tr>\n",
       "  </thead>\n",
       "  <tbody>\n",
       "    <tr>\n",
       "      <th>0</th>\n",
       "      <td>2016-09-01 00:59:59</td>\n",
       "      <td>210.800909</td>\n",
       "      <td>14.993118</td>\n",
       "      <td>8.080000</td>\n",
       "      <td>1.005021</td>\n",
       "      <td>1398.981301</td>\n",
       "      <td>-500.225577</td>\n",
       "      <td>1399.144926</td>\n",
       "      <td>-499.919735</td>\n",
       "      <td>1400.102998</td>\n",
       "      <td>...</td>\n",
       "      <td>8.016656</td>\n",
       "      <td>-501.289139</td>\n",
       "      <td>7.946562</td>\n",
       "      <td>-432.317850</td>\n",
       "      <td>4.872511</td>\n",
       "      <td>-500.037437</td>\n",
       "      <td>26.705889</td>\n",
       "      <td>-499.709414</td>\n",
       "      <td>71.050846</td>\n",
       "      <td>71.050846</td>\n",
       "    </tr>\n",
       "    <tr>\n",
       "      <th>1</th>\n",
       "      <td>2016-09-01 01:59:59</td>\n",
       "      <td>215.392455</td>\n",
       "      <td>14.987471</td>\n",
       "      <td>8.080000</td>\n",
       "      <td>0.990469</td>\n",
       "      <td>1398.777912</td>\n",
       "      <td>-500.057435</td>\n",
       "      <td>1398.055362</td>\n",
       "      <td>-499.778182</td>\n",
       "      <td>1396.151033</td>\n",
       "      <td>...</td>\n",
       "      <td>8.130979</td>\n",
       "      <td>-499.634209</td>\n",
       "      <td>7.958270</td>\n",
       "      <td>-525.839648</td>\n",
       "      <td>4.878850</td>\n",
       "      <td>-500.162375</td>\n",
       "      <td>25.019940</td>\n",
       "      <td>-499.819438</td>\n",
       "      <td>70.978102</td>\n",
       "      <td>70.978102</td>\n",
       "    </tr>\n",
       "    <tr>\n",
       "      <th>2</th>\n",
       "      <td>2016-09-01 02:59:59</td>\n",
       "      <td>215.259946</td>\n",
       "      <td>12.884934</td>\n",
       "      <td>7.786667</td>\n",
       "      <td>0.996043</td>\n",
       "      <td>1398.493666</td>\n",
       "      <td>-500.868360</td>\n",
       "      <td>1398.860436</td>\n",
       "      <td>-499.764529</td>\n",
       "      <td>1398.075709</td>\n",
       "      <td>...</td>\n",
       "      <td>8.096893</td>\n",
       "      <td>-500.827423</td>\n",
       "      <td>8.071056</td>\n",
       "      <td>-500.801673</td>\n",
       "      <td>4.905125</td>\n",
       "      <td>-499.828510</td>\n",
       "      <td>24.994862</td>\n",
       "      <td>-500.622559</td>\n",
       "      <td>70.944406</td>\n",
       "      <td>70.944406</td>\n",
       "    </tr>\n",
       "    <tr>\n",
       "      <th>3</th>\n",
       "      <td>2016-09-01 03:59:59</td>\n",
       "      <td>215.336236</td>\n",
       "      <td>12.006805</td>\n",
       "      <td>7.640000</td>\n",
       "      <td>0.863514</td>\n",
       "      <td>1399.618111</td>\n",
       "      <td>-498.863574</td>\n",
       "      <td>1397.440120</td>\n",
       "      <td>-499.211024</td>\n",
       "      <td>1400.129303</td>\n",
       "      <td>...</td>\n",
       "      <td>8.074946</td>\n",
       "      <td>-499.474407</td>\n",
       "      <td>7.897085</td>\n",
       "      <td>-500.868509</td>\n",
       "      <td>4.931400</td>\n",
       "      <td>-499.963623</td>\n",
       "      <td>24.948919</td>\n",
       "      <td>-498.709987</td>\n",
       "      <td>71.002413</td>\n",
       "      <td>71.002413</td>\n",
       "    </tr>\n",
       "    <tr>\n",
       "      <th>4</th>\n",
       "      <td>2016-09-01 04:59:59</td>\n",
       "      <td>199.099327</td>\n",
       "      <td>10.682530</td>\n",
       "      <td>7.530000</td>\n",
       "      <td>0.805575</td>\n",
       "      <td>1401.268123</td>\n",
       "      <td>-500.808305</td>\n",
       "      <td>1398.128818</td>\n",
       "      <td>-499.504543</td>\n",
       "      <td>1402.172226</td>\n",
       "      <td>...</td>\n",
       "      <td>8.054678</td>\n",
       "      <td>-500.397500</td>\n",
       "      <td>8.107890</td>\n",
       "      <td>-509.526725</td>\n",
       "      <td>4.957674</td>\n",
       "      <td>-500.360026</td>\n",
       "      <td>25.003331</td>\n",
       "      <td>-500.856333</td>\n",
       "      <td>71.032194</td>\n",
       "      <td>71.032194</td>\n",
       "    </tr>\n",
       "  </tbody>\n",
       "</table>\n",
       "<p>5 rows × 55 columns</p>\n",
       "</div>"
      ],
      "text/plain": [
       "                 date  primary_cleaner.input.sulfate  \\\n",
       "0 2016-09-01 00:59:59                     210.800909   \n",
       "1 2016-09-01 01:59:59                     215.392455   \n",
       "2 2016-09-01 02:59:59                     215.259946   \n",
       "3 2016-09-01 03:59:59                     215.336236   \n",
       "4 2016-09-01 04:59:59                     199.099327   \n",
       "\n",
       "   primary_cleaner.input.depressant  primary_cleaner.input.feed_size  \\\n",
       "0                         14.993118                         8.080000   \n",
       "1                         14.987471                         8.080000   \n",
       "2                         12.884934                         7.786667   \n",
       "3                         12.006805                         7.640000   \n",
       "4                         10.682530                         7.530000   \n",
       "\n",
       "   primary_cleaner.input.xanthate  primary_cleaner.state.floatbank8_a_air  \\\n",
       "0                        1.005021                             1398.981301   \n",
       "1                        0.990469                             1398.777912   \n",
       "2                        0.996043                             1398.493666   \n",
       "3                        0.863514                             1399.618111   \n",
       "4                        0.805575                             1401.268123   \n",
       "\n",
       "   primary_cleaner.state.floatbank8_a_level  \\\n",
       "0                               -500.225577   \n",
       "1                               -500.057435   \n",
       "2                               -500.868360   \n",
       "3                               -498.863574   \n",
       "4                               -500.808305   \n",
       "\n",
       "   primary_cleaner.state.floatbank8_b_air  \\\n",
       "0                             1399.144926   \n",
       "1                             1398.055362   \n",
       "2                             1398.860436   \n",
       "3                             1397.440120   \n",
       "4                             1398.128818   \n",
       "\n",
       "   primary_cleaner.state.floatbank8_b_level  \\\n",
       "0                               -499.919735   \n",
       "1                               -499.778182   \n",
       "2                               -499.764529   \n",
       "3                               -499.211024   \n",
       "4                               -499.504543   \n",
       "\n",
       "   primary_cleaner.state.floatbank8_c_air  ...  \\\n",
       "0                             1400.102998  ...   \n",
       "1                             1396.151033  ...   \n",
       "2                             1398.075709  ...   \n",
       "3                             1400.129303  ...   \n",
       "4                             1402.172226  ...   \n",
       "\n",
       "   secondary_cleaner.state.floatbank4_b_air  \\\n",
       "0                                  8.016656   \n",
       "1                                  8.130979   \n",
       "2                                  8.096893   \n",
       "3                                  8.074946   \n",
       "4                                  8.054678   \n",
       "\n",
       "   secondary_cleaner.state.floatbank4_b_level  \\\n",
       "0                                 -501.289139   \n",
       "1                                 -499.634209   \n",
       "2                                 -500.827423   \n",
       "3                                 -499.474407   \n",
       "4                                 -500.397500   \n",
       "\n",
       "   secondary_cleaner.state.floatbank5_a_air  \\\n",
       "0                                  7.946562   \n",
       "1                                  7.958270   \n",
       "2                                  8.071056   \n",
       "3                                  7.897085   \n",
       "4                                  8.107890   \n",
       "\n",
       "   secondary_cleaner.state.floatbank5_a_level  \\\n",
       "0                                 -432.317850   \n",
       "1                                 -525.839648   \n",
       "2                                 -500.801673   \n",
       "3                                 -500.868509   \n",
       "4                                 -509.526725   \n",
       "\n",
       "   secondary_cleaner.state.floatbank5_b_air  \\\n",
       "0                                  4.872511   \n",
       "1                                  4.878850   \n",
       "2                                  4.905125   \n",
       "3                                  4.931400   \n",
       "4                                  4.957674   \n",
       "\n",
       "   secondary_cleaner.state.floatbank5_b_level  \\\n",
       "0                                 -500.037437   \n",
       "1                                 -500.162375   \n",
       "2                                 -499.828510   \n",
       "3                                 -499.963623   \n",
       "4                                 -500.360026   \n",
       "\n",
       "   secondary_cleaner.state.floatbank6_a_air  \\\n",
       "0                                 26.705889   \n",
       "1                                 25.019940   \n",
       "2                                 24.994862   \n",
       "3                                 24.948919   \n",
       "4                                 25.003331   \n",
       "\n",
       "   secondary_cleaner.state.floatbank6_a_level  \\\n",
       "0                                 -499.709414   \n",
       "1                                 -499.819438   \n",
       "2                                 -500.622559   \n",
       "3                                 -498.709987   \n",
       "4                                 -500.856333   \n",
       "\n",
       "   rougher.output_recovery_predicted  final.output_recovery_predicted  \n",
       "0                          71.050846                        71.050846  \n",
       "1                          70.978102                        70.978102  \n",
       "2                          70.944406                        70.944406  \n",
       "3                          71.002413                        71.002413  \n",
       "4                          71.032194                        71.032194  \n",
       "\n",
       "[5 rows x 55 columns]"
      ]
     },
     "metadata": {},
     "output_type": "display_data"
    },
    {
     "name": "stdout",
     "output_type": "stream",
     "text": [
      "68.3096541312366\n",
      "Los datos de recuperación de oro predecidos de los datos de prueba tienen una tendencia central muy similar a los datos de entrenamiento. Ambos en la unidad de 68.\n",
      "El promedio rougher es 68.3096541312366.\n",
      "Promedio rougher entrenamiento 84.89035994227663\n",
      "\n",
      "Ambos datos de entrenamiento y prueba tienen medidas centrales cercanas en los valores predecidos y reales con pequeñas varianzas y concordantes con las distribuciones. Para recuperación rougher y recuperación de oro final tienen la misma unidad de entero 84 y 68 respectivamente.\n"
     ]
    }
   ],
   "source": [
    "#Adjuntar los datos de recuperación de oro predecidos a los datos de prueba. \n",
    "#Hacer una copia de los datos para no alterar los originales\n",
    "datos_prueba_con_predicciones_de_recuperacion = datos_prueba.copy() \n",
    "\n",
    "#Generar los datos rougher.output_recovery mediante predicción y adjuntarlos a la copia de los datos de prueba.\n",
    "recuperacion_rougher_de_datos_de_prueba = pd.Series(predict_forest_rougher, index=datos_prueba.index)\n",
    "datos_prueba_con_predicciones_de_recuperacion[\"rougher.output_recovery_predicted\"] = recuperacion_rougher_de_datos_de_prueba\n",
    "\n",
    "\n",
    "#Datos de predicción de recuperación de oro final. \n",
    "recuperacion_de_oro_de_datos_de_prueba = pd.Series(predict_forest, index=datos_prueba.index) \n",
    "datos_prueba_con_predicciones_de_recuperacion[\"final.output_recovery_predicted\"] = recuperacion_de_oro_de_datos_de_prueba\n",
    "\n",
    "print(\"Primeras 5 filas del set de datos de prueba. Al final se encuentra la predicción de oro recuperado:\")\n",
    "display(datos_prueba_con_predicciones_de_recuperacion.head())\n",
    "\n",
    "#Exploración de tendencia central. Promedio de recuperación del set de prueba. \n",
    "print(datos_prueba_con_predicciones_de_recuperacion[\"final.output_recovery_predicted\"].mean())\n",
    "print(\"Los datos de recuperación de oro predecidos de los datos de prueba tienen una tendencia central muy similar a los datos de entrenamiento. Ambos en la unidad de 68.\")\n",
    "\n",
    "promedio_datos_rougher_predecidos = datos_prueba_con_predicciones_de_recuperacion[\"rougher.output_recovery_predicted\"].mean()\n",
    "print(f\"El promedio rougher es {promedio_datos_rougher_predecidos}.\")\n",
    "\n",
    "#Comparación con el promedio rougher de datos de entrenamiento\n",
    "promedio_rougher_entrenamiento = df_entrenamiento_sin_outliers[\"rougher.output.recovery\"].mean()\n",
    "print(f\"Promedio rougher entrenamiento {promedio_rougher_entrenamiento}\")\n",
    "\n",
    "print(\"\\nAmbos datos de entrenamiento y prueba tienen medidas centrales cercanas en los valores predecidos y reales con pequeñas varianzas y concordantes con las distribuciones. Para recuperación rougher y recuperación de oro final tienen la misma unidad de entero 84 y 68 respectivamente.\")"
   ]
  },
  {
   "cell_type": "markdown",
   "id": "db02debf",
   "metadata": {},
   "source": [
    "Conclusiones"
   ]
  },
  {
   "cell_type": "markdown",
   "id": "afaa66f8",
   "metadata": {},
   "source": [
    "Se realizó el procesamiento de datos involucrando manejo de nulos (necesarios de remover para el funcionamiento de modelado por aprendizaje articial). \n",
    "\n",
    "Se observó la distribución de concentrados por metal de forma gráfica y estadística (gráficos de barras, boxplot y comparación de promedios) a través de las etapas de flotación, limpieza primaria y final. \n",
    "\n",
    "Se realizaron 2 modelos predictivos con métricas de calidad de variación smape de 4.06% o 5.01% y 3.11% respectivamente para recuperación final y recuperación en flotado o rougher. Ambos con predicción cercanas a la real. El modelo de regresión por bosque aleatorio superó a los modelos de regresión lineal.\n",
    "\n",
    "Los mejores resultados de predicción fueron logrados mediante entrenamiento con datos extremos removidos.\n",
    "\n",
    "Se generaron y presentaron los valores de recuperación de oro final y de flotado del conjunto de datos de prueba y se adjuntaron a los datos de prueba empleando los modelos de mejor desempeño aquellos de regresión por bosque aleatorio. "
   ]
  }
 ],
 "metadata": {
  "ExecuteTimeLog": [
   {
    "duration": 1161,
    "start_time": "2025-04-29T17:10:47.607Z"
   },
   {
    "duration": 614,
    "start_time": "2025-04-29T17:10:48.771Z"
   },
   {
    "duration": 46,
    "start_time": "2025-04-29T17:10:49.387Z"
   },
   {
    "duration": 1161,
    "start_time": "2025-04-29T20:15:19.924Z"
   },
   {
    "duration": 610,
    "start_time": "2025-04-29T20:15:21.087Z"
   },
   {
    "duration": 29,
    "start_time": "2025-04-29T20:15:21.698Z"
   },
   {
    "duration": 976,
    "start_time": "2025-05-02T14:13:45.371Z"
   },
   {
    "duration": 535,
    "start_time": "2025-05-02T14:13:46.349Z"
   },
   {
    "duration": 30,
    "start_time": "2025-05-02T14:13:46.885Z"
   },
   {
    "duration": 21,
    "start_time": "2025-05-02T14:13:46.916Z"
   },
   {
    "duration": 35,
    "start_time": "2025-05-02T14:13:46.940Z"
   },
   {
    "duration": 6452,
    "start_time": "2025-05-02T14:13:46.977Z"
   },
   {
    "duration": 17,
    "start_time": "2025-05-02T14:13:53.430Z"
   },
   {
    "duration": 3,
    "start_time": "2025-05-02T14:13:53.449Z"
   },
   {
    "duration": 28,
    "start_time": "2025-05-02T14:13:53.454Z"
   },
   {
    "duration": 15,
    "start_time": "2025-05-02T14:13:53.484Z"
   },
   {
    "duration": 6,
    "start_time": "2025-05-02T14:13:53.501Z"
   },
   {
    "duration": 5,
    "start_time": "2025-05-02T14:13:53.509Z"
   },
   {
    "duration": 814,
    "start_time": "2025-05-02T14:13:53.515Z"
   },
   {
    "duration": 2690,
    "start_time": "2025-05-02T14:13:54.332Z"
   },
   {
    "duration": 474,
    "start_time": "2025-05-02T14:13:57.023Z"
   },
   {
    "duration": 6,
    "start_time": "2025-05-02T14:13:57.499Z"
   },
   {
    "duration": 368,
    "start_time": "2025-05-02T14:13:57.507Z"
   },
   {
    "duration": 429,
    "start_time": "2025-05-02T14:13:57.876Z"
   },
   {
    "duration": 3,
    "start_time": "2025-05-02T14:13:58.307Z"
   },
   {
    "duration": 368,
    "start_time": "2025-05-02T14:13:58.313Z"
   },
   {
    "duration": 794,
    "start_time": "2025-05-02T14:13:58.683Z"
   },
   {
    "duration": 98,
    "start_time": "2025-05-02T14:13:59.479Z"
   },
   {
    "duration": 4,
    "start_time": "2025-05-02T15:37:56.594Z"
   },
   {
    "duration": 502,
    "start_time": "2025-05-02T15:37:56.600Z"
   },
   {
    "duration": 28,
    "start_time": "2025-05-02T15:37:57.103Z"
   },
   {
    "duration": 19,
    "start_time": "2025-05-02T15:37:57.133Z"
   },
   {
    "duration": 23,
    "start_time": "2025-05-02T15:37:57.154Z"
   },
   {
    "duration": 6486,
    "start_time": "2025-05-02T15:37:57.179Z"
   },
   {
    "duration": 5,
    "start_time": "2025-05-02T15:38:28.961Z"
   },
   {
    "duration": 3,
    "start_time": "2025-05-02T15:38:33.382Z"
   },
   {
    "duration": 294,
    "start_time": "2025-05-02T15:38:43.341Z"
   },
   {
    "duration": 4,
    "start_time": "2025-05-02T15:38:46.826Z"
   },
   {
    "duration": 4,
    "start_time": "2025-05-02T15:38:50.630Z"
   },
   {
    "duration": 13,
    "start_time": "2025-05-02T15:38:53.761Z"
   },
   {
    "duration": 4,
    "start_time": "2025-05-02T15:39:01.063Z"
   },
   {
    "duration": 3,
    "start_time": "2025-05-02T15:39:18.382Z"
   },
   {
    "duration": 7,
    "start_time": "2025-05-02T15:39:20.065Z"
   },
   {
    "duration": 3,
    "start_time": "2025-05-02T15:39:27.631Z"
   },
   {
    "duration": 19,
    "start_time": "2025-05-02T15:39:30.002Z"
   },
   {
    "duration": 2603,
    "start_time": "2025-05-03T09:30:52.857Z"
   },
   {
    "duration": 611,
    "start_time": "2025-05-03T09:31:00.595Z"
   },
   {
    "duration": 31,
    "start_time": "2025-05-03T09:31:02.681Z"
   },
   {
    "duration": 22,
    "start_time": "2025-05-03T09:31:06.908Z"
   },
   {
    "duration": 20,
    "start_time": "2025-05-03T09:31:13.651Z"
   },
   {
    "duration": 6522,
    "start_time": "2025-05-03T09:31:17.156Z"
   },
   {
    "duration": 19,
    "start_time": "2025-05-03T09:31:28.805Z"
   },
   {
    "duration": 3,
    "start_time": "2025-05-03T09:31:32.492Z"
   },
   {
    "duration": 14,
    "start_time": "2025-05-03T09:31:39.741Z"
   },
   {
    "duration": 15,
    "start_time": "2025-05-03T09:33:22.303Z"
   },
   {
    "duration": 15,
    "start_time": "2025-05-03T09:34:19.383Z"
   },
   {
    "duration": 14,
    "start_time": "2025-05-03T09:34:48.378Z"
   },
   {
    "duration": 7,
    "start_time": "2025-05-03T09:36:13.075Z"
   },
   {
    "duration": 7,
    "start_time": "2025-05-03T09:37:45.461Z"
   },
   {
    "duration": 8,
    "start_time": "2025-05-03T09:38:18.998Z"
   },
   {
    "duration": 7,
    "start_time": "2025-05-03T09:39:42.328Z"
   },
   {
    "duration": 9,
    "start_time": "2025-05-03T09:40:01.471Z"
   },
   {
    "duration": 7,
    "start_time": "2025-05-03T09:40:16.167Z"
   },
   {
    "duration": 11,
    "start_time": "2025-05-03T09:41:49.153Z"
   },
   {
    "duration": 7,
    "start_time": "2025-05-03T09:42:49.649Z"
   },
   {
    "duration": 13,
    "start_time": "2025-05-03T09:45:04.316Z"
   },
   {
    "duration": 145,
    "start_time": "2025-05-03T09:47:45.716Z"
   },
   {
    "duration": 22,
    "start_time": "2025-05-03T09:48:00.048Z"
   },
   {
    "duration": 21,
    "start_time": "2025-05-03T09:48:15.427Z"
   },
   {
    "duration": 6,
    "start_time": "2025-05-03T09:49:41.125Z"
   },
   {
    "duration": 6,
    "start_time": "2025-05-03T09:49:56.710Z"
   },
   {
    "duration": 4,
    "start_time": "2025-05-03T09:50:28.662Z"
   },
   {
    "duration": 5,
    "start_time": "2025-05-03T09:50:39.130Z"
   },
   {
    "duration": 5,
    "start_time": "2025-05-03T09:50:54.034Z"
   },
   {
    "duration": 7,
    "start_time": "2025-05-03T09:51:25.611Z"
   },
   {
    "duration": 7,
    "start_time": "2025-05-03T09:52:39.736Z"
   },
   {
    "duration": 6,
    "start_time": "2025-05-03T09:52:47.803Z"
   },
   {
    "duration": 7,
    "start_time": "2025-05-03T09:54:23.365Z"
   },
   {
    "duration": 8,
    "start_time": "2025-05-03T09:54:49.415Z"
   },
   {
    "duration": 7,
    "start_time": "2025-05-03T09:55:30.179Z"
   },
   {
    "duration": 7,
    "start_time": "2025-05-03T09:55:36.686Z"
   },
   {
    "duration": 3,
    "start_time": "2025-05-03T10:34:10.116Z"
   },
   {
    "duration": 511,
    "start_time": "2025-05-03T10:34:10.121Z"
   },
   {
    "duration": 28,
    "start_time": "2025-05-03T10:34:10.634Z"
   },
   {
    "duration": 27,
    "start_time": "2025-05-03T10:34:10.663Z"
   },
   {
    "duration": 16,
    "start_time": "2025-05-03T10:34:10.695Z"
   },
   {
    "duration": 6480,
    "start_time": "2025-05-03T10:34:10.713Z"
   },
   {
    "duration": 18,
    "start_time": "2025-05-03T10:34:17.195Z"
   },
   {
    "duration": 3,
    "start_time": "2025-05-03T10:34:17.215Z"
   },
   {
    "duration": 13,
    "start_time": "2025-05-03T10:34:17.220Z"
   },
   {
    "duration": 54,
    "start_time": "2025-05-03T10:34:17.234Z"
   },
   {
    "duration": 6,
    "start_time": "2025-05-03T10:34:17.290Z"
   },
   {
    "duration": 4,
    "start_time": "2025-05-03T10:34:17.298Z"
   },
   {
    "duration": 840,
    "start_time": "2025-05-03T10:34:17.305Z"
   },
   {
    "duration": 2517,
    "start_time": "2025-05-03T10:34:18.148Z"
   },
   {
    "duration": 560,
    "start_time": "2025-05-03T10:34:20.667Z"
   },
   {
    "duration": 411,
    "start_time": "2025-05-03T10:34:21.229Z"
   },
   {
    "duration": 367,
    "start_time": "2025-05-03T10:34:37.611Z"
   },
   {
    "duration": 122,
    "start_time": "2025-05-03T11:19:40.404Z"
   },
   {
    "duration": 16,
    "start_time": "2025-05-03T11:19:54.363Z"
   },
   {
    "duration": 16,
    "start_time": "2025-05-03T11:20:41.883Z"
   },
   {
    "duration": 3,
    "start_time": "2025-05-03T11:20:48.062Z"
   },
   {
    "duration": 509,
    "start_time": "2025-05-03T11:20:48.068Z"
   },
   {
    "duration": 31,
    "start_time": "2025-05-03T11:20:48.579Z"
   },
   {
    "duration": 20,
    "start_time": "2025-05-03T11:20:48.613Z"
   },
   {
    "duration": 14,
    "start_time": "2025-05-03T11:20:48.635Z"
   },
   {
    "duration": 7261,
    "start_time": "2025-05-03T11:20:48.652Z"
   },
   {
    "duration": 19,
    "start_time": "2025-05-03T11:20:55.914Z"
   },
   {
    "duration": 2,
    "start_time": "2025-05-03T11:20:55.935Z"
   },
   {
    "duration": 12,
    "start_time": "2025-05-03T11:20:55.940Z"
   },
   {
    "duration": 44,
    "start_time": "2025-05-03T11:20:55.954Z"
   },
   {
    "duration": 7,
    "start_time": "2025-05-03T11:20:56.000Z"
   },
   {
    "duration": 3,
    "start_time": "2025-05-03T11:20:56.009Z"
   },
   {
    "duration": 843,
    "start_time": "2025-05-03T11:20:56.014Z"
   },
   {
    "duration": 2611,
    "start_time": "2025-05-03T11:20:56.859Z"
   },
   {
    "duration": 555,
    "start_time": "2025-05-03T11:20:59.471Z"
   },
   {
    "duration": 403,
    "start_time": "2025-05-03T11:21:00.028Z"
   },
   {
    "duration": 390,
    "start_time": "2025-05-03T11:21:00.433Z"
   },
   {
    "duration": 4,
    "start_time": "2025-05-03T11:21:00.825Z"
   },
   {
    "duration": 373,
    "start_time": "2025-05-03T11:21:00.831Z"
   },
   {
    "duration": 3,
    "start_time": "2025-05-03T11:21:01.205Z"
   },
   {
    "duration": 397,
    "start_time": "2025-05-03T11:21:01.210Z"
   },
   {
    "duration": 14,
    "start_time": "2025-05-03T11:21:49.283Z"
   },
   {
    "duration": 227,
    "start_time": "2025-05-03T11:23:11.212Z"
   },
   {
    "duration": 445,
    "start_time": "2025-05-03T11:23:40.455Z"
   },
   {
    "duration": 3,
    "start_time": "2025-05-03T11:23:51.370Z"
   },
   {
    "duration": 420,
    "start_time": "2025-05-03T11:23:51.376Z"
   },
   {
    "duration": 30,
    "start_time": "2025-05-03T11:23:51.798Z"
   },
   {
    "duration": 21,
    "start_time": "2025-05-03T11:23:51.830Z"
   },
   {
    "duration": 33,
    "start_time": "2025-05-03T11:23:51.855Z"
   },
   {
    "duration": 6397,
    "start_time": "2025-05-03T11:23:51.890Z"
   },
   {
    "duration": 19,
    "start_time": "2025-05-03T11:23:58.288Z"
   },
   {
    "duration": 3,
    "start_time": "2025-05-03T11:23:58.309Z"
   },
   {
    "duration": 12,
    "start_time": "2025-05-03T11:23:58.313Z"
   },
   {
    "duration": 14,
    "start_time": "2025-05-03T11:23:58.327Z"
   },
   {
    "duration": 44,
    "start_time": "2025-05-03T11:23:58.343Z"
   },
   {
    "duration": 5,
    "start_time": "2025-05-03T11:23:58.388Z"
   },
   {
    "duration": 751,
    "start_time": "2025-05-03T11:23:58.397Z"
   },
   {
    "duration": 2773,
    "start_time": "2025-05-03T11:23:59.150Z"
   },
   {
    "duration": 476,
    "start_time": "2025-05-03T11:24:01.924Z"
   },
   {
    "duration": 410,
    "start_time": "2025-05-03T11:24:02.402Z"
   },
   {
    "duration": 378,
    "start_time": "2025-05-03T11:24:02.814Z"
   },
   {
    "duration": 4,
    "start_time": "2025-05-03T11:24:03.194Z"
   },
   {
    "duration": 454,
    "start_time": "2025-05-03T11:24:03.199Z"
   },
   {
    "duration": 3,
    "start_time": "2025-05-03T11:24:03.655Z"
   },
   {
    "duration": 626,
    "start_time": "2025-05-03T11:24:03.661Z"
   },
   {
    "duration": 531,
    "start_time": "2025-05-03T11:25:57.176Z"
   },
   {
    "duration": 549,
    "start_time": "2025-05-03T11:26:01.243Z"
   },
   {
    "duration": 652,
    "start_time": "2025-05-03T11:26:55.549Z"
   },
   {
    "duration": 4,
    "start_time": "2025-05-03T11:34:39.546Z"
   },
   {
    "duration": 424,
    "start_time": "2025-05-03T11:34:39.552Z"
   },
   {
    "duration": 30,
    "start_time": "2025-05-03T11:34:39.978Z"
   },
   {
    "duration": 20,
    "start_time": "2025-05-03T11:34:40.010Z"
   },
   {
    "duration": 13,
    "start_time": "2025-05-03T11:34:40.033Z"
   },
   {
    "duration": 6425,
    "start_time": "2025-05-03T11:34:40.047Z"
   },
   {
    "duration": 23,
    "start_time": "2025-05-03T11:34:46.474Z"
   },
   {
    "duration": 3,
    "start_time": "2025-05-03T11:34:46.499Z"
   },
   {
    "duration": 13,
    "start_time": "2025-05-03T11:34:46.504Z"
   },
   {
    "duration": 14,
    "start_time": "2025-05-03T11:34:46.518Z"
   },
   {
    "duration": 6,
    "start_time": "2025-05-03T11:34:46.534Z"
   },
   {
    "duration": 46,
    "start_time": "2025-05-03T11:34:46.541Z"
   },
   {
    "duration": 746,
    "start_time": "2025-05-03T11:34:46.590Z"
   },
   {
    "duration": 2631,
    "start_time": "2025-05-03T11:34:47.338Z"
   },
   {
    "duration": 463,
    "start_time": "2025-05-03T11:34:49.971Z"
   },
   {
    "duration": 413,
    "start_time": "2025-05-03T11:34:50.436Z"
   },
   {
    "duration": 394,
    "start_time": "2025-05-03T11:34:50.851Z"
   },
   {
    "duration": 6,
    "start_time": "2025-05-03T11:34:51.247Z"
   },
   {
    "duration": 364,
    "start_time": "2025-05-03T11:34:51.254Z"
   },
   {
    "duration": 3,
    "start_time": "2025-05-03T11:34:51.620Z"
   },
   {
    "duration": 569,
    "start_time": "2025-05-03T11:34:51.624Z"
   },
   {
    "duration": 698,
    "start_time": "2025-05-03T11:34:52.195Z"
   },
   {
    "duration": 606,
    "start_time": "2025-05-03T11:34:52.898Z"
   },
   {
    "duration": 19,
    "start_time": "2025-05-03T11:35:52.664Z"
   },
   {
    "duration": 17,
    "start_time": "2025-05-03T11:36:17.258Z"
   },
   {
    "duration": 30,
    "start_time": "2025-05-03T11:36:39.693Z"
   },
   {
    "duration": 34,
    "start_time": "2025-05-03T11:37:08.871Z"
   },
   {
    "duration": 20,
    "start_time": "2025-05-03T11:37:24.839Z"
   },
   {
    "duration": 19,
    "start_time": "2025-05-03T11:39:46.327Z"
   },
   {
    "duration": 20,
    "start_time": "2025-05-03T11:41:18.575Z"
   },
   {
    "duration": 1074,
    "start_time": "2025-05-03T12:12:43.789Z"
   },
   {
    "duration": 598,
    "start_time": "2025-05-03T12:12:44.865Z"
   },
   {
    "duration": 30,
    "start_time": "2025-05-03T12:12:45.464Z"
   },
   {
    "duration": 22,
    "start_time": "2025-05-03T12:12:46.809Z"
   },
   {
    "duration": 16,
    "start_time": "2025-05-03T12:12:50.795Z"
   },
   {
    "duration": 230,
    "start_time": "2025-05-03T12:12:55.849Z"
   },
   {
    "duration": 2,
    "start_time": "2025-05-03T12:13:33.509Z"
   },
   {
    "duration": 18,
    "start_time": "2025-05-03T12:13:34.510Z"
   },
   {
    "duration": 7,
    "start_time": "2025-05-03T12:13:38.713Z"
   },
   {
    "duration": 6,
    "start_time": "2025-05-03T12:14:16.088Z"
   },
   {
    "duration": 4,
    "start_time": "2025-05-03T12:14:36.143Z"
   },
   {
    "duration": 499,
    "start_time": "2025-05-03T12:14:36.149Z"
   },
   {
    "duration": 28,
    "start_time": "2025-05-03T12:14:36.650Z"
   },
   {
    "duration": 19,
    "start_time": "2025-05-03T12:14:36.686Z"
   },
   {
    "duration": 14,
    "start_time": "2025-05-03T12:14:36.708Z"
   },
   {
    "duration": 6574,
    "start_time": "2025-05-03T12:14:36.723Z"
   },
   {
    "duration": 20,
    "start_time": "2025-05-03T12:14:43.299Z"
   },
   {
    "duration": 3,
    "start_time": "2025-05-03T12:14:43.321Z"
   },
   {
    "duration": 14,
    "start_time": "2025-05-03T12:14:43.326Z"
   },
   {
    "duration": 50,
    "start_time": "2025-05-03T12:14:43.342Z"
   },
   {
    "duration": 6,
    "start_time": "2025-05-03T12:14:43.394Z"
   },
   {
    "duration": 4,
    "start_time": "2025-05-03T12:14:43.402Z"
   },
   {
    "duration": 467,
    "start_time": "2025-05-03T12:14:43.409Z"
   },
   {
    "duration": 2,
    "start_time": "2025-05-03T12:15:25.790Z"
   },
   {
    "duration": 15,
    "start_time": "2025-05-03T12:15:26.568Z"
   },
   {
    "duration": 7,
    "start_time": "2025-05-03T12:15:29.349Z"
   },
   {
    "duration": 4,
    "start_time": "2025-05-03T12:15:30.329Z"
   },
   {
    "duration": 5,
    "start_time": "2025-05-03T12:15:32.369Z"
   },
   {
    "duration": 2611,
    "start_time": "2025-05-05T06:09:06.624Z"
   },
   {
    "duration": 596,
    "start_time": "2025-05-05T06:09:09.237Z"
   },
   {
    "duration": 30,
    "start_time": "2025-05-05T06:09:09.834Z"
   },
   {
    "duration": 20,
    "start_time": "2025-05-05T06:09:09.865Z"
   },
   {
    "duration": 14,
    "start_time": "2025-05-05T06:09:09.888Z"
   },
   {
    "duration": 304,
    "start_time": "2025-05-05T06:09:09.904Z"
   },
   {
    "duration": 0,
    "start_time": "2025-05-05T06:09:10.210Z"
   },
   {
    "duration": 3,
    "start_time": "2025-05-05T06:09:33.085Z"
   },
   {
    "duration": 513,
    "start_time": "2025-05-05T06:09:33.091Z"
   },
   {
    "duration": 29,
    "start_time": "2025-05-05T06:09:33.605Z"
   },
   {
    "duration": 24,
    "start_time": "2025-05-05T06:09:33.635Z"
   },
   {
    "duration": 13,
    "start_time": "2025-05-05T06:09:33.661Z"
   },
   {
    "duration": 14,
    "start_time": "2025-05-05T06:09:33.675Z"
   },
   {
    "duration": 14,
    "start_time": "2025-05-05T06:09:33.690Z"
   },
   {
    "duration": 20,
    "start_time": "2025-05-05T06:09:42.063Z"
   },
   {
    "duration": 120,
    "start_time": "2025-05-05T06:10:01.083Z"
   },
   {
    "duration": 8,
    "start_time": "2025-05-05T06:13:21.096Z"
   },
   {
    "duration": 2,
    "start_time": "2025-05-05T06:16:18.406Z"
   },
   {
    "duration": 16,
    "start_time": "2025-05-05T07:13:46.024Z"
   },
   {
    "duration": 551,
    "start_time": "2025-05-05T07:13:46.042Z"
   },
   {
    "duration": 31,
    "start_time": "2025-05-05T07:13:46.595Z"
   },
   {
    "duration": 33,
    "start_time": "2025-05-05T07:13:46.629Z"
   },
   {
    "duration": 16,
    "start_time": "2025-05-05T07:13:46.664Z"
   },
   {
    "duration": 13,
    "start_time": "2025-05-05T07:13:46.683Z"
   },
   {
    "duration": 57,
    "start_time": "2025-05-05T07:13:46.699Z"
   },
   {
    "duration": 15,
    "start_time": "2025-05-05T07:13:46.759Z"
   },
   {
    "duration": 7330,
    "start_time": "2025-05-05T07:13:46.778Z"
   },
   {
    "duration": 21,
    "start_time": "2025-05-05T07:13:54.111Z"
   },
   {
    "duration": 3,
    "start_time": "2025-05-05T07:13:54.142Z"
   },
   {
    "duration": 5,
    "start_time": "2025-05-05T07:13:54.147Z"
   },
   {
    "duration": 851,
    "start_time": "2025-05-05T07:13:54.154Z"
   },
   {
    "duration": 2919,
    "start_time": "2025-05-05T07:13:55.007Z"
   },
   {
    "duration": 495,
    "start_time": "2025-05-05T07:13:57.928Z"
   },
   {
    "duration": 440,
    "start_time": "2025-05-05T07:13:58.424Z"
   },
   {
    "duration": 410,
    "start_time": "2025-05-05T07:13:58.867Z"
   },
   {
    "duration": 6,
    "start_time": "2025-05-05T07:13:59.279Z"
   },
   {
    "duration": 416,
    "start_time": "2025-05-05T07:13:59.286Z"
   },
   {
    "duration": 3,
    "start_time": "2025-05-05T07:13:59.706Z"
   },
   {
    "duration": 354,
    "start_time": "2025-05-05T07:13:59.712Z"
   },
   {
    "duration": 887,
    "start_time": "2025-05-05T07:14:00.068Z"
   },
   {
    "duration": 895,
    "start_time": "2025-05-05T07:14:00.960Z"
   },
   {
    "duration": 58043,
    "start_time": "2025-05-05T07:19:05.316Z"
   },
   {
    "duration": 4,
    "start_time": "2025-05-05T07:20:17.016Z"
   },
   {
    "duration": 539,
    "start_time": "2025-05-05T07:20:17.025Z"
   },
   {
    "duration": 39,
    "start_time": "2025-05-05T07:20:17.566Z"
   },
   {
    "duration": 21,
    "start_time": "2025-05-05T07:20:17.607Z"
   },
   {
    "duration": 15,
    "start_time": "2025-05-05T07:20:17.644Z"
   },
   {
    "duration": 13,
    "start_time": "2025-05-05T07:20:17.661Z"
   },
   {
    "duration": 17,
    "start_time": "2025-05-05T07:20:17.676Z"
   },
   {
    "duration": 11,
    "start_time": "2025-05-05T07:20:17.695Z"
   },
   {
    "duration": 7335,
    "start_time": "2025-05-05T07:20:17.708Z"
   },
   {
    "duration": 17,
    "start_time": "2025-05-05T07:20:25.046Z"
   },
   {
    "duration": 3,
    "start_time": "2025-05-05T07:20:25.068Z"
   },
   {
    "duration": 5,
    "start_time": "2025-05-05T07:20:25.073Z"
   },
   {
    "duration": 904,
    "start_time": "2025-05-05T07:20:25.080Z"
   },
   {
    "duration": 2840,
    "start_time": "2025-05-05T07:20:25.986Z"
   },
   {
    "duration": 489,
    "start_time": "2025-05-05T07:20:28.842Z"
   },
   {
    "duration": 466,
    "start_time": "2025-05-05T07:20:29.333Z"
   },
   {
    "duration": 403,
    "start_time": "2025-05-05T07:20:29.801Z"
   },
   {
    "duration": 7,
    "start_time": "2025-05-05T07:20:30.207Z"
   },
   {
    "duration": 415,
    "start_time": "2025-05-05T07:20:30.216Z"
   },
   {
    "duration": 4,
    "start_time": "2025-05-05T07:20:30.634Z"
   },
   {
    "duration": 704,
    "start_time": "2025-05-05T07:20:30.646Z"
   },
   {
    "duration": 606,
    "start_time": "2025-05-05T07:20:31.357Z"
   },
   {
    "duration": 905,
    "start_time": "2025-05-05T07:20:31.967Z"
   },
   {
    "duration": 5,
    "start_time": "2025-05-05T07:57:43.166Z"
   },
   {
    "duration": 462,
    "start_time": "2025-05-05T07:57:43.173Z"
   },
   {
    "duration": 35,
    "start_time": "2025-05-05T07:57:43.636Z"
   },
   {
    "duration": 26,
    "start_time": "2025-05-05T07:57:43.673Z"
   },
   {
    "duration": 14,
    "start_time": "2025-05-05T07:57:43.701Z"
   },
   {
    "duration": 35,
    "start_time": "2025-05-05T07:57:43.717Z"
   },
   {
    "duration": 19,
    "start_time": "2025-05-05T07:57:43.754Z"
   },
   {
    "duration": 10,
    "start_time": "2025-05-05T07:57:43.775Z"
   },
   {
    "duration": 6629,
    "start_time": "2025-05-05T07:57:43.789Z"
   },
   {
    "duration": 25,
    "start_time": "2025-05-05T07:57:50.422Z"
   },
   {
    "duration": 3,
    "start_time": "2025-05-05T07:57:50.450Z"
   },
   {
    "duration": 5,
    "start_time": "2025-05-05T07:57:50.455Z"
   },
   {
    "duration": 1000,
    "start_time": "2025-05-05T07:57:50.462Z"
   },
   {
    "duration": 2761,
    "start_time": "2025-05-05T07:57:51.465Z"
   },
   {
    "duration": 495,
    "start_time": "2025-05-05T07:57:54.228Z"
   },
   {
    "duration": 411,
    "start_time": "2025-05-05T07:57:54.725Z"
   },
   {
    "duration": 554,
    "start_time": "2025-05-05T07:57:55.143Z"
   },
   {
    "duration": 4,
    "start_time": "2025-05-05T07:57:55.699Z"
   },
   {
    "duration": 394,
    "start_time": "2025-05-05T07:57:55.705Z"
   },
   {
    "duration": 3,
    "start_time": "2025-05-05T07:57:56.101Z"
   },
   {
    "duration": 566,
    "start_time": "2025-05-05T07:57:56.106Z"
   },
   {
    "duration": 516,
    "start_time": "2025-05-05T07:57:56.748Z"
   },
   {
    "duration": 804,
    "start_time": "2025-05-05T07:57:57.266Z"
   },
   {
    "duration": 26,
    "start_time": "2025-05-05T07:58:23.054Z"
   },
   {
    "duration": 115863,
    "start_time": "2025-05-05T07:58:31.638Z"
   },
   {
    "duration": 5,
    "start_time": "2025-05-05T08:00:31.367Z"
   },
   {
    "duration": 505,
    "start_time": "2025-05-05T08:00:31.375Z"
   },
   {
    "duration": 30,
    "start_time": "2025-05-05T08:00:31.882Z"
   },
   {
    "duration": 41,
    "start_time": "2025-05-05T08:00:31.915Z"
   },
   {
    "duration": 16,
    "start_time": "2025-05-05T08:00:31.960Z"
   },
   {
    "duration": 13,
    "start_time": "2025-05-05T08:00:31.978Z"
   },
   {
    "duration": 18,
    "start_time": "2025-05-05T08:00:31.994Z"
   },
   {
    "duration": 11,
    "start_time": "2025-05-05T08:00:32.044Z"
   },
   {
    "duration": 7202,
    "start_time": "2025-05-05T08:00:32.060Z"
   },
   {
    "duration": 22,
    "start_time": "2025-05-05T08:00:39.264Z"
   },
   {
    "duration": 3,
    "start_time": "2025-05-05T08:00:39.289Z"
   },
   {
    "duration": 4,
    "start_time": "2025-05-05T08:00:39.294Z"
   },
   {
    "duration": 872,
    "start_time": "2025-05-05T08:00:39.300Z"
   },
   {
    "duration": 2870,
    "start_time": "2025-05-05T08:00:40.175Z"
   },
   {
    "duration": 475,
    "start_time": "2025-05-05T08:00:43.047Z"
   },
   {
    "duration": 450,
    "start_time": "2025-05-05T08:00:43.524Z"
   },
   {
    "duration": 418,
    "start_time": "2025-05-05T08:00:43.976Z"
   },
   {
    "duration": 5,
    "start_time": "2025-05-05T08:00:44.396Z"
   },
   {
    "duration": 393,
    "start_time": "2025-05-05T08:00:44.404Z"
   },
   {
    "duration": 4,
    "start_time": "2025-05-05T08:00:44.799Z"
   },
   {
    "duration": 751,
    "start_time": "2025-05-05T08:00:44.805Z"
   },
   {
    "duration": 797,
    "start_time": "2025-05-05T08:00:45.563Z"
   },
   {
    "duration": 1101,
    "start_time": "2025-05-05T08:00:46.362Z"
   },
   {
    "duration": 6,
    "start_time": "2025-05-05T08:01:37.790Z"
   },
   {
    "duration": 0,
    "start_time": "2025-05-05T08:04:12.321Z"
   },
   {
    "duration": 5,
    "start_time": "2025-05-05T08:04:18.340Z"
   },
   {
    "duration": 463,
    "start_time": "2025-05-05T08:04:18.347Z"
   },
   {
    "duration": 37,
    "start_time": "2025-05-05T08:04:18.812Z"
   },
   {
    "duration": 25,
    "start_time": "2025-05-05T08:04:18.851Z"
   },
   {
    "duration": 16,
    "start_time": "2025-05-05T08:04:18.879Z"
   },
   {
    "duration": 15,
    "start_time": "2025-05-05T08:04:18.897Z"
   },
   {
    "duration": 24,
    "start_time": "2025-05-05T08:04:18.942Z"
   },
   {
    "duration": 11,
    "start_time": "2025-05-05T08:04:18.968Z"
   },
   {
    "duration": 6458,
    "start_time": "2025-05-05T08:04:18.981Z"
   },
   {
    "duration": 19,
    "start_time": "2025-05-05T08:04:25.443Z"
   },
   {
    "duration": 3,
    "start_time": "2025-05-05T08:04:25.464Z"
   },
   {
    "duration": 5,
    "start_time": "2025-05-05T08:04:25.469Z"
   },
   {
    "duration": 831,
    "start_time": "2025-05-05T08:04:25.476Z"
   },
   {
    "duration": 2932,
    "start_time": "2025-05-05T08:04:26.311Z"
   },
   {
    "duration": 475,
    "start_time": "2025-05-05T08:04:29.246Z"
   },
   {
    "duration": 442,
    "start_time": "2025-05-05T08:04:29.723Z"
   },
   {
    "duration": 408,
    "start_time": "2025-05-05T08:04:30.168Z"
   },
   {
    "duration": 7,
    "start_time": "2025-05-05T08:04:30.578Z"
   },
   {
    "duration": 405,
    "start_time": "2025-05-05T08:04:30.587Z"
   },
   {
    "duration": 4,
    "start_time": "2025-05-05T08:04:30.994Z"
   },
   {
    "duration": 564,
    "start_time": "2025-05-05T08:04:31.000Z"
   },
   {
    "duration": 699,
    "start_time": "2025-05-05T08:04:31.566Z"
   },
   {
    "duration": 672,
    "start_time": "2025-05-05T08:04:32.271Z"
   },
   {
    "duration": 164667,
    "start_time": "2025-05-05T08:04:35.713Z"
   },
   {
    "duration": 986,
    "start_time": "2025-05-05T08:46:42.627Z"
   },
   {
    "duration": 490,
    "start_time": "2025-05-05T08:46:43.615Z"
   },
   {
    "duration": 30,
    "start_time": "2025-05-05T08:46:44.107Z"
   },
   {
    "duration": 20,
    "start_time": "2025-05-05T08:46:44.142Z"
   },
   {
    "duration": 14,
    "start_time": "2025-05-05T08:46:44.166Z"
   },
   {
    "duration": 13,
    "start_time": "2025-05-05T08:46:44.182Z"
   },
   {
    "duration": 47,
    "start_time": "2025-05-05T08:46:44.197Z"
   },
   {
    "duration": 8,
    "start_time": "2025-05-05T08:46:44.245Z"
   },
   {
    "duration": 6369,
    "start_time": "2025-05-05T08:46:44.255Z"
   },
   {
    "duration": 28,
    "start_time": "2025-05-05T08:46:50.625Z"
   },
   {
    "duration": 3,
    "start_time": "2025-05-05T08:46:50.655Z"
   },
   {
    "duration": 5,
    "start_time": "2025-05-05T08:46:50.659Z"
   },
   {
    "duration": 754,
    "start_time": "2025-05-05T08:46:50.665Z"
   },
   {
    "duration": 2755,
    "start_time": "2025-05-05T08:46:51.446Z"
   },
   {
    "duration": 473,
    "start_time": "2025-05-05T08:46:54.205Z"
   },
   {
    "duration": 441,
    "start_time": "2025-05-05T08:46:54.680Z"
   },
   {
    "duration": 343,
    "start_time": "2025-05-05T08:46:55.127Z"
   },
   {
    "duration": 4,
    "start_time": "2025-05-05T08:46:55.472Z"
   },
   {
    "duration": 368,
    "start_time": "2025-05-05T08:46:55.479Z"
   },
   {
    "duration": 4,
    "start_time": "2025-05-05T08:46:55.848Z"
   },
   {
    "duration": 611,
    "start_time": "2025-05-05T08:46:55.853Z"
   },
   {
    "duration": 414,
    "start_time": "2025-05-05T08:46:56.544Z"
   },
   {
    "duration": 603,
    "start_time": "2025-05-05T08:46:56.959Z"
   },
   {
    "duration": 108668,
    "start_time": "2025-05-05T08:47:02.395Z"
   },
   {
    "duration": 4,
    "start_time": "2025-05-05T08:49:30.614Z"
   },
   {
    "duration": 5,
    "start_time": "2025-05-05T08:49:54.817Z"
   },
   {
    "duration": 6,
    "start_time": "2025-05-05T08:50:21.949Z"
   },
   {
    "duration": 78076,
    "start_time": "2025-05-05T08:50:32.260Z"
   },
   {
    "duration": 114536,
    "start_time": "2025-05-05T08:53:26.512Z"
   },
   {
    "duration": 93151,
    "start_time": "2025-05-05T08:58:33.850Z"
   },
   {
    "duration": 121265,
    "start_time": "2025-05-05T09:02:03.234Z"
   },
   {
    "duration": 113092,
    "start_time": "2025-05-05T09:04:22.077Z"
   },
   {
    "duration": 113111,
    "start_time": "2025-05-05T09:07:48.082Z"
   },
   {
    "duration": 294,
    "start_time": "2025-05-05T09:09:50.704Z"
   },
   {
    "duration": 16,
    "start_time": "2025-05-05T09:10:19.841Z"
   },
   {
    "duration": 4,
    "start_time": "2025-05-05T09:10:29.883Z"
   },
   {
    "duration": 54,
    "start_time": "2025-05-05T09:12:32.027Z"
   },
   {
    "duration": 0,
    "start_time": "2025-05-05T09:21:02.712Z"
   },
   {
    "duration": 0,
    "start_time": "2025-05-05T09:21:02.713Z"
   },
   {
    "duration": 0,
    "start_time": "2025-05-05T09:21:02.715Z"
   },
   {
    "duration": 0,
    "start_time": "2025-05-05T09:21:02.716Z"
   },
   {
    "duration": 0,
    "start_time": "2025-05-05T09:21:02.718Z"
   },
   {
    "duration": 0,
    "start_time": "2025-05-05T09:21:02.742Z"
   },
   {
    "duration": 0,
    "start_time": "2025-05-05T09:21:02.744Z"
   },
   {
    "duration": 0,
    "start_time": "2025-05-05T09:21:02.745Z"
   },
   {
    "duration": 0,
    "start_time": "2025-05-05T09:21:02.746Z"
   },
   {
    "duration": 0,
    "start_time": "2025-05-05T09:21:02.747Z"
   },
   {
    "duration": 0,
    "start_time": "2025-05-05T09:21:02.749Z"
   },
   {
    "duration": 0,
    "start_time": "2025-05-05T09:21:02.751Z"
   },
   {
    "duration": 0,
    "start_time": "2025-05-05T09:21:02.752Z"
   },
   {
    "duration": 0,
    "start_time": "2025-05-05T09:21:02.754Z"
   },
   {
    "duration": 0,
    "start_time": "2025-05-05T09:21:02.755Z"
   },
   {
    "duration": 0,
    "start_time": "2025-05-05T09:21:02.757Z"
   },
   {
    "duration": 0,
    "start_time": "2025-05-05T09:21:02.758Z"
   },
   {
    "duration": 0,
    "start_time": "2025-05-05T09:21:02.760Z"
   },
   {
    "duration": 0,
    "start_time": "2025-05-05T09:21:02.762Z"
   },
   {
    "duration": 0,
    "start_time": "2025-05-05T09:21:02.763Z"
   },
   {
    "duration": 0,
    "start_time": "2025-05-05T09:21:02.765Z"
   },
   {
    "duration": 0,
    "start_time": "2025-05-05T09:21:02.766Z"
   },
   {
    "duration": 0,
    "start_time": "2025-05-05T09:21:02.768Z"
   },
   {
    "duration": 0,
    "start_time": "2025-05-05T09:21:02.769Z"
   },
   {
    "duration": 4,
    "start_time": "2025-05-05T09:21:37.460Z"
   },
   {
    "duration": 489,
    "start_time": "2025-05-05T09:21:37.466Z"
   },
   {
    "duration": 28,
    "start_time": "2025-05-05T09:21:37.957Z"
   },
   {
    "duration": 18,
    "start_time": "2025-05-05T09:21:37.988Z"
   },
   {
    "duration": 14,
    "start_time": "2025-05-05T09:21:38.007Z"
   },
   {
    "duration": 29,
    "start_time": "2025-05-05T09:21:38.022Z"
   },
   {
    "duration": 16,
    "start_time": "2025-05-05T09:21:38.054Z"
   },
   {
    "duration": 8,
    "start_time": "2025-05-05T09:21:38.072Z"
   },
   {
    "duration": 6395,
    "start_time": "2025-05-05T09:21:38.081Z"
   },
   {
    "duration": 18,
    "start_time": "2025-05-05T09:21:44.478Z"
   },
   {
    "duration": 2,
    "start_time": "2025-05-05T09:21:44.498Z"
   },
   {
    "duration": 4,
    "start_time": "2025-05-05T09:21:44.502Z"
   },
   {
    "duration": 737,
    "start_time": "2025-05-05T09:21:44.507Z"
   },
   {
    "duration": 2670,
    "start_time": "2025-05-05T09:21:45.246Z"
   },
   {
    "duration": 479,
    "start_time": "2025-05-05T09:21:47.918Z"
   },
   {
    "duration": 378,
    "start_time": "2025-05-05T09:21:48.399Z"
   },
   {
    "duration": 437,
    "start_time": "2025-05-05T09:21:48.779Z"
   },
   {
    "duration": 4,
    "start_time": "2025-05-05T09:21:49.219Z"
   },
   {
    "duration": 365,
    "start_time": "2025-05-05T09:21:49.225Z"
   },
   {
    "duration": 3,
    "start_time": "2025-05-05T09:21:49.592Z"
   },
   {
    "duration": 470,
    "start_time": "2025-05-05T09:21:49.597Z"
   },
   {
    "duration": 500,
    "start_time": "2025-05-05T09:21:50.068Z"
   },
   {
    "duration": 714,
    "start_time": "2025-05-05T09:21:50.643Z"
   },
   {
    "duration": 18,
    "start_time": "2025-05-05T09:21:54.486Z"
   },
   {
    "duration": 3,
    "start_time": "2025-05-05T09:22:27.231Z"
   },
   {
    "duration": 229420,
    "start_time": "2025-05-05T09:22:41.256Z"
   },
   {
    "duration": 229583,
    "start_time": "2025-05-05T09:26:52.361Z"
   },
   {
    "duration": 23,
    "start_time": "2025-05-05T09:30:47.875Z"
   },
   {
    "duration": 78,
    "start_time": "2025-05-05T09:31:19.753Z"
   },
   {
    "duration": 56358,
    "start_time": "2025-05-05T09:32:16.685Z"
   },
   {
    "duration": 3,
    "start_time": "2025-05-05T09:35:09.096Z"
   },
   {
    "duration": 438,
    "start_time": "2025-05-05T09:35:09.102Z"
   },
   {
    "duration": 30,
    "start_time": "2025-05-05T09:35:09.541Z"
   },
   {
    "duration": 19,
    "start_time": "2025-05-05T09:35:09.573Z"
   },
   {
    "duration": 12,
    "start_time": "2025-05-05T09:35:09.596Z"
   },
   {
    "duration": 34,
    "start_time": "2025-05-05T09:35:09.609Z"
   },
   {
    "duration": 14,
    "start_time": "2025-05-05T09:35:09.645Z"
   },
   {
    "duration": 9,
    "start_time": "2025-05-05T09:35:09.661Z"
   },
   {
    "duration": 7041,
    "start_time": "2025-05-05T09:35:09.672Z"
   },
   {
    "duration": 29,
    "start_time": "2025-05-05T09:35:16.714Z"
   },
   {
    "duration": 3,
    "start_time": "2025-05-05T09:35:16.744Z"
   },
   {
    "duration": 5,
    "start_time": "2025-05-05T09:35:16.749Z"
   },
   {
    "duration": 747,
    "start_time": "2025-05-05T09:35:16.755Z"
   },
   {
    "duration": 2712,
    "start_time": "2025-05-05T09:35:17.507Z"
   },
   {
    "duration": 492,
    "start_time": "2025-05-05T09:35:20.221Z"
   },
   {
    "duration": 449,
    "start_time": "2025-05-05T09:35:20.715Z"
   },
   {
    "duration": 368,
    "start_time": "2025-05-05T09:35:21.166Z"
   },
   {
    "duration": 8,
    "start_time": "2025-05-05T09:35:21.536Z"
   },
   {
    "duration": 359,
    "start_time": "2025-05-05T09:35:21.546Z"
   },
   {
    "duration": 3,
    "start_time": "2025-05-05T09:35:21.906Z"
   },
   {
    "duration": 438,
    "start_time": "2025-05-05T09:35:21.911Z"
   },
   {
    "duration": 699,
    "start_time": "2025-05-05T09:35:22.351Z"
   },
   {
    "duration": 808,
    "start_time": "2025-05-05T09:35:23.053Z"
   },
   {
    "duration": 55235,
    "start_time": "2025-05-05T09:39:12.802Z"
   },
   {
    "duration": 132024,
    "start_time": "2025-05-05T09:40:08.044Z"
   },
   {
    "duration": 31595,
    "start_time": "2025-05-05T09:42:47.148Z"
   },
   {
    "duration": 31477,
    "start_time": "2025-05-05T09:43:25.866Z"
   },
   {
    "duration": 57061,
    "start_time": "2025-05-05T09:44:04.307Z"
   },
   {
    "duration": 56968,
    "start_time": "2025-05-05T09:45:38.609Z"
   },
   {
    "duration": 56891,
    "start_time": "2025-05-05T09:49:59.979Z"
   },
   {
    "duration": 57073,
    "start_time": "2025-05-05T09:51:46.733Z"
   },
   {
    "duration": 21,
    "start_time": "2025-05-05T09:54:39.231Z"
   },
   {
    "duration": 1877,
    "start_time": "2025-05-05T10:34:15.341Z"
   },
   {
    "duration": 1106,
    "start_time": "2025-05-05T10:34:17.220Z"
   },
   {
    "duration": 88,
    "start_time": "2025-05-05T10:34:18.327Z"
   },
   {
    "duration": 28,
    "start_time": "2025-05-05T10:34:18.417Z"
   },
   {
    "duration": 76,
    "start_time": "2025-05-05T10:34:18.447Z"
   },
   {
    "duration": 14,
    "start_time": "2025-05-05T10:34:18.525Z"
   },
   {
    "duration": 75,
    "start_time": "2025-05-05T10:34:18.541Z"
   },
   {
    "duration": 10,
    "start_time": "2025-05-05T10:34:18.618Z"
   },
   {
    "duration": 12621,
    "start_time": "2025-05-05T10:34:18.630Z"
   },
   {
    "duration": 72,
    "start_time": "2025-05-05T10:34:31.254Z"
   },
   {
    "duration": 3,
    "start_time": "2025-05-05T10:34:31.328Z"
   },
   {
    "duration": 5,
    "start_time": "2025-05-05T10:34:31.333Z"
   },
   {
    "duration": 1288,
    "start_time": "2025-05-05T10:34:31.340Z"
   },
   {
    "duration": 4477,
    "start_time": "2025-05-05T10:34:32.633Z"
   },
   {
    "duration": 830,
    "start_time": "2025-05-05T10:34:37.112Z"
   },
   {
    "duration": 877,
    "start_time": "2025-05-05T10:34:37.944Z"
   },
   {
    "duration": 701,
    "start_time": "2025-05-05T10:34:38.822Z"
   },
   {
    "duration": 4,
    "start_time": "2025-05-05T10:34:39.525Z"
   },
   {
    "duration": 806,
    "start_time": "2025-05-05T10:34:39.531Z"
   },
   {
    "duration": 4,
    "start_time": "2025-05-05T10:34:40.339Z"
   },
   {
    "duration": 771,
    "start_time": "2025-05-05T10:34:40.345Z"
   },
   {
    "duration": 899,
    "start_time": "2025-05-05T10:34:41.118Z"
   },
   {
    "duration": 1013,
    "start_time": "2025-05-05T10:34:42.019Z"
   },
   {
    "duration": 66412,
    "start_time": "2025-05-05T10:34:43.110Z"
   },
   {
    "duration": 66230,
    "start_time": "2025-05-05T10:35:49.524Z"
   },
   {
    "duration": 117225,
    "start_time": "2025-05-05T10:36:55.810Z"
   },
   {
    "duration": 116517,
    "start_time": "2025-05-05T10:38:53.036Z"
   },
   {
    "duration": 22,
    "start_time": "2025-05-05T10:40:49.609Z"
   },
   {
    "duration": 3784,
    "start_time": "2025-05-06T04:45:44.585Z"
   },
   {
    "duration": 830,
    "start_time": "2025-05-06T04:45:48.373Z"
   },
   {
    "duration": 39,
    "start_time": "2025-05-06T04:45:49.205Z"
   },
   {
    "duration": 81,
    "start_time": "2025-05-06T04:45:49.246Z"
   },
   {
    "duration": 17,
    "start_time": "2025-05-06T04:45:49.330Z"
   },
   {
    "duration": 15,
    "start_time": "2025-05-06T04:45:49.349Z"
   },
   {
    "duration": 14,
    "start_time": "2025-05-06T04:45:49.366Z"
   },
   {
    "duration": 904,
    "start_time": "2025-05-06T04:45:53.892Z"
   },
   {
    "duration": 17,
    "start_time": "2025-05-06T04:46:33.709Z"
   },
   {
    "duration": 28,
    "start_time": "2025-05-06T04:46:38.772Z"
   },
   {
    "duration": 10,
    "start_time": "2025-05-06T04:46:42.183Z"
   },
   {
    "duration": 8,
    "start_time": "2025-05-06T04:48:16.433Z"
   }
  ],
  "kernelspec": {
   "display_name": "Python 3",
   "language": "python",
   "name": "python3"
  },
  "language_info": {
   "codemirror_mode": {
    "name": "ipython",
    "version": 3
   },
   "file_extension": ".py",
   "mimetype": "text/x-python",
   "name": "python",
   "nbconvert_exporter": "python",
   "pygments_lexer": "ipython3",
   "version": "3.13.0"
  },
  "toc": {
   "base_numbering": 1,
   "nav_menu": {},
   "number_sections": true,
   "sideBar": true,
   "skip_h1_title": true,
   "title_cell": "Table of Contents",
   "title_sidebar": "Contents",
   "toc_cell": false,
   "toc_position": {},
   "toc_section_display": true,
   "toc_window_display": false
  }
 },
 "nbformat": 4,
 "nbformat_minor": 5
}
