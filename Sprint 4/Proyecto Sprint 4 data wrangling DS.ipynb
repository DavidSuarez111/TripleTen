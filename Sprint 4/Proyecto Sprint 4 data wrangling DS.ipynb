{
 "cells": [
  {
   "cell_type": "markdown",
   "id": "3Xg_RQfnafXz",
   "metadata": {
    "id": "3Xg_RQfnafXz"
   },
   "source": [
    "# ¡Llena ese carrito!"
   ]
  },
  {
   "cell_type": "markdown",
   "id": "mhIvmmkW414q",
   "metadata": {
    "id": "mhIvmmkW414q"
   },
   "source": [
    "# Introducción\n",
    "\n",
    "Instacart es una plataforma de entregas de comestibles donde la clientela puede registrar un pedido y hacer que se lo entreguen, similar a Uber Eats y Door Dash.\n",
    "El conjunto de datos que te hemos proporcionado tiene modificaciones del original. Redujimos el tamaño del conjunto para que tus cálculos se hicieran más rápido e introdujimos valores ausentes y duplicados. Tuvimos cuidado de conservar las distribuciones de los datos originales cuando hicimos los cambios.\n",
    "\n",
    "Debes completar tres pasos. Para cada uno de ellos, escribe una breve introducción que refleje con claridad cómo pretendes resolver cada paso, y escribe párrafos explicatorios que justifiquen tus decisiones al tiempo que avanzas en tu solución.  También escribe una conclusión que resuma tus hallazgos y elecciones.\n"
   ]
  },
  {
   "cell_type": "markdown",
   "id": "3MbyzpOQZ5Or",
   "metadata": {
    "id": "3MbyzpOQZ5Or"
   },
   "source": [
    "## Diccionario de datos\n",
    "\n",
    "Hay cinco tablas en el conjunto de datos, y tendrás que usarlas todas para hacer el preprocesamiento de datos y el análisis exploratorio de datos. A continuación se muestra un diccionario de datos que enumera las columnas de cada tabla y describe los datos que contienen.\n",
    "\n",
    "- `instacart_orders.csv`: cada fila corresponde a un pedido en la aplicación Instacart.\n",
    "    - `'order_id'`: número de ID que identifica de manera única cada pedido.\n",
    "    - `'user_id'`: número de ID que identifica de manera única la cuenta de cada cliente.\n",
    "    - `'order_number'`: el número de veces que este cliente ha hecho un pedido.\n",
    "    - `'order_dow'`: día de la semana en que se hizo el pedido (0 si es domingo).\n",
    "    - `'order_hour_of_day'`: hora del día en que se hizo el pedido.\n",
    "    - `'days_since_prior_order'`: número de días transcurridos desde que este cliente hizo su pedido anterior.\n",
    "- `products.csv`: cada fila corresponde a un producto único que pueden comprar los clientes.\n",
    "    - `'product_id'`: número ID que identifica de manera única cada producto.\n",
    "    - `'product_name'`: nombre del producto.\n",
    "    - `'aisle_id'`: número ID que identifica de manera única cada categoría de pasillo de víveres.\n",
    "    - `'department_id'`: número ID que identifica de manera única cada departamento de víveres.\n",
    "- `order_products.csv`: cada fila corresponde a un artículo pedido en un pedido.\n",
    "    - `'order_id'`: número de ID que identifica de manera única cada pedido.\n",
    "    - `'product_id'`: número ID que identifica de manera única cada producto.\n",
    "    - `'add_to_cart_order'`: el orden secuencial en el que se añadió cada artículo en el carrito.\n",
    "    - `'reordered'`: 0 si el cliente nunca ha pedido este producto antes, 1 si lo ha pedido.\n",
    "- `aisles.csv`\n",
    "    - `'aisle_id'`: número ID que identifica de manera única cada categoría de pasillo de víveres.\n",
    "    - `'aisle'`: nombre del pasillo.\n",
    "- `departments.csv`\n",
    "    - `'department_id'`: número ID que identifica de manera única cada departamento de víveres.\n",
    "    - `'department'`: nombre del departamento."
   ]
  },
  {
   "cell_type": "markdown",
   "id": "n3Ha_cNSZ8lK",
   "metadata": {
    "id": "n3Ha_cNSZ8lK"
   },
   "source": [
    "# Paso 1. Descripción de los datos\n",
    "\n",
    "Lee los archivos de datos (`/datasets/instacart_orders.csv`, `/datasets/products.csv`, `/datasets/aisles.csv`, `/datasets/departments.csv` y `/datasets/order_products.csv`) con `pd.read_csv()` usando los parámetros adecuados para leer los datos correctamente. Verifica la información para cada DataFrame creado.\n"
   ]
  },
  {
   "cell_type": "markdown",
   "id": "OmlQPLlyaAfR",
   "metadata": {
    "id": "OmlQPLlyaAfR"
   },
   "source": [
    "## Plan de solución\n",
    "\n",
    "Paso 1. Descripción de los datos. Con el objetivo de importar y revisar los datos inicialmente: \n",
    "1. Importaré pandas\n",
    "2. usaré pd.read_csv() cambiando el valor de separación de acuerdo al resultado de previsualización. \n",
    "3. Para explorar o previsualizar los datos usaré: info(), .columns, print(), head(). "
   ]
  },
  {
   "cell_type": "code",
   "execution_count": 1,
   "id": "fbf1adab",
   "metadata": {
    "id": "fbf1adab"
   },
   "outputs": [],
   "source": [
    "# importar librerías\n",
    "import pandas as pd\n",
    "import matplotlib.pyplot as plt"
   ]
  },
  {
   "cell_type": "code",
   "execution_count": 2,
   "id": "ad36396d",
   "metadata": {
    "id": "ad36396d"
   },
   "outputs": [],
   "source": [
    "# leer conjuntos de datos en los DataFrames\n",
    "instacart_ds = pd.read_csv(\"instacart_orders.csv\", sep = \";\")\n",
    "products_ds = pd.read_csv(\"products.csv\", sep = \";\")\n",
    "aisles_ds = pd.read_csv(\"aisles.csv\", sep = \";\")\n",
    "departments_ds = pd.read_csv(\"departments.csv\", sep = \";\")\n",
    "order_products_ds = pd.read_csv(\"order_products.csv\", sep = \";\")"
   ]
  },
  {
   "cell_type": "markdown",
   "id": "6280ca81",
   "metadata": {},
   "source": [
    "Siguiendo el patrón de importación de todos los valores por pd.read_csv(), también opté por no describir cada base de datos por separado sino que todos juntos."
   ]
  },
  {
   "cell_type": "code",
   "execution_count": 3,
   "id": "ad6a1efa",
   "metadata": {
    "id": "ad6a1efa"
   },
   "outputs": [
    {
     "name": "stdout",
     "output_type": "stream",
     "text": [
      "   order_id  user_id  order_number  order_dow  order_hour_of_day  \\\n",
      "0   1515936   183418            11          6                 13   \n",
      "1   1690866   163593             5          5                 12   \n",
      "2   1454967    39980             4          5                 19   \n",
      "3   1768857    82516            56          0                 20   \n",
      "4   3007858   196724             2          4                 12   \n",
      "\n",
      "   days_since_prior_order  \n",
      "0                    30.0  \n",
      "1                     9.0  \n",
      "2                     2.0  \n",
      "3                    10.0  \n",
      "4                    17.0  \n",
      "   order_id  product_id  add_to_cart_order  reordered\n",
      "0   2141543       11440               17.0          0\n",
      "1    567889        1560                1.0          1\n",
      "2   2261212       26683                1.0          1\n",
      "3    491251        8670               35.0          1\n",
      "4   2571142        1940                5.0          1\n",
      "   aisle_id                       aisle\n",
      "0         1       prepared soups salads\n",
      "1         2           specialty cheeses\n",
      "2         3         energy granola bars\n",
      "3         4               instant foods\n",
      "4         5  marinades meat preparation\n",
      "   department_id department\n",
      "0              1     frozen\n",
      "1              2      other\n",
      "2              3     bakery\n",
      "3              4    produce\n",
      "4              5    alcohol\n",
      "   product_id                                       product_name  aisle_id  \\\n",
      "0           1                         Chocolate Sandwich Cookies        61   \n",
      "1           2                                   All-Seasons Salt       104   \n",
      "2           3               Robust Golden Unsweetened Oolong Tea        94   \n",
      "3           4  Smart Ones Classic Favorites Mini Rigatoni Wit...        38   \n",
      "4           5                          Green Chile Anytime Sauce         5   \n",
      "\n",
      "   department_id  \n",
      "0             19  \n",
      "1             13  \n",
      "2              7  \n",
      "3              1  \n",
      "4             13  \n"
     ]
    }
   ],
   "source": [
    "# mostrar información de los DataFrames por print y head. \n",
    "print(instacart_ds.head())\n",
    "print(order_products_ds.head())\n",
    "print(aisles_ds.head())\n",
    "print(departments_ds.head())\n",
    "print(products_ds.head())\n",
    "\n",
    "#conjunto de dfs: instacart_ds, order_products_ds,  aisles_ds, departments_ds, products_ds"
   ]
  },
  {
   "cell_type": "markdown",
   "id": "2d8b3233",
   "metadata": {},
   "source": [
    "Posterior a correr la función head observé un patrón de separación de \";\" así que corregí la función de lectura de csv adicionando el atributo sep = \";\" para todos los casos. Este paso arregló la previsualización de los datos generando separaciones claras y notoriamente mayor cantidad de columnas. "
   ]
  },
  {
   "cell_type": "code",
   "execution_count": 4,
   "id": "5130e05e",
   "metadata": {
    "id": "5130e05e"
   },
   "outputs": [
    {
     "name": "stdout",
     "output_type": "stream",
     "text": [
      "<class 'pandas.core.frame.DataFrame'>\n",
      "RangeIndex: 478967 entries, 0 to 478966\n",
      "Data columns (total 6 columns):\n",
      " #   Column                  Non-Null Count   Dtype  \n",
      "---  ------                  --------------   -----  \n",
      " 0   order_id                478967 non-null  int64  \n",
      " 1   user_id                 478967 non-null  int64  \n",
      " 2   order_number            478967 non-null  int64  \n",
      " 3   order_dow               478967 non-null  int64  \n",
      " 4   order_hour_of_day       478967 non-null  int64  \n",
      " 5   days_since_prior_order  450148 non-null  float64\n",
      "dtypes: float64(1), int64(5)\n",
      "memory usage: 21.9 MB\n",
      "\n",
      "<class 'pandas.core.frame.DataFrame'>\n",
      "RangeIndex: 4545007 entries, 0 to 4545006\n",
      "Data columns (total 4 columns):\n",
      " #   Column             Dtype  \n",
      "---  ------             -----  \n",
      " 0   order_id           int64  \n",
      " 1   product_id         int64  \n",
      " 2   add_to_cart_order  float64\n",
      " 3   reordered          int64  \n",
      "dtypes: float64(1), int64(3)\n",
      "memory usage: 138.7 MB\n",
      "\n",
      "<class 'pandas.core.frame.DataFrame'>\n",
      "RangeIndex: 134 entries, 0 to 133\n",
      "Data columns (total 2 columns):\n",
      " #   Column    Non-Null Count  Dtype \n",
      "---  ------    --------------  ----- \n",
      " 0   aisle_id  134 non-null    int64 \n",
      " 1   aisle     134 non-null    object\n",
      "dtypes: int64(1), object(1)\n",
      "memory usage: 2.2+ KB\n",
      "\n",
      "<class 'pandas.core.frame.DataFrame'>\n",
      "RangeIndex: 21 entries, 0 to 20\n",
      "Data columns (total 2 columns):\n",
      " #   Column         Non-Null Count  Dtype \n",
      "---  ------         --------------  ----- \n",
      " 0   department_id  21 non-null     int64 \n",
      " 1   department     21 non-null     object\n",
      "dtypes: int64(1), object(1)\n",
      "memory usage: 468.0+ bytes\n",
      "\n",
      "<class 'pandas.core.frame.DataFrame'>\n",
      "RangeIndex: 49694 entries, 0 to 49693\n",
      "Data columns (total 4 columns):\n",
      " #   Column         Non-Null Count  Dtype \n",
      "---  ------         --------------  ----- \n",
      " 0   product_id     49694 non-null  int64 \n",
      " 1   product_name   48436 non-null  object\n",
      " 2   aisle_id       49694 non-null  int64 \n",
      " 3   department_id  49694 non-null  int64 \n",
      "dtypes: int64(3), object(1)\n",
      "memory usage: 1.5+ MB\n",
      "\n"
     ]
    }
   ],
   "source": [
    "# mostrar información de los DataFrames por .info() y generar una variable que contiene todos los nombres de las columnas de los dataframes.\n",
    "columns = [] #Inicializar la variable vacía de nombres de las columnas\n",
    "def visualizar_data(df): \n",
    "    df.info()\n",
    "    print(\"\") #Mejorar estética de presentación de valores generando espacios entre impresiones.\n",
    "    columns.append(df.columns.tolist()) #añadir valores a la variable de columnas\n",
    "\n",
    "for df in [instacart_ds, order_products_ds,  aisles_ds, departments_ds, products_ds]: \n",
    "    visualizar_data(df) #Al ser 5 conjuntos de datos pensé en hacer menos repetitivo el llamado de funciones de visualización info y columns."
   ]
  },
  {
   "cell_type": "markdown",
   "id": "fad3f1eb",
   "metadata": {},
   "source": [
    "De lo encontrado por info() se ve de primera instancia en orden que: \n",
    "\n",
    "El primer df(1)- instacart_ds:  está compuesta por 478967 filas, 6 columnas y solo la 6ta columna correspondiente a días desde la última compra tiene valores nulos. \n",
    "\n",
    "El segundo df(2)-order_products_ds:  está compuesta por 4 millones y medio de filas, 4 columnas y no comenta sobre su cantidad de valores nulos en una primera visualización.  Pendiente corroborar valores nulos o información adicional para verificar que la importación de los datos y su calidad es adecuada. \n",
    "\n",
    "El tercer df(3)- aisles_ds: está compuesta por 134 filas y 2 columnas sin valores nulos.\n",
    "\n",
    "El cuarto df(4)-departments_ds: está compuesta por 21 filas y 2 columnas sin valores nulos.\n",
    "\n",
    "El tercer df(5):products_ds: está compuesta por 49694 filas y 4 columnas con valores nulos en la segunda columna. \n",
    "\n"
   ]
  },
  {
   "cell_type": "code",
   "execution_count": 5,
   "id": "a2ede471",
   "metadata": {},
   "outputs": [
    {
     "name": "stdout",
     "output_type": "stream",
     "text": [
      "['order_id', 'user_id', 'order_number', 'order_dow', 'order_hour_of_day', 'days_since_prior_order']\n",
      "['order_id', 'product_id', 'add_to_cart_order', 'reordered']\n",
      "['aisle_id', 'aisle']\n",
      "['department_id', 'department']\n",
      "['product_id', 'product_name', 'aisle_id', 'department_id']\n"
     ]
    }
   ],
   "source": [
    "#Cuadro de código opcional por preferencia propia: Me agrada tener los nombres de las columnas de dataframes a la mano.\n",
    "instacart_cols = columns[0]\n",
    "order_products_cols = columns[1]\n",
    "aisles_cols = columns[2]\n",
    "departments_cols = columns[3]\n",
    "products_cols = columns[4]\n",
    "\n",
    "for col in columns:\n",
    "    print(col)\n",
    "    \n",
    "#Los nombres de las columnas están en formato adecuado minúsculas separadas por guiones sin espacios extra. "
   ]
  },
  {
   "cell_type": "markdown",
   "id": "t75BD19oaR5f",
   "metadata": {
    "id": "t75BD19oaR5f"
   },
   "source": [
    "## Conclusiones\n",
    "\n",
    "Conclusiones intermedias sobre el Paso 1. Descripción de los datos.\n",
    "\n",
    "Se generaron 5 marcos de datos o dataframes con cantidad variante de columnas, se tienen variables para los nombres de las columnas por preferencia personal y se hace mención de que, sin generar cambios, las columnas están correctamente etiquetadas sin espacios extra y en minúsculas. Hay valores nulos para 2 columnas, 6ta columna del dataframe 1 o instacart_ds y segunda columna del dataframe 5 o products_ds. \n",
    "\n",
    "Nombres de variables de bases de datos: instacart_ds, order_products_ds,  aisles_ds, departments_ds, products_ds\n",
    "Nombres de variables de columnas: instacart_cols, order_products_cols, aisles_cols, departments_cols, product_cols\n"
   ]
  },
  {
   "cell_type": "markdown",
   "id": "8RJHqxVmaVsF",
   "metadata": {
    "id": "8RJHqxVmaVsF"
   },
   "source": [
    "# Paso 2. Preprocesamiento de los datos\n",
    "\n",
    "Los datos serán preprocesados de la siguiente manera: \n",
    "\n",
    "- Verifica y corrige los tipos de datos (por ejemplo, asegúrate de que las columnas de ID sean números enteros).\n",
    "- Identifica y completa los valores ausentes.\n",
    "- Identifica y elimina los valores duplicados.\n",
    "\n",
    "Asegúrate de explicar qué tipos de valores ausentes y duplicados encontraste, cómo los completaste o eliminaste y por qué usaste esos métodos. ¿Por qué crees que estos valores ausentes y duplicados pueden haber estado presentes en el conjunto de datos?"
   ]
  },
  {
   "cell_type": "markdown",
   "id": "p6poABZQaZYb",
   "metadata": {
    "id": "p6poABZQaZYb"
   },
   "source": [
    "## Plan de solución\n",
    "\n",
    "Plan para el Paso 2. Preprocesamiento de los datos.\n",
    "\n",
    "Para el procesamiento de datos se tiene por objetivo revisar tipos de datos adecuados, sustitución de valores ausentes e identificación y remoción de duplicados. \n",
    "El plan para resolver los previos temas de calidad de datos son: \n",
    "1. Revisión con info(). Info(), previamente usado, generó un listado de las columnas y su tipo de dato. Se realizará una revisión de las columnas que puedan contener un tipo de valor errado y corroborar si hay cambios necesarios para los objetivos del proyecto. Cambios posibles: float a int para las variables que manejan número de días. \n",
    "\n",
    "2. Valores ausentes. Se identificará la tasa de presencia de ausentes mediante obtención de promedios usando isna() y mean(). Se reemplazarán los valores nulos dependiendo del tipo de dato con el que se trata ya sea con espacios vacíos \"\" o elementos de medida central para valores numéricos como mediana o media. \n",
    "\n",
    "3. Duplicados. La presencia de duplicados se revisará mediante duplicated() y drop_duplicates(). Para valores de duplicados no obvios como tipográficos se empleará nunique() y unique() así como bucles orientados a unificar los valores complementados con funciones de manipulación de strings como strip(), lower() o replace(). "
   ]
  },
  {
   "cell_type": "markdown",
   "id": "07357848-dc64-4156-9cc3-01ff4365226d",
   "metadata": {
    "id": "07357848-dc64-4156-9cc3-01ff4365226d"
   },
   "source": [
    "## Encuentra y elimina los valores duplicados (y describe cómo tomaste tus decisiones)."
   ]
  },
  {
   "cell_type": "markdown",
   "id": "f179f0a9",
   "metadata": {
    "id": "f179f0a9"
   },
   "source": [
    "### `instacart_orders` data frame"
   ]
  },
  {
   "cell_type": "code",
   "execution_count": 6,
   "id": "b99297a5-405a-463d-8535-9adc3da4ad74",
   "metadata": {
    "id": "b99297a5-405a-463d-8535-9adc3da4ad74"
   },
   "outputs": [
    {
     "name": "stdout",
     "output_type": "stream",
     "text": [
      "Hay 15 pedidos duplicados\n",
      "28819 valores nulos en columna days_since_prior_order\n"
     ]
    }
   ],
   "source": [
    "#Revisión de cambios en tipos de datos. Sin cambios necesarios. \n",
    "\n",
    "#Valores atípicos float cuando podría ser int. #contiene valores nulos que no pueden ser 0 porque podría expresar que no han pasado días desde compras. \n",
    "#print(instacart_ds[\"days_since_prior_order\"].sum()) #4997315 sin pasar a int. pérdida de valores al pasar a int?\n",
    "#print(instacart_ds[\"days_since_prior_order\"].isna().sum()) #28817 valores nulos\n",
    "#print(instacart_ds[\"days_since_prior_order\"].astype(int).sum()) #no aplica porque hay valores nulos. \n",
    "\n",
    "#Revisión simple de alfanuméricos. Los números saldrían en valores máximos y pueden complicar operaciones. No hay números se realizó revisión para order_id y user_id.\n",
    "#print(instacart_ds[\"order_id\"].min())\n",
    "#print(instacart_ds[\"order_id\"].max()) #no hay uso de alfanuméricos simplemente numéricos\n",
    "\n",
    "# Revisa si hay pedidos duplicados\n",
    "print(f\"Hay {instacart_ds.duplicated().sum()} pedidos duplicados\") #15 duplicados\n",
    "\n",
    "#Hay valores nulos? \n",
    "instacart_ds.isna().mean()\n",
    "print(f\"{instacart_ds[\"days_since_prior_order\"].isna().sum()} valores nulos en columna days_since_prior_order\") #28819\n",
    "\n",
    "\n"
   ]
  },
  {
   "cell_type": "markdown",
   "id": "7083e832",
   "metadata": {},
   "source": [
    "Hay 15 pedidos duplicados, 28819 valores nulos para la variable de días desde orden previa. \n",
    "\n",
    "Conforme al desarrollo del proyecto se revisará si estos valores han de ser cambiados. "
   ]
  },
  {
   "cell_type": "markdown",
   "id": "PEkwUX_gvt5A",
   "metadata": {
    "id": "PEkwUX_gvt5A"
   },
   "source": [
    "¿Tienes líneas duplicadas? Si sí, ¿qué tienen en común?"
   ]
  },
  {
   "cell_type": "markdown",
   "id": "619e48be",
   "metadata": {},
   "source": [
    "Hay lineas duplicadas, 15. Lo que tienen en común los duplicados no estoy seguro si lo se evaluar. \n",
    "Tengo en mente que los duplicados son iguales como tal. De todas formas posteriormente se hizo un llamado de order_id y hay 15 que faltan para completar el número de registro entonces algo representativo de duplicación es que 2 pedidos tengan el mismo número de id de orden. "
   ]
  },
  {
   "cell_type": "code",
   "execution_count": 7,
   "id": "0d44de5d",
   "metadata": {
    "id": "0d44de5d"
   },
   "outputs": [
    {
     "name": "stdout",
     "output_type": "stream",
     "text": [
      "        order_id  user_id  order_number  order_dow  order_hour_of_day  \\\n",
      "4838     2766110   162084            41          3                  2   \n",
      "5156     2190225   138285            18          3                  2   \n",
      "15506     553049    58599            13          3                  2   \n",
      "18420     382357   120200            19          3                  2   \n",
      "24691     690242    77357             2          3                  2   \n",
      "...          ...      ...           ...        ...                ...   \n",
      "457013   3384021    14881             6          3                  2   \n",
      "458816    910166   164782            18          3                  2   \n",
      "459635   1680532   106435             6          3                  2   \n",
      "468324    222962    54979            59          3                  2   \n",
      "477526   2592344    46860            38          3                  2   \n",
      "\n",
      "        days_since_prior_order  \n",
      "4838                      16.0  \n",
      "5156                      11.0  \n",
      "15506                      7.0  \n",
      "18420                     11.0  \n",
      "24691                      9.0  \n",
      "...                        ...  \n",
      "457013                    30.0  \n",
      "458816                     4.0  \n",
      "459635                    21.0  \n",
      "468324                     3.0  \n",
      "477526                     3.0  \n",
      "\n",
      "[121 rows x 6 columns]\n",
      "Hay 15 duplicados el miércoles a a las 2 am\n",
      "De un total de 121 pedidos, 15 están duplicados por lo tanto hay 106 pedidos el miércoles a las 2 am\n"
     ]
    }
   ],
   "source": [
    "# Basándote en tus hallazgos,\n",
    "# Verifica todos los pedidos que se hicieron el miércoles a las 2:00 a.m.\n",
    "wed_2am = instacart_ds[(instacart_ds[\"order_dow\"]==3) & (instacart_ds[\"order_hour_of_day\"]==2)]\n",
    "print(wed_2am) #esto es lo que se pidió?\n",
    "print(f\"Hay {wed_2am[\"order_id\"].duplicated().sum()} duplicados el miércoles a a las 2 am\")\n",
    "print(\"De un total de 121 pedidos, 15 están duplicados por lo tanto hay 106 pedidos el miércoles a las 2 am\") #no robusto si se modifica la base de datos, línea de código no dinámico. \n",
    "\n"
   ]
  },
  {
   "cell_type": "code",
   "execution_count": 8,
   "id": "d4cef1db",
   "metadata": {},
   "outputs": [
    {
     "name": "stdout",
     "output_type": "stream",
     "text": [
      "\n",
      "Valores únicos de order_id: 478952\n"
     ]
    },
    {
     "name": "stdout",
     "output_type": "stream",
     "text": [
      "El número de duplicados de order_id es: 15\n",
      "La suma de ambos números da el total de filas o registros de la base de datos: 478967\n"
     ]
    }
   ],
   "source": [
    "#corroborar valores únicos de forma alterna de order_id\n",
    "print(\"\")\n",
    "print(f\"Valores únicos de order_id: {instacart_ds[\"order_id\"].nunique()}\") \n",
    "#478952 y son 478967, 15 duplicados. \n",
    "\n",
    "print(f\"El número de duplicados de order_id es: {instacart_ds[\"order_id\"].duplicated().sum()}\")\n",
    "print(\"La suma de ambos números da el total de filas o registros de la base de datos: 478967\")"
   ]
  },
  {
   "cell_type": "markdown",
   "id": "vu2OWyoqwOx5",
   "metadata": {
    "id": "vu2OWyoqwOx5"
   },
   "source": [
    "¿Qué sugiere este resultado?"
   ]
  },
  {
   "cell_type": "markdown",
   "id": "19ab4903",
   "metadata": {},
   "source": [
    "Del total de pedidos 15 están repetidos. Sería interesante generar una columna que tenga información sobre cancelaciones de orden. ¿Por qué será que hay estos duplicados? "
   ]
  },
  {
   "cell_type": "code",
   "execution_count": 9,
   "id": "480563c7",
   "metadata": {
    "id": "480563c7"
   },
   "outputs": [],
   "source": [
    "# Elimina los pedidos duplicados\n",
    "instacart_ds = instacart_ds.drop_duplicates()\n",
    "\n"
   ]
  },
  {
   "cell_type": "code",
   "execution_count": 10,
   "id": "0b2396a2",
   "metadata": {
    "id": "0b2396a2"
   },
   "outputs": [
    {
     "name": "stdout",
     "output_type": "stream",
     "text": [
      "0 duplicados encontrados\n"
     ]
    }
   ],
   "source": [
    "# Vuelve a verificar si hay filas duplicadas\n",
    "print(f\"{instacart_ds.duplicated().sum()} duplicados encontrados\") #0 duplicados"
   ]
  },
  {
   "cell_type": "code",
   "execution_count": 11,
   "id": "f6113ef1",
   "metadata": {
    "id": "f6113ef1"
   },
   "outputs": [
    {
     "name": "stdout",
     "output_type": "stream",
     "text": [
      "0 duplicados encontrados para columna order_id\n"
     ]
    }
   ],
   "source": [
    "# Vuelve a verificar si hay IDs duplicados de pedidos\n",
    "\n",
    "print(f\"{instacart_ds[\"order_id\"].duplicated().sum()} duplicados encontrados para columna order_id\") \n",
    "\n",
    "#Si se busca saber número de usuarios distintos interés personal. \n",
    "#y {instacart_ds[\"user_id\"].duplicated().sum()} duplicados para user_id)\n",
    "#print(f\"{(len(instacart_ds)) - (instacart_ds[\"user_id\"].duplicated().sum())} usuarios únicos\") #forma alterna nunique.\n",
    "#print(instacart_ds[\"user_id\"].nunique()) #Si"
   ]
  },
  {
   "cell_type": "markdown",
   "id": "5e8905ae",
   "metadata": {
    "id": "5e8905ae"
   },
   "source": [
    "Describe brevemente tus hallazgos y lo que hiciste con ellos\n",
    "\n",
    "Los datos parecen ser apropiados al enfoque del proyecto. Los id se manejan como enteros siendo enteros sin uso de alfanuméricos comprobados de forma breve usando la función max sobre las series con IDs. Hay valores nulos que no es apropiado reemplazar considerando que así son más precisos con la información que buscan transmitir. Nulo si no ha habido una compra previa. 28819 valores nulos. \n",
    "\n",
    "Se encontraron 15 valores duplicados mediante sum y duplicated y fueron removidos mediante drop_duplicates. Esta información fue corroborada de forma alterna con nunique sobre order_id consiguiendo la misma información una diferencia de 15 valores sobre el total de registros. \n",
    "\n",
    "Y por último se filtró el número de pedidos para el día miércoles a las 2 am siendo de 121 subtotales pero aquí estaban los 15 duplicados revisados por duplicated y sum dando un total de 106 pedidos. \n",
    "\n",
    "\n"
   ]
  },
  {
   "cell_type": "markdown",
   "id": "45e6bc46",
   "metadata": {
    "id": "45e6bc46"
   },
   "source": [
    "### `products` data frame"
   ]
  },
  {
   "cell_type": "code",
   "execution_count": 12,
   "id": "5f526b5b-8175-46fa-a0fd-441767d50e64",
   "metadata": {
    "id": "5f526b5b-8175-46fa-a0fd-441767d50e64"
   },
   "outputs": [
    {
     "name": "stdout",
     "output_type": "stream",
     "text": [
      "Hay 0 filas duplicadas en la base de datos products_ds\n"
     ]
    }
   ],
   "source": [
    "# Verifica si hay filas totalmente duplicadas\n",
    "print(f\"Hay {products_ds.duplicated().sum()} filas duplicadas en la base de datos products_ds\")\n",
    "\n"
   ]
  },
  {
   "cell_type": "code",
   "execution_count": 13,
   "id": "88daa4f4",
   "metadata": {
    "id": "88daa4f4"
   },
   "outputs": [
    {
     "name": "stdout",
     "output_type": "stream",
     "text": [
      "0 duplicados en IDs de productos\n"
     ]
    }
   ],
   "source": [
    "# Verifica si hay IDs duplicadas de productos\n",
    "\n",
    "print(f\"{products_ds[\"product_id\"].duplicated().sum()} duplicados en IDs de productos\")\n",
    "\n",
    "#print(products_cols) #'product_id', 'product_name', 'aisle_id', 'department_id'"
   ]
  },
  {
   "cell_type": "code",
   "execution_count": 14,
   "id": "c773f0bf",
   "metadata": {
    "id": "c773f0bf"
   },
   "outputs": [
    {
     "name": "stdout",
     "output_type": "stream",
     "text": [
      "De 49694 registros, hay 48333 distintos nombres de productos\n",
      "Hay 1361 duplicados en product_name o nombres de productos convertidos a mayúsculas del marco de datos products.\n"
     ]
    }
   ],
   "source": [
    "# Revisa si hay nombres duplicados de productos (convierte los nombres a letras mayúsculas para compararlos mejor)\n",
    "#print(products_ds[\"product_name\"].str.upper().duplicated().sum())\n",
    "\n",
    "print(f\"De {len(products_ds)} registros, hay {len(products_ds[\"product_name\"].str.upper().unique())} distintos nombres de productos\")\n",
    "print(f\"Hay {len(products_ds) - len(products_ds[\"product_name\"].str.upper().unique())} duplicados en product_name o nombres de productos convertidos a mayúsculas del marco de datos products.\") #1257\n",
    "\n",
    "#Corroboración alterna por duplicated y sum. \n",
    "#print(products_ds[\"product_name\"].duplicated().sum()) \n",
    "#1257 vs 1361 si se convierten en mayúscula. Hay mayores duplicados tras la conversión. \n",
    "\n",
    "#Revisión de Id de productos para corroborar también que los duplicados concuerden y no haya diferencias por errores tipográficos. Son únicos para cada producto, no es un análisis muy útil.\n",
    "#products_ds[\"product_id\"].duplicated().sum() #0\n",
    "#products_ds[\"product_id\"].nunique() #49694 todos los registros. Esto quiere decir, que cada producto aunque sea el mismo tipo tiene distinto id.\n",
    "#y la descripción lo confirma"
   ]
  },
  {
   "cell_type": "code",
   "execution_count": 15,
   "id": "01efd02e",
   "metadata": {
    "id": "01efd02e"
   },
   "outputs": [
    {
     "name": "stdout",
     "output_type": "stream",
     "text": [
      "1257\n",
      "104\n"
     ]
    }
   ],
   "source": [
    "# Revisa si hay nombres duplicados de productos no faltantes\n",
    "#No entendí a que se refiere la instrucción particularmente expresión \"productos no faltantes\"\n",
    "\n",
    "#Faltantes == Aisle 21 or Department == 100\n",
    "print(products_ds[((products_ds[\"aisle_id\"]==100) & (products_ds[\"department_id\"]==21))][\"product_name\"].str.upper().duplicated().sum()) #1257 duplicados en productos faltantes\n",
    "print(products_ds[~((products_ds[\"aisle_id\"]==100) & (products_ds[\"department_id\"]==21))][\"product_name\"].str.upper().duplicated().sum()) #104 duplicados en productos no faltantes\n",
    "\n",
    "\n",
    "#Intento de entender que tipo de información pueda serme útil del marco de datos para entender la instrucción. Sin éxito. \n",
    "#print(products_ds[\"aisle_id\"].unique())\n",
    "#print(products_ds[\"department_id\"].unique())"
   ]
  },
  {
   "cell_type": "markdown",
   "id": "9da8d293",
   "metadata": {
    "id": "9da8d293"
   },
   "source": [
    "Describe brevemente tus hallazgos y lo que hiciste con ellos.\n",
    "No hay registros o filas duplicadas en la base de datos.\n",
    "\n",
    "La columna de nombres de productos tiene 1361 duplicados. 1257 de productos faltantes y 104 de productos no faltantes. \n",
    "\n",
    "Sin más información o limitantes en el proyecto no veo necesario realizar cambios a los datos. "
   ]
  },
  {
   "cell_type": "markdown",
   "id": "60f30db1",
   "metadata": {
    "id": "60f30db1"
   },
   "source": [
    "### `departments` data frame"
   ]
  },
  {
   "cell_type": "code",
   "execution_count": 16,
   "id": "fb410ad4-0fbf-4b80-bb09-23fdea79afe3",
   "metadata": {
    "id": "fb410ad4-0fbf-4b80-bb09-23fdea79afe3"
   },
   "outputs": [
    {
     "name": "stdout",
     "output_type": "stream",
     "text": [
      "Hay 0 filas duplicadas en el marco de datos: departments\n"
     ]
    }
   ],
   "source": [
    "# Revisa si hay filas totalmente duplicadas\n",
    "print(f\"Hay {departments_ds.duplicated().sum()} filas duplicadas en el marco de datos: departments\")"
   ]
  },
  {
   "cell_type": "code",
   "execution_count": 17,
   "id": "332b12bb",
   "metadata": {
    "id": "332b12bb"
   },
   "outputs": [
    {
     "name": "stdout",
     "output_type": "stream",
     "text": [
      "Hay 0 IDs duplicados en el marco de datos departments\n"
     ]
    }
   ],
   "source": [
    "# Revisa si hay IDs duplicadas de productos\n",
    "#print(departments_cols) #'department_id', 'department'\n",
    "\n",
    "print(f\"Hay {departments_ds[\"department_id\"].duplicated().sum()} IDs duplicados en el marco de datos departments\")\n"
   ]
  },
  {
   "cell_type": "markdown",
   "id": "bd30d78e",
   "metadata": {
    "id": "bd30d78e"
   },
   "source": [
    "Describe brevemente tus hallazgos y lo que hiciste con ellos.\n",
    "No hay duplicaciones ni en el marco de datos departments, ni en los valores de la columna ID."
   ]
  },
  {
   "cell_type": "markdown",
   "id": "889349c1",
   "metadata": {
    "id": "889349c1"
   },
   "source": [
    "### `aisles` data frame"
   ]
  },
  {
   "cell_type": "code",
   "execution_count": 18,
   "id": "9da89fb9-4679-40f5-ad0d-c34df753a3f8",
   "metadata": {
    "id": "9da89fb9-4679-40f5-ad0d-c34df753a3f8"
   },
   "outputs": [
    {
     "name": "stdout",
     "output_type": "stream",
     "text": [
      "Hay 0 duplicados en el marco de datos aisles.\n"
     ]
    }
   ],
   "source": [
    "# Revisa si hay filas totalmente duplicadas\n",
    "#print(aisles_cols)\n",
    "\n",
    "print(f\"Hay {aisles_ds.duplicated().sum()} duplicados en el marco de datos aisles.\")"
   ]
  },
  {
   "cell_type": "code",
   "execution_count": 19,
   "id": "da7c2822",
   "metadata": {
    "id": "da7c2822"
   },
   "outputs": [
    {
     "name": "stdout",
     "output_type": "stream",
     "text": [
      "Hay 0 duplicados de Id en el marco de datos aisles\n"
     ]
    }
   ],
   "source": [
    "# Revisa si hay IDs duplicadas de productos\n",
    "print(f\"Hay {aisles_ds[\"aisle_id\"].duplicated().sum()} duplicados de Id en el marco de datos aisles\")"
   ]
  },
  {
   "cell_type": "markdown",
   "id": "ac63826f",
   "metadata": {
    "id": "ac63826f"
   },
   "source": [
    "Describe brevemente tus hallazgos y lo que hiciste con ellos.\n",
    "No hay duplicaciones en el marco de datos aisles ni en su columna correspondiente a los Ids. "
   ]
  },
  {
   "cell_type": "markdown",
   "id": "274cd06a",
   "metadata": {
    "id": "274cd06a"
   },
   "source": [
    "### `order_products` data frame"
   ]
  },
  {
   "cell_type": "code",
   "execution_count": 20,
   "id": "52326689-84a8-4b8f-a881-7c68780f62c9",
   "metadata": {
    "id": "52326689-84a8-4b8f-a881-7c68780f62c9"
   },
   "outputs": [
    {
     "name": "stdout",
     "output_type": "stream",
     "text": [
      "Hay 0 filas duplicadas en el marco de datos order_products\n"
     ]
    }
   ],
   "source": [
    "# Revisa si hay filas totalmente duplicadas\n",
    "#print(order_products_cols) #'order_id', 'product_id', 'add_to_cart_order', 'reordered'\n",
    "print(f\"Hay {order_products_ds.duplicated().sum()} filas duplicadas en el marco de datos order_products\")\n"
   ]
  },
  {
   "cell_type": "code",
   "execution_count": 21,
   "id": "7b861391",
   "metadata": {
    "id": "7b861391"
   },
   "outputs": [
    {
     "name": "stdout",
     "output_type": "stream",
     "text": [
      "reordered\n",
      "1    2683838\n",
      "0    1861169\n",
      "Name: count, dtype: int64\n",
      "El marco de datos order_products tiene 4545007 registros\n",
      "Hay 4094961 duplicados para Ids de órdenes\n",
      "4499434 duplicados para Ids de productos y\n",
      "4544942 duplicados para órdenes a añadir al carro de compras\n",
      "450046 distintos Ids de órdenes de compra\n",
      "9.90 % de los registros son órdenes de compras no repetidas\n"
     ]
    }
   ],
   "source": [
    "# Vuelve a verificar si hay cualquier otro duplicado engañoso\n",
    "#print(order_products_ds.head())\n",
    "#order_products_ds.info() #4545007\n",
    "\n",
    "#Conteo de compras posteriores a compras y compras únicas\n",
    "print(order_products_ds[\"reordered\"].value_counts()) #2683838 volvieron a comprar y 1861169 no. \n",
    "\n",
    "print(f\"El marco de datos order_products tiene {len(order_products_ds)} registros\")\n",
    "print(f\"Hay {order_products_ds[\"order_id\"].duplicated().sum()} duplicados para Ids de órdenes\")\n",
    "print(f\"{order_products_ds[\"product_id\"].duplicated().sum()} duplicados para Ids de productos y\")\n",
    "print(f\"{order_products_ds[\"add_to_cart_order\"].duplicated().sum()} duplicados para órdenes a añadir al carro de compras\")\n",
    "\n",
    "print(f\"{order_products_ds[\"order_id\"].nunique()} distintos Ids de órdenes de compra\") #450046\n",
    "print(f\"{((order_products_ds[\"order_id\"].nunique())/len(order_products_ds))*100:.2f} % de los registros son órdenes de compras no repetidas\") #0.099"
   ]
  },
  {
   "cell_type": "markdown",
   "id": "0b890492",
   "metadata": {
    "id": "0b890492"
   },
   "source": [
    "Describe brevemente tus hallazgos y lo que hiciste con ellos.\n",
    "\n",
    "order_products es un marco de datos extenso con 4 millones y medio de registros. \n",
    "En order_products no hay duplicados de registros.\n",
    "\n",
    "De 4,545,007 registros, hay 4,094,961 duplicados para Ids de órdenes, 4,499,434 duplicados de Ids de productos y 4,544,942 duplicados para órdenes a añadir al carro de compras. \n",
    "\n",
    "Sin embargo, solo hay 450046 Ids de órdenes distintas. Lo que podría significar que de todas las órdenes de productos solo un 9.9% fueron concluidas. \n",
    "\n",
    "Por otra parte los datos de la columna de reordenados se tiene que 2,863,838 volvieron a comprar y 1,861,169 no. La validez de los datos de recompra sería interesante evaluarla a detalle. O quizá mediante uniones a números de usuario rastrear si se está considerando un mismo Id de órden aunque se vuelva a comprar ya que la cantidad de órdenes de compra distintos es al rededor de la sexta parte de las órdenes reordenadas.\n",
    "\n"
   ]
  },
  {
   "cell_type": "markdown",
   "id": "1e46de76",
   "metadata": {
    "id": "1e46de76"
   },
   "source": [
    "## Encuentra y elimina los valores ausentes\n",
    "\n",
    "Al trabajar con valores duplicados, pudimos observar que también nos falta investigar valores ausentes:\n",
    "\n",
    "* La columna `'product_name'` de la tabla products.\n",
    "* La columna `'days_since_prior_order'` de la tabla orders.\n",
    "* La columna `'add_to_cart_order'` de la tabla order_productos."
   ]
  },
  {
   "cell_type": "markdown",
   "id": "c0aebd78",
   "metadata": {
    "id": "c0aebd78"
   },
   "source": [
    "### `products` data frame"
   ]
  },
  {
   "cell_type": "code",
   "execution_count": 22,
   "id": "fe4a8b0f",
   "metadata": {
    "id": "fe4a8b0f"
   },
   "outputs": [
    {
     "data": {
      "text/plain": [
       "np.int64(1258)"
      ]
     },
     "execution_count": 22,
     "metadata": {},
     "output_type": "execute_result"
    }
   ],
   "source": [
    "# Encuentra los valores ausentes en la columna 'product_name'\n",
    "products_ds[\"product_name\"].isna().sum()"
   ]
  },
  {
   "cell_type": "markdown",
   "id": "-A6x1AbJhjkp",
   "metadata": {
    "id": "-A6x1AbJhjkp"
   },
   "source": [
    "Describe brevemente cuáles son tus hallazgos. 1258 nombres de productos con valores nulos o ausentes en el marco de datos products. "
   ]
  },
  {
   "cell_type": "code",
   "execution_count": 23,
   "id": "e96167bc",
   "metadata": {
    "id": "e96167bc"
   },
   "outputs": [
    {
     "data": {
      "text/plain": [
       "np.int64(1258)"
      ]
     },
     "execution_count": 23,
     "metadata": {},
     "output_type": "execute_result"
    }
   ],
   "source": [
    "#  ¿Todos los nombres de productos ausentes están relacionados con el pasillo con ID 100?\n",
    "#products_cols\n",
    "products_ds[products_ds[\"aisle_id\"] == 100][\"product_name\"].isna().sum()\n"
   ]
  },
  {
   "cell_type": "markdown",
   "id": "WRpIfXRphpSL",
   "metadata": {
    "id": "WRpIfXRphpSL"
   },
   "source": [
    "Describe brevemente cuáles son tus hallazgos. Todos los nombres de productos con valor ausente provienen del pasillo con Id = 100. 1258."
   ]
  },
  {
   "cell_type": "code",
   "execution_count": 24,
   "id": "8fd0a541",
   "metadata": {
    "id": "8fd0a541"
   },
   "outputs": [
    {
     "data": {
      "text/plain": [
       "np.int64(1258)"
      ]
     },
     "execution_count": 24,
     "metadata": {},
     "output_type": "execute_result"
    }
   ],
   "source": [
    "# ¿Todos los nombres de productos ausentes están relacionados con el departamento con ID 21?\n",
    "products_ds[products_ds[\"department_id\"] == 21][\"product_name\"].isna().sum()"
   ]
  },
  {
   "cell_type": "markdown",
   "id": "qDpdYn1Fht_I",
   "metadata": {
    "id": "qDpdYn1Fht_I"
   },
   "source": [
    "Describe brevemente cuáles son tus hallazgos. \n",
    "\n",
    "Todos los nombres de productos ausentes previamente encontrados (1258) se encuentran en el Id de departamento = 21. "
   ]
  },
  {
   "cell_type": "code",
   "execution_count": 25,
   "id": "325c3464",
   "metadata": {
    "id": "325c3464"
   },
   "outputs": [
    {
     "name": "stdout",
     "output_type": "stream",
     "text": [
      "20    missing\n",
      "Name: department, dtype: object\n",
      "    aisle_id    aisle\n",
      "99       100  missing\n"
     ]
    }
   ],
   "source": [
    "# Usa las tablas department y aisle para revisar los datos del pasillo con ID 100 y el departamento con ID 21.\n",
    "#departments_cols #observar los nombres de columnas del marco de datos\n",
    "\n",
    "print(departments_ds[departments_ds[\"department_id\"]==21][\"department\"]) #Imprimir el departamento de la tabla departments donde el Id sea igual a 21. #Departamento 21 se llama faltantes. \n",
    "#print(aisles_cols) \n",
    "print(aisles_ds[aisles_ds[\"aisle_id\"]==100]) #Pasillo con Id = 100 se llama también faltantes"
   ]
  },
  {
   "cell_type": "markdown",
   "id": "nqhSTUPhhvEJ",
   "metadata": {
    "id": "nqhSTUPhhvEJ"
   },
   "source": [
    "Describe brevemente cuáles son tus hallazgos. \n",
    "\n",
    "El departamento de Id 21 y el pasillo 100 corresponden a elementos faltantes. "
   ]
  },
  {
   "cell_type": "code",
   "execution_count": 26,
   "id": "6b295120",
   "metadata": {
    "id": "6b295120"
   },
   "outputs": [
    {
     "name": "stdout",
     "output_type": "stream",
     "text": [
      "Hay 0 valores nulos en products\n",
      "   product_id                                       product_name  aisle_id  \\\n",
      "0           1                         Chocolate Sandwich Cookies        61   \n",
      "1           2                                   All-Seasons Salt       104   \n",
      "2           3               Robust Golden Unsweetened Oolong Tea        94   \n",
      "3           4  Smart Ones Classic Favorites Mini Rigatoni Wit...        38   \n",
      "4           5                          Green Chile Anytime Sauce         5   \n",
      "\n",
      "   department_id  \n",
      "0             19  \n",
      "1             13  \n",
      "2              7  \n",
      "3              1  \n",
      "4             13  \n"
     ]
    },
    {
     "data": {
      "text/plain": [
       "product_name\n",
       "Unknown    1258\n",
       "Name: count, dtype: int64"
      ]
     },
     "execution_count": 26,
     "metadata": {},
     "output_type": "execute_result"
    }
   ],
   "source": [
    "# Completa los nombres de productos ausentes con 'Unknown'\n",
    "products_ds[\"product_name\"] = products_ds[\"product_name\"].fillna(\"Unknown\") #Reemplazar valores nulos con \"Unknown\"\n",
    "print(f\"Hay {products_ds[\"product_name\"].isna().sum()} valores nulos en products\") #corroborar ausencia de valores ausentes\n",
    "\n",
    "print(products_ds.head()) #Corroborar que los valores para nombres de productos no sean solo Unknown. \n",
    "\n",
    "#Corroborar cantidad de Unknown\n",
    "products_ds[products_ds[\"product_name\"]==\"Unknown\"][\"product_name\"].value_counts() #1258 \"Unkown\"\n"
   ]
  },
  {
   "cell_type": "markdown",
   "id": "fc70e5ad",
   "metadata": {
    "id": "fc70e5ad"
   },
   "source": [
    "Describe brevemente tus hallazgos y lo que hiciste con ellos. Se reemplazaron los valores nulos de nombres de producto con \"Unknown\" y se corroboró por head y por un conteo de los valores unknown que solo hubieran 1258 valores existentes conforme a los 1258 nulos reemplazados. "
   ]
  },
  {
   "cell_type": "markdown",
   "id": "7eb45c86",
   "metadata": {
    "id": "7eb45c86"
   },
   "source": [
    "### `orders` data frame"
   ]
  },
  {
   "cell_type": "code",
   "execution_count": 27,
   "id": "93e41d96",
   "metadata": {
    "id": "93e41d96"
   },
   "outputs": [
    {
     "name": "stdout",
     "output_type": "stream",
     "text": [
      "order_id                  0.000000\n",
      "user_id                   0.000000\n",
      "order_number              0.000000\n",
      "order_dow                 0.000000\n",
      "order_hour_of_day         0.000000\n",
      "days_since_prior_order    0.060167\n",
      "dtype: float64\n",
      "28817 valores nulos en la columna days_since_prior_order.\n"
     ]
    }
   ],
   "source": [
    "# Encuentra los valores ausentes\n",
    "#instacart_cols #Revisión de nombres de columnas: 'order_id', 'user_id', 'order_number', 'order_dow', 'order_hour_of_day', 'days_since_prior_order'\n",
    "\n",
    "print(instacart_ds.isna().mean()) #Confirma que hay nulos en la columna days_since_prior_order\n",
    "print(f\"{instacart_ds[\"days_since_prior_order\"].isna().sum()} valores nulos en la columna days_since_prior_order.\") #un total de 28817 nulos en la columna. "
   ]
  },
  {
   "cell_type": "code",
   "execution_count": 28,
   "id": "166e5a86",
   "metadata": {
    "id": "166e5a86"
   },
   "outputs": [
    {
     "name": "stdout",
     "output_type": "stream",
     "text": [
      "order_id                  0\n",
      "user_id                   0\n",
      "order_number              0\n",
      "order_dow                 0\n",
      "order_hour_of_day         0\n",
      "days_since_prior_order    0\n",
      "dtype: int64\n",
      "No hay valores ausentes en pedidos no primerizos\n"
     ]
    }
   ],
   "source": [
    "# ¿Hay algún valor ausente que no sea el primer pedido del cliente?\n",
    "print(instacart_ds[~instacart_ds[\"order_number\"]==1].isna().sum())\n",
    "print(\"No hay valores ausentes en pedidos no primerizos\")\n"
   ]
  },
  {
   "cell_type": "markdown",
   "id": "4e23d089",
   "metadata": {
    "id": "4e23d089"
   },
   "source": [
    "Describe brevemente tus hallazgos y lo que hiciste con ellos. Revisé la cantidad de nulos en el marco de datos instacart_orders. La columna days_since_prior_order tiene 28817 valores nulos. Después revisé cuantos valores nulos hay en pedidos no primerizos y hay 0 de tal forma que todos los valores nulos se encuentran en los pedidos primarios pues no hay días desde la órden previa. \n",
    "\n"
   ]
  },
  {
   "cell_type": "markdown",
   "id": "69dc9ca4",
   "metadata": {
    "id": "69dc9ca4"
   },
   "source": [
    "### `order_products` data frame"
   ]
  },
  {
   "cell_type": "code",
   "execution_count": 29,
   "id": "b8240253",
   "metadata": {
    "id": "b8240253"
   },
   "outputs": [
    {
     "name": "stdout",
     "output_type": "stream",
     "text": [
      "order_id             0.000000\n",
      "product_id           0.000000\n",
      "add_to_cart_order    0.000184\n",
      "reordered            0.000000\n",
      "dtype: float64\n",
      "836 valores nulos en add_to_cart_order\n"
     ]
    }
   ],
   "source": [
    "# Encuentra los valores ausentes\n",
    "#print(order_products_cols) #Nombres de las columnas: 'order_id', 'product_id', 'add_to_cart_order', 'reordered'\n",
    "print(order_products_ds.isna().mean()) #revisión de nulos en el marco de datos como tasa de nulos. \n",
    "print(f\"{order_products_ds[\"add_to_cart_order\"].isna().sum()} valores nulos en add_to_cart_order\") #revisión de cantidad de nulos, en la columna con confirmación de presencia de nulos. #836 nulos en \"add_to_cart_order\".  "
   ]
  },
  {
   "cell_type": "code",
   "execution_count": 30,
   "id": "9a78e5ee",
   "metadata": {
    "id": "9a78e5ee"
   },
   "outputs": [
    {
     "name": "stdout",
     "output_type": "stream",
     "text": [
      "1.0\n",
      "64.0\n"
     ]
    }
   ],
   "source": [
    "# ¿Cuáles son los valores mínimos y máximos en esta columna?\n",
    "print(order_products_ds[\"add_to_cart_order\"].min())\n",
    "print(order_products_ds[\"add_to_cart_order\"].max())"
   ]
  },
  {
   "cell_type": "markdown",
   "id": "-Z2Ja215jW78",
   "metadata": {
    "id": "-Z2Ja215jW78"
   },
   "source": [
    "Describe brevemente cuáles son tus hallazgos. En el marco de datos order_products hay 836 valores nulos en la columna add_to_cart_order. Y los valores mínimos y máximos para esta columna son 1 y 64 respectivamente. "
   ]
  },
  {
   "cell_type": "code",
   "execution_count": 31,
   "id": "ab9d0c2b",
   "metadata": {
    "id": "ab9d0c2b"
   },
   "outputs": [
    {
     "name": "stdout",
     "output_type": "stream",
     "text": [
      "737        2449164\n",
      "9926       1968313\n",
      "14394      2926893\n",
      "16418      1717990\n",
      "30114      1959075\n",
      "            ...   \n",
      "4505662    1800005\n",
      "4511400    1633337\n",
      "4517562     404157\n",
      "4534112    1673227\n",
      "4535739    1832957\n",
      "Name: order_id, Length: 836, dtype: int64\n"
     ]
    }
   ],
   "source": [
    "# Guarda todas las IDs de pedidos que tengan un valor ausente en 'add_to_cart_order'\n",
    "orderids_where_nan = order_products_ds[order_products_ds[\"add_to_cart_order\"].isna()][\"order_id\"]\n",
    "print(orderids_where_nan) #836 order ids. \n"
   ]
  },
  {
   "cell_type": "code",
   "execution_count": 32,
   "id": "54c31695",
   "metadata": {
    "id": "54c31695"
   },
   "outputs": [
    {
     "data": {
      "text/html": [
       "<div>\n",
       "<style scoped>\n",
       "    .dataframe tbody tr th:only-of-type {\n",
       "        vertical-align: middle;\n",
       "    }\n",
       "\n",
       "    .dataframe tbody tr th {\n",
       "        vertical-align: top;\n",
       "    }\n",
       "\n",
       "    .dataframe thead th {\n",
       "        text-align: right;\n",
       "    }\n",
       "</style>\n",
       "<table border=\"1\" class=\"dataframe\">\n",
       "  <thead>\n",
       "    <tr style=\"text-align: right;\">\n",
       "      <th></th>\n",
       "      <th>product_id</th>\n",
       "      <th>add_to_cart_order</th>\n",
       "      <th>reordered</th>\n",
       "    </tr>\n",
       "    <tr>\n",
       "      <th>order_id</th>\n",
       "      <th></th>\n",
       "      <th></th>\n",
       "      <th></th>\n",
       "    </tr>\n",
       "  </thead>\n",
       "  <tbody>\n",
       "    <tr>\n",
       "      <th>9310</th>\n",
       "      <td>1</td>\n",
       "      <td>0</td>\n",
       "      <td>1</td>\n",
       "    </tr>\n",
       "    <tr>\n",
       "      <th>747668</th>\n",
       "      <td>1</td>\n",
       "      <td>0</td>\n",
       "      <td>1</td>\n",
       "    </tr>\n",
       "    <tr>\n",
       "      <th>888470</th>\n",
       "      <td>1</td>\n",
       "      <td>0</td>\n",
       "      <td>1</td>\n",
       "    </tr>\n",
       "    <tr>\n",
       "      <th>2621907</th>\n",
       "      <td>1</td>\n",
       "      <td>0</td>\n",
       "      <td>1</td>\n",
       "    </tr>\n",
       "    <tr>\n",
       "      <th>2170451</th>\n",
       "      <td>1</td>\n",
       "      <td>0</td>\n",
       "      <td>1</td>\n",
       "    </tr>\n",
       "    <tr>\n",
       "      <th>...</th>\n",
       "      <td>...</td>\n",
       "      <td>...</td>\n",
       "      <td>...</td>\n",
       "    </tr>\n",
       "    <tr>\n",
       "      <th>1959075</th>\n",
       "      <td>34</td>\n",
       "      <td>0</td>\n",
       "      <td>34</td>\n",
       "    </tr>\n",
       "    <tr>\n",
       "      <th>171934</th>\n",
       "      <td>40</td>\n",
       "      <td>0</td>\n",
       "      <td>40</td>\n",
       "    </tr>\n",
       "    <tr>\n",
       "      <th>2136777</th>\n",
       "      <td>44</td>\n",
       "      <td>0</td>\n",
       "      <td>44</td>\n",
       "    </tr>\n",
       "    <tr>\n",
       "      <th>3308010</th>\n",
       "      <td>51</td>\n",
       "      <td>0</td>\n",
       "      <td>51</td>\n",
       "    </tr>\n",
       "    <tr>\n",
       "      <th>61355</th>\n",
       "      <td>63</td>\n",
       "      <td>0</td>\n",
       "      <td>63</td>\n",
       "    </tr>\n",
       "  </tbody>\n",
       "</table>\n",
       "<p>70 rows × 3 columns</p>\n",
       "</div>"
      ],
      "text/plain": [
       "          product_id  add_to_cart_order  reordered\n",
       "order_id                                          \n",
       "9310               1                  0          1\n",
       "747668             1                  0          1\n",
       "888470             1                  0          1\n",
       "2621907            1                  0          1\n",
       "2170451            1                  0          1\n",
       "...              ...                ...        ...\n",
       "1959075           34                  0         34\n",
       "171934            40                  0         40\n",
       "2136777           44                  0         44\n",
       "3308010           51                  0         51\n",
       "61355             63                  0         63\n",
       "\n",
       "[70 rows x 3 columns]"
      ]
     },
     "execution_count": 32,
     "metadata": {},
     "output_type": "execute_result"
    }
   ],
   "source": [
    "# ¿Todos los pedidos con valores ausentes tienen más de 64 productos?\n",
    "# Agrupa todos los pedidos con datos ausentes por su ID de pedido.\\\n",
    "order_id_grouped_where_na = order_products_ds[order_products_ds[\"add_to_cart_order\"].isna()].groupby(\"order_id\")\n",
    "# Cuenta el número de 'product_id' en cada pedido y revisa el valor mínimo del conteo.\n",
    "order_id_grouped_where_na.count().sort_values(\"product_id\") #1 producto como mínimo y un máximo de 63. "
   ]
  },
  {
   "cell_type": "markdown",
   "id": "p9V6pddtjglj",
   "metadata": {
    "id": "p9V6pddtjglj"
   },
   "source": [
    "Describe brevemente cuáles son tus hallazgos. Todos los pedidos con valores ausentes para add_to_cart_order tienen menos de 64 productos siendo 1 el mínimo. "
   ]
  },
  {
   "cell_type": "code",
   "execution_count": 33,
   "id": "7a987d08",
   "metadata": {
    "id": "7a987d08"
   },
   "outputs": [
    {
     "name": "stdout",
     "output_type": "stream",
     "text": [
      "<class 'pandas.core.frame.DataFrame'>\n",
      "RangeIndex: 4545007 entries, 0 to 4545006\n",
      "Data columns (total 4 columns):\n",
      " #   Column             Dtype\n",
      "---  ------             -----\n",
      " 0   order_id           int64\n",
      " 1   product_id         int64\n",
      " 2   add_to_cart_order  int64\n",
      " 3   reordered          int64\n",
      "dtypes: int64(4)\n",
      "memory usage: 138.7 MB\n"
     ]
    },
    {
     "data": {
      "text/plain": [
       "np.int64(999)"
      ]
     },
     "execution_count": 33,
     "metadata": {},
     "output_type": "execute_result"
    }
   ],
   "source": [
    "# Remplaza los valores ausentes en la columna 'add_to_cart? con 999 y convierte la columna al tipo entero.\n",
    "order_products_ds[\"add_to_cart_order\"] = order_products_ds[\"add_to_cart_order\"].fillna(999).astype(int)\n",
    "\n",
    "#Corroborar tipo de dato y reemplazos.\n",
    "order_products_ds.info() #se confirma el tipo entero en la columna add_to_cart_order. \n",
    "order_products_ds[\"add_to_cart_order\"].max() #se confirma el 999 como número máximo, reemplazo efectuado con éxito. \n"
   ]
  },
  {
   "cell_type": "markdown",
   "id": "fea4bcc7",
   "metadata": {
    "id": "fea4bcc7"
   },
   "source": [
    "Describe brevemente tus hallazgos y lo que hiciste con ellos. \n",
    "\n",
    "Se hizo el reemplazo de valores nulos por 999 y el cambio de dato a tipo entero. "
   ]
  },
  {
   "cell_type": "markdown",
   "id": "UjrOIwTcz3ri",
   "metadata": {
    "id": "UjrOIwTcz3ri"
   },
   "source": [
    "# Paso 3. Análisis de los datos\n",
    "\n",
    "Una vez los datos estén procesados y listos, haz el siguiente análisis:"
   ]
  },
  {
   "cell_type": "markdown",
   "id": "turkish-kidney",
   "metadata": {
    "id": "turkish-kidney"
   },
   "source": [
    "1. Verifica que los valores en las columnas `'order_hour_of_day'` y `'order_dow'` en la tabla orders sean razonables (es decir, `'order_hour_of_day'` oscile entre 0 y 23 y `'order_dow'` oscile entre 0 y 6).\n",
    "2. Crea un gráfico que muestre el número de personas que hacen pedidos dependiendo de la hora del día.\n",
    "3. Crea un gráfico que muestre qué día de la semana la gente hace sus compras.\n",
    "4. Crea un gráfico que muestre el tiempo que la gente espera hasta hacer su siguiente pedido, y comenta sobre los valores mínimos y máximos."
   ]
  },
  {
   "cell_type": "markdown",
   "id": "short-capability",
   "metadata": {
    "id": "short-capability"
   },
   "source": [
    "### [A1] Verifica que los valores sean sensibles"
   ]
  },
  {
   "cell_type": "code",
   "execution_count": 34,
   "id": "growing-fruit",
   "metadata": {
    "id": "growing-fruit"
   },
   "outputs": [
    {
     "name": "stdout",
     "output_type": "stream",
     "text": [
      "[13 12 19 20 11  8 18 15 16  9 22 10  0 14 17  1  7  6  2 21  3 23  5  4]\n",
      "0\n",
      "23\n",
      "[6 5 0 4 3 1 2]\n",
      "0\n",
      "6\n"
     ]
    }
   ],
   "source": [
    "print(instacart_ds[\"order_hour_of_day\"].unique()) #todos los valores\n",
    "print(instacart_ds[\"order_hour_of_day\"].min()) #valor mínimo\n",
    "print(instacart_ds[\"order_hour_of_day\"].max()) #valor máximo \n",
    "\n",
    "print(instacart_ds[\"order_dow\"].unique())\n",
    "print(instacart_ds[\"order_dow\"].min())\n",
    "print(instacart_ds[\"order_dow\"].max())"
   ]
  },
  {
   "cell_type": "markdown",
   "id": "hmR2GNQ6lCsX",
   "metadata": {
    "id": "hmR2GNQ6lCsX"
   },
   "source": [
    "Escribe aquí tus conclusiones. Los valores están dentro de los rangos deseados 0-23 para hora del día y 0-6 para día de la semana. "
   ]
  },
  {
   "cell_type": "markdown",
   "id": "a6743a70",
   "metadata": {
    "id": "a6743a70"
   },
   "source": [
    "### [A2] Para cada hora del día, ¿cuántas personas hacen órdenes?"
   ]
  },
  {
   "cell_type": "code",
   "execution_count": null,
   "id": "a36cca27",
   "metadata": {
    "id": "a36cca27"
   },
   "outputs": [
    {
     "data": {
      "image/png": "[encoded data removed]",
      "text/plain": [
       "<Figure size 640x480 with 1 Axes>"
      ]
     },
     "metadata": {},
     "output_type": "display_data"
    }
   ],
   "source": [
    "orders_per_hour = instacart_ds[\"order_hour_of_day\"].value_counts().sort_index()\n",
    "orders_per_hour.plot(x= orders_per_hour.index, y= orders_per_hour.values, xlabel= \"Hora del día (24 H)\", ylabel = \"Cantidad de órdenes\", title = \"Distribución de cantidad de órdenes a través de las horas del día\", kind = \"bar\")\n",
    "plt.show()"
   ]
  },
  {
   "cell_type": "markdown",
   "id": "11270eed",
   "metadata": {
    "id": "11270eed"
   },
   "source": [
    "Escribe aquí tus conclusiones. Las primeras 7 horas del día hay pocas órdenes menor a 4300 órdenes por hora. Las siguientes horas de menos venta son las últimas 3 horas del día 21-23 11K para la 21, 8512 para la hora 22 y 5611 para la hora 23. \n",
    "Las demás son horas centrales con rango de 13043 a 40578. La hora 10 es la hora con mayor cantidad de órdenes. \n",
    "\n"
   ]
  },
  {
   "cell_type": "markdown",
   "id": "documented-command",
   "metadata": {
    "id": "documented-command"
   },
   "source": [
    "### [A3] ¿Qué día de la semana compran víveres las personas?"
   ]
  },
  {
   "cell_type": "code",
   "execution_count": null,
   "id": "chief-digit",
   "metadata": {
    "id": "chief-digit"
   },
   "outputs": [
    {
     "name": "stdout",
     "output_type": "stream",
     "text": [
      "order_dow\n",
      "0    84090\n",
      "1    82185\n",
      "2    65833\n",
      "3    60897\n",
      "4    59810\n",
      "5    63488\n",
      "6    62649\n",
      "Name: count, dtype: int64\n"
     ]
    },
    {
     "data": {
      "text/plain": [
       "<Axes: title={'center': 'Distribution of orders through the days of the week'}, xlabel='Days of the week', ylabel='Amount of orders'>"
      ]
     },
     "execution_count": 36,
     "metadata": {},
     "output_type": "execute_result"
    },
    {
     "data": {
      "image/png": "[encoded data removed]",
      "text/plain": [
       "<Figure size 640x480 with 1 Axes>"
      ]
     },
     "metadata": {},
     "output_type": "display_data"
    }
   ],
   "source": [
    "dow_orders = instacart_ds[\"order_dow\"].value_counts().sort_index() #Contar las órdenes por día de la semana\n",
    "print(dow_orders)\n",
    "dow_orders.plot(kind = \"bar\", x = dow_orders.index, y = dow_orders.values, title = \"Distribución de órdenes a través de los días de la semana\", xlabel= \"Días de la semana\", ylabel = \"Cántidad de órdenes\" )\n"
   ]
  },
  {
   "cell_type": "markdown",
   "id": "dominant-lightning",
   "metadata": {
    "id": "dominant-lightning"
   },
   "source": [
    "Escribe aquí tus conclusiones. En todos los días se compran viveres siendo el domingo (día 0) el día con mayor número de compras. En segundo lugar el día lunes, seguido por martes, viernes, sábado, miércoles y por último jueves. "
   ]
  },
  {
   "cell_type": "markdown",
   "id": "cutting-concert",
   "metadata": {
    "id": "cutting-concert"
   },
   "source": [
    "### [A4] ¿Cuánto tiempo esperan las personas hasta hacer otro pedido? Comenta sobre los valores mínimos y máximos."
   ]
  },
  {
   "cell_type": "code",
   "execution_count": 37,
   "id": "c231f523",
   "metadata": {
    "id": "c231f523"
   },
   "outputs": [
    {
     "name": "stdout",
     "output_type": "stream",
     "text": [
      "2640\n",
      "51337\n"
     ]
    },
    {
     "data": {
      "image/png": "[encoded data removed]",
      "text/plain": [
       "<Figure size 640x480 with 1 Axes>"
      ]
     },
     "metadata": {},
     "output_type": "display_data"
    }
   ],
   "source": [
    "tiempo_repedido = instacart_ds[\"days_since_prior_order\"].value_counts().sort_index()\n",
    "#print(tiempo_repedido) #lista de valores a través de los días. \n",
    "print(tiempo_repedido.min())\n",
    "print(tiempo_repedido.max())\n",
    "tiempo_repedido.plot(x= tiempo_repedido.index, y = tiempo_repedido.values, xlabel= \"Días antes de reordenar\", ylabel= \"Cantidad de pedidos\", title = \"Distribución de días antes de que los usuarios reordenen\", kind=\"bar\")\n",
    "plt.show()"
   ]
  },
  {
   "cell_type": "markdown",
   "id": "discrete-vertex",
   "metadata": {
    "id": "discrete-vertex"
   },
   "source": [
    "Escribe aquí tus conclusiones. Los valores mínimos 0 y 30 días respectivamente tienen 2640 y 51337 valores. Es posible que solo se registren los días desde última órden hasta 30 días lo equivalente a no hubo recompra quizá. \n",
    "\n",
    "Y por otra parte que aquellas órdenes recién recompradas tengan menos de 24 horas de ser compradas se cataloguen como 0 días desde la última compra y son por otra parte las compras en el día presente. "
   ]
  },
  {
   "cell_type": "markdown",
   "id": "tight-staff",
   "metadata": {
    "id": "tight-staff"
   },
   "source": [
    "# [B] Intermedio (deben completarse todos para aprobar)\n",
    "\n",
    "1. ¿Existe alguna diferencia entre las distribuciones `'order_hour_of_day'` de los miércoles y los sábados? Traza gráficos de barra de `'order_hour_of_day'` para ambos días en la misma figura y describe las diferencias que observes.\n",
    "2. Grafica la distribución para el número de órdenes que hacen los clientes (es decir, cuántos clientes hicieron solo 1 pedido, cuántos hicieron 2, cuántos 3, y así sucesivamente...).\n",
    "3. ¿Cuáles son los 20 principales productos que se piden con más frecuencia (muestra su identificación y nombre)?"
   ]
  },
  {
   "cell_type": "markdown",
   "id": "packed-classic",
   "metadata": {
    "id": "packed-classic"
   },
   "source": [
    "### [B1] Diferencia entre miércoles y sábados para  `'order_hour_of_day'`. Traza gráficos de barra para los dos días y describe las diferencias que veas."
   ]
  },
  {
   "cell_type": "code",
   "execution_count": null,
   "id": "d89b8403",
   "metadata": {
    "id": "d89b8403"
   },
   "outputs": [
    {
     "data": {
      "image/png": "[encoded data removed]",
      "text/plain": [
       "<Figure size 1000x600 with 1 Axes>"
      ]
     },
     "metadata": {},
     "output_type": "display_data"
    }
   ],
   "source": [
    "wed = instacart_ds[instacart_ds[\"order_dow\"]== 3][\"order_hour_of_day\"].value_counts().sort_index()\n",
    "sat = instacart_ds[instacart_ds[\"order_dow\"]== 6][\"order_hour_of_day\"].value_counts().sort_index()\n",
    "#print(wed) #lista de ordenes por hora en miercoles. \n",
    "plt.figure(figsize=(10, 6))\n",
    "plt.bar(wed.index - 0.2, wed.values, width = 0.4, label = \"Miércoles\", color = \"skyblue\")\n",
    "plt.bar(sat.index + 0.2, sat.values, width= 0.4, label = \"Sábado\", color = \"orange\")\n",
    "\n",
    "#xlab = \"Hours of the day\", ylab = \"Number of orders\", title = \"Distribution of orders through hours of the day\"\n",
    "plt.xlabel(\"Horas del día (24H)\")\n",
    "plt.ylabel(\"Número de órdenes\")\n",
    "plt.title(\"Distribución de órdenes a través de las horas (Miércoles contra Sábado)\")\n",
    "plt.xticks(range(0, 23))\n",
    "plt.legend()\n",
    "plt.show()"
   ]
  },
  {
   "cell_type": "markdown",
   "id": "7a28b2f6",
   "metadata": {},
   "source": [
    "# Diferencias entre órdenes por hora en miércoles y sábado \n",
    "Aunque el comportamiento de órdenes a través de las horas está conservado en ambos días, de 12 a 14 horas hay menor número de órdenes los miércoles que los sábados. "
   ]
  },
  {
   "cell_type": "markdown",
   "id": "charitable-congo",
   "metadata": {
    "id": "charitable-congo"
   },
   "source": [
    "Escribe aquí tus conclusiones"
   ]
  },
  {
   "cell_type": "markdown",
   "id": "e3891143",
   "metadata": {
    "id": "e3891143"
   },
   "source": [
    "### [B2] ¿Cuál es la distribución para el número de pedidos por cliente?"
   ]
  },
  {
   "cell_type": "code",
   "execution_count": null,
   "id": "d8c26c23",
   "metadata": {
    "id": "d8c26c23"
   },
   "outputs": [
    {
     "name": "stdout",
     "output_type": "stream",
     "text": [
      "11.0\n"
     ]
    },
    {
     "data": {
      "image/png": "[encoded data removed]",
      "text/plain": [
       "<Figure size 640x480 with 1 Axes>"
      ]
     },
     "metadata": {},
     "output_type": "display_data"
    }
   ],
   "source": [
    "#Agrupar por número de órdenes \n",
    "#print(instacart_ds.shape) #478952, 6 columnas. 100 valores distintos para número de órdenes\n",
    "order_per_user = instacart_ds[[\"user_id\", \"order_number\"]]\n",
    "#print(instacart_ds[\"user_id\"].nunique()) #157437 clientes\n",
    "#print(instacart_ds[\"order_number\"].nunique()) #100 valores distintos\n",
    "\n",
    "print(instacart_ds[\"order_number\"].median())#11\n",
    "\n",
    "#Graficar cuantos clientes hay por cada número de órdenes. No se puede graficar cuantos pedidos por cliente asumiendo 160 mil clientes. \n",
    "\n",
    "plt.hist(order_per_user[\"order_number\"], bins = 25, color = \"skyblue\")\n",
    "plt.title(\"Distribución de número de clienes y órdenes realizadas\")\n",
    "plt.xlabel(\"Número de órdenes\")\n",
    "plt.ylabel(\"Número de clientes\")\n",
    "plt.show()\n",
    "\n"
   ]
  },
  {
   "cell_type": "markdown",
   "id": "d2eff7d5",
   "metadata": {
    "id": "d2eff7d5"
   },
   "source": [
    "Escribe aquí tus conclusiones. Conforme el número de órdenes aumenta el número de clientes disminuye. \n",
    "Siendo que la mayoría de los clientes realizan menos de 16 órdenes. "
   ]
  },
  {
   "cell_type": "markdown",
   "id": "54a0319c",
   "metadata": {
    "id": "54a0319c"
   },
   "source": [
    "### [B3] ¿Cuáles son los 20 productos más populares (muestra su ID y nombre)?"
   ]
  },
  {
   "cell_type": "code",
   "execution_count": 40,
   "id": "exterior-arizona",
   "metadata": {
    "id": "exterior-arizona",
    "scrolled": true
   },
   "outputs": [
    {
     "name": "stdout",
     "output_type": "stream",
     "text": [
      "       product_id              product_name\n",
      "5875         5876             Organic Lemon\n",
      "8276         8277  Apple Honeycrisp Organic\n",
      "13175       13176    Bag of Organic Bananas\n",
      "16796       16797              Strawberries\n",
      "21136       21137      Organic Strawberries\n",
      "21902       21903      Organic Baby Spinach\n",
      "22934       22935      Organic Yellow Onion\n",
      "24851       24852                    Banana\n",
      "24963       24964            Organic Garlic\n",
      "26208       26209                     Limes\n",
      "27844       27845        Organic Whole Milk\n",
      "27965       27966       Organic Raspberries\n",
      "28203       28204        Organic Fuji Apple\n",
      "39274       39275       Organic Blueberries\n",
      "40705       40706    Organic Grape Tomatoes\n",
      "45006       45007          Organic Zucchini\n",
      "47208       47209      Organic Hass Avocado\n",
      "47625       47626               Large Lemon\n",
      "47765       47766           Organic Avocado\n",
      "49682       49683            Cucumber Kirby\n"
     ]
    }
   ],
   "source": [
    "instacart_cols #'order_id', 'user_id', 'order_number', 'order_dow', 'order_hour_of_day', 'days_since_prior_order'\n",
    "order_products_cols #\"order_id\", , 'product_id', 'add_to_cart_order', 'reordered'\n",
    "top20_productos_id = order_products_ds[\"product_id\"].value_counts().head(20).index.tolist()\n",
    "#print(top20_productos_id)\n",
    "\n",
    "top20products_id_name = products_ds[products_ds[\"product_id\"].isin(top20_productos_id)] #top 20 productos más populares\n",
    "top20_productos_pop = top20products_id_name[[\"product_id\",\"product_name\"]]\n",
    "print(top20_productos_pop)\n",
    "\n"
   ]
  },
  {
   "cell_type": "markdown",
   "id": "7df00f47",
   "metadata": {
    "id": "7df00f47"
   },
   "source": [
    "Escribe aquí tus conclusiones. Lo que más se vende son frutas, leche y especias. "
   ]
  },
  {
   "cell_type": "markdown",
   "id": "gross-theme",
   "metadata": {
    "id": "gross-theme"
   },
   "source": [
    "\n",
    "1. ¿Cuántos artículos suelen comprar las personas en un pedido? ¿Cómo es la distribución?\n",
    "2. ¿Cuáles son los 20 principales artículos que vuelven a pedirse con mayor frecuencia (muestra sus nombres e IDs de los productos)?\n",
    "3. Para cada producto, ¿cuál es la tasa de repetición del pedido (número de repeticiones de pedido/total de pedidos?\n",
    "4. Para cada cliente, ¿qué proporción de los productos que pidió ya los había pedido? Calcula la tasa de repetición de pedido para cada usuario en lugar de para cada producto.\n",
    "5. ¿Cuáles son los 20 principales artículos que la gente pone primero en sus carritos (muestra las IDs de los productos, sus nombres, y el número de veces en que fueron el primer artículo en añadirse al carrito)?"
   ]
  },
  {
   "cell_type": "markdown",
   "id": "romantic-deposit",
   "metadata": {
    "id": "romantic-deposit"
   },
   "source": [
    "### [C1] ¿Cuántos artículos compran normalmente las personas en un pedido? ¿Cómo es la distribución?"
   ]
  },
  {
   "cell_type": "code",
   "execution_count": 41,
   "id": "virtual-punch",
   "metadata": {
    "id": "virtual-punch"
   },
   "outputs": [
    {
     "name": "stdout",
     "output_type": "stream",
     "text": [
      "          product_id\n",
      "order_id            \n",
      "4                 13\n",
      "9                 15\n",
      "11                 5\n",
      "19                 3\n",
      "20                 8\n",
      "...              ...\n",
      "3421034           17\n",
      "3421053            9\n",
      "3421071            5\n",
      "3421077            4\n",
      "3421079            1\n",
      "\n",
      "[450046 rows x 1 columns]\n",
      "product_id\n",
      "1      21847\n",
      "2      26292\n",
      "3      29046\n",
      "4      31054\n",
      "5      31923\n",
      "       ...  \n",
      "98         1\n",
      "104        1\n",
      "108        1\n",
      "115        1\n",
      "127        1\n",
      "Name: count, Length: 90, dtype: int64\n"
     ]
    }
   ],
   "source": [
    "#Se usará el marco de datos order_products\n",
    "#order_products_cols #'order_id', 'product_id', 'add_to_cart_order', 'reordered'\n",
    "#Cada id de órden tiene múltiples productos. Se quiere saber del total de órdenes cual es el promedio de productos comprados. \n",
    "\n",
    "orderid_products_df = order_products_ds[[\"order_id\", \"product_id\"]] #separar los valores relevantes: órdenes y productos. \n",
    "productos_por_orden = orderid_products_df.groupby(\"order_id\").count() #Conteo del número de productos por órden\n",
    "\n",
    "print(productos_por_orden) #número de productos por órden. \n",
    "\n",
    "conteo_de_ordenes_por_numero_de_productos = productos_por_orden[\"product_id\"].value_counts().sort_index() #Cuenta cuantas órdenes tienen el mismo número de productos. 1 producto tantas órdenes, 2 ..., \n",
    "\n",
    "print(conteo_de_ordenes_por_numero_de_productos)\n",
    "\n",
    "\n"
   ]
  },
  {
   "cell_type": "code",
   "execution_count": 42,
   "id": "sensitive-breathing",
   "metadata": {
    "id": "sensitive-breathing"
   },
   "outputs": [
    {
     "data": {
      "image/png": "[encoded data removed]",
      "text/plain": [
       "<Figure size 1800x900 with 1 Axes>"
      ]
     },
     "metadata": {},
     "output_type": "display_data"
    }
   ],
   "source": [
    "plt.figure(figsize=(18,9))\n",
    "plt.bar(conteo_de_ordenes_por_numero_de_productos.index, conteo_de_ordenes_por_numero_de_productos.values, color = \"blue\")\n",
    "plt.xlabel(\"Cantidad de productos\")\n",
    "plt.ylabel(\"Cantidad de ordenes\")\n",
    "plt.title(\"Tendencia de cantidad de productos en las órdenes\")\n",
    "plt.xticks(conteo_de_ordenes_por_numero_de_productos.index[::4])\n",
    "plt.show()"
   ]
  },
  {
   "cell_type": "code",
   "execution_count": 43,
   "id": "7a5d7c45",
   "metadata": {},
   "outputs": [
    {
     "data": {
      "text/html": [
       "<div>\n",
       "<style scoped>\n",
       "    .dataframe tbody tr th:only-of-type {\n",
       "        vertical-align: middle;\n",
       "    }\n",
       "\n",
       "    .dataframe tbody tr th {\n",
       "        vertical-align: top;\n",
       "    }\n",
       "\n",
       "    .dataframe thead th {\n",
       "        text-align: right;\n",
       "    }\n",
       "</style>\n",
       "<table border=\"1\" class=\"dataframe\">\n",
       "  <thead>\n",
       "    <tr style=\"text-align: right;\">\n",
       "      <th></th>\n",
       "      <th>product_id</th>\n",
       "    </tr>\n",
       "  </thead>\n",
       "  <tbody>\n",
       "    <tr>\n",
       "      <th>count</th>\n",
       "      <td>450046.000000</td>\n",
       "    </tr>\n",
       "    <tr>\n",
       "      <th>mean</th>\n",
       "      <td>10.098983</td>\n",
       "    </tr>\n",
       "    <tr>\n",
       "      <th>std</th>\n",
       "      <td>7.540206</td>\n",
       "    </tr>\n",
       "    <tr>\n",
       "      <th>min</th>\n",
       "      <td>1.000000</td>\n",
       "    </tr>\n",
       "    <tr>\n",
       "      <th>25%</th>\n",
       "      <td>5.000000</td>\n",
       "    </tr>\n",
       "    <tr>\n",
       "      <th>50%</th>\n",
       "      <td>8.000000</td>\n",
       "    </tr>\n",
       "    <tr>\n",
       "      <th>75%</th>\n",
       "      <td>14.000000</td>\n",
       "    </tr>\n",
       "    <tr>\n",
       "      <th>max</th>\n",
       "      <td>127.000000</td>\n",
       "    </tr>\n",
       "  </tbody>\n",
       "</table>\n",
       "</div>"
      ],
      "text/plain": [
       "          product_id\n",
       "count  450046.000000\n",
       "mean       10.098983\n",
       "std         7.540206\n",
       "min         1.000000\n",
       "25%         5.000000\n",
       "50%         8.000000\n",
       "75%        14.000000\n",
       "max       127.000000"
      ]
     },
     "execution_count": 43,
     "metadata": {},
     "output_type": "execute_result"
    }
   ],
   "source": [
    "productos_por_orden.describe() #Análisis de dispersión rápido para buscar explicar en conclusiones. "
   ]
  },
  {
   "cell_type": "markdown",
   "id": "designed-mortality",
   "metadata": {
    "id": "designed-mortality"
   },
   "source": [
    "Escribe aquí tus conclusiones. Hay una tendencia márcada hacia pocos artículos comprados por órden. El 50% de las órdenes tienen 8 productos o menos y un 75% hasta 14 productos mientras que hay órdenes que llegan hasta la compra de 127 productos. La distribución está sesgada hacia tener pocos productos por órden. Interesante buscar generar promociones, programa de recompensas o mercadotecnia y buscar revisar su impacto hacia formar carritos más llenos de productos. "
   ]
  },
  {
   "cell_type": "markdown",
   "id": "5e6b5537",
   "metadata": {
    "id": "5e6b5537"
   },
   "source": [
    "### [C2] ¿Cuáles son los 20 principales artículos que vuelven a pedirse con mayor frecuencia (muestra sus nombres e IDs de los productos)?"
   ]
  },
  {
   "cell_type": "code",
   "execution_count": 44,
   "id": "9374e55a",
   "metadata": {
    "id": "9374e55a"
   },
   "outputs": [
    {
     "name": "stdout",
     "output_type": "stream",
     "text": [
      "         product_id  reordered\n",
      "0             11440          0\n",
      "1              1560          1\n",
      "2             26683          1\n",
      "3              8670          1\n",
      "4              1940          1\n",
      "...             ...        ...\n",
      "4545002       15290          1\n",
      "4545003       21914          0\n",
      "4545004       47766          1\n",
      "4545005         691          1\n",
      "4545006       28733          0\n",
      "\n",
      "[4545007 rows x 2 columns]\n",
      "[24852, 13176, 21137, 21903, 47209, 47766, 27845, 47626, 27966, 16797, 26209, 22935, 24964, 45007, 49683, 28204, 8277, 39275, 5876, 49235]\n"
     ]
    }
   ],
   "source": [
    "#Usaré order_products agrupando por product id y reordered y contándolos. Tomaré los primeros 20 valores y le añadiré un index.tolist() para buscar en la base de datos original. \n",
    "\n",
    "reordenados_por_producto = order_products_ds[[\"product_id\", \"reordered\"]]\n",
    "print(reordenados_por_producto)\n",
    "\n",
    "conteo_productos_reordenados = reordenados_por_producto[reordenados_por_producto[\"reordered\"]==1][\"product_id\"].value_counts().head(20).index.tolist() #Enfoque en solo los productos que se vuelven a pedir y contar los valores donde me quedo con los 20 de mayor conteo y particularmente sus índices correspondientes a los id de productos. \n",
    "print(conteo_productos_reordenados)\n"
   ]
  },
  {
   "cell_type": "code",
   "execution_count": 45,
   "id": "possible-change",
   "metadata": {
    "id": "possible-change",
    "scrolled": true
   },
   "outputs": [
    {
     "name": "stdout",
     "output_type": "stream",
     "text": [
      "       product_id              product_name\n",
      "5875         5876             Organic Lemon\n",
      "8276         8277  Apple Honeycrisp Organic\n",
      "13175       13176    Bag of Organic Bananas\n",
      "16796       16797              Strawberries\n",
      "21136       21137      Organic Strawberries\n",
      "21902       21903      Organic Baby Spinach\n",
      "22934       22935      Organic Yellow Onion\n",
      "24851       24852                    Banana\n",
      "24963       24964            Organic Garlic\n",
      "26208       26209                     Limes\n",
      "27844       27845        Organic Whole Milk\n",
      "27965       27966       Organic Raspberries\n",
      "28203       28204        Organic Fuji Apple\n",
      "39274       39275       Organic Blueberries\n",
      "45006       45007          Organic Zucchini\n",
      "47208       47209      Organic Hass Avocado\n",
      "47625       47626               Large Lemon\n",
      "47765       47766           Organic Avocado\n",
      "49234       49235       Organic Half & Half\n",
      "49682       49683            Cucumber Kirby\n"
     ]
    }
   ],
   "source": [
    "#uso de los product_id del top 20 pedidos para mostrar sus nombres e id de productos. \n",
    "nombres_e_id_top20_productos_pedidos = products_ds[products_ds[\"product_id\"].isin(conteo_productos_reordenados)][[\"product_id\", \"product_name\"]]\n",
    "print(nombres_e_id_top20_productos_pedidos)"
   ]
  },
  {
   "cell_type": "code",
   "execution_count": 46,
   "id": "professional-surfing",
   "metadata": {
    "id": "professional-surfing",
    "scrolled": true
   },
   "outputs": [
    {
     "name": "stdout",
     "output_type": "stream",
     "text": [
      "False\n",
      "[ True  True  True  True  True  True  True  True  True  True  True  True\n",
      "  True  True False False False False False  True]\n"
     ]
    }
   ],
   "source": [
    "#Exploración personal: Son los mismos que los más comprados? \n",
    "#productos pop vs productos recomprados. \n",
    "\n",
    "iguales = top20_productos_pop[\"product_name\"].equals(nombres_e_id_top20_productos_pedidos[\"product_name\"])\n",
    "print(iguales) #no son iguales\n",
    "\n",
    "cuantos_difieren = top20_productos_pop[\"product_name\"].unique() == nombres_e_id_top20_productos_pedidos[\"product_name\"].unique()\n",
    "print(cuantos_difieren) #5productos difieren \n",
    "\n"
   ]
  },
  {
   "cell_type": "markdown",
   "id": "80e70c74",
   "metadata": {
    "id": "80e70c74"
   },
   "source": [
    "Escribe aquí tus conclusiones. \n",
    "\n",
    "Se mostraron los 20 artículos que más se vuelven a ordenar. Los 20 artículos más pedidos no son iguales que los 20 artículos que más se vuelven a ordenar. 5 de ellos difieren. "
   ]
  },
  {
   "cell_type": "markdown",
   "id": "9d312b14",
   "metadata": {
    "id": "9d312b14"
   },
   "source": [
    "### [C3] Para cada producto, ¿cuál es la proporción de las veces que se pide y que se vuelve a pedir?"
   ]
  },
  {
   "cell_type": "code",
   "execution_count": 47,
   "id": "8ae9f4b1",
   "metadata": {
    "id": "8ae9f4b1"
   },
   "outputs": [
    {
     "name": "stdout",
     "output_type": "stream",
     "text": [
      "       product_id  total_compras\n",
      "0            5410              1\n",
      "1           49657              1\n",
      "2           49654              1\n",
      "3           49650              1\n",
      "4           49646              1\n",
      "...           ...            ...\n",
      "45568       47209          29773\n",
      "45569       21903          33971\n",
      "45570       21137          37039\n",
      "45571       13176          53297\n",
      "45572       24852          66050\n",
      "\n",
      "[45573 rows x 2 columns]\n",
      "       product_id  total_recompras\n",
      "0               1              158\n",
      "1               3               31\n",
      "2               4               25\n",
      "3               7                1\n",
      "4               8                6\n",
      "...           ...              ...\n",
      "36223       49690                4\n",
      "36224       49691               31\n",
      "36225       49692                5\n",
      "36226       49693               11\n",
      "36227       49694                3\n",
      "\n",
      "[36228 rows x 2 columns]\n"
     ]
    }
   ],
   "source": [
    "#Demostrar la tasa entre las veces que se piden los productos y las que se vuelven a repedir.\n",
    "#reconteo de product id \n",
    "conteo_compras = order_products_ds[[\"product_id\"]].value_counts().sort_values().reset_index(name=\"total_compras\") #aqui solo 1 columna. Con el count pasaría a 2 columnas el id y numero de veces. \n",
    "print(conteo_compras)\n",
    "#reconteo de product id reordered \n",
    "conteo_recompras = reordenados_por_producto[reordenados_por_producto[\"reordered\"]==1].groupby([\"product_id\"]).size().reset_index(name=\"total_recompras\")\n",
    "\n",
    "print(conteo_recompras) #aqui son 2 columnas id y si se ha recomprado o no. \n",
    "\n",
    "#tasa_comprados_reordenados = reconteo_product_id/conteo_reordered"
   ]
  },
  {
   "cell_type": "code",
   "execution_count": null,
   "id": "103e7fe1",
   "metadata": {
    "id": "103e7fe1"
   },
   "outputs": [
    {
     "name": "stdout",
     "output_type": "stream",
     "text": [
      "45573\n",
      "45573\n",
      "       product_id  total_compras  total_recompras  proporcion_recompra\n",
      "0            5410              1                0             0.000000\n",
      "1           49657              1                1             1.000000\n",
      "2           49654              1                0             0.000000\n",
      "3           49650              1                0             0.000000\n",
      "4           49646              1                0             0.000000\n",
      "...           ...            ...              ...                  ...\n",
      "45568       47209          29773            23629             0.793639\n",
      "45569       21903          33971            26233             0.772217\n",
      "45570       21137          37039            28639             0.773212\n",
      "45571       13176          53297            44450             0.834006\n",
      "45572       24852          66050            55763             0.844254\n",
      "\n",
      "[45573 rows x 4 columns]\n"
     ]
    }
   ],
   "source": [
    "#Juntar los valores de compras y recompras en un df\n",
    "df_compras_recompras = pd.merge(conteo_compras, conteo_recompras, on= \"product_id\", how= \"left\")\n",
    "df_compras_recompras[\"total_recompras\"] = df_compras_recompras[\"total_recompras\"].fillna(0).astype(int)\n",
    "print(df_compras_recompras[\"product_id\"].nunique()) #si son 45573 productos. Quería ver si cambiar el eje x. \n",
    "print(order_products_ds[\"product_id\"].nunique()) #directo del marco de datos original. Siguen siendo 45573 productos distintos. \n",
    "\n",
    "df_compras_recompras[\"proporcion_recompra\"] = df_compras_recompras[\"total_recompras\"]/df_compras_recompras[\"total_compras\"]\n",
    "print(df_compras_recompras)\n",
    "\n",
    "\n"
   ]
  },
  {
   "cell_type": "code",
   "execution_count": 57,
   "id": "social-individual",
   "metadata": {
    "id": "social-individual"
   },
   "outputs": [
    {
     "data": {
      "image/png": "[encoded data removed]",
      "text/plain": [
       "<Figure size 1800x900 with 1 Axes>"
      ]
     },
     "metadata": {},
     "output_type": "display_data"
    }
   ],
   "source": [
    "#graficar\n",
    "plt.figure(figsize=(18, 9))\n",
    "#plt.bar(df_compras_recompras[\"product_id\"] -0.2, df_compras_recompras[\"total_compras\"], label = \"Compras totales\", color = \"Skyblue\") #gráfico ininteligible busqué mejor graficar la proporción\n",
    "#plt.bar(df_compras_recompras[\"product_id\"] +0.2, df_compras_recompras[\"total_recompras\"], label = \"Recompras\", color = \"orange\")\n",
    "plt.bar(df_compras_recompras[\"product_id\"], df_compras_recompras[\"proporcion_recompra\"], color = \"green\" )\n",
    "plt.title(\"Comparación de compras y recompras de productos\")\n",
    "plt.xlabel(\"Id de producto\")\n",
    "plt.ylabel(\"Proporción de recompra\")\n",
    "#plt.legend()\n",
    "plt.show()"
   ]
  },
  {
   "cell_type": "code",
   "execution_count": 58,
   "id": "dd642c91",
   "metadata": {},
   "outputs": [
    {
     "data": {
      "text/plain": [
       "count    45573.000000\n",
       "mean         0.386707\n",
       "std          0.272132\n",
       "min          0.000000\n",
       "25%          0.166667\n",
       "50%          0.408163\n",
       "75%          0.575758\n",
       "max          1.000000\n",
       "Name: proporcion_recompra, dtype: float64"
      ]
     },
     "execution_count": 58,
     "metadata": {},
     "output_type": "execute_result"
    }
   ],
   "source": [
    "df_compras_recompras[\"proporcion_recompra\"].describe()"
   ]
  },
  {
   "cell_type": "markdown",
   "id": "I10dEIAyldcO",
   "metadata": {
    "id": "I10dEIAyldcO"
   },
   "source": [
    "Escribe aquí tus conclusiones. El promedio de la proporción de recompra es de 38% del número de compras. 38% de las compras son recompras. \n",
    "\n",
    "Es un valor improbable observar que el número de compras sea igual al número de recompras. Siempre habrá más productos comprados que recomprados, al menos el de la primera compra. \n",
    "\n",
    "Es una limitante buscar observar 45573 productos a la vez. "
   ]
  },
  {
   "cell_type": "markdown",
   "id": "subject-boxing",
   "metadata": {
    "id": "subject-boxing"
   },
   "source": [
    "### [C4] Para cada cliente, ¿qué proporción de sus productos ya los había pedido?"
   ]
  },
  {
   "cell_type": "code",
   "execution_count": 62,
   "id": "medical-couple",
   "metadata": {
    "id": "medical-couple",
    "scrolled": true
   },
   "outputs": [
    {
     "name": "stdout",
     "output_type": "stream",
     "text": [
      "   order_id  product_id  reordered\n",
      "0   2141543       11440          0\n",
      "1    567889        1560          1\n",
      "2   2261212       26683          1\n",
      "3    491251        8670          1\n",
      "4   2571142        1940          1\n",
      "   order_id  user_id\n",
      "0   1515936   183418\n",
      "1   1690866   163593\n",
      "2   1454967    39980\n",
      "3   1768857    82516\n",
      "4   3007858   196724\n",
      "   order_id  product_id  reordered  user_id\n",
      "0   2141543       11440          0    58454\n",
      "1    567889        1560          1   129474\n",
      "2   2261212       26683          1    47476\n",
      "3    491251        8670          1   134505\n",
      "4   2571142        1940          1   155995\n"
     ]
    }
   ],
   "source": [
    "#Del total de productos que los clientes compran, cuantos recomprados. \n",
    "#Agrupar por cliente. Contar los productos que compran y cuantos de ellos ya los habían recomprado.\n",
    "\n",
    "#instacart tiene los nombres de usuario y órdenes hechas. Puedo unir instacart a order_products por order_id retirando información innecesaria de ambos. \n",
    "#El objetivo es añadirle el user_id a cada registro por order_id en order_products. \n",
    "\n",
    "#order_products_cols #'order_id', 'product_id', 'add_to_cart_order', 'reordered' #add to cart order no lo necesito\n",
    "#instacart_cols #'order_id', 'user_id', 'order_number', 'order_dow', 'order_hour_of_day', 'days_since_prior_order'\n",
    "\n",
    "#Por cliente. Cuanto compran, cuanto recompran. Una proporcion basta. \n",
    "productos_orden = order_products_ds[[\"order_id\", \"product_id\", \"reordered\"]] #se retira add to cart order. Fuera de la perspectiva de la pregunta problema. \n",
    "print(productos_orden.head())\n",
    "\n",
    "ordenes_por_usario = instacart_ds[[\"order_id\", \"user_id\"]]\n",
    "print(ordenes_por_usario.head())\n",
    "#unir los subsegmentos de los marcos de datos productos_orden y ordenes_por_usuario sobre ordenes por usuario en order_id\n",
    "productos_por_usuario = pd.merge(productos_orden, ordenes_por_usario, on=\"order_id\", how=\"left\")\n",
    "print(productos_por_usuario.head())"
   ]
  },
  {
   "cell_type": "code",
   "execution_count": 65,
   "id": "8892e4b4",
   "metadata": {
    "id": "8892e4b4"
   },
   "outputs": [
    {
     "name": "stdout",
     "output_type": "stream",
     "text": [
      "user_id\n",
      "2          26\n",
      "4           2\n",
      "5          12\n",
      "6           4\n",
      "7          14\n",
      "         ... \n",
      "206203     27\n",
      "206206     21\n",
      "206207     46\n",
      "206208    125\n",
      "206209     25\n",
      "Name: product_id, Length: 149626, dtype: int64\n",
      "user_id\n",
      "2          1\n",
      "5          8\n",
      "7         13\n",
      "11         3\n",
      "12         3\n",
      "          ..\n",
      "206203     6\n",
      "206206    15\n",
      "206207    41\n",
      "206208    87\n",
      "206209     8\n",
      "Name: reordered, Length: 132991, dtype: int64\n"
     ]
    }
   ],
   "source": [
    "#Agrupar por user_id\n",
    "comprados = productos_por_usuario.groupby(\"user_id\")[\"product_id\"].count()\n",
    "print(comprados)\n",
    "recomprados = productos_por_usuario[productos_por_usuario[\"reordered\"]==1].groupby(\"user_id\")[\"reordered\"].count()\n",
    "print(recomprados)"
   ]
  },
  {
   "cell_type": "code",
   "execution_count": 102,
   "id": "d69405f9",
   "metadata": {},
   "outputs": [
    {
     "name": "stdout",
     "output_type": "stream",
     "text": [
      "         product_id  reordered\n",
      "user_id                       \n",
      "2                26        1.0\n",
      "4                 2        NaN\n",
      "5                12        8.0\n",
      "6                 4        NaN\n",
      "7                14       13.0\n",
      "16635\n",
      "         product_id  reordered\n",
      "user_id                       \n",
      "2                26        1.0\n",
      "5                12        8.0\n",
      "7                14       13.0\n",
      "11               15        3.0\n",
      "12               12        3.0\n"
     ]
    }
   ],
   "source": [
    "#Ya tengo las columnas de comprados y recomprados ahora conseguir unirlos, graficar la proporción y describirla.\n",
    "proporcion_recompra_por_cliente = pd.merge(comprados, recomprados, on=\"user_id\", how=\"left\")\n",
    "print(proporcion_recompra_por_cliente.head())\n",
    "#remover Nan. Todos los artículos sin recompra serán retirados del estudio ya que no se puede sacar una proporción dividiendo 0. \n",
    "print(proporcion_recompra_por_cliente[\"reordered\"].isna().sum()) #16635 clientes de 149626 serán removidos por no recompra. \n",
    "proporcion_recompra_por_cliente_sinNA = proporcion_recompra_por_cliente.dropna()\n",
    "#print(16635/149626) #11 por ciento; cantidad de datos removidos por valores nulos. \n",
    "print(proporcion_recompra_por_cliente_sinNA.head()) #se removieron las filas con NA. 11% de los datos"
   ]
  },
  {
   "cell_type": "code",
   "execution_count": 104,
   "id": "3c1321e4",
   "metadata": {},
   "outputs": [
    {
     "name": "stdout",
     "output_type": "stream",
     "text": [
      "         product_id  reordered  proporcion_recompra proporcion_recompra_binned\n",
      "user_id                                                                       \n",
      "2                26        1.0             0.038462                      0-0.1\n",
      "5                12        8.0             0.666667                   0.5-0.75\n",
      "7                14       13.0             0.928571                     0.75-1\n",
      "11               15        3.0             0.200000                   0.1-0.25\n",
      "12               12        3.0             0.250000                   0.1-0.25\n",
      "5219\n",
      "proporcion_recompra_binned\n",
      "0-0.1        3473\n",
      "0.1-0.25    15846\n",
      "0.25-0.5    39134\n",
      "0.5-0.75    42862\n",
      "0.75-1      31676\n",
      "Name: count, dtype: int64\n"
     ]
    },
    {
     "name": "stderr",
     "output_type": "stream",
     "text": [
      "C:\\Users\\david\\AppData\\Local\\Temp\\ipykernel_14416\\3494326322.py:2: SettingWithCopyWarning: \n",
      "A value is trying to be set on a copy of a slice from a DataFrame.\n",
      "Try using .loc[row_indexer,col_indexer] = value instead\n",
      "\n",
      "See the caveats in the documentation: https://pandas.pydata.org/pandas-docs/stable/user_guide/indexing.html#returning-a-view-versus-a-copy\n",
      "  proporcion_recompra_por_cliente_sinNA[\"proporcion_recompra\"] = proporcion_recompra_por_cliente_sinNA[\"reordered\"]/proporcion_recompra_por_cliente_sinNA[\"product_id\"] #Se dividen los recomprados entre los comprados para saber la proporcion de recompra.\n",
      "C:\\Users\\david\\AppData\\Local\\Temp\\ipykernel_14416\\3494326322.py:10: SettingWithCopyWarning: \n",
      "A value is trying to be set on a copy of a slice from a DataFrame.\n",
      "Try using .loc[row_indexer,col_indexer] = value instead\n",
      "\n",
      "See the caveats in the documentation: https://pandas.pydata.org/pandas-docs/stable/user_guide/indexing.html#returning-a-view-versus-a-copy\n",
      "  proporcion_recompra_por_cliente_sinNA[\"proporcion_recompra_binned\"] = pd.cut(\n"
     ]
    }
   ],
   "source": [
    "#obtener la proporcion dividiendo recompras entre compras\n",
    "proporcion_recompra_por_cliente_sinNA[\"proporcion_recompra\"] = proporcion_recompra_por_cliente_sinNA[\"reordered\"]/proporcion_recompra_por_cliente_sinNA[\"product_id\"] #Se dividen los recomprados entre los comprados para saber la proporcion de recompra. \n",
    "print(proporcion_recompra_por_cliente_sinNA.head())\n",
    "print(proporcion_recompra_por_cliente_sinNA[\"proporcion_recompra\"].nunique()) #5219 proporciones\n",
    "\n",
    "\n",
    "#Separar los conteos en rangos de proporción\n",
    "bins = [0, 0.1, 0.25, 0.5, 0.75, 1]\n",
    "labels = [\"0-0.1\", \"0.1-0.25\", \"0.25-0.5\", \"0.5-0.75\", \"0.75-1\"]\n",
    "proporcion_recompra_por_cliente_sinNA[\"proporcion_recompra_binned\"] = pd.cut(\n",
    "    proporcion_recompra_por_cliente_sinNA[\"proporcion_recompra\"], bins=bins, labels=labels, include_lowest=True\n",
    ") \n",
    "conteo_usuarios_por_intervalo = proporcion_recompra_por_cliente_sinNA[\"proporcion_recompra_binned\"].value_counts().sort_index()\n",
    "print(conteo_usuarios_por_intervalo.head())"
   ]
  },
  {
   "cell_type": "code",
   "execution_count": 115,
   "id": "3e8c975e",
   "metadata": {},
   "outputs": [
    {
     "name": "stdout",
     "output_type": "stream",
     "text": [
      "proporcion_recompra_binned\n",
      "0-0.1        3473\n",
      "0.1-0.25    15846\n",
      "0.25-0.5    39134\n",
      "0.5-0.75    42862\n",
      "0.75-1      31676\n",
      "Name: count, dtype: int64\n",
      "     Rangos  Porcentaje de Usuarios\n",
      "0     0-0.1                2.611455\n",
      "1  0.1-0.25               11.915092\n",
      "2  0.25-0.5               29.426051\n",
      "3  0.5-0.75               32.229249\n",
      "4    0.75-1               23.818153\n"
     ]
    }
   ],
   "source": [
    "conteo_usuarios_por_intervalo.describe() #el 50% de los datos está antes de 31676 clientes. \n",
    "print(conteo_usuarios_por_intervalo) #132991 si se suman\n",
    "\n",
    "total_usuarios = 132991\n",
    "#obtener los porcentajes de usuarios que se encuentran en cada rango \n",
    "rangos = [\"0-0.1\", \"0.1-0.25\", \"0.25-0.5\", \"0.5-0.75\", \"0.75-1\"]\n",
    "porcentajes_usuarios = [((3473/total_usuarios)*100), ((15846/total_usuarios)*100), ((39134/total_usuarios)*100), ((42862/total_usuarios)*100), ((31676/total_usuarios)*100)]\n",
    "\n",
    "data = {\n",
    "    \"Rangos\": rangos, \n",
    "    \"Porcentaje de Usuarios\": porcentajes_usuarios\n",
    "}\n",
    "df_porcentajes_clientes_por_intervalo_proporcion_compra_recompra = pd.DataFrame(data) #Este df me ayuda a entender como se distribuyen los clientes en las proporciones de recompra.\n",
    "print(df_porcentajes_clientes_por_intervalo_proporcion_compra_recompra)"
   ]
  },
  {
   "cell_type": "code",
   "execution_count": 118,
   "id": "e92009fb",
   "metadata": {},
   "outputs": [
    {
     "data": {
      "image/png": "[encoded data removed]",
      "text/plain": [
       "<Figure size 1200x900 with 1 Axes>"
      ]
     },
     "metadata": {},
     "output_type": "display_data"
    }
   ],
   "source": [
    "\n",
    "#Graficar las proporciones de recompra y cuantos clientes tienen cada proporcion. \n",
    "#En lugar de cliente como categorico sería bueno un conteo de proporciones. Es decir eje x = proporciones, ejey = cantidad de clientes con la proporcion. Barras\n",
    "plt.figure(figsize=(12, 9))\n",
    "bars = plt.bar(conteo_usuarios_por_intervalo.index, conteo_usuarios_por_intervalo.values, color = \"green\")\n",
    "\n",
    "# Añadir los porcentajes del DataFrame como texto sobre las barras\n",
    "for i, bar in enumerate(bars):\n",
    "    percentage = df_porcentajes_clientes_por_intervalo_proporcion_compra_recompra[\"Porcentaje de Usuarios\"].iloc[i]  # Obtener el porcentaje del DataFrame\n",
    "    plt.text(bar.get_x() + bar.get_width() / 2, bar.get_height() + 0.5, \n",
    "             f'{percentage:.2f}%', ha='center', va='bottom', fontsize=12)\n",
    "plt.xlabel(\"Intervalos de Proporciones de Recompra\")\n",
    "plt.ylabel(\"Cantidad de clientes\")\n",
    "plt.title(\"Frecuencias de las Proporciones de Recompra(Agrupadas)\")\n",
    "plt.show()"
   ]
  },
  {
   "cell_type": "markdown",
   "id": "BgJSvXDsleXz",
   "metadata": {
    "id": "BgJSvXDsleXz"
   },
   "source": [
    "Escribe aquí tus conclusiones. \n",
    "\n",
    "La mayoría de los clientes (61.66%) recompran desde 25 porciento de sus productos hasta 75% de sus productos. "
   ]
  },
  {
   "cell_type": "markdown",
   "id": "92d35137",
   "metadata": {
    "id": "92d35137"
   },
   "source": [
    "### [C5] ¿Cuáles son los 20 principales artículos que las personas ponen primero en sus carritos?"
   ]
  },
  {
   "cell_type": "code",
   "execution_count": 120,
   "id": "0ae57274",
   "metadata": {
    "id": "0ae57274",
    "scrolled": true
   },
   "outputs": [
    {
     "name": "stdout",
     "output_type": "stream",
     "text": [
      "       product_id                 product_name\n",
      "195           196                         Soda\n",
      "5784         5785  Organic Reduced Fat 2% Milk\n",
      "12340       12341                Hass Avocados\n",
      "13175       13176       Bag of Organic Bananas\n",
      "16796       16797                 Strawberries\n",
      "19659       19660                 Spring Water\n",
      "21136       21137         Organic Strawberries\n",
      "21902       21903         Organic Baby Spinach\n",
      "22934       22935         Organic Yellow Onion\n",
      "24851       24852                       Banana\n",
      "26208       26209                        Limes\n",
      "27085       27086                  Half & Half\n",
      "27844       27845           Organic Whole Milk\n",
      "27965       27966          Organic Raspberries\n",
      "38688       38689     Organic Reduced Fat Milk\n",
      "44631       44632   Sparkling Water Grapefruit\n",
      "47208       47209         Organic Hass Avocado\n",
      "47625       47626                  Large Lemon\n",
      "47765       47766              Organic Avocado\n",
      "49234       49235          Organic Half & Half\n"
     ]
    }
   ],
   "source": [
    "#20 principales artículos que las personas ponen primero en sus carritos. \n",
    "#Me llama la atención que dice que las personas ponen primero en sus carritos. \n",
    "#Veo más adecuado no unir a usuarios, sino a los productos que se ponen primero en cada órden. \n",
    "\n",
    "#Contar los artículos top 20 número 1 en los carritos y hacer la lista de los top 20 product_id que estan en esa posición. \n",
    "#Buscar esos product_id en su nombre de producto en marco de datos product. \n",
    "#Para conseguir los clientes se puede hacer un merge de instacart user_id por order_id. \n",
    "#Agrupar por user_id, order_id, \"add_to_cart_order\" and get the list of the top 20. \n",
    "\n",
    "#seleccionar la información relevante del marco de datos: ordenes, productos, orden en el carrito. \n",
    "products_cart_order = order_products_ds[[\"order_id\",\"product_id\", \"add_to_cart_order\"]] \n",
    "\n",
    "#Conseguir los artículos que se encuentran en la primera posición de cada órden. \n",
    "primeros_productos = products_cart_order[products_cart_order[\"add_to_cart_order\"]==1]\n",
    "\n",
    "#Contar los productos y tomar los primeros 20 valores de product_id\n",
    "top20_productos_primeros = primeros_productos[\"product_id\"].value_counts().head(20)\n",
    "\n",
    "#Buscar en el marco de datos products el nombre conforme a esos ids\n",
    "nombres_top20_productos_primeros = products_ds[products_ds[\"product_id\"].isin(top20_productos_primeros.index)]\n",
    "\n",
    "print(nombres_top20_productos_primeros[[\"product_id\", \"product_name\"]])\n"
   ]
  },
  {
   "cell_type": "markdown",
   "id": "28ce9872",
   "metadata": {
    "id": "28ce9872"
   },
   "source": [
    "Escribe aquí tus conclusiones. \n",
    "\n",
    "Se consiguieron los 20 articulos que toman la posición 1 en el carrito con mayor frecuencia. "
   ]
  },
  {
   "cell_type": "markdown",
   "id": "uITbFCEoDosC",
   "metadata": {
    "id": "uITbFCEoDosC"
   },
   "source": [
    "### Conclusion general del proyecto:"
   ]
  },
  {
   "cell_type": "markdown",
   "id": "e61e9bda",
   "metadata": {},
   "source": [
    "La información medular del proyecto consta de las órdenes de pedidos compuestas por cuantos y cuales productos así como tendencias de compras. \n",
    "\n",
    "Del proyecto se observó una tendencia mayor a comprar viveres los días de la semana domingo y lunes. Seguido por martes, viernes, sábado, miércoles y por último jueves.\n",
    "\n",
    "Las horas a las cuales se generan la mayoría de las compras son a partir de las 10 horas a 18 horas. \n",
    "\n",
    "Por otra parte, respecto a las características de las órdenes. La distribución de órdenes hechas está sesgada hacia la izquierda tanto para tamaño de órdenes en cantidad de artículos por orden y cantidad de órdenes denotando que hay una tendencia a órdenes pequeñas menores a 15 productos y menor a 20 órdenes hechas por cliente. \n",
    "\n",
    "Los 20 artículos más comprados y populares aunque varían en 5 productos son generalmente productos orgánicos como fresas, bananas, limones y aguacates. \n",
    "\n",
    "Y del total de compras el 38% son recompras. Donde las frecuencias de recompra dado que ya se compró se distribuyen mayoritariamente de 25% a 75%. "
   ]
  }
 ],
 "metadata": {
  "colab": {
   "provenance": []
  },
  "kernelspec": {
   "display_name": "Python 3",
   "language": "python",
   "name": "python3"
  },
  "language_info": {
   "codemirror_mode": {
    "name": "ipython",
    "version": 3
   },
   "file_extension": ".py",
   "mimetype": "text/x-python",
   "name": "python",
   "nbconvert_exporter": "python",
   "pygments_lexer": "ipython3",
   "version": "3.13.0"
  },
  "toc": {
   "base_numbering": 1,
   "nav_menu": {},
   "number_sections": true,
   "sideBar": true,
   "skip_h1_title": true,
   "title_cell": "Table of Contents",
   "title_sidebar": "Contents",
   "toc_cell": false,
   "toc_position": {},
   "toc_section_display": true,
   "toc_window_display": false
  }
 },
 "nbformat": 4,
 "nbformat_minor": 5
}
