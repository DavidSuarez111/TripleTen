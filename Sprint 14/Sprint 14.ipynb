{
 "cells": [
  {
   "cell_type": "markdown",
   "metadata": {},
   "source": [
    "El servicio de venta de autos usados Rusty Bargain está desarrollando una aplicación para atraer nuevos clientes. Gracias a esa app, puedes averiguar rápidamente el valor de mercado de tu coche. Tienes acceso al historial: especificaciones técnicas, versiones de equipamiento y precios. Tienes que crear un modelo que determine el valor de mercado.\n",
    "A Rusty Bargain le interesa:\n",
    "- la calidad de la predicción;\n",
    "- la velocidad de la predicción;\n",
    "- el tiempo requerido para el entrenamiento"
   ]
  },
  {
   "cell_type": "code",
   "execution_count": 47,
   "metadata": {},
   "outputs": [],
   "source": [
    "#Instalar librerías\n",
    "#!pip install lightgbm #Al completar la instalación se puede comentar. \n",
    "\n",
    "#Importación de librerías\n",
    "import pandas as pd\n",
    "import numpy as np\n",
    "import time\n",
    "\n",
    "#Modelos, métricas y manipulación de datos para modelado\n",
    "from sklearn.model_selection import train_test_split, GridSearchCV\n",
    "from sklearn.pipeline import Pipeline\n",
    "from sklearn.compose import ColumnTransformer\n",
    "from sklearn.preprocessing import StandardScaler, OneHotEncoder, OrdinalEncoder\n",
    "from sklearn.impute import SimpleImputer\n",
    "from sklearn.linear_model import LinearRegression\n",
    "from sklearn.ensemble import RandomForestRegressor\n",
    "from sklearn.metrics import make_scorer, mean_squared_error, r2_score, mean_absolute_error\n",
    "import lightgbm as lgb"
   ]
  },
  {
   "cell_type": "markdown",
   "metadata": {},
   "source": [
    "## Preparación de datos"
   ]
  },
  {
   "cell_type": "code",
   "execution_count": 48,
   "metadata": {},
   "outputs": [
    {
     "name": "stdout",
     "output_type": "stream",
     "text": [
      "<class 'pandas.core.frame.DataFrame'>\n",
      "RangeIndex: 354369 entries, 0 to 354368\n",
      "Data columns (total 16 columns):\n",
      " #   Column             Non-Null Count   Dtype \n",
      "---  ------             --------------   ----- \n",
      " 0   DateCrawled        354369 non-null  object\n",
      " 1   Price              354369 non-null  int64 \n",
      " 2   VehicleType        316879 non-null  object\n",
      " 3   RegistrationYear   354369 non-null  int64 \n",
      " 4   Gearbox            334536 non-null  object\n",
      " 5   Power              354369 non-null  int64 \n",
      " 6   Model              334664 non-null  object\n",
      " 7   Mileage            354369 non-null  int64 \n",
      " 8   RegistrationMonth  354369 non-null  int64 \n",
      " 9   FuelType           321474 non-null  object\n",
      " 10  Brand              354369 non-null  object\n",
      " 11  NotRepaired        283215 non-null  object\n",
      " 12  DateCreated        354369 non-null  object\n",
      " 13  NumberOfPictures   354369 non-null  int64 \n",
      " 14  PostalCode         354369 non-null  int64 \n",
      " 15  LastSeen           354369 non-null  object\n",
      "dtypes: int64(7), object(9)\n",
      "memory usage: 43.3+ MB\n"
     ]
    },
    {
     "data": {
      "text/html": [
       "<div>\n",
       "<style scoped>\n",
       "    .dataframe tbody tr th:only-of-type {\n",
       "        vertical-align: middle;\n",
       "    }\n",
       "\n",
       "    .dataframe tbody tr th {\n",
       "        vertical-align: top;\n",
       "    }\n",
       "\n",
       "    .dataframe thead th {\n",
       "        text-align: right;\n",
       "    }\n",
       "</style>\n",
       "<table border=\"1\" class=\"dataframe\">\n",
       "  <thead>\n",
       "    <tr style=\"text-align: right;\">\n",
       "      <th></th>\n",
       "      <th>DateCrawled</th>\n",
       "      <th>Price</th>\n",
       "      <th>VehicleType</th>\n",
       "      <th>RegistrationYear</th>\n",
       "      <th>Gearbox</th>\n",
       "      <th>Power</th>\n",
       "      <th>Model</th>\n",
       "      <th>Mileage</th>\n",
       "      <th>RegistrationMonth</th>\n",
       "      <th>FuelType</th>\n",
       "      <th>Brand</th>\n",
       "      <th>NotRepaired</th>\n",
       "      <th>DateCreated</th>\n",
       "      <th>NumberOfPictures</th>\n",
       "      <th>PostalCode</th>\n",
       "      <th>LastSeen</th>\n",
       "    </tr>\n",
       "  </thead>\n",
       "  <tbody>\n",
       "    <tr>\n",
       "      <th>0</th>\n",
       "      <td>24/03/2016 11:52</td>\n",
       "      <td>480</td>\n",
       "      <td>NaN</td>\n",
       "      <td>1993</td>\n",
       "      <td>manual</td>\n",
       "      <td>0</td>\n",
       "      <td>golf</td>\n",
       "      <td>150000</td>\n",
       "      <td>0</td>\n",
       "      <td>petrol</td>\n",
       "      <td>volkswagen</td>\n",
       "      <td>NaN</td>\n",
       "      <td>24/03/2016 00:00</td>\n",
       "      <td>0</td>\n",
       "      <td>70435</td>\n",
       "      <td>07/04/2016 03:16</td>\n",
       "    </tr>\n",
       "    <tr>\n",
       "      <th>1</th>\n",
       "      <td>24/03/2016 10:58</td>\n",
       "      <td>18300</td>\n",
       "      <td>coupe</td>\n",
       "      <td>2011</td>\n",
       "      <td>manual</td>\n",
       "      <td>190</td>\n",
       "      <td>NaN</td>\n",
       "      <td>125000</td>\n",
       "      <td>5</td>\n",
       "      <td>gasoline</td>\n",
       "      <td>audi</td>\n",
       "      <td>yes</td>\n",
       "      <td>24/03/2016 00:00</td>\n",
       "      <td>0</td>\n",
       "      <td>66954</td>\n",
       "      <td>07/04/2016 01:46</td>\n",
       "    </tr>\n",
       "    <tr>\n",
       "      <th>2</th>\n",
       "      <td>14/03/2016 12:52</td>\n",
       "      <td>9800</td>\n",
       "      <td>suv</td>\n",
       "      <td>2004</td>\n",
       "      <td>auto</td>\n",
       "      <td>163</td>\n",
       "      <td>grand</td>\n",
       "      <td>125000</td>\n",
       "      <td>8</td>\n",
       "      <td>gasoline</td>\n",
       "      <td>jeep</td>\n",
       "      <td>NaN</td>\n",
       "      <td>14/03/2016 00:00</td>\n",
       "      <td>0</td>\n",
       "      <td>90480</td>\n",
       "      <td>05/04/2016 12:47</td>\n",
       "    </tr>\n",
       "    <tr>\n",
       "      <th>3</th>\n",
       "      <td>17/03/2016 16:54</td>\n",
       "      <td>1500</td>\n",
       "      <td>small</td>\n",
       "      <td>2001</td>\n",
       "      <td>manual</td>\n",
       "      <td>75</td>\n",
       "      <td>golf</td>\n",
       "      <td>150000</td>\n",
       "      <td>6</td>\n",
       "      <td>petrol</td>\n",
       "      <td>volkswagen</td>\n",
       "      <td>no</td>\n",
       "      <td>17/03/2016 00:00</td>\n",
       "      <td>0</td>\n",
       "      <td>91074</td>\n",
       "      <td>17/03/2016 17:40</td>\n",
       "    </tr>\n",
       "    <tr>\n",
       "      <th>4</th>\n",
       "      <td>31/03/2016 17:25</td>\n",
       "      <td>3600</td>\n",
       "      <td>small</td>\n",
       "      <td>2008</td>\n",
       "      <td>manual</td>\n",
       "      <td>69</td>\n",
       "      <td>fabia</td>\n",
       "      <td>90000</td>\n",
       "      <td>7</td>\n",
       "      <td>gasoline</td>\n",
       "      <td>skoda</td>\n",
       "      <td>no</td>\n",
       "      <td>31/03/2016 00:00</td>\n",
       "      <td>0</td>\n",
       "      <td>60437</td>\n",
       "      <td>06/04/2016 10:17</td>\n",
       "    </tr>\n",
       "  </tbody>\n",
       "</table>\n",
       "</div>"
      ],
      "text/plain": [
       "        DateCrawled  Price VehicleType  RegistrationYear Gearbox  Power  \\\n",
       "0  24/03/2016 11:52    480         NaN              1993  manual      0   \n",
       "1  24/03/2016 10:58  18300       coupe              2011  manual    190   \n",
       "2  14/03/2016 12:52   9800         suv              2004    auto    163   \n",
       "3  17/03/2016 16:54   1500       small              2001  manual     75   \n",
       "4  31/03/2016 17:25   3600       small              2008  manual     69   \n",
       "\n",
       "   Model  Mileage  RegistrationMonth  FuelType       Brand NotRepaired  \\\n",
       "0   golf   150000                  0    petrol  volkswagen         NaN   \n",
       "1    NaN   125000                  5  gasoline        audi         yes   \n",
       "2  grand   125000                  8  gasoline        jeep         NaN   \n",
       "3   golf   150000                  6    petrol  volkswagen          no   \n",
       "4  fabia    90000                  7  gasoline       skoda          no   \n",
       "\n",
       "        DateCreated  NumberOfPictures  PostalCode          LastSeen  \n",
       "0  24/03/2016 00:00                 0       70435  07/04/2016 03:16  \n",
       "1  24/03/2016 00:00                 0       66954  07/04/2016 01:46  \n",
       "2  14/03/2016 00:00                 0       90480  05/04/2016 12:47  \n",
       "3  17/03/2016 00:00                 0       91074  17/03/2016 17:40  \n",
       "4  31/03/2016 00:00                 0       60437  06/04/2016 10:17  "
      ]
     },
     "metadata": {},
     "output_type": "display_data"
    },
    {
     "name": "stdout",
     "output_type": "stream",
     "text": [
      "Las variables de fechas son objetos {DateCrawled, DateCreated, LastSeen} preferible cambiarlas a su formato: datetime. \n",
      "<class 'pandas.core.frame.DataFrame'>\n",
      "RangeIndex: 354369 entries, 0 to 354368\n",
      "Data columns (total 16 columns):\n",
      " #   Column             Non-Null Count   Dtype         \n",
      "---  ------             --------------   -----         \n",
      " 0   DateCrawled        354369 non-null  datetime64[ns]\n",
      " 1   Price              354369 non-null  int64         \n",
      " 2   VehicleType        316879 non-null  object        \n",
      " 3   RegistrationYear   354369 non-null  int64         \n",
      " 4   Gearbox            334536 non-null  object        \n",
      " 5   Power              354369 non-null  int64         \n",
      " 6   Model              334664 non-null  object        \n",
      " 7   Mileage            354369 non-null  int64         \n",
      " 8   RegistrationMonth  354369 non-null  int64         \n",
      " 9   FuelType           321474 non-null  object        \n",
      " 10  Brand              354369 non-null  object        \n",
      " 11  NotRepaired        283215 non-null  object        \n",
      " 12  DateCreated        354369 non-null  datetime64[ns]\n",
      " 13  NumberOfPictures   354369 non-null  int64         \n",
      " 14  PostalCode         354369 non-null  int64         \n",
      " 15  LastSeen           354369 non-null  datetime64[ns]\n",
      "dtypes: datetime64[ns](3), int64(7), object(6)\n",
      "memory usage: 43.3+ MB\n",
      "Tipos de datos de ['DateCrawled', 'DateCreated', 'LastSeen'] cambiados a formato datetime\n"
     ]
    }
   ],
   "source": [
    "car_df = pd.read_csv(\"car_data.csv\")\n",
    "car_df.info()\n",
    "display(car_df.head())\n",
    "print(\"Las variables de fechas son objetos {DateCrawled, DateCreated, LastSeen} preferible cambiarlas a su formato: datetime. \")\n",
    "\n",
    "#Cambio de tipo a datetime. \n",
    "columnas_fecha = [\"DateCrawled\", \"DateCreated\", \"LastSeen\"]\n",
    "for col in columnas_fecha: \n",
    "    car_df[col] = pd.to_datetime(car_df[col], format = \"%d/%m/%Y %H:%M\") #No hay nulos por lo tanto no se ocupa el argumento errors= \"coerce\"\n",
    "    \n",
    "#Revisión de nuevos tipos de datos con .info() \n",
    "car_df.info()\n",
    "print(f\"Tipos de datos de {columnas_fecha} cambiados a formato datetime\")"
   ]
  },
  {
   "cell_type": "code",
   "execution_count": 49,
   "metadata": {},
   "outputs": [
    {
     "name": "stdout",
     "output_type": "stream",
     "text": [
      "DateCrawled          0.000000\n",
      "Price                0.000000\n",
      "VehicleType          0.105794\n",
      "RegistrationYear     0.000000\n",
      "Gearbox              0.055967\n",
      "Power                0.000000\n",
      "Model                0.055606\n",
      "Mileage              0.000000\n",
      "RegistrationMonth    0.000000\n",
      "FuelType             0.092827\n",
      "Brand                0.000000\n",
      "NotRepaired          0.200791\n",
      "DateCreated          0.000000\n",
      "NumberOfPictures     0.000000\n",
      "PostalCode           0.000000\n",
      "LastSeen             0.000000\n",
      "dtype: float64\n",
      "Hay nulos en 5 variables {VehicleType, Gearbox, Model, Fueltype, NotRepaired}. Todas las variables son objetos o categóricas, los valores pueden ser cambiados por no registrado en lugar de valores nulos para facilitar el entrenado de los modelos.\n",
      "Precio máximo: 20000 dólares \n",
      "Precio mínimo: 0 dólares \n",
      "LLegan a variar en 20000 dólares\n",
      "\n",
      "Hay carros de 0 dólares. Interesante, debe haber habido nulos manejados como 0\n",
      "Prmedio de precios de carros: 4416.656775846645 dólares \n",
      "Mediana de precios de carros: 2700.0 dólares\n",
      "Un total de 10772 carros con registro de precio de 0 dólares.\n"
     ]
    }
   ],
   "source": [
    "#Revisión de nulos \n",
    "print(car_df.isna().mean())\n",
    "print(\"Hay nulos en 5 variables {VehicleType, Gearbox, Model, Fueltype, NotRepaired}. Todas las variables son objetos o categóricas, los valores pueden ser cambiados por no registrado en lugar de valores nulos para facilitar el entrenado de los modelos.\")\n",
    "\n",
    "#Cuál es el rango de los precios. Importante conocer sobre la variable objetivo. \n",
    "precio_minimo = car_df[\"Price\"].min()\n",
    "precio_maximo = car_df[\"Price\"].max()\n",
    "rango_precios = car_df[\"Price\"].max() - car_df[\"Price\"].min()\n",
    "promedio_precios = car_df[\"Price\"].mean()\n",
    "mediana_precios = car_df[\"Price\"].median()\n",
    "ceros_precio = (car_df[\"Price\"]== 0).sum()\n",
    "\n",
    "print(f\"Precio máximo: {precio_maximo} dólares \\nPrecio mínimo: {precio_minimo} dólares \\nLLegan a variar en {rango_precios} dólares\")\n",
    "print(\"\\nHay carros de 0 dólares. Interesante, debe haber habido nulos manejados como 0\")\n",
    "print(f\"Prmedio de precios de carros: {promedio_precios} dólares \\nMediana de precios de carros: {mediana_precios} dólares\")\n",
    "print(f\"Un total de {ceros_precio} carros con registro de precio de 0 dólares.\") #10772 carros de precio 0. "
   ]
  },
  {
   "cell_type": "markdown",
   "metadata": {},
   "source": [
    "## Entrenamiento del modelo "
   ]
  },
  {
   "cell_type": "code",
   "execution_count": null,
   "metadata": {},
   "outputs": [],
   "source": [
    "#Generar funciones para métricas de calidad aplicable al interior de funciones de modelos. \n",
    "#Error cuadrático medio \n",
    "def rmse(y_true, y_pred):\n",
    "    return np.sqrt(mean_squared_error(y_true, y_pred))\n",
    "\n",
    "rmse_scorer = make_scorer(rmse, greater_is_better=False)"
   ]
  },
  {
   "cell_type": "code",
   "execution_count": null,
   "metadata": {},
   "outputs": [],
   "source": [
    "#Estandarización e imputación de los datos. \n",
    "\n",
    "#Me di cuenta que en los precios de algunos carros hay registro de valor 0 no creo sea útil predecir ausencia de valor en los carros supongo no hubo registro eliminaré esos datos. \n",
    "car_df.columns #Price es el objetivo.\n",
    "car_df_sin_ceros = car_df[car_df[\"Price\"] != 0] \n",
    "car_df_objetivo = car_df_sin_ceros[\"Price\"]\n",
    "car_df_caracteristicas = car_df_sin_ceros.drop(columns=\"Price\")\n",
    "car_df_caracteristicas = car_df_caracteristicas.drop(columns=columnas_fecha) #Remoción de datos tipo fecha. Datetime no son admisibles para modelos de aprendizaje\n",
    "\n",
    "#Imputación de valores faltantes en variables categóricas\n",
    "car_df_caracteristicas = car_df_caracteristicas.fillna(\"unregistered\")\n",
    "\n",
    "#Para este momento los datos ya están separados por objetivo y características. \n",
    "\n",
    "#Los datos son 354369 filas. Para reducir los tiempos de búsqueda de hiperparámetros se puede hacer un muestreo. \n",
    "x_sample, _, y_sample, _ = train_test_split(car_df_caracteristicas, car_df_objetivo, train_size=0.2, random_state=54321) #x_sample es la muestra de 20% de las características e y_sample del objetivo.  \n",
    "\n",
    "#Separación de los datos en 60% entrenamiento, 20% test, 20% validación. \n",
    "df_cars_entrenamiento, df_cars_test_valid, df_objetivo_entrenamiento, df_objetivo_test_valid = train_test_split(car_df_caracteristicas, car_df_objetivo, train_size=0.6, random_state=54321) #Se dividen los datos en entrenamiento y conjunto para dividir en prueba y validación. Cuenta como 60% entrenamiento, 40% prueba también.\n",
    "\n",
    "df_cars_test, df_cars_valid, df_objetivo_test, df_objetivo_valid = train_test_split(df_cars_test_valid, df_objetivo_test_valid, train_size=0.5, random_state=54321) #Salen 2 sets: validación y prueba de 20% del tamaño total. 50% de 40%. Solo por si quiero validar. \n",
    "\n",
    "#Hacer una segregación por tipo de datos. \n",
    "columnas_numericas = car_df_caracteristicas.select_dtypes(include=[\"int64\", \"float64\"]).columns.to_list()\n",
    "columnas_categoricas = car_df_caracteristicas.select_dtypes(include=\"object\").columns.to_list()\n",
    "\n",
    "#Preprocesadores separados \n",
    "preprocesamiento_numerico = Pipeline([(\"escalar\", StandardScaler())])\n",
    "preprocesamiento_ohe = OneHotEncoder(handle_unknown=\"ignore\")\n",
    "preprocesamiento_ordinal = OrdinalEncoder(handle_unknown='use_encoded_value', unknown_value=-1)"
   ]
  },
  {
   "cell_type": "code",
   "execution_count": 52,
   "metadata": {},
   "outputs": [
    {
     "name": "stdout",
     "output_type": "stream",
     "text": [
      "Linear Regression - Best RMSE (CV): 3130.1289877705008\n",
      "Best Params: {'modelo__fit_intercept': True}\n",
      "Los resultados de la regresión lineal previo a entrenar y poner a prueba, es decir por validación cruzada, llega a variar en 3130.13 dolares.\n"
     ]
    }
   ],
   "source": [
    "#Preprocesador a aplicar para búsqueda de hiperparámetros para la regresión lineal \n",
    "preprocesador_lr = ColumnTransformer([\n",
    "    (\"num\", preprocesamiento_numerico, columnas_numericas),\n",
    "    (\"cat\", preprocesamiento_ohe, columnas_categoricas)\n",
    "])\n",
    "\n",
    "pipeline_lr = Pipeline([\n",
    "    (\"preprocesador\", preprocesador_lr),\n",
    "    (\"modelo\", LinearRegression())\n",
    "])\n",
    "\n",
    "param_grid_lr = {\n",
    "    \"modelo__fit_intercept\": [True, False]\n",
    "}\n",
    "\n",
    "grid_lr = GridSearchCV(\n",
    "    pipeline_lr,\n",
    "    param_grid_lr,\n",
    "    scoring=rmse_scorer,\n",
    "    cv=3\n",
    ")\n",
    "\n",
    "grid_lr.fit(x_sample, y_sample)\n",
    "print(\"Linear Regression - Best RMSE (CV):\", -grid_lr.best_score_)\n",
    "print(\"Best Params:\", grid_lr.best_params_)\n",
    "print(f\"Los resultados de la regresión lineal previo a entrenar y poner a prueba, es decir por validación cruzada, llega a variar en {-grid_lr.best_score_:.2f} dolares.\")\n",
    "\n",
    "#grid_lr.best_estimator_ sostiene los mejores valores de hiperparámetros y el modelo para posteriormente entrenar el mejor modelo con los datos completos en lugar de validación cruzada. Aplica de forma similar para todos los modelos en el que se use GridSearchCV. "
   ]
  },
  {
   "cell_type": "code",
   "execution_count": null,
   "metadata": {},
   "outputs": [
    {
     "name": "stdout",
     "output_type": "stream",
     "text": [
      "RECM en prueba:3130.65 dólares. El RECM es similar a aquel obtenido en datos de muestreo.\n",
      "r2 en prueba: 0.5208859904512142\n",
      "El modelo parece tener una tendencia practicamente aleatoria respecto a la predicción de los datos. ¿Qué tanta mejora habrá en otros modelos?\n",
      "Tiempo de entrenamiento de regresión lineal: 3.52 segundos,\n",
      "Tiempo de predicción de regresión lineal: 0.24 segundos\n"
     ]
    }
   ],
   "source": [
    "#Prueba de cordura: Regresión Lineal. Poner a prueba la regresión con los datos de entrenamiento y prueba. \n",
    "mejor_modelo_lr = grid_lr.best_estimator_\n",
    "start_train_lr = time.time()\n",
    "mejor_modelo_lr.fit(df_cars_entrenamiento, df_objetivo_entrenamiento)\n",
    "tiempo_entrenamiento_lr = time.time() -start_train_lr\n",
    "\n",
    "start_pred_lr = time.time()\n",
    "obj_prediccion = mejor_modelo_lr.predict(df_cars_test_valid)\n",
    "tiempo_pred_lr = time.time()-start_pred_lr\n",
    "rmse_lr = np.sqrt(mean_squared_error(df_objetivo_test_valid, obj_prediccion))\n",
    "rs = r2_score(df_objetivo_test_valid, obj_prediccion)\n",
    "\n",
    "print(f\"RECM en prueba:{rmse_lr:.2f} dólares. El RECM es similar a aquel obtenido en datos de muestreo.\")\n",
    "print(f\"r2 en prueba: {rs}\")\n",
    "print(\"El modelo parece tener una tendencia practicamente aleatoria respecto a la predicción de los datos. ¿Qué tanta mejora habrá en otros modelos?\")\n",
    "print(f\"Tiempo de entrenamiento de regresión lineal: {tiempo_entrenamiento_lr:.2f} segundos,\\nTiempo de predicción de regresión lineal: {tiempo_pred_lr:.2f} segundos\")"
   ]
  },
  {
   "cell_type": "code",
   "execution_count": null,
   "metadata": {},
   "outputs": [
    {
     "name": "stdout",
     "output_type": "stream",
     "text": [
      "Mejor RECM arbol aleatorio por (CV): 1986.8380262554117\n",
      "Best Params: {'modelo__max_depth': 10, 'modelo__min_samples_split': 2, 'modelo__n_estimators': 200}\n",
      "El bosque aleatorio llegó a un RECM menor por 1100 dólares en datos de muestreo. Mejor desempeño que la regresión lineal\n"
     ]
    }
   ],
   "source": [
    "#Preprocesador para la búsqueda de hiperparámetros para el bosque aleatorio\n",
    "preprocesador_rf = ColumnTransformer([\n",
    "    (\"num\", preprocesamiento_numerico, columnas_numericas),\n",
    "    (\"cat\", preprocesamiento_ordinal, columnas_categoricas)\n",
    "])\n",
    "\n",
    "pipeline_rf = Pipeline([\n",
    "    (\"preprocesador\", preprocesador_rf),\n",
    "    (\"modelo\", RandomForestRegressor(random_state=42))\n",
    "])\n",
    "\n",
    "param_grid_rf = {\n",
    "    \"modelo__n_estimators\": [100, 200],\n",
    "    \"modelo__max_depth\": [5, 10],\n",
    "    \"modelo__min_samples_split\": [2, 5]\n",
    "}\n",
    "\n",
    "grid_rf = GridSearchCV(\n",
    "    pipeline_rf,\n",
    "    param_grid_rf,\n",
    "    scoring= rmse_scorer,\n",
    "    cv=3,\n",
    "    n_jobs=-1\n",
    ")\n",
    "\n",
    "grid_rf.fit(x_sample, y_sample)\n",
    "print(\"Mejor RECM arbol aleatorio por (CV):\", -grid_rf.best_score_) #con datos de muestreo\n",
    "print(\"Best Params:\", grid_rf.best_params_)\n",
    "print(\"El bosque aleatorio llegó a un RECM menor por 1100 dólares en datos de muestreo. Mejor desempeño que la regresión lineal\")"
   ]
  },
  {
   "cell_type": "code",
   "execution_count": 55,
   "metadata": {},
   "outputs": [
    {
     "name": "stdout",
     "output_type": "stream",
     "text": [
      "RECM de la prueba con el mejor modelo de bosque aleatorio en los valores de prueba: 1945.76\n",
      "Tiempo de entrenamiento de bosquealeatorio: 93.02 segundos,\n",
      "Tiempo de predicción de bosque aleatorio: 2.34 segundos\n"
     ]
    }
   ],
   "source": [
    "#Bosque aleatorio\n",
    "mejor_modelo_bosque_aleatorio = grid_rf.best_estimator_\n",
    "start_train_rf = time.time()\n",
    "mejor_modelo_bosque_aleatorio.fit(df_cars_entrenamiento, df_objetivo_entrenamiento)\n",
    "tiempo_entrenamiento_rf = time.time() -start_train_rf\n",
    "\n",
    "start_pred_rf = time.time()\n",
    "objetivo_prediccion_rf = mejor_modelo_bosque_aleatorio.predict(df_cars_test_valid)\n",
    "tiempo_pred_rf = time.time() - start_pred_rf\n",
    "rmse_rf = np.sqrt(mean_squared_error(df_objetivo_test_valid, objetivo_prediccion_rf))\n",
    "print(f\"RECM de la prueba con el mejor modelo de bosque aleatorio en los valores de prueba: {rmse_rf:.2f}\")\n",
    "print(f\"Tiempo de entrenamiento de bosquealeatorio: {tiempo_entrenamiento_rf:.2f} segundos,\\nTiempo de predicción de bosque aleatorio: {tiempo_pred_rf:.2f} segundos\")"
   ]
  },
  {
   "cell_type": "code",
   "execution_count": 56,
   "metadata": {},
   "outputs": [
    {
     "name": "stdout",
     "output_type": "stream",
     "text": [
      "[LightGBM] [Info] Auto-choosing col-wise multi-threading, the overhead of testing was 0.004394 seconds.\n",
      "You can set `force_col_wise=true` to remove the overhead.\n",
      "[LightGBM] [Info] Total Bins 923\n",
      "[LightGBM] [Info] Number of data points in the train set: 68719, number of used features: 11\n",
      "[LightGBM] [Info] Start training from score 4553.577031\n",
      "LightGBM - Best RMSE (CV): 1758.8636677551788\n",
      "Best Params: {'modelo__learning_rate': 0.1, 'modelo__n_estimators': 200, 'modelo__num_leaves': 50}\n",
      "\n",
      "Se observó una mejora de 150 dólares de reducción de error de tipo RECM usando Lightgbm comparado con bosque aleatorio en datos de muestreo.\n"
     ]
    }
   ],
   "source": [
    "#Preprocesador para la búsqueda de hiperparámetros para la potenciación de gradiente. Lightgbm\n",
    "pipeline_lgbm = Pipeline([\n",
    "    (\"preprocesador\", preprocesador_rf),  # usamos el mismo Ordinal\n",
    "    (\"modelo\", lgb.LGBMRegressor(random_state=42))\n",
    "])\n",
    "\n",
    "param_grid_lgbm = {\n",
    "    \"modelo__n_estimators\": [100, 200],\n",
    "    \"modelo__learning_rate\": [0.05, 0.1],\n",
    "    \"modelo__num_leaves\": [31, 50]\n",
    "}\n",
    "\n",
    "grid_lgbm = GridSearchCV(\n",
    "    pipeline_lgbm,\n",
    "    param_grid_lgbm,\n",
    "    scoring=rmse_scorer,\n",
    "    cv=3,\n",
    "    n_jobs=-1\n",
    ")\n",
    "\n",
    "grid_lgbm.fit(x_sample, y_sample)\n",
    "print(\"LightGBM - Best RMSE (CV):\", -grid_lgbm.best_score_)\n",
    "print(\"Best Params:\", grid_lgbm.best_params_)\n",
    "print(\"\\nSe observó una mejora de 150 dólares de reducción de error de tipo RECM usando Lightgbm comparado con bosque aleatorio en datos de muestreo.\")"
   ]
  },
  {
   "cell_type": "code",
   "execution_count": 57,
   "metadata": {},
   "outputs": [
    {
     "name": "stdout",
     "output_type": "stream",
     "text": [
      "[LightGBM] [Info] Auto-choosing col-wise multi-threading, the overhead of testing was 0.013279 seconds.\n",
      "You can set `force_col_wise=true` to remove the overhead.\n",
      "[LightGBM] [Info] Total Bins 948\n",
      "[LightGBM] [Info] Number of data points in the train set: 206158, number of used features: 11\n",
      "[LightGBM] [Info] Start training from score 4548.766533\n"
     ]
    },
    {
     "name": "stderr",
     "output_type": "stream",
     "text": [
      "c:\\Users\\david\\AppData\\Local\\Programs\\Python\\Python313\\Lib\\site-packages\\sklearn\\utils\\validation.py:2739: UserWarning: X does not have valid feature names, but LGBMRegressor was fitted with feature names\n",
      "  warnings.warn(\n"
     ]
    },
    {
     "name": "stdout",
     "output_type": "stream",
     "text": [
      "RECM de la prueba con el mejor modelo de potenciación del gradiente lgbm en los valores de prueba: 1672.29\n",
      "Casi 300 dólares de reducción en error de predicción del valor a una velocidad mayor. Definitivamente el mejor modelo de predicción para la tarea.\n",
      "Tiempo de entrenamiento de lgbm: 2.2061123847961426,\n",
      "Tiempo de predicción de lgbm: 1.0693230628967285\n"
     ]
    }
   ],
   "source": [
    "#Potenciación del gradiente\n",
    "mejor_modelo_lgbm = grid_lgbm.best_estimator_\n",
    "start_train_lgbm = time.time()\n",
    "mejor_modelo_lgbm.fit(df_cars_entrenamiento, df_objetivo_entrenamiento)\n",
    "tiempo_entrenamiento_lgbm = time.time() - start_train_lgbm\n",
    "\n",
    "start_pred_lgbm = time.time()\n",
    "objetivo_prediccion_lgbm = mejor_modelo_lgbm.predict(df_cars_test_valid)\n",
    "tiempo_pred_lgbm = time.time() - start_pred_lgbm\n",
    "rmse_lgbm = np.sqrt(mean_squared_error(df_objetivo_test_valid, objetivo_prediccion_lgbm))\n",
    "print(f\"RECM de la prueba con el mejor modelo de potenciación del gradiente lgbm en los valores de prueba: {rmse_lgbm:.2f}\")\n",
    "print(f\"Casi 300 dólares de reducción en error de predicción del valor a una velocidad mayor. Definitivamente el mejor modelo de predicción para la tarea.\")\n",
    "print(f\"Tiempo de entrenamiento de lgbm: {tiempo_entrenamiento_lgbm},\\nTiempo de predicción de lgbm: {tiempo_pred_lgbm}\")"
   ]
  },
  {
   "cell_type": "markdown",
   "metadata": {},
   "source": [
    "## Análisis del modelo"
   ]
  },
  {
   "cell_type": "code",
   "execution_count": null,
   "metadata": {},
   "outputs": [
    {
     "name": "stdout",
     "output_type": "stream",
     "text": [
      "Reporte comparativo de las métricas de calidad de predicción por modelo y el tiempo empleado por cada modelo en entrenamiento y predicción:\n"
     ]
    },
    {
     "data": {
      "text/html": [
       "<div>\n",
       "<style scoped>\n",
       "    .dataframe tbody tr th:only-of-type {\n",
       "        vertical-align: middle;\n",
       "    }\n",
       "\n",
       "    .dataframe tbody tr th {\n",
       "        vertical-align: top;\n",
       "    }\n",
       "\n",
       "    .dataframe thead th {\n",
       "        text-align: right;\n",
       "    }\n",
       "</style>\n",
       "<table border=\"1\" class=\"dataframe\">\n",
       "  <thead>\n",
       "    <tr style=\"text-align: right;\">\n",
       "      <th></th>\n",
       "      <th>Modelos</th>\n",
       "      <th>Tiempo de Entrenamiento (s)</th>\n",
       "      <th>Tiempo en Predecir (s)</th>\n",
       "      <th>RECM</th>\n",
       "    </tr>\n",
       "  </thead>\n",
       "  <tbody>\n",
       "    <tr>\n",
       "      <th>0</th>\n",
       "      <td>Regresión Lineal</td>\n",
       "      <td>3.516922</td>\n",
       "      <td>0.235065</td>\n",
       "      <td>3130.646704</td>\n",
       "    </tr>\n",
       "    <tr>\n",
       "      <th>1</th>\n",
       "      <td>Bosque Aleatorio</td>\n",
       "      <td>93.018013</td>\n",
       "      <td>2.341324</td>\n",
       "      <td>1945.763623</td>\n",
       "    </tr>\n",
       "    <tr>\n",
       "      <th>2</th>\n",
       "      <td>Potenciación de gradiente lgbm</td>\n",
       "      <td>2.206112</td>\n",
       "      <td>1.069323</td>\n",
       "      <td>1672.289291</td>\n",
       "    </tr>\n",
       "  </tbody>\n",
       "</table>\n",
       "</div>"
      ],
      "text/plain": [
       "                          Modelos  Tiempo de Entrenamiento (s)  \\\n",
       "0                Regresión Lineal                     3.516922   \n",
       "1                Bosque Aleatorio                    93.018013   \n",
       "2  Potenciación de gradiente lgbm                     2.206112   \n",
       "\n",
       "   Tiempo en Predecir (s)         RECM  \n",
       "0                0.235065  3130.646704  \n",
       "1                2.341324  1945.763623  \n",
       "2                1.069323  1672.289291  "
      ]
     },
     "metadata": {},
     "output_type": "display_data"
    }
   ],
   "source": [
    "#Reporte comparativo de las métricas de calidad de predicción por modelo y el tiempo empleado por cada modelo en entrenamiento y predicción\n",
    "tiempo_entrenamiento_lr, tiempo_pred_lr, tiempo_entrenamiento_rf, tiempo_pred_rf, tiempo_entrenamiento_lgbm, tiempo_pred_lgbm\n",
    "\n",
    "nombres_modelos = [\"Regresión Lineal\", \"Bosque Aleatorio\", \"Potenciación de gradiente lgbm\"]\n",
    "tiempos_entrenamiento = [tiempo_entrenamiento_lr, tiempo_entrenamiento_rf, tiempo_entrenamiento_lgbm]\n",
    "tiempos_prediccion = [tiempo_pred_lr, tiempo_pred_rf, tiempo_pred_lgbm]\n",
    "puntajes_recm = [rmse_lr, rmse_rf, rmse_lgbm]\n",
    "\n",
    "datos_analisis_modelos = pd.DataFrame({\n",
    "    \"Modelos\": nombres_modelos, \n",
    "    \"Tiempo de Entrenamiento (s)\": tiempos_entrenamiento, \n",
    "    \"Tiempo en Predecir (s)\": tiempos_prediccion, \n",
    "    \"RECM\": puntajes_recm\n",
    "})\n",
    "\n",
    "print(\"Reporte comparativo de las métricas de calidad de predicción por modelo y el tiempo empleado por cada modelo en entrenamiento y predicción:\")\n",
    "display(datos_analisis_modelos)"
   ]
  },
  {
   "cell_type": "markdown",
   "metadata": {},
   "source": [
    "Conclusiones\n",
    "\n",
    "1. El modelo más efectivo en predecir el valor de un automovil basado en sus características fue: Pontenciación de gradiente Lightgbm. Una tendencia de 1672 dólares de error sobre la predicción.\n",
    "\n",
    "2. El modelo que empleó la menor cantidad de tiempo en entrenamiento fue: Pontenciación de gradiente Lightgbm. \n",
    "\n",
    "3. El modelo que empleó la menor cantidad de tiempo en predecir fue: Regresión lineal. 0.2 segundos. Lightgbm tardó 1 segundo. \n",
    "\n",
    "4. Basado en las características de métricas de calidad y de velocidad el modelo más adecuado para desempeñar la tarea para Rusty Bargain es: Pontenciación de gradiente Lightgbm. Generando estimados de costo de los automóviles con un error estimado de 1672 dólares y tardando poco en ser entrenado y predecir. "
   ]
  }
 ],
 "metadata": {
  "kernelspec": {
   "display_name": "Python 3",
   "language": "python",
   "name": "python3"
  },
  "language_info": {
   "codemirror_mode": {
    "name": "ipython",
    "version": 3
   },
   "file_extension": ".py",
   "mimetype": "text/x-python",
   "name": "python",
   "nbconvert_exporter": "python",
   "pygments_lexer": "ipython3",
   "version": "3.13.0"
  }
 },
 "nbformat": 4,
 "nbformat_minor": 4
}
