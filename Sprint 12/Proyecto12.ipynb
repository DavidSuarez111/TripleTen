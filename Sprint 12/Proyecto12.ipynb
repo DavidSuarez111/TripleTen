{
 "cells": [
  {
   "cell_type": "markdown",
   "id": "f092aea9",
   "metadata": {},
   "source": [
    "Descripcion"
   ]
  },
  {
   "cell_type": "code",
   "execution_count": null,
   "id": "0ae0c1f4",
   "metadata": {},
   "outputs": [],
   "source": [
    "#setup de librerías\n",
    "import pandas as pd"
   ]
  },
  {
   "cell_type": "code",
   "execution_count": null,
   "id": "1637724e",
   "metadata": {},
   "outputs": [],
   "source": [
    "def detectar_outliers_iqr(df, columna):\n",
    "    \"\"\"\n",
    "    Detecta outliers por el método del rango intercuartílico (IQR).\n",
    "    \n",
    "    Parámetros:\n",
    "    df (pd.DataFrame): El DataFrame que contiene los datos.\n",
    "    columna (str): El nombre de la columna a analizar.\n",
    "\n",
    "    Retorna:\n",
    "    dict: Un diccionario con los outliers por debajo del piso y por encima del techo.\n",
    "    \"\"\"\n",
    "    # Asegurarse de que la columna existe en el DataFrame\n",
    "    if columna not in df.columns:\n",
    "        raise ValueError(f\"La columna '{columna}' no existe en el DataFrame.\")\n",
    "    \n",
    "    # Calcular Q1 (percentil 25) y Q3 (percentil 75)\n",
    "    Q1 = df[columna].quantile(0.25)\n",
    "    Q3 = df[columna].quantile(0.75)\n",
    "    IQR = Q3 - Q1\n",
    "\n",
    "    # Limites inferior (piso) y superior (techo)\n",
    "    piso = Q1 - 1.5 * IQR\n",
    "    techo = Q3 + 1.5 * IQR\n",
    "\n",
    "\n",
    "    return {\n",
    "        'piso': piso,\n",
    "        'techo': techo}"
   ]
  }
 ],
 "metadata": {
  "language_info": {
   "name": "python"
  }
 },
 "nbformat": 4,
 "nbformat_minor": 5
}
