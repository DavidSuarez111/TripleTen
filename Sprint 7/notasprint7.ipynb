{
 "cells": [
  {
   "cell_type": "markdown",
   "metadata": {},
   "source": []
  },
  {
   "cell_type": "markdown",
   "metadata": {},
   "source": [
    "../ hace referencia en rutas a la carpeta padre. \n",
    "del e*t eliminación de archivos que inicien con e y acaben con t\n",
    "? solo un espacio. \n",
    "[] un unico espacio. \n",
    "{}"
   ]
  },
  {
   "cell_type": "markdown",
   "metadata": {},
   "source": [
    "Siguiente clase\n",
    "Programación orientada a objetos. \n"
   ]
  },
  {
   "cell_type": "markdown",
   "metadata": {},
   "source": [
    "En el sprint 7 haremos una página web. \n"
   ]
  },
  {
   "cell_type": "markdown",
   "metadata": {},
   "source": [
    "Por ver: Ambientes virtuales. \n",
    "\n"
   ]
  },
  {
   "cell_type": "markdown",
   "metadata": {},
   "source": [
    "A partir del sprint 9 se separa DA y DS. Y pues tmbn decir que hay un sprint de sql. "
   ]
  },
  {
   "cell_type": "code",
   "execution_count": 2,
   "metadata": {},
   "outputs": [
    {
     "name": "stdout",
     "output_type": "stream",
     "text": [
      "Mi computadora tiene 8 núcleos de cpu.\n"
     ]
    }
   ],
   "source": [
    "#linea de detección de número de procesadores de un computador \n",
    "#instalar la librería \n",
    "import os \n",
    "cpu_num = os.cpu_count()\n",
    "print(f\"Mi computadora tiene {cpu_num} núcleos de cpu.\")"
   ]
  },
  {
   "cell_type": "code",
   "execution_count": 7,
   "metadata": {},
   "outputs": [
    {
     "name": "stdout",
     "output_type": "stream",
     "text": [
      "Requirement already satisfied: streamlit in c:\\users\\david\\appdata\\local\\programs\\python\\python313\\lib\\site-packages (1.42.0)\n",
      "Requirement already satisfied: altair<6,>=4.0 in c:\\users\\david\\appdata\\local\\programs\\python\\python313\\lib\\site-packages (from streamlit) (5.5.0)\n",
      "Requirement already satisfied: blinker<2,>=1.0.0 in c:\\users\\david\\appdata\\local\\programs\\python\\python313\\lib\\site-packages (from streamlit) (1.9.0)\n",
      "Requirement already satisfied: cachetools<6,>=4.0 in c:\\users\\david\\appdata\\local\\programs\\python\\python313\\lib\\site-packages (from streamlit) (5.5.1)\n",
      "Requirement already satisfied: click<9,>=7.0 in c:\\users\\david\\appdata\\local\\programs\\python\\python313\\lib\\site-packages (from streamlit) (8.1.8)\n",
      "Requirement already satisfied: numpy<3,>=1.23 in c:\\users\\david\\appdata\\local\\programs\\python\\python313\\lib\\site-packages (from streamlit) (2.1.3)\n",
      "Requirement already satisfied: packaging<25,>=20 in c:\\users\\david\\appdata\\roaming\\python\\python313\\site-packages (from streamlit) (24.1)\n",
      "Requirement already satisfied: pandas<3,>=1.4.0 in c:\\users\\david\\appdata\\local\\programs\\python\\python313\\lib\\site-packages (from streamlit) (2.2.3)\n",
      "Requirement already satisfied: pillow<12,>=7.1.0 in c:\\users\\david\\appdata\\local\\programs\\python\\python313\\lib\\site-packages (from streamlit) (11.0.0)\n",
      "Requirement already satisfied: protobuf<6,>=3.20 in c:\\users\\david\\appdata\\local\\programs\\python\\python313\\lib\\site-packages (from streamlit) (5.29.3)\n",
      "Requirement already satisfied: pyarrow>=7.0 in c:\\users\\david\\appdata\\local\\programs\\python\\python313\\lib\\site-packages (from streamlit) (19.0.0)\n",
      "Requirement already satisfied: requests<3,>=2.27 in c:\\users\\david\\appdata\\local\\programs\\python\\python313\\lib\\site-packages (from streamlit) (2.32.3)\n",
      "Requirement already satisfied: rich<14,>=10.14.0 in c:\\users\\david\\appdata\\local\\programs\\python\\python313\\lib\\site-packages (from streamlit) (13.9.4)\n",
      "Requirement already satisfied: tenacity<10,>=8.1.0 in c:\\users\\david\\appdata\\local\\programs\\python\\python313\\lib\\site-packages (from streamlit) (9.0.0)\n",
      "Requirement already satisfied: toml<2,>=0.10.1 in c:\\users\\david\\appdata\\local\\programs\\python\\python313\\lib\\site-packages (from streamlit) (0.10.2)\n",
      "Requirement already satisfied: typing-extensions<5,>=4.4.0 in c:\\users\\david\\appdata\\local\\programs\\python\\python313\\lib\\site-packages (from streamlit) (4.12.2)\n",
      "Requirement already satisfied: watchdog<7,>=2.1.5 in c:\\users\\david\\appdata\\local\\programs\\python\\python313\\lib\\site-packages (from streamlit) (6.0.0)\n",
      "Requirement already satisfied: gitpython!=3.1.19,<4,>=3.0.7 in c:\\users\\david\\appdata\\local\\programs\\python\\python313\\lib\\site-packages (from streamlit) (3.1.44)\n",
      "Requirement already satisfied: pydeck<1,>=0.8.0b4 in c:\\users\\david\\appdata\\local\\programs\\python\\python313\\lib\\site-packages (from streamlit) (0.9.1)\n",
      "Requirement already satisfied: tornado<7,>=6.0.3 in c:\\users\\david\\appdata\\roaming\\python\\python313\\site-packages (from streamlit) (6.4.1)\n",
      "Requirement already satisfied: jinja2 in c:\\users\\david\\appdata\\local\\programs\\python\\python313\\lib\\site-packages (from altair<6,>=4.0->streamlit) (3.1.5)\n",
      "Requirement already satisfied: jsonschema>=3.0 in c:\\users\\david\\appdata\\local\\programs\\python\\python313\\lib\\site-packages (from altair<6,>=4.0->streamlit) (4.23.0)\n",
      "Requirement already satisfied: narwhals>=1.14.2 in c:\\users\\david\\appdata\\local\\programs\\python\\python313\\lib\\site-packages (from altair<6,>=4.0->streamlit) (1.25.1)\n",
      "Requirement already satisfied: colorama in c:\\users\\david\\appdata\\roaming\\python\\python313\\site-packages (from click<9,>=7.0->streamlit) (0.4.6)\n",
      "Requirement already satisfied: gitdb<5,>=4.0.1 in c:\\users\\david\\appdata\\local\\programs\\python\\python313\\lib\\site-packages (from gitpython!=3.1.19,<4,>=3.0.7->streamlit) (4.0.12)\n",
      "Requirement already satisfied: python-dateutil>=2.8.2 in c:\\users\\david\\appdata\\roaming\\python\\python313\\site-packages (from pandas<3,>=1.4.0->streamlit) (2.9.0.post0)\n",
      "Requirement already satisfied: pytz>=2020.1 in c:\\users\\david\\appdata\\local\\programs\\python\\python313\\lib\\site-packages (from pandas<3,>=1.4.0->streamlit) (2024.2)\n",
      "Requirement already satisfied: tzdata>=2022.7 in c:\\users\\david\\appdata\\local\\programs\\python\\python313\\lib\\site-packages (from pandas<3,>=1.4.0->streamlit) (2024.2)\n",
      "Requirement already satisfied: charset-normalizer<4,>=2 in c:\\users\\david\\appdata\\local\\programs\\python\\python313\\lib\\site-packages (from requests<3,>=2.27->streamlit) (3.4.1)\n",
      "Requirement already satisfied: idna<4,>=2.5 in c:\\users\\david\\appdata\\local\\programs\\python\\python313\\lib\\site-packages (from requests<3,>=2.27->streamlit) (3.10)\n",
      "Requirement already satisfied: urllib3<3,>=1.21.1 in c:\\users\\david\\appdata\\local\\programs\\python\\python313\\lib\\site-packages (from requests<3,>=2.27->streamlit) (2.3.0)\n",
      "Requirement already satisfied: certifi>=2017.4.17 in c:\\users\\david\\appdata\\local\\programs\\python\\python313\\lib\\site-packages (from requests<3,>=2.27->streamlit) (2025.1.31)\n",
      "Requirement already satisfied: markdown-it-py>=2.2.0 in c:\\users\\david\\appdata\\local\\programs\\python\\python313\\lib\\site-packages (from rich<14,>=10.14.0->streamlit) (3.0.0)\n",
      "Requirement already satisfied: pygments<3.0.0,>=2.13.0 in c:\\users\\david\\appdata\\roaming\\python\\python313\\site-packages (from rich<14,>=10.14.0->streamlit) (2.18.0)\n",
      "Requirement already satisfied: smmap<6,>=3.0.1 in c:\\users\\david\\appdata\\local\\programs\\python\\python313\\lib\\site-packages (from gitdb<5,>=4.0.1->gitpython!=3.1.19,<4,>=3.0.7->streamlit) (5.0.2)\n",
      "Requirement already satisfied: MarkupSafe>=2.0 in c:\\users\\david\\appdata\\local\\programs\\python\\python313\\lib\\site-packages (from jinja2->altair<6,>=4.0->streamlit) (3.0.2)\n",
      "Requirement already satisfied: attrs>=22.2.0 in c:\\users\\david\\appdata\\local\\programs\\python\\python313\\lib\\site-packages (from jsonschema>=3.0->altair<6,>=4.0->streamlit) (25.1.0)\n",
      "Requirement already satisfied: jsonschema-specifications>=2023.03.6 in c:\\users\\david\\appdata\\local\\programs\\python\\python313\\lib\\site-packages (from jsonschema>=3.0->altair<6,>=4.0->streamlit) (2024.10.1)\n",
      "Requirement already satisfied: referencing>=0.28.4 in c:\\users\\david\\appdata\\local\\programs\\python\\python313\\lib\\site-packages (from jsonschema>=3.0->altair<6,>=4.0->streamlit) (0.36.2)\n",
      "Requirement already satisfied: rpds-py>=0.7.1 in c:\\users\\david\\appdata\\local\\programs\\python\\python313\\lib\\site-packages (from jsonschema>=3.0->altair<6,>=4.0->streamlit) (0.22.3)\n",
      "Requirement already satisfied: mdurl~=0.1 in c:\\users\\david\\appdata\\local\\programs\\python\\python313\\lib\\site-packages (from markdown-it-py>=2.2.0->rich<14,>=10.14.0->streamlit) (0.1.2)\n",
      "Requirement already satisfied: six>=1.5 in c:\\users\\david\\appdata\\roaming\\python\\python313\\site-packages (from python-dateutil>=2.8.2->pandas<3,>=1.4.0->streamlit) (1.16.0)\n",
      "Note: you may need to restart the kernel to use updated packages.\n"
     ]
    },
    {
     "name": "stderr",
     "output_type": "stream",
     "text": [
      "\n",
      "[notice] A new release of pip is available: 24.3.1 -> 25.0\n",
      "[notice] To update, run: python.exe -m pip install --upgrade pip\n"
     ]
    },
    {
     "name": "stdout",
     "output_type": "stream",
     "text": [
      "Collecting scikit-learn\n",
      "  Downloading scikit_learn-1.6.1-cp313-cp313-win_amd64.whl.metadata (15 kB)\n",
      "Requirement already satisfied: numpy>=1.19.5 in c:\\users\\david\\appdata\\local\\programs\\python\\python313\\lib\\site-packages (from scikit-learn) (2.1.3)\n",
      "Requirement already satisfied: scipy>=1.6.0 in c:\\users\\david\\appdata\\local\\programs\\python\\python313\\lib\\site-packages (from scikit-learn) (1.14.1)\n",
      "Collecting joblib>=1.2.0 (from scikit-learn)\n",
      "  Downloading joblib-1.4.2-py3-none-any.whl.metadata (5.4 kB)\n",
      "Collecting threadpoolctl>=3.1.0 (from scikit-learn)\n",
      "  Downloading threadpoolctl-3.5.0-py3-none-any.whl.metadata (13 kB)\n",
      "Downloading scikit_learn-1.6.1-cp313-cp313-win_amd64.whl (11.1 MB)\n",
      "   ---------------------------------------- 0.0/11.1 MB ? eta -:--:--\n",
      "   ---------------------------------------- 0.0/11.1 MB ? eta -:--:--\n",
      "   ---------------------------------------- 0.0/11.1 MB ? eta -:--:--\n",
      "   ---------------------------------------- 0.0/11.1 MB ? eta -:--:--\n",
      "   ---------------------------------------- 0.0/11.1 MB ? eta -:--:--\n",
      "   ---------------------------------------- 0.0/11.1 MB ? eta -:--:--\n",
      "   ---------------------------------------- 0.0/11.1 MB ? eta -:--:--\n",
      "   ---------------------------------------- 0.0/11.1 MB ? eta -:--:--\n",
      "    --------------------------------------- 0.3/11.1 MB ? eta -:--:--\n",
      "    --------------------------------------- 0.3/11.1 MB ? eta -:--:--\n",
      "    --------------------------------------- 0.3/11.1 MB ? eta -:--:--\n",
      "   - -------------------------------------- 0.5/11.1 MB 346.3 kB/s eta 0:00:31\n",
      "   - -------------------------------------- 0.5/11.1 MB 346.3 kB/s eta 0:00:31\n",
      "   -- ------------------------------------- 0.8/11.1 MB 468.8 kB/s eta 0:00:22\n",
      "   --- ------------------------------------ 1.0/11.1 MB 566.6 kB/s eta 0:00:18\n",
      "   --- ------------------------------------ 1.0/11.1 MB 566.6 kB/s eta 0:00:18\n",
      "   ---- ----------------------------------- 1.3/11.1 MB 625.7 kB/s eta 0:00:16\n",
      "   ----- ---------------------------------- 1.6/11.1 MB 656.3 kB/s eta 0:00:15\n",
      "   ----- ---------------------------------- 1.6/11.1 MB 656.3 kB/s eta 0:00:15\n",
      "   ------ --------------------------------- 1.8/11.1 MB 644.8 kB/s eta 0:00:15\n",
      "   ------ --------------------------------- 1.8/11.1 MB 644.8 kB/s eta 0:00:15\n",
      "   ------ --------------------------------- 1.8/11.1 MB 644.8 kB/s eta 0:00:15\n",
      "   ------- -------------------------------- 2.1/11.1 MB 632.0 kB/s eta 0:00:15\n",
      "   -------- ------------------------------- 2.4/11.1 MB 656.6 kB/s eta 0:00:14\n",
      "   -------- ------------------------------- 2.4/11.1 MB 656.6 kB/s eta 0:00:14\n",
      "   --------- ------------------------------ 2.6/11.1 MB 664.9 kB/s eta 0:00:13\n",
      "   --------- ------------------------------ 2.6/11.1 MB 664.9 kB/s eta 0:00:13\n",
      "   ---------- ----------------------------- 2.9/11.1 MB 666.7 kB/s eta 0:00:13\n",
      "   ---------- ----------------------------- 2.9/11.1 MB 666.7 kB/s eta 0:00:13\n",
      "   ---------- ----------------------------- 2.9/11.1 MB 666.7 kB/s eta 0:00:13\n",
      "   ---------- ----------------------------- 2.9/11.1 MB 666.7 kB/s eta 0:00:13\n",
      "   ---------- ----------------------------- 2.9/11.1 MB 666.7 kB/s eta 0:00:13\n",
      "   ---------- ----------------------------- 2.9/11.1 MB 666.7 kB/s eta 0:00:13\n",
      "   ----------- ---------------------------- 3.1/11.1 MB 558.2 kB/s eta 0:00:15\n",
      "   ----------- ---------------------------- 3.1/11.1 MB 558.2 kB/s eta 0:00:15\n",
      "   ----------- ---------------------------- 3.1/11.1 MB 558.2 kB/s eta 0:00:15\n",
      "   ------------ --------------------------- 3.4/11.1 MB 543.3 kB/s eta 0:00:15\n",
      "   ------------ --------------------------- 3.4/11.1 MB 543.3 kB/s eta 0:00:15\n",
      "   ------------- -------------------------- 3.7/11.1 MB 539.0 kB/s eta 0:00:14\n",
      "   ------------- -------------------------- 3.7/11.1 MB 539.0 kB/s eta 0:00:14\n",
      "   -------------- ------------------------- 3.9/11.1 MB 553.7 kB/s eta 0:00:13\n",
      "   --------------- ------------------------ 4.2/11.1 MB 566.3 kB/s eta 0:00:13\n",
      "   --------------- ------------------------ 4.2/11.1 MB 566.3 kB/s eta 0:00:13\n",
      "   ---------------- ----------------------- 4.5/11.1 MB 580.4 kB/s eta 0:00:12\n",
      "   ----------------- ---------------------- 4.7/11.1 MB 589.5 kB/s eta 0:00:11\n",
      "   ----------------- ---------------------- 4.7/11.1 MB 589.5 kB/s eta 0:00:11\n",
      "   ----------------- ---------------------- 5.0/11.1 MB 600.7 kB/s eta 0:00:11\n",
      "   ----------------- ---------------------- 5.0/11.1 MB 600.7 kB/s eta 0:00:11\n",
      "   ------------------ --------------------- 5.2/11.1 MB 600.6 kB/s eta 0:00:10\n",
      "   ------------------- -------------------- 5.5/11.1 MB 604.9 kB/s eta 0:00:10\n",
      "   ------------------- -------------------- 5.5/11.1 MB 604.9 kB/s eta 0:00:10\n",
      "   -------------------- ------------------- 5.8/11.1 MB 609.8 kB/s eta 0:00:09\n",
      "   -------------------- ------------------- 5.8/11.1 MB 609.8 kB/s eta 0:00:09\n",
      "   -------------------- ------------------- 5.8/11.1 MB 609.8 kB/s eta 0:00:09\n",
      "   -------------------- ------------------- 5.8/11.1 MB 609.8 kB/s eta 0:00:09\n",
      "   -------------------- ------------------- 5.8/11.1 MB 609.8 kB/s eta 0:00:09\n",
      "   -------------------- ------------------- 5.8/11.1 MB 609.8 kB/s eta 0:00:09\n",
      "   -------------------- ------------------- 5.8/11.1 MB 609.8 kB/s eta 0:00:09\n",
      "   -------------------- ------------------- 5.8/11.1 MB 609.8 kB/s eta 0:00:09\n",
      "   -------------------- ------------------- 5.8/11.1 MB 609.8 kB/s eta 0:00:09\n",
      "   --------------------- ------------------ 6.0/11.1 MB 529.0 kB/s eta 0:00:10\n",
      "   --------------------- ------------------ 6.0/11.1 MB 529.0 kB/s eta 0:00:10\n",
      "   --------------------- ------------------ 6.0/11.1 MB 529.0 kB/s eta 0:00:10\n",
      "   ---------------------- ----------------- 6.3/11.1 MB 524.9 kB/s eta 0:00:10\n",
      "   ---------------------- ----------------- 6.3/11.1 MB 524.9 kB/s eta 0:00:10\n",
      "   ---------------------- ----------------- 6.3/11.1 MB 524.9 kB/s eta 0:00:10\n",
      "   ----------------------- ---------------- 6.6/11.1 MB 525.1 kB/s eta 0:00:09\n",
      "   ----------------------- ---------------- 6.6/11.1 MB 525.1 kB/s eta 0:00:09\n",
      "   ------------------------ --------------- 6.8/11.1 MB 522.4 kB/s eta 0:00:09\n",
      "   ------------------------ --------------- 6.8/11.1 MB 522.4 kB/s eta 0:00:09\n",
      "   ------------------------- -------------- 7.1/11.1 MB 526.3 kB/s eta 0:00:08\n",
      "   ------------------------- -------------- 7.1/11.1 MB 526.3 kB/s eta 0:00:08\n",
      "   ------------------------- -------------- 7.1/11.1 MB 526.3 kB/s eta 0:00:08\n",
      "   -------------------------- ------------- 7.3/11.1 MB 528.4 kB/s eta 0:00:08\n",
      "   --------------------------- ------------ 7.6/11.1 MB 532.8 kB/s eta 0:00:07\n",
      "   --------------------------- ------------ 7.6/11.1 MB 532.8 kB/s eta 0:00:07\n",
      "   --------------------------- ------------ 7.6/11.1 MB 532.8 kB/s eta 0:00:07\n",
      "   --------------------------- ------------ 7.6/11.1 MB 532.8 kB/s eta 0:00:07\n",
      "   --------------------------- ------------ 7.6/11.1 MB 532.8 kB/s eta 0:00:07\n",
      "   ---------------------------- ----------- 7.9/11.1 MB 516.9 kB/s eta 0:00:07\n",
      "   ---------------------------- ----------- 7.9/11.1 MB 516.9 kB/s eta 0:00:07\n",
      "   ---------------------------- ----------- 7.9/11.1 MB 516.9 kB/s eta 0:00:07\n",
      "   ---------------------------- ----------- 7.9/11.1 MB 516.9 kB/s eta 0:00:07\n",
      "   ---------------------------- ----------- 7.9/11.1 MB 516.9 kB/s eta 0:00:07\n",
      "   ---------------------------- ----------- 7.9/11.1 MB 516.9 kB/s eta 0:00:07\n",
      "   ----------------------------- ---------- 8.1/11.1 MB 494.3 kB/s eta 0:00:06\n",
      "   ----------------------------- ---------- 8.1/11.1 MB 494.3 kB/s eta 0:00:06\n",
      "   ------------------------------ --------- 8.4/11.1 MB 495.5 kB/s eta 0:00:06\n",
      "   ------------------------------ --------- 8.4/11.1 MB 495.5 kB/s eta 0:00:06\n",
      "   ------------------------------- -------- 8.7/11.1 MB 496.8 kB/s eta 0:00:05\n",
      "   ------------------------------- -------- 8.7/11.1 MB 496.8 kB/s eta 0:00:05\n",
      "   ------------------------------- -------- 8.7/11.1 MB 496.8 kB/s eta 0:00:05\n",
      "   ------------------------------- -------- 8.7/11.1 MB 496.8 kB/s eta 0:00:05\n",
      "   -------------------------------- ------- 8.9/11.1 MB 490.6 kB/s eta 0:00:05\n",
      "   -------------------------------- ------- 8.9/11.1 MB 490.6 kB/s eta 0:00:05\n",
      "   -------------------------------- ------- 8.9/11.1 MB 490.6 kB/s eta 0:00:05\n",
      "   --------------------------------- ------ 9.2/11.1 MB 489.4 kB/s eta 0:00:04\n",
      "   --------------------------------- ------ 9.2/11.1 MB 489.4 kB/s eta 0:00:04\n",
      "   --------------------------------- ------ 9.2/11.1 MB 489.4 kB/s eta 0:00:04\n",
      "   ---------------------------------- ----- 9.4/11.1 MB 489.3 kB/s eta 0:00:04\n",
      "   ----------------------------------- ---- 9.7/11.1 MB 494.0 kB/s eta 0:00:03\n",
      "   ----------------------------------- ---- 9.7/11.1 MB 494.0 kB/s eta 0:00:03\n",
      "   ----------------------------------- ---- 9.7/11.1 MB 494.0 kB/s eta 0:00:03\n",
      "   ----------------------------------- ---- 9.7/11.1 MB 494.0 kB/s eta 0:00:03\n",
      "   ----------------------------------- ---- 9.7/11.1 MB 494.0 kB/s eta 0:00:03\n",
      "   ----------------------------------- ---- 9.7/11.1 MB 494.0 kB/s eta 0:00:03\n",
      "   ----------------------------------- ---- 9.7/11.1 MB 494.0 kB/s eta 0:00:03\n",
      "   ----------------------------------- ---- 10.0/11.1 MB 474.3 kB/s eta 0:00:03\n",
      "   ----------------------------------- ---- 10.0/11.1 MB 474.3 kB/s eta 0:00:03\n",
      "   ------------------------------------ --- 10.2/11.1 MB 476.4 kB/s eta 0:00:02\n",
      "   ------------------------------------ --- 10.2/11.1 MB 476.4 kB/s eta 0:00:02\n",
      "   ------------------------------------- -- 10.5/11.1 MB 480.1 kB/s eta 0:00:02\n",
      "   ------------------------------------- -- 10.5/11.1 MB 480.1 kB/s eta 0:00:02\n",
      "   ------------------------------------- -- 10.5/11.1 MB 480.1 kB/s eta 0:00:02\n",
      "   -------------------------------------- - 10.7/11.1 MB 478.8 kB/s eta 0:00:01\n",
      "   -------------------------------------- - 10.7/11.1 MB 478.8 kB/s eta 0:00:01\n",
      "   -------------------------------------- - 10.7/11.1 MB 478.8 kB/s eta 0:00:01\n",
      "   -------------------------------------- - 10.7/11.1 MB 478.8 kB/s eta 0:00:01\n",
      "   -------------------------------------- - 10.7/11.1 MB 478.8 kB/s eta 0:00:01\n",
      "   -------------------------------------- - 10.7/11.1 MB 478.8 kB/s eta 0:00:01\n",
      "   -------------------------------------- - 10.7/11.1 MB 478.8 kB/s eta 0:00:01\n",
      "   -------------------------------------- - 10.7/11.1 MB 478.8 kB/s eta 0:00:01\n",
      "   -------------------------------------- - 10.7/11.1 MB 478.8 kB/s eta 0:00:01\n",
      "   -------------------------------------- - 10.7/11.1 MB 478.8 kB/s eta 0:00:01\n",
      "   -------------------------------------- - 10.7/11.1 MB 478.8 kB/s eta 0:00:01\n",
      "   -------------------------------------- - 10.7/11.1 MB 478.8 kB/s eta 0:00:01\n",
      "   -------------------------------------- - 10.7/11.1 MB 478.8 kB/s eta 0:00:01\n",
      "   -------------------------------------- - 10.7/11.1 MB 478.8 kB/s eta 0:00:01\n",
      "   ---------------------------------------  11.0/11.1 MB 433.1 kB/s eta 0:00:01\n",
      "   ---------------------------------------  11.0/11.1 MB 433.1 kB/s eta 0:00:01\n",
      "   ---------------------------------------  11.0/11.1 MB 433.1 kB/s eta 0:00:01\n",
      "   ---------------------------------------  11.0/11.1 MB 433.1 kB/s eta 0:00:01\n",
      "   ---------------------------------------- 11.1/11.1 MB 419.7 kB/s eta 0:00:00\n",
      "Downloading joblib-1.4.2-py3-none-any.whl (301 kB)\n",
      "Downloading threadpoolctl-3.5.0-py3-none-any.whl (18 kB)\n",
      "Installing collected packages: threadpoolctl, joblib, scikit-learn\n",
      "Successfully installed joblib-1.4.2 scikit-learn-1.6.1 threadpoolctl-3.5.0\n",
      "Note: you may need to restart the kernel to use updated packages.\n"
     ]
    },
    {
     "name": "stderr",
     "output_type": "stream",
     "text": [
      "\n",
      "[notice] A new release of pip is available: 24.3.1 -> 25.0\n",
      "[notice] To update, run: python.exe -m pip install --upgrade pip\n"
     ]
    }
   ],
   "source": [
    "%pip install streamlit\n",
    "%pip install scikit-learn"
   ]
  },
  {
   "cell_type": "code",
   "execution_count": 5,
   "metadata": {},
   "outputs": [],
   "source": [
    "import streamlit as st\n",
    "import requests\n"
   ]
  }
 ],
 "metadata": {
  "kernelspec": {
   "display_name": "Python 3",
   "language": "python",
   "name": "python3"
  },
  "language_info": {
   "codemirror_mode": {
    "name": "ipython",
    "version": 3
   },
   "file_extension": ".py",
   "mimetype": "text/x-python",
   "name": "python",
   "nbconvert_exporter": "python",
   "pygments_lexer": "ipython3",
   "version": "3.13.0"
  }
 },
 "nbformat": 4,
 "nbformat_minor": 2
}
