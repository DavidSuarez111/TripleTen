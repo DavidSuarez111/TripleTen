{
 "cells": [
  {
   "cell_type": "markdown",
   "metadata": {
    "id": "3rYiDeEH0q0f"
   },
   "source": [
    "# ¿Cuál es la mejor tarifa?\n",
    "\n",
    "Trabajas como analista para el operador de telecomunicaciones Megaline. La empresa ofrece a sus clientes dos tarifas de prepago, Surf y Ultimate. El departamento comercial quiere saber cuál de las tarifas genera más ingresos para poder ajustar el presupuesto de publicidad.\n",
    "\n",
    "Vas a realizar un análisis preliminar de las tarifas basado en una selección de clientes relativamente pequeña. Tendrás los datos de 500 clientes de Megaline: quiénes son los clientes, de dónde son, qué tarifa usan, así como la cantidad de llamadas que hicieron y los mensajes de texto que enviaron en 2018. Tu trabajo es analizar el comportamiento de los clientes y determinar qué tarifa de prepago genera más ingresos."
   ]
  },
  {
   "cell_type": "markdown",
   "metadata": {},
   "source": [
    "#Plan de Análisis \n",
    "\n",
    "Objetivo: Determinar que plan Surf o Ultimate genera más ingresos. \n",
    "\n",
    "1. Cargar las librerías\n",
    "\n",
    "2. Revisión de formato de las tablas. .head() puede bastar. \n",
    "\n",
    "3. Revisión de duplicados, tipos de datos. Emplear .info() y conversión de datos conforme sea requerido. \n",
    "\n",
    "4. Realizar manipulación de datos y pruebas estadísticas pertinentes. pandas y numpy.  \n",
    "\n",
    "5. Visualizaciones conforme correspondan. matplotlib y seaborn. "
   ]
  },
  {
   "cell_type": "markdown",
   "metadata": {
    "id": "MQi4IPy70q0y"
   },
   "source": [
    "## Inicialización"
   ]
  },
  {
   "cell_type": "code",
   "execution_count": 156,
   "metadata": {
    "id": "MtYIuBxu0q0z"
   },
   "outputs": [],
   "source": [
    "# Cargar todas las librerías\n",
    "import pandas as pd\n",
    "import matplotlib.pyplot as plt\n",
    "from math import factorial \n",
    "import numpy as np \n",
    "from scipy import stats as st #distribuciones\n",
    "import math as mt\n",
    "import matplotlib.ticker as ticker\n",
    "from functools import reduce\n",
    "import seaborn as sns"
   ]
  },
  {
   "cell_type": "markdown",
   "metadata": {
    "id": "4ysWWC5i0q00"
   },
   "source": [
    "## Cargar datos"
   ]
  },
  {
   "cell_type": "code",
   "execution_count": 157,
   "metadata": {
    "id": "CCqPW7rS0q01"
   },
   "outputs": [
    {
     "name": "stdout",
     "output_type": "stream",
     "text": [
      "   user_id first_name  last_name  age                                   city  \\\n",
      "0     1000   Anamaria      Bauer   45  Atlanta-Sandy Springs-Roswell, GA MSA   \n",
      "1     1001     Mickey  Wilkerson   28        Seattle-Tacoma-Bellevue, WA MSA   \n",
      "2     1002     Carlee    Hoffman   36   Las Vegas-Henderson-Paradise, NV MSA   \n",
      "3     1003   Reynaldo    Jenkins   52                          Tulsa, OK MSA   \n",
      "4     1004    Leonila   Thompson   40        Seattle-Tacoma-Bellevue, WA MSA   \n",
      "\n",
      "     reg_date      plan churn_date  \n",
      "0  2018-12-24  ultimate        NaN  \n",
      "1  2018-08-13      surf        NaN  \n",
      "2  2018-10-21      surf        NaN  \n",
      "3  2018-01-28      surf        NaN  \n",
      "4  2018-05-23      surf        NaN  \n",
      "   messages_included  mb_per_month_included  minutes_included  \\\n",
      "0                 50                  15360               500   \n",
      "1               1000                  30720              3000   \n",
      "\n",
      "   usd_monthly_pay  usd_per_gb  usd_per_message  usd_per_minute plan_name  \n",
      "0               20          10             0.03            0.03      surf  \n",
      "1               70           7             0.01            0.01  ultimate  \n",
      "         id  user_id message_date\n",
      "0  1000_125     1000   2018-12-27\n",
      "1  1000_160     1000   2018-12-31\n",
      "2  1000_223     1000   2018-12-31\n",
      "3  1000_251     1000   2018-12-27\n",
      "4  1000_255     1000   2018-12-26\n",
      "         id  user_id session_date  mb_used\n",
      "0   1000_13     1000   2018-12-29    89.86\n",
      "1  1000_204     1000   2018-12-31     0.00\n",
      "2  1000_379     1000   2018-12-28   660.40\n",
      "3  1000_413     1000   2018-12-26   270.99\n",
      "4  1000_442     1000   2018-12-27   880.22\n",
      "         id  user_id   call_date  duration\n",
      "0   1000_93     1000  2018-12-27      8.52\n",
      "1  1000_145     1000  2018-12-27     13.66\n",
      "2  1000_247     1000  2018-12-27     14.48\n",
      "3  1000_309     1000  2018-12-28      5.76\n",
      "4  1000_380     1000  2018-12-30      4.22\n"
     ]
    }
   ],
   "source": [
    "# Carga los archivos de datos en diferentes DataFrames\n",
    "users = pd.read_csv(\"megaline_users.csv\")\n",
    "plans = pd.read_csv(\"megaline_plans.csv\")\n",
    "messages = pd.read_csv(\"megaline_messages.csv\")\n",
    "internet = pd.read_csv(\"megaline_internet.csv\")\n",
    "calls = pd.read_csv(\"megaline_calls.csv\")\n",
    "\n",
    "#llamada general de head para observar el formato de cada dataframe\n",
    "print(users.head())\n",
    "print(plans.head())\n",
    "print(messages.head())\n",
    "print(internet.head())\n",
    "print(calls.head())\n"
   ]
  },
  {
   "cell_type": "markdown",
   "metadata": {},
   "source": [
    "La importación de los datos generó un formato homogéneo y adecuado. "
   ]
  },
  {
   "cell_type": "markdown",
   "metadata": {
    "id": "69qqoJ3r0q01"
   },
   "source": [
    "## Preparar los datos"
   ]
  },
  {
   "cell_type": "markdown",
   "metadata": {
    "id": "ohBhimvH0q01"
   },
   "source": [
    "## Tarifas"
   ]
  },
  {
   "cell_type": "code",
   "execution_count": 158,
   "metadata": {
    "id": "GptqP3Q40q02"
   },
   "outputs": [
    {
     "name": "stdout",
     "output_type": "stream",
     "text": [
      "<class 'pandas.core.frame.DataFrame'>\n",
      "RangeIndex: 2 entries, 0 to 1\n",
      "Data columns (total 8 columns):\n",
      " #   Column                 Non-Null Count  Dtype  \n",
      "---  ------                 --------------  -----  \n",
      " 0   messages_included      2 non-null      int64  \n",
      " 1   mb_per_month_included  2 non-null      int64  \n",
      " 2   minutes_included       2 non-null      int64  \n",
      " 3   usd_monthly_pay        2 non-null      int64  \n",
      " 4   usd_per_gb             2 non-null      int64  \n",
      " 5   usd_per_message        2 non-null      float64\n",
      " 6   usd_per_minute         2 non-null      float64\n",
      " 7   plan_name              2 non-null      object \n",
      "dtypes: float64(2), int64(5), object(1)\n",
      "memory usage: 260.0+ bytes\n"
     ]
    }
   ],
   "source": [
    "# Imprime la información general/resumida sobre el DataFrame de las tarifas\n",
    "\n",
    "plans.info()"
   ]
  },
  {
   "cell_type": "markdown",
   "metadata": {},
   "source": [
    "2 registros conforme a los 2 planes que se tienen. Todos los valores están en el tipo de datos apropiado y sin valores ausentes. "
   ]
  },
  {
   "cell_type": "code",
   "execution_count": 159,
   "metadata": {
    "id": "64xzjwL70q02"
   },
   "outputs": [
    {
     "name": "stdout",
     "output_type": "stream",
     "text": [
      "   messages_included  mb_per_month_included  minutes_included  \\\n",
      "0                 50                  15360               500   \n",
      "1               1000                  30720              3000   \n",
      "\n",
      "   usd_monthly_pay  usd_per_gb  usd_per_message  usd_per_minute plan_name  \n",
      "0               20          10             0.03            0.03      surf  \n",
      "1               70           7             0.01            0.01  ultimate  \n"
     ]
    }
   ],
   "source": [
    "# Imprime una muestra de los datos para las tarifas\n",
    "print(plans)\n",
    "\n"
   ]
  },
  {
   "cell_type": "markdown",
   "metadata": {},
   "source": [
    "Al ser un marco de datos limitado se opta por imprimirlo completo en lugar de una muestra del mismo. "
   ]
  },
  {
   "cell_type": "markdown",
   "metadata": {
    "id": "R3C05i1l0q03"
   },
   "source": [
    "## Corregir datos"
   ]
  },
  {
   "cell_type": "markdown",
   "metadata": {
    "id": "bIi8StZI0q03"
   },
   "source": [
    "Sin correcciones necesarias para el marco de datos de las tarifas: \"plans\""
   ]
  },
  {
   "cell_type": "markdown",
   "metadata": {
    "id": "LJir7bml0q03"
   },
   "source": [
    "## Enriquecer los datos"
   ]
  },
  {
   "cell_type": "markdown",
   "metadata": {
    "id": "eqADpCfg0q04"
   },
   "source": [
    "Posibles enriquecimientos: Umbral de preferencia. \n",
    "\n",
    "Calcular cuanto gasto es necesario para requerir un plan ultimate. Ultimate parece estar orientado a grandes consumidores. ¿Cuántos de estos hay en la muestra? ¿Desquitan el plan? \n",
    "\n",
    "Se cumplirá con el enriquecimiento posterior a análisis más generales de las muestras. "
   ]
  },
  {
   "cell_type": "markdown",
   "metadata": {
    "id": "1n2X6WXf0q04"
   },
   "source": [
    "## Usuarios/as"
   ]
  },
  {
   "cell_type": "code",
   "execution_count": 160,
   "metadata": {
    "id": "2NgjWFqx0q05"
   },
   "outputs": [
    {
     "name": "stdout",
     "output_type": "stream",
     "text": [
      "<class 'pandas.core.frame.DataFrame'>\n",
      "RangeIndex: 500 entries, 0 to 499\n",
      "Data columns (total 8 columns):\n",
      " #   Column      Non-Null Count  Dtype \n",
      "---  ------      --------------  ----- \n",
      " 0   user_id     500 non-null    int64 \n",
      " 1   first_name  500 non-null    object\n",
      " 2   last_name   500 non-null    object\n",
      " 3   age         500 non-null    int64 \n",
      " 4   city        500 non-null    object\n",
      " 5   reg_date    500 non-null    object\n",
      " 6   plan        500 non-null    object\n",
      " 7   churn_date  34 non-null     object\n",
      "dtypes: int64(2), object(6)\n",
      "memory usage: 31.4+ KB\n"
     ]
    },
    {
     "data": {
      "text/plain": [
       "Index(['user_id', 'first_name', 'last_name', 'age', 'city', 'reg_date', 'plan',\n",
       "       'churn_date'],\n",
       "      dtype='object')"
      ]
     },
     "execution_count": 160,
     "metadata": {},
     "output_type": "execute_result"
    }
   ],
   "source": [
    "# Imprime la información general/resumida sobre el DataFrame de usuarios\n",
    "users.info()\n",
    "users.columns\n"
   ]
  },
  {
   "cell_type": "markdown",
   "metadata": {},
   "source": [
    "8 Columnas: ['user_id', 'first_name', 'last_name', 'age', 'city', 'reg_date', 'plan','churn_date'], 500 registros. \n",
    "\n",
    "Los valores se encuentran en el tipo de datos correcto. Se puede revisar reg_date para corroborar si es el tipo de dato correcto o si puede ser cambiado a dato de tiempo (dt). Revisando una muestra de los datos y por inferencia se denota que la columna reg_date corresponde a la fecha de registro y por lo tanto sería aconsejable cambiarla a valores de tiempo dt. \n",
    "\n",
    "No hay valores nulos salvo para la columna \"churn_date\" que tiene 466 datos nulos. Con conocimiento dominio la columna corresponde a día de abandono del plan en el cual el que haya valor evidencia cuantos clientes y en que día abandonaron el plan. Es buena noticia que de la muestra de 500 clientes 466 estén en el plan y solo haya un 6.8% de tasa de abandono o 34 clientes perdidos. "
   ]
  },
  {
   "cell_type": "code",
   "execution_count": 161,
   "metadata": {
    "id": "1IN1L9uh0q05"
   },
   "outputs": [
    {
     "name": "stdout",
     "output_type": "stream",
     "text": [
      "   user_id first_name  last_name  age                                   city  \\\n",
      "0     1000   Anamaria      Bauer   45  Atlanta-Sandy Springs-Roswell, GA MSA   \n",
      "1     1001     Mickey  Wilkerson   28        Seattle-Tacoma-Bellevue, WA MSA   \n",
      "2     1002     Carlee    Hoffman   36   Las Vegas-Henderson-Paradise, NV MSA   \n",
      "3     1003   Reynaldo    Jenkins   52                          Tulsa, OK MSA   \n",
      "4     1004    Leonila   Thompson   40        Seattle-Tacoma-Bellevue, WA MSA   \n",
      "\n",
      "     reg_date      plan churn_date  \n",
      "0  2018-12-24  ultimate        NaN  \n",
      "1  2018-08-13      surf        NaN  \n",
      "2  2018-10-21      surf        NaN  \n",
      "3  2018-01-28      surf        NaN  \n",
      "4  2018-05-23      surf        NaN  \n"
     ]
    }
   ],
   "source": [
    "# Imprime una muestra de datos para usuarios\n",
    "print(users.head())\n"
   ]
  },
  {
   "cell_type": "markdown",
   "metadata": {
    "id": "dCZoUq4f0q06"
   },
   "source": [
    "Acciones correctivas: \n",
    "\n",
    "1. Cambiar los datos de la columna reg_date y churn_date a dt. "
   ]
  },
  {
   "cell_type": "markdown",
   "metadata": {
    "id": "BX5FQh_I0q06"
   },
   "source": [
    "### Corregir los datos"
   ]
  },
  {
   "cell_type": "code",
   "execution_count": 162,
   "metadata": {
    "id": "yUqX-K0C0q07"
   },
   "outputs": [
    {
     "name": "stdout",
     "output_type": "stream",
     "text": [
      "0   2018-12-24\n",
      "1   2018-08-13\n",
      "2   2018-10-21\n",
      "3   2018-01-28\n",
      "4   2018-05-23\n",
      "Name: reg_date, dtype: datetime64[ns]\n"
     ]
    }
   ],
   "source": [
    "users[\"reg_date\"] = pd.to_datetime(users[\"reg_date\"], format = \"%Y-%m-%d\")\n",
    "print(users[\"reg_date\"].head())\n",
    "users[\"churn_date\"] = pd.to_datetime(users[\"churn_date\"], format = \"%Y-%m-%d\") \n",
    "\n"
   ]
  },
  {
   "cell_type": "markdown",
   "metadata": {
    "id": "ycwuARJp0q07"
   },
   "source": [
    "### Enriquecer los datos"
   ]
  },
  {
   "cell_type": "markdown",
   "metadata": {
    "id": "96NIh4CJ0q08"
   },
   "source": [
    "Posibles enriquecimientos: \n",
    "\n",
    "1. Cantidad de usuarios por plan.\n",
    "\n",
    "2. Distribución de cantidad de usuarios por ciudad. \n",
    "\n",
    "3. Conteo por edad. \n",
    "\n",
    "4. Conteo por registro. \n",
    "\n",
    "5. Estadísticas descriptivas dado que se van de la empresa. Edad, ciudad, registro, plan al que pertenecen. "
   ]
  },
  {
   "cell_type": "code",
   "execution_count": 163,
   "metadata": {},
   "outputs": [
    {
     "name": "stdout",
     "output_type": "stream",
     "text": [
      "Usuarios por plan: plan\n",
      "surf        339\n",
      "ultimate    161\n",
      "Name: user_id, dtype: int64\n",
      "     user_id  first_name  last_name  age  \\\n",
      "6       1006      Jesusa   Bradford   73   \n",
      "12      1012     Jonelle    Mcbride   59   \n",
      "22      1022          Bo       Snow   73   \n",
      "40      1040       Paris     Santos   72   \n",
      "50      1050        Jone       Owen   23   \n",
      "54      1054       Denis      Frost   50   \n",
      "67      1067        Robt      Allen   37   \n",
      "83      1083      Lyndia    Acevedo   65   \n",
      "84      1084       Wiley   Mckinney   21   \n",
      "94      1094      Walter   Petersen   54   \n",
      "106     1106        Eddy   Garrison   47   \n",
      "129     1129       Marin     Bolton   70   \n",
      "172     1172      Weldon   Robinson   72   \n",
      "180     1180       Wonda       Hays   24   \n",
      "186     1186      Josiah    Douglas   55   \n",
      "191     1191        Zack     Waters   75   \n",
      "220     1220        Jack     Strong   26   \n",
      "246     1246      Stevie      Moran   69   \n",
      "269     1269      Irving   Thompson   39   \n",
      "281     1281        Zack      Hardy   39   \n",
      "296     1296      Weston     Conley   36   \n",
      "298     1298       Loyce     Cooley   53   \n",
      "300     1300        Rene      Frost   23   \n",
      "315     1315        Mora  Schroeder   45   \n",
      "358     1358      Vaughn  Maldonado   20   \n",
      "363     1363      Sandee       Lott   33   \n",
      "402     1402       Jesus      Berry   25   \n",
      "414     1414  Georgianne    Herring   30   \n",
      "416     1416        Deja       Moss   25   \n",
      "441     1441      Piedad      Myers   23   \n",
      "451     1451      Lenard    Harding   53   \n",
      "466     1466    Alphonse     Harmon   56   \n",
      "467     1467    Nickolas     Deleon   64   \n",
      "491     1491      Terina     Jensen   22   \n",
      "\n",
      "                                                 city   reg_date      plan  \\\n",
      "6              San Francisco-Oakland-Berkeley, CA MSA 2018-11-27  ultimate   \n",
      "12             Chicago-Naperville-Elgin, IL-IN-WI MSA 2018-06-28      surf   \n",
      "22          New York-Newark-Jersey City, NY-NJ-PA MSA 2018-04-20      surf   \n",
      "40    Philadelphia-Camden-Wilmington, PA-NJ-DE-MD MSA 2018-12-23      surf   \n",
      "50      Miami-Fort Lauderdale-West Palm Beach, FL MSA 2018-03-20  ultimate   \n",
      "54                      Phoenix-Mesa-Chandler, AZ MSA 2018-04-21      surf   \n",
      "67                      Grand Rapids-Kentwood, MI MSA 2018-09-24      surf   \n",
      "83             Los Angeles-Long Beach-Anaheim, CA MSA 2018-10-26      surf   \n",
      "84      Miami-Fort Lauderdale-West Palm Beach, FL MSA 2018-06-04      surf   \n",
      "94             Los Angeles-Long Beach-Anaheim, CA MSA 2018-10-30      surf   \n",
      "106         New York-Newark-Jersey City, NY-NJ-PA MSA 2018-05-10      surf   \n",
      "129                               Baton Rouge, LA MSA 2018-11-10      surf   \n",
      "172                Boston-Cambridge-Newton, MA-NH MSA 2018-03-30      surf   \n",
      "180         New York-Newark-Jersey City, NY-NJ-PA MSA 2018-12-01      surf   \n",
      "186              Las Vegas-Henderson-Paradise, NV MSA 2018-12-22  ultimate   \n",
      "191                              St. Louis, MO-IL MSA 2018-01-21  ultimate   \n",
      "220                          Cincinnati, OH-KY-IN MSA 2018-04-22      surf   \n",
      "246           Tampa-St. Petersburg-Clearwater, FL MSA 2018-01-09  ultimate   \n",
      "269               Dallas-Fort Worth-Arlington, TX MSA 2018-09-13  ultimate   \n",
      "281             Charlotte-Concord-Gastonia, NC-SC MSA 2018-07-23      surf   \n",
      "296     Miami-Fort Lauderdale-West Palm Beach, FL MSA 2018-10-20  ultimate   \n",
      "298  Nashville-Davidson–Murfreesboro–Franklin, TN MSA 2018-09-21      surf   \n",
      "300         New York-Newark-Jersey City, NY-NJ-PA MSA 2018-10-21      surf   \n",
      "315                              Raleigh-Cary, NC MSA 2018-04-26      surf   \n",
      "358         New York-Newark-Jersey City, NY-NJ-PA MSA 2018-04-26      surf   \n",
      "363                   Seattle-Tacoma-Bellevue, WA MSA 2018-01-05  ultimate   \n",
      "402         New York-Newark-Jersey City, NY-NJ-PA MSA 2018-06-11      surf   \n",
      "414                            Urban Honolulu, HI MSA 2018-03-03      surf   \n",
      "416       Minneapolis-St. Paul-Bloomington, MN-WI MSA 2018-10-03      surf   \n",
      "441             Atlanta-Sandy Springs-Roswell, GA MSA 2018-03-08  ultimate   \n",
      "451             Charlotte-Concord-Gastonia, NC-SC MSA 2018-02-15  ultimate   \n",
      "466            Los Angeles-Long Beach-Anaheim, CA MSA 2018-01-26      surf   \n",
      "467             Atlanta-Sandy Springs-Roswell, GA MSA 2018-01-31  ultimate   \n",
      "491                     Grand Rapids-Kentwood, MI MSA 2018-04-27      surf   \n",
      "\n",
      "    churn_date  \n",
      "6   2018-12-18  \n",
      "12  2018-11-16  \n",
      "22  2018-09-07  \n",
      "40  2018-12-30  \n",
      "50  2018-10-07  \n",
      "54  2018-12-31  \n",
      "67  2018-11-24  \n",
      "83  2018-12-18  \n",
      "84  2018-11-11  \n",
      "94  2018-12-12  \n",
      "106 2018-11-14  \n",
      "129 2018-12-27  \n",
      "172 2018-11-29  \n",
      "180 2018-12-22  \n",
      "186 2018-12-31  \n",
      "191 2018-11-30  \n",
      "220 2018-10-13  \n",
      "246 2018-07-31  \n",
      "269 2018-12-15  \n",
      "281 2018-11-14  \n",
      "296 2018-12-18  \n",
      "298 2018-12-19  \n",
      "300 2018-12-19  \n",
      "315 2018-10-03  \n",
      "358 2018-10-22  \n",
      "363 2018-08-16  \n",
      "402 2018-12-26  \n",
      "414 2018-09-01  \n",
      "416 2018-11-21  \n",
      "441 2018-08-19  \n",
      "451 2018-12-10  \n",
      "466 2018-09-17  \n",
      "467 2018-11-18  \n",
      "491 2018-09-18  \n",
      "<class 'pandas.core.frame.DataFrame'>\n",
      "Index: 34 entries, 6 to 491\n",
      "Data columns (total 8 columns):\n",
      " #   Column      Non-Null Count  Dtype         \n",
      "---  ------      --------------  -----         \n",
      " 0   user_id     34 non-null     int64         \n",
      " 1   first_name  34 non-null     object        \n",
      " 2   last_name   34 non-null     object        \n",
      " 3   age         34 non-null     int64         \n",
      " 4   city        34 non-null     object        \n",
      " 5   reg_date    34 non-null     datetime64[ns]\n",
      " 6   plan        34 non-null     object        \n",
      " 7   churn_date  34 non-null     datetime64[ns]\n",
      "dtypes: datetime64[ns](2), int64(2), object(4)\n",
      "memory usage: 2.4+ KB\n",
      "Promedio de edad de clientes perdidos: 45.61764705882353\n",
      "Mediana de edad de clientes perdidos: 46.0\n",
      "Ciudades de clientes perdidos: city\n",
      "New York-Newark-Jersey City, NY-NJ-PA MSA           6\n",
      "Miami-Fort Lauderdale-West Palm Beach, FL MSA       3\n",
      "Los Angeles-Long Beach-Anaheim, CA MSA              3\n",
      "Charlotte-Concord-Gastonia, NC-SC MSA               2\n",
      "Grand Rapids-Kentwood, MI MSA                       2\n",
      "Atlanta-Sandy Springs-Roswell, GA MSA               2\n",
      "Phoenix-Mesa-Chandler, AZ MSA                       1\n",
      "Philadelphia-Camden-Wilmington, PA-NJ-DE-MD MSA     1\n",
      "San Francisco-Oakland-Berkeley, CA MSA              1\n",
      "Chicago-Naperville-Elgin, IL-IN-WI MSA              1\n",
      "Las Vegas-Henderson-Paradise, NV MSA                1\n",
      "St. Louis, MO-IL MSA                                1\n",
      "Baton Rouge, LA MSA                                 1\n",
      "Boston-Cambridge-Newton, MA-NH MSA                  1\n",
      "Tampa-St. Petersburg-Clearwater, FL MSA             1\n",
      "Cincinnati, OH-KY-IN MSA                            1\n",
      "Nashville-Davidson–Murfreesboro–Franklin, TN MSA    1\n",
      "Dallas-Fort Worth-Arlington, TX MSA                 1\n",
      "Raleigh-Cary, NC MSA                                1\n",
      "Seattle-Tacoma-Bellevue, WA MSA                     1\n",
      "Urban Honolulu, HI MSA                              1\n",
      "Minneapolis-St. Paul-Bloomington, MN-WI MSA         1\n",
      "Name: count, dtype: int64\n",
      "Conteo de planes de clientes perdidos: plan\n",
      "surf        23\n",
      "ultimate    11\n",
      "Name: count, dtype: int64\n",
      "Fechas de registro de clientes perdidos: reg_date\n",
      "2018-01-05    1\n",
      "2018-01-09    1\n",
      "2018-01-21    1\n",
      "2018-01-26    1\n",
      "2018-01-31    1\n",
      "2018-02-15    1\n",
      "2018-03-03    1\n",
      "2018-03-08    1\n",
      "2018-03-20    1\n",
      "2018-03-30    1\n",
      "2018-04-20    1\n",
      "2018-04-21    1\n",
      "2018-04-22    1\n",
      "2018-04-26    2\n",
      "2018-04-27    1\n",
      "2018-05-10    1\n",
      "2018-06-04    1\n",
      "2018-06-11    1\n",
      "2018-06-28    1\n",
      "2018-07-23    1\n",
      "2018-09-13    1\n",
      "2018-09-21    1\n",
      "2018-09-24    1\n",
      "2018-10-03    1\n",
      "2018-10-20    1\n",
      "2018-10-21    1\n",
      "2018-10-26    1\n",
      "2018-10-30    1\n",
      "2018-11-10    1\n",
      "2018-11-27    1\n",
      "2018-12-01    1\n",
      "2018-12-22    1\n",
      "2018-12-23    1\n",
      "Name: count, dtype: int64\n",
      "Moda de fecha de registro de clientes perdidos 0    4\n",
      "Name: reg_date, dtype: int32\n"
     ]
    }
   ],
   "source": [
    "#'user_id', 'first_name', 'last_name', 'age', 'city', 'reg_date', 'plan','churn_date'\n",
    "#Usuarios por plan\n",
    "usuarios_por_plan = users[[\"user_id\", \"plan\"]].groupby(\"plan\")[\"user_id\"].size()\n",
    "print(\"Usuarios por plan:\", usuarios_por_plan) #339 y 161 para surf y ultimate respectivamente. \n",
    "\n",
    "distrib_usuarios_ciudad = users.groupby([\"user_id\", \"city\"])[\"user_id\"].value_counts\n",
    "distrib_usuarios_edad = users.groupby([\"user_id\", \"age\"])[\"user_id\"].value_counts\n",
    "distrib_usarios_reg_date = users.groupby([\"user_id\", \"reg_date\"])[\"user_id\"].value_counts #considerar hacer rangos de tiempo? \n",
    "distrib_usuarios_churned = users[users[\"churn_date\"].notna()]\n",
    "\n",
    "print(distrib_usuarios_churned) #Datos correctamente filtrados\n",
    "distrib_usuarios_churned.info() #34 con información confirmados\n",
    "\n",
    "#Estadística descriptiva de usuarios que se retiran \n",
    "churned_mean_age = distrib_usuarios_churned[\"age\"].mean()\n",
    "churned_median_age = distrib_usuarios_churned[\"age\"].median()\n",
    "churned_ciudad = distrib_usuarios_churned[\"city\"].value_counts()\n",
    "churned_plan = distrib_usuarios_churned[\"plan\"].value_counts()\n",
    "churned_reg_date = distrib_usuarios_churned[\"reg_date\"].value_counts().sort_index()\n",
    "churned_reg_date_moda = distrib_usuarios_churned[\"reg_date\"].dt.month.mode()\n",
    "\n",
    "print(f\"Promedio de edad de clientes perdidos: {churned_mean_age}\") #45.6 años\n",
    "print(f\"Mediana de edad de clientes perdidos: {churned_median_age}\") #46 años\n",
    "print(f\"Ciudades de clientes perdidos: {churned_ciudad}\") #New York\n",
    "print(f\"Conteo de planes de clientes perdidos: {churned_plan}\") #23 surf, 11 ultimate. \n",
    "print(f\"Fechas de registro de clientes perdidos: {churned_reg_date}\")\n",
    "print(f\"Moda de fecha de registro de clientes perdidos {churned_reg_date_moda}\") #Abril es el mes en el que más se salen, interesante revisar rangos. \n"
   ]
  },
  {
   "cell_type": "markdown",
   "metadata": {
    "id": "o7MeKCid0q08"
   },
   "source": [
    "## Llamadas"
   ]
  },
  {
   "cell_type": "code",
   "execution_count": 164,
   "metadata": {
    "id": "6dDlnoDm0q08"
   },
   "outputs": [
    {
     "name": "stdout",
     "output_type": "stream",
     "text": [
      "<class 'pandas.core.frame.DataFrame'>\n",
      "RangeIndex: 137735 entries, 0 to 137734\n",
      "Data columns (total 4 columns):\n",
      " #   Column     Non-Null Count   Dtype  \n",
      "---  ------     --------------   -----  \n",
      " 0   id         137735 non-null  object \n",
      " 1   user_id    137735 non-null  int64  \n",
      " 2   call_date  137735 non-null  object \n",
      " 3   duration   137735 non-null  float64\n",
      "dtypes: float64(1), int64(1), object(2)\n",
      "memory usage: 4.2+ MB\n"
     ]
    },
    {
     "data": {
      "text/plain": [
       "Index(['id', 'user_id', 'call_date', 'duration'], dtype='object')"
      ]
     },
     "execution_count": 164,
     "metadata": {},
     "output_type": "execute_result"
    }
   ],
   "source": [
    "# Imprime la información general/resumida sobre el DataFrame de las llamadas\n",
    "\n",
    "calls.info()\n",
    "calls.columns"
   ]
  },
  {
   "cell_type": "markdown",
   "metadata": {},
   "source": [
    "4 columnas: ['id', 'user_id', 'call_date', 'duration'], 137735 registros.\n",
    "\n",
    "No hay valores nulos. \n",
    "\n",
    "Tipo de dato de la columna call_date es objeto o cadena mientras que debería ser variable de tiempo o fechas. \n",
    "\n",
    "El ID se puede revisar si se prefiere como enteros o cadenas, en usuarios se tiene como enteros. Se puede revisar presencia de alphanuméricos y si no están presentes considerar pasar a entero para mantener homogeneidad entre los tipos de variables en los marcos de datos. "
   ]
  },
  {
   "cell_type": "code",
   "execution_count": 165,
   "metadata": {
    "id": "kuh1vlNB0q09"
   },
   "outputs": [
    {
     "name": "stdout",
     "output_type": "stream",
     "text": [
      "         id  user_id   call_date  duration\n",
      "0   1000_93     1000  2018-12-27      8.52\n",
      "1  1000_145     1000  2018-12-27     13.66\n",
      "2  1000_247     1000  2018-12-27     14.48\n",
      "3  1000_309     1000  2018-12-28      5.76\n",
      "4  1000_380     1000  2018-12-30      4.22\n"
     ]
    }
   ],
   "source": [
    "# Imprime una muestra de datos para las llamadas\n",
    "print(calls.head())\n"
   ]
  },
  {
   "cell_type": "markdown",
   "metadata": {
    "id": "DOAxYJSx0q09"
   },
   "source": [
    "Acciones correctivas: \n",
    "\n",
    "1. Pasar call date a tipo de dato de fechas o dt. \n",
    "\n",
    "Opcional: Revisar columna de ID para alphanuméricos o cambio a tipo de dato entero. Meramente tiene guiones bajo y números lo cual lo vuelve objeto y no entero. "
   ]
  },
  {
   "cell_type": "markdown",
   "metadata": {
    "id": "S7hzxmbX0q0-"
   },
   "source": [
    "### Corregir los datos"
   ]
  },
  {
   "cell_type": "code",
   "execution_count": 166,
   "metadata": {
    "id": "S2r8xA4f0q0-"
   },
   "outputs": [],
   "source": [
    "#Revisión de columna ID (opcional-omitido)\n",
    "\n",
    "#Cambio de call_date a tipo de dato dt. \n",
    "calls[\"call_date\"] = pd.to_datetime(calls[\"call_date\"], format= \"%Y-%m-%d\")\n"
   ]
  },
  {
   "cell_type": "markdown",
   "metadata": {
    "id": "KrMgTrlG0q0_"
   },
   "source": [
    "### Enriquecer los datos"
   ]
  },
  {
   "cell_type": "markdown",
   "metadata": {},
   "source": [
    "Nota personal: El marco de datos de llamadas tiene conexión mediante user_id y id con los demás marcos de datos. Carece de nombres para los usuarios. "
   ]
  },
  {
   "cell_type": "markdown",
   "metadata": {
    "id": "a9MbmEvE0q0_"
   },
   "source": [
    "\n",
    "Posibles enriquecimientos: \n",
    "\n",
    "Medidas de tendencia central. LLamadas por usuario.\n",
    "\n",
    "Conteo de llamadas a través de los meses. \n",
    "Tendencia central. Mediana y promedio. \n"
   ]
  },
  {
   "cell_type": "code",
   "execution_count": 167,
   "metadata": {},
   "outputs": [
    {
     "name": "stdout",
     "output_type": "stream",
     "text": [
      "Duración promedio de llamadas en minutos: 7.146672958942897\n",
      "Duración mediana de llamadas en minutos: 6.0\n",
      "Minutos estimados de llamadas en los ultimos meses donde más se hacen llamadas: 262.6067375886525\n",
      "Costo adicional promedio por usuario debido a llamadas por mes en los meses de más consumo (10 a 12): 7.878202127659574 dólares\n",
      "user_id\n",
      "1000     16\n",
      "1001    261\n",
      "1002    113\n",
      "1003    149\n",
      "1004    370\n",
      "       ... \n",
      "1495    253\n",
      "1496    195\n",
      "1497     54\n",
      "1498    451\n",
      "1499    204\n",
      "Name: user_id, Length: 481, dtype: int64\n",
      "user_id\n",
      "164    7\n",
      "216    6\n",
      "114    5\n",
      "228    5\n",
      "74     4\n",
      "      ..\n",
      "174    1\n",
      "89     1\n",
      "94     1\n",
      "168    1\n",
      "79     1\n",
      "Name: count, Length: 319, dtype: int64\n",
      "Promedio de llamadas anuales por usuario: 286.35135135135135\n",
      "Mediana de llamadas anuales por usuario: 216.0\n"
     ]
    },
    {
     "data": {
      "text/plain": [
       "<function matplotlib.pyplot.show(close=None, block=None)>"
      ]
     },
     "execution_count": 167,
     "metadata": {},
     "output_type": "execute_result"
    },
    {
     "data": {
      "image/png": "[encoded data removed]",
      "text/plain": [
       "<Figure size 1200x600 with 1 Axes>"
      ]
     },
     "metadata": {},
     "output_type": "display_data"
    }
   ],
   "source": [
    "#Enriquecimientos \n",
    "\n",
    "#Promedio de duración de las llamadas\n",
    "calls[\"duration\"] = np.ceil(calls[\"duration\"]).astype(int)\n",
    "duracion_promedio_llamadas = calls[\"duration\"].mean() \n",
    "duracion_mediana_llamadas = calls[\"duration\"].median()\n",
    "\n",
    "print(f\"Duración promedio de llamadas en minutos: {duracion_promedio_llamadas}\") #6.745; un poco sesgada por valores elevados. \n",
    "print(f\"Duración mediana de llamadas en minutos: {duracion_mediana_llamadas}\") #5.98 \n",
    "\n",
    "#Cantidad de minutos estimado es de 1716 usando la mediana. Dividido entre 12 da 143 minutos mensuales y el plan surf da 500. Si se distribuyeran entre los 12 meses surf suele ser más que suficiente para el usuario promedio en cuestión de llamadas.\n",
    "\n",
    "#Sería interesante revisar en los últimos 3 meses cuál es el promedio de llamadas. \n",
    "ultimos_meses = calls[calls[\"call_date\"].dt.month > 10]\n",
    "promedio_duracion_llamadas_ultimos_meses = ultimos_meses[\"duration\"].mean() #No es muy diferente del promedio de todos los meses 6.74 vs 6.77\n",
    "promedio_llamadas_ultimos_meses = ultimos_meses.groupby(\"user_id\")[\"user_id\"].count().mean() #117 a 118 llamadas. 117.5\n",
    "minutos_estimados_ultimos_meses = (promedio_llamadas_ultimos_meses*6.7)/3\n",
    "print(f\"Minutos estimados de llamadas en los ultimos meses donde más se hacen llamadas: {minutos_estimados_ultimos_meses}\") #Al rededor de 288 minutos más del plan \n",
    "print(f\"Costo adicional promedio por usuario debido a llamadas por mes en los meses de más consumo (10 a 12): {minutos_estimados_ultimos_meses*0.03} dólares\") #+7.87 dólares en cada uno de los últimos 3 meses debido a llamadas. Faltan ver los patrones de consumo de internet y mensajes. \n",
    "\n",
    "#Corregir este gráfico haciendo bins de cantidad de llamadas y solo eje Y el conteo de usuarios. \n",
    "\n",
    "#Llamadas por usuario\n",
    "llamadas_por_usuario = calls.groupby(\"user_id\")[\"user_id\"].count() #conteo de llamadas por usuario anuales. Cada registro es una llamada\n",
    "frecuencia_usuarios_por_cantidad_llamadas = llamadas_por_usuario.value_counts()\n",
    "print(llamadas_por_usuario)\n",
    "print(frecuencia_usuarios_por_cantidad_llamadas)\n",
    "\n",
    "#Tendencia central de cantidad de llamadas por usuario\n",
    "promedio_llamadas_por_usuario = llamadas_por_usuario.mean()\n",
    "mediana_llamadas_por_usuario = llamadas_por_usuario.median()\n",
    "\n",
    "print(f\"Promedio de llamadas anuales por usuario: {promedio_llamadas_por_usuario}\") #286 llamadas de promedio debido a valores atípicos puede sesgarse a la derecha el valor central aritmético. \n",
    "print(f\"Mediana de llamadas anuales por usuario: {mediana_llamadas_por_usuario}\") #216 llamadas es lo más representativo para la población. \n",
    "\n",
    "#Distribución gráfica de la cantidad de llamadas y cantidad de usuarios\n",
    "plt.figure(figsize=(12, 6))\n",
    "plt.bar(frecuencia_usuarios_por_cantidad_llamadas.index, frecuencia_usuarios_por_cantidad_llamadas.values)\n",
    "plt.title(\"Frecuencia de usuarios y cantidad de llamadas\")\n",
    "plt.xlabel(\"Cantidad de llamadas\")\n",
    "plt.ylabel(\"Cantidad de usuarios\")\n",
    "plt.grid(axis = \"y\")\n",
    "plt.show\n",
    "\n",
    "\n"
   ]
  },
  {
   "cell_type": "code",
   "execution_count": 168,
   "metadata": {},
   "outputs": [
    {
     "name": "stdout",
     "output_type": "stream",
     "text": [
      "Promedio de llamadas por usuario anuales: 286.35135135135135\n",
      "Mediana de las llamadas en los meses: 10.0\n",
      "Mes promedio de las llamadas: 9.320797182996333\n",
      "Conteo de llamadas por mes: call_date\n",
      "12    30614\n",
      "11    24651\n",
      "10    21064\n",
      "9     16523\n",
      "8     13590\n",
      "7     11105\n",
      "6      8221\n",
      "5      5959\n",
      "4      3442\n",
      "3      1620\n",
      "2       774\n",
      "1       172\n",
      "Name: count, dtype: int64\n"
     ]
    }
   ],
   "source": [
    "print(f\"Promedio de llamadas por usuario anuales: {llamadas_por_usuario.values.mean()}\") #286 llamadas por año por usuario. \n",
    "\n",
    "distrib_cantidad_llamadas_tiempo = calls[[\"call_date\", \"duration\"]][\"call_date\"].dt.month.value_counts()\n",
    "print(f\"Mediana de las llamadas en los meses: {calls[[\"call_date\", \"duration\"]][\"call_date\"].dt.month.median()}\") #Definitivamente hay un sesgo a que las llamadas sean hechas al final del año. \n",
    "print(f\"Mes promedio de las llamadas: {calls[[\"call_date\", \"duration\"]][\"call_date\"].dt.month.mean()}\")  #9.3\n",
    "print(f\"Conteo de llamadas por mes: {distrib_cantidad_llamadas_tiempo}\") #En diciembre se hacen más llamadas\n"
   ]
  },
  {
   "cell_type": "markdown",
   "metadata": {
    "id": "mOUZSi180q0_"
   },
   "source": [
    "## Mensajes"
   ]
  },
  {
   "cell_type": "code",
   "execution_count": 169,
   "metadata": {
    "id": "R-bYJpdV0q1A"
   },
   "outputs": [
    {
     "name": "stdout",
     "output_type": "stream",
     "text": [
      "<class 'pandas.core.frame.DataFrame'>\n",
      "RangeIndex: 76051 entries, 0 to 76050\n",
      "Data columns (total 3 columns):\n",
      " #   Column        Non-Null Count  Dtype \n",
      "---  ------        --------------  ----- \n",
      " 0   id            76051 non-null  object\n",
      " 1   user_id       76051 non-null  int64 \n",
      " 2   message_date  76051 non-null  object\n",
      "dtypes: int64(1), object(2)\n",
      "memory usage: 1.7+ MB\n"
     ]
    },
    {
     "data": {
      "text/plain": [
       "Index(['id', 'user_id', 'message_date'], dtype='object')"
      ]
     },
     "execution_count": 169,
     "metadata": {},
     "output_type": "execute_result"
    }
   ],
   "source": [
    "# Imprime la información general/resumida sobre el DataFrame de los mensajes\n",
    "\n",
    "messages.info()\n",
    "messages.columns"
   ]
  },
  {
   "cell_type": "markdown",
   "metadata": {},
   "source": [
    "Messages está compuesto por 3 columnas: ['id', 'user_id', 'message_date'], 76051 registros. \n",
    "\n",
    "No hay valores nulos\n",
    "\n",
    "Tipos de datos. \n",
    "Cambiar message_date a fecha. \n",
    "\n",
    "Opcional: Revisar id para ver presencia de alfanuméricos."
   ]
  },
  {
   "cell_type": "code",
   "execution_count": 170,
   "metadata": {
    "id": "mCEl2iGE0q1A"
   },
   "outputs": [
    {
     "name": "stdout",
     "output_type": "stream",
     "text": [
      "             id  user_id message_date\n",
      "2706   1028_632     1028   2018-07-04\n",
      "27939  1172_396     1172   2018-12-03\n",
      "26294  1159_297     1159   2018-08-18\n",
      "25606  1154_189     1154   2018-11-07\n",
      "71210  1465_108     1465   2018-10-12\n"
     ]
    }
   ],
   "source": [
    "# Imprime una muestra de datos para los mensajes\n",
    "\n",
    "print(messages.sample(n=5))"
   ]
  },
  {
   "cell_type": "markdown",
   "metadata": {
    "id": "04xDj7KH0q1A"
   },
   "source": [
    "Acciones correctivas: \n",
    "\n",
    "1. Cambiar message_date a fecha o dt. "
   ]
  },
  {
   "cell_type": "markdown",
   "metadata": {
    "id": "Sprfak900q1B"
   },
   "source": [
    "### Corregir los datos"
   ]
  },
  {
   "cell_type": "code",
   "execution_count": 171,
   "metadata": {
    "id": "vsllvkoa0q1B"
   },
   "outputs": [
    {
     "name": "stdout",
     "output_type": "stream",
     "text": [
      "0   2018-12-27\n",
      "1   2018-12-31\n",
      "2   2018-12-31\n",
      "3   2018-12-27\n",
      "4   2018-12-26\n",
      "Name: message_date, dtype: datetime64[ns]\n"
     ]
    }
   ],
   "source": [
    "messages[\"message_date\"] = pd.to_datetime(messages[\"message_date\"], format = \"%Y-%m-%d\")\n",
    "print(messages[\"message_date\"].head())"
   ]
  },
  {
   "cell_type": "code",
   "execution_count": 172,
   "metadata": {},
   "outputs": [
    {
     "name": "stdout",
     "output_type": "stream",
     "text": [
      "ID no contiene letras\n",
      "No contiene letras pero es objeto porque contiene guión bajo '_' en los ids.\n"
     ]
    }
   ],
   "source": [
    "#Revisión de alfanuméricos o formato de id\n",
    "if any(char.isalpha() for char in messages[\"id\"]): \n",
    "    print(\"ID contiene letras\")\n",
    "else:\n",
    "    print(\"ID no contiene letras\") \n",
    "    \n",
    "print(\"No contiene letras pero es objeto porque contiene guión bajo '_' en los ids.\")"
   ]
  },
  {
   "cell_type": "markdown",
   "metadata": {
    "id": "HvLid7iD0q1B"
   },
   "source": [
    "### Enriquecer los datos"
   ]
  },
  {
   "cell_type": "markdown",
   "metadata": {
    "id": "8nhPFKIe0q1C"
   },
   "source": [
    "Posible enriquecimiento: \n",
    "\n",
    "Cantidad de mensajes por usuario. \n",
    "\n",
    "Tendencia central de llamadas. "
   ]
  },
  {
   "cell_type": "code",
   "execution_count": 173,
   "metadata": {},
   "outputs": [
    {
     "name": "stdout",
     "output_type": "stream",
     "text": [
      "Mensajes por usuario:\n",
      "user_id\n",
      "1000     11\n",
      "1001    207\n",
      "1002     88\n",
      "1003     50\n",
      "1004    177\n",
      "       ... \n",
      "1491    409\n",
      "1492    108\n",
      "1494    174\n",
      "1496     65\n",
      "1497     50\n",
      "Name: user_id, Length: 402, dtype: int64\n",
      "\n",
      "Usuarios por cantidad de mensajes:\n",
      "user_id\n",
      "30     6\n",
      "84     5\n",
      "14     5\n",
      "60     5\n",
      "17     5\n",
      "      ..\n",
      "247    1\n",
      "141    1\n",
      "378    1\n",
      "51     1\n",
      "409    1\n",
      "Name: count, Length: 246, dtype: int64\n",
      "\n",
      "Promedio de mensajes por usuario anual: 189.181592039801\n",
      "Mediana de mensajes por usuario anual: 126.5\n"
     ]
    },
    {
     "data": {
      "image/png": "[encoded data removed]",
      "text/plain": [
       "<Figure size 1200x600 with 1 Axes>"
      ]
     },
     "metadata": {},
     "output_type": "display_data"
    }
   ],
   "source": [
    "#Agrupar por usuario. Conteo de registros \n",
    "mensajes_por_usuario = messages.groupby(\"user_id\")[\"user_id\"].count()\n",
    "print(\"Mensajes por usuario:\")\n",
    "print(mensajes_por_usuario)\n",
    "\n",
    "usuarios_mensajes = mensajes_por_usuario.value_counts()\n",
    "print() #para mejorar visibilidad de entrega de resultados\n",
    "print(\"Usuarios por cantidad de mensajes:\")\n",
    "print(usuarios_mensajes)\n",
    "\n",
    "#Tendencia central de mensajes \n",
    "promedio_mensajes_por_usuario = mensajes_por_usuario.mean() #189 mensajes promedio\n",
    "mediana_mensajes_por_usuario = mensajes_por_usuario.median() #126.5 mensajes de mediana. Más acertivo para representar la centralidad en este caso ya que hay personas que mensajean mucho, atípicos. \n",
    "print()\n",
    "print(f\"Promedio de mensajes por usuario anual: {promedio_mensajes_por_usuario}\")\n",
    "print(f\"Mediana de mensajes por usuario anual: {mediana_mensajes_por_usuario}\")\n",
    "\n",
    "#Cuánto contribuye al costo promedio fuera de lo permitido por surf? Este análisis no contempla distribución temporal en este caso.\n",
    "#print(f\"Gasto adicional añadido a plan surf debido a mensajes: {(mediana_mensajes_por_usuario - 50)*0.03}\") #3 dolares en promedio añadidos al plan no considerando distribución de gasto a través del tiempo. \n",
    "#En el cálculo no se consideró debido\n",
    "\n",
    "#Sería bueno saber como se distribuye la cantidad de usuarios por cantidad de mensajes \n",
    "plt.figure(figsize = (12, 6))\n",
    "plt.bar(usuarios_mensajes.index, usuarios_mensajes.values)\n",
    "plt.title(\"Frecuencia de usuarios y cantidad de mensajes\")\n",
    "plt.xlabel(\"Cantidad de mensajes\")\n",
    "plt.ylabel(\"Cantidad de usuarios\")\n",
    "plt.gca().xaxis.set_major_locator(ticker.MultipleLocator(50))\n",
    "plt.xticks(rotation = 45)\n",
    "plt.show()\n",
    "\n",
    "#En retrospectiva hubiera sido mejor usar un histograma. Aunque así es información más precisa solo menos estética. "
   ]
  },
  {
   "cell_type": "markdown",
   "metadata": {
    "id": "bStkaxn40q1C"
   },
   "source": [
    "## Internet"
   ]
  },
  {
   "cell_type": "code",
   "execution_count": 174,
   "metadata": {
    "id": "e-Uz5qyn0q1C"
   },
   "outputs": [
    {
     "name": "stdout",
     "output_type": "stream",
     "text": [
      "<class 'pandas.core.frame.DataFrame'>\n",
      "RangeIndex: 104825 entries, 0 to 104824\n",
      "Data columns (total 4 columns):\n",
      " #   Column        Non-Null Count   Dtype  \n",
      "---  ------        --------------   -----  \n",
      " 0   id            104825 non-null  object \n",
      " 1   user_id       104825 non-null  int64  \n",
      " 2   session_date  104825 non-null  object \n",
      " 3   mb_used       104825 non-null  float64\n",
      "dtypes: float64(1), int64(1), object(2)\n",
      "memory usage: 3.2+ MB\n"
     ]
    },
    {
     "data": {
      "text/plain": [
       "Index(['id', 'user_id', 'session_date', 'mb_used'], dtype='object')"
      ]
     },
     "execution_count": 174,
     "metadata": {},
     "output_type": "execute_result"
    }
   ],
   "source": [
    "# Imprime la información general/resumida sobre el DataFrame de internet\n",
    "internet.info()\n",
    "internet.columns\n"
   ]
  },
  {
   "cell_type": "markdown",
   "metadata": {},
   "source": [
    "El marco de datos de consumo de internet se compone por 4 columnas: ['id', 'user_id', 'session_date', 'mb_used'], 104825 registros. \n",
    "\n",
    "No hay valores ausentes. \n",
    "\n",
    "Tipo de datos de session_date debe ser de tiempo o dt. "
   ]
  },
  {
   "cell_type": "code",
   "execution_count": 175,
   "metadata": {
    "id": "9r3x_XLw0q1C"
   },
   "outputs": [
    {
     "name": "stdout",
     "output_type": "stream",
     "text": [
      "              id  user_id session_date  mb_used\n",
      "94795    1441_46     1441   2018-12-27   679.54\n",
      "34292   1155_345     1155   2018-07-21   461.22\n",
      "14710    1067_18     1067   2018-12-25   212.03\n",
      "100543   1476_52     1476   2018-12-29    22.24\n",
      "22584   1103_129     1103   2018-10-06    52.59\n"
     ]
    }
   ],
   "source": [
    "# Imprime una muestra de datos para el tráfico de internet\n",
    "print(internet.sample(n=5))\n"
   ]
  },
  {
   "cell_type": "markdown",
   "metadata": {
    "id": "EzOG5ik30q1D"
   },
   "source": [
    "Acciones correctivas: \n",
    "\n",
    "1. Cambio de session_date a dt. "
   ]
  },
  {
   "cell_type": "markdown",
   "metadata": {
    "id": "yA0tkPFg0q1D"
   },
   "source": [
    "### Corregir los datos"
   ]
  },
  {
   "cell_type": "code",
   "execution_count": 176,
   "metadata": {
    "id": "zVeanzdd0q1E"
   },
   "outputs": [
    {
     "name": "stdout",
     "output_type": "stream",
     "text": [
      "0   2018-12-29\n",
      "1   2018-12-31\n",
      "2   2018-12-28\n",
      "3   2018-12-26\n",
      "4   2018-12-27\n",
      "Name: session_date, dtype: datetime64[ns]\n"
     ]
    }
   ],
   "source": [
    "#Correción de session_date\n",
    "\n",
    "internet[\"session_date\"] = pd.to_datetime(internet[\"session_date\"], format= \"%Y-%m-%d\")\n",
    "print(internet[\"session_date\"].head())"
   ]
  },
  {
   "cell_type": "markdown",
   "metadata": {
    "id": "e8_mLF4a0q1E"
   },
   "source": [
    "### Enriquecer los datos"
   ]
  },
  {
   "cell_type": "markdown",
   "metadata": {
    "id": "xhNdn2tE0q1E"
   },
   "source": [
    "Posible enriquecimiento: \n",
    "Redondeo para entero más próximo superior para mb_used. \n",
    "Mb usados por user_id. Permitiría conocer la tendencia de consumo de internet en la muestra. (Se hizo para el año no mensual ya que serían 12 gráficos de otra forma)\n",
    "\n",
    "\n",
    "Cálculo de promedio de consumo de internet (anual) en mb agrupando por user id y demostrarlo en barras. Eje Y conteo de usuarios, eje X consumo de internet o rangos de consumo de internet. \n"
   ]
  },
  {
   "cell_type": "code",
   "execution_count": 177,
   "metadata": {},
   "outputs": [
    {
     "name": "stdout",
     "output_type": "stream",
     "text": [
      "Gasto de mb por usuario:\n",
      "user_id\n",
      "1000      1903\n",
      "1001     80540\n",
      "1002     40339\n",
      "1003     27069\n",
      "1004    156548\n",
      "         ...  \n",
      "1495     99010\n",
      "1496     64357\n",
      "1497     11120\n",
      "1498    227798\n",
      "1499     71444\n",
      "Name: mb_used, Length: 489, dtype: int64\n",
      "\n",
      "\n",
      "Promedio anual de mb usados por usuario:  78702.96932515338\n",
      "Mediana anual de mb usados por usuario:  62434.0\n",
      "\n"
     ]
    },
    {
     "data": {
      "image/png": "[encoded data removed]",
      "text/plain": [
       "<Figure size 1200x600 with 1 Axes>"
      ]
     },
     "metadata": {},
     "output_type": "display_data"
    }
   ],
   "source": [
    "\n",
    "#Redondear uso de internet a mb más cercano arriba. \n",
    "internet[\"mb_used\"] = np.ceil(internet[\"mb_used\"]).astype(int)\n",
    "#Mb usados por usuario \n",
    "mb_usuario = internet.groupby(\"user_id\")[\"mb_used\"].sum()\n",
    "print(\"Gasto de mb por usuario:\")\n",
    "print(mb_usuario)\n",
    "print()\n",
    "#Tendencia central de gasto de mb por usuarios\n",
    "promedio_mb_usados_por_usuario = mb_usuario.mean() #78611\n",
    "mediana_mb_usados_por_usuario = mb_usuario.median() #62354\n",
    "contribucion_de_gasto_extra_considerando_plan_surf = ((mediana_mb_usados_por_usuario/12 - 15360)/1024)*10\n",
    "print()\n",
    "print(\"Promedio anual de mb usados por usuario: \", promedio_mb_usados_por_usuario) #78611\n",
    "print(\"Mediana anual de mb usados por usuario: \", mediana_mb_usados_por_usuario) #62354\n",
    "print()\n",
    "\n",
    "##Contribución de costos mensuales debido a consumo de internet asumiendo uso igual por mes. \n",
    "#print(\"Estimado de contribución mensual al plan surf por mb usados asumiendo gasto poblacional promedio y distribución de gastos homogenea a través del tiempo: \", contribucion_de_gasto_extra_considerando_plan_surf)\n",
    "#Contribución negativa no siempre se consumen los megas. \n",
    "\n",
    "#Gráfico de distribución de cantidad de usuarios y cantidad de mb usados\n",
    "plt.figure(figsize=(12,6))\n",
    "plt.hist(mb_usuario, bins = 20, color = \"skyblue\", edgecolor = \"black\")\n",
    "plt.title(\"Distribución de mb usados anualmente\")\n",
    "plt.xlabel(\"Mb consumidos\")\n",
    "plt.ylabel(\"Frecuencia\")\n",
    "plt.show()\n",
    "\n",
    "#Interesante, no se si sea muy informativo debido a que el plan es mensual no anual. Fin del enriquecimiento. "
   ]
  },
  {
   "cell_type": "markdown",
   "metadata": {
    "id": "3UA2cqIW0q1E"
   },
   "source": [
    "## Estudiar las condiciones de las tarifas"
   ]
  },
  {
   "cell_type": "code",
   "execution_count": 178,
   "metadata": {
    "id": "i409op8p0q1F"
   },
   "outputs": [
    {
     "data": {
      "text/html": [
       "<div>\n",
       "<style scoped>\n",
       "    .dataframe tbody tr th:only-of-type {\n",
       "        vertical-align: middle;\n",
       "    }\n",
       "\n",
       "    .dataframe tbody tr th {\n",
       "        vertical-align: top;\n",
       "    }\n",
       "\n",
       "    .dataframe thead th {\n",
       "        text-align: right;\n",
       "    }\n",
       "</style>\n",
       "<table border=\"1\" class=\"dataframe\">\n",
       "  <thead>\n",
       "    <tr style=\"text-align: right;\">\n",
       "      <th></th>\n",
       "      <th>messages_included</th>\n",
       "      <th>mb_per_month_included</th>\n",
       "      <th>minutes_included</th>\n",
       "      <th>usd_monthly_pay</th>\n",
       "      <th>usd_per_gb</th>\n",
       "      <th>usd_per_message</th>\n",
       "      <th>usd_per_minute</th>\n",
       "      <th>plan_name</th>\n",
       "    </tr>\n",
       "  </thead>\n",
       "  <tbody>\n",
       "    <tr>\n",
       "      <th>0</th>\n",
       "      <td>50</td>\n",
       "      <td>15360</td>\n",
       "      <td>500</td>\n",
       "      <td>20</td>\n",
       "      <td>10</td>\n",
       "      <td>0.03</td>\n",
       "      <td>0.03</td>\n",
       "      <td>surf</td>\n",
       "    </tr>\n",
       "    <tr>\n",
       "      <th>1</th>\n",
       "      <td>1000</td>\n",
       "      <td>30720</td>\n",
       "      <td>3000</td>\n",
       "      <td>70</td>\n",
       "      <td>7</td>\n",
       "      <td>0.01</td>\n",
       "      <td>0.01</td>\n",
       "      <td>ultimate</td>\n",
       "    </tr>\n",
       "  </tbody>\n",
       "</table>\n",
       "</div>"
      ],
      "text/plain": [
       "   messages_included  mb_per_month_included  minutes_included  \\\n",
       "0                 50                  15360               500   \n",
       "1               1000                  30720              3000   \n",
       "\n",
       "   usd_monthly_pay  usd_per_gb  usd_per_message  usd_per_minute plan_name  \n",
       "0               20          10             0.03            0.03      surf  \n",
       "1               70           7             0.01            0.01  ultimate  "
      ]
     },
     "metadata": {},
     "output_type": "display_data"
    }
   ],
   "source": [
    "# Imprime las condiciones de la tarifa y asegúrate de que te quedan claras\n",
    "display(plans) \n"
   ]
  },
  {
   "cell_type": "markdown",
   "metadata": {},
   "source": [
    "Contrasta la cantidad de mensajes, mb y minutos incluidas en el plan así como su respectivo costo. Los servicios extra fuera de plan tienen costo variante siendo más caro para el plan surf. La tendencia es que si se consume mucho el plan más rentable sería ultimate de otra forma surf puede bastar. Explorar el umbral de rendimiento y asignar el más pertinente a las tendencias de consumo de los clientes sería información muy útil. "
   ]
  },
  {
   "cell_type": "markdown",
   "metadata": {
    "id": "hMR1tP5d0q1F"
   },
   "source": [
    "## Agregar datos por usuario\n",
    "\n",
    "Datos por usuario y por periodo para que solo haya un registro por usuario y por periodo. "
   ]
  },
  {
   "cell_type": "code",
   "execution_count": 179,
   "metadata": {
    "id": "A332cedB0q1G"
   },
   "outputs": [
    {
     "name": "stdout",
     "output_type": "stream",
     "text": [
      "Cantidad de llamadas hechas por mes por usuario:\n",
      "      user_id  month  llamadas_usuario_mes\n",
      "0        1000     12                    16\n",
      "1        1001      8                    27\n",
      "2        1001      9                    49\n",
      "3        1001     10                    65\n",
      "4        1001     11                    64\n",
      "...       ...    ...                   ...\n",
      "2253     1498     12                    39\n",
      "2254     1499      9                    41\n",
      "2255     1499     10                    53\n",
      "2256     1499     11                    45\n",
      "2257     1499     12                    65\n",
      "\n",
      "[2258 rows x 3 columns]\n"
     ]
    }
   ],
   "source": [
    "# Calcula el número de llamadas hechas por cada usuario al mes. Guarda el resultado.\n",
    "calls[\"month\"] = calls[\"call_date\"].dt.month\n",
    "llamadas_por_usuario_por_mes = calls.groupby([\"user_id\", \"month\"]).size().reset_index(name=\"llamadas_usuario_mes\") #Guardar el resultado = variable calls_user_month\n",
    "print(\"Cantidad de llamadas hechas por mes por usuario:\")\n",
    "print(llamadas_por_usuario_por_mes)"
   ]
  },
  {
   "cell_type": "code",
   "execution_count": 180,
   "metadata": {
    "id": "aw2cmuql0q1G"
   },
   "outputs": [
    {
     "name": "stdout",
     "output_type": "stream",
     "text": [
      "Minutos de llamadas usadas por usuario por mes\n",
      "      month  user_id  minutos_usuario_mes\n",
      "0         1     1042                  114\n",
      "1         1     1077                  290\n",
      "2         1     1185                  181\n",
      "3         1     1196                  287\n",
      "4         1     1214                   16\n",
      "...     ...      ...                  ...\n",
      "2253     12     1495                  492\n",
      "2254     12     1496                  294\n",
      "2255     12     1497                  300\n",
      "2256     12     1498                  339\n",
      "2257     12     1499                  496\n",
      "\n",
      "[2258 rows x 3 columns]\n"
     ]
    }
   ],
   "source": [
    "# Calcula la cantidad de minutos usados por cada usuario al mes. Guarda el resultado.\n",
    "calls.columns #'id', 'user_id', 'call_date', 'duration', 'month'\n",
    "minutos_por_usuario_por_mes = calls.groupby([\"month\", \"user_id\"])[\"duration\"].sum().reset_index(name=\"minutos_usuario_mes\")\n",
    "print(\"Minutos de llamadas usadas por usuario por mes\")\n",
    "print(minutos_por_usuario_por_mes)"
   ]
  },
  {
   "cell_type": "code",
   "execution_count": 181,
   "metadata": {
    "id": "CcQvNHn60q1G"
   },
   "outputs": [
    {
     "name": "stdout",
     "output_type": "stream",
     "text": [
      "Mensajes por usuario por mes:\n",
      "      user_id  month  mensajes_usuario_mes\n",
      "0        1000     12                    11\n",
      "1        1001      8                    30\n",
      "2        1001      9                    44\n",
      "3        1001     10                    53\n",
      "4        1001     11                    36\n",
      "...       ...    ...                   ...\n",
      "1801     1496      9                    21\n",
      "1802     1496     10                    18\n",
      "1803     1496     11                    13\n",
      "1804     1496     12                    11\n",
      "1805     1497     12                    50\n",
      "\n",
      "[1806 rows x 3 columns]\n"
     ]
    }
   ],
   "source": [
    "# Calcula el número de mensajes enviados por cada usuario al mes. Guarda el resultado.\n",
    "messages.columns #'id', 'user_id', 'message_date'\n",
    "messages[\"month\"] = messages[\"message_date\"].dt.month\n",
    "mensajes_por_usuario_por_mes = messages.groupby([\"user_id\", \"month\"]).size().reset_index(name=\"mensajes_usuario_mes\")\n",
    "print(\"Mensajes por usuario por mes:\")\n",
    "print(mensajes_por_usuario_por_mes)\n"
   ]
  },
  {
   "cell_type": "code",
   "execution_count": 182,
   "metadata": {
    "id": "H1AqN2eG0q1H"
   },
   "outputs": [
    {
     "name": "stdout",
     "output_type": "stream",
     "text": [
      "Internet usado por usuario por mes:\n",
      "      user_id  month  internet_usuario_mes  Gb_usuario_mes\n",
      "0        1000     12                  1903             2.0\n",
      "1        1001      8                  6929             7.0\n",
      "2        1001      9                 13333            14.0\n",
      "3        1001     10                 22356            22.0\n",
      "4        1001     11                 18524            19.0\n",
      "...       ...    ...                   ...             ...\n",
      "2272     1498     12                 23160            23.0\n",
      "2273     1499      9                 13004            13.0\n",
      "2274     1499     10                 19515            20.0\n",
      "2275     1499     11                 16834            17.0\n",
      "2276     1499     12                 22091            22.0\n",
      "\n",
      "[2277 rows x 4 columns]\n"
     ]
    }
   ],
   "source": [
    "# Calcula el volumen del tráfico de Internet usado por cada usuario al mes. Guarda el resultado.\n",
    "internet.columns #'id', 'user_id', 'session_date', 'mb_used'\n",
    "internet[\"month\"] = internet[\"session_date\"].dt.month\n",
    "\n",
    "internet_por_usuario_por_mes = internet.groupby([\"user_id\", \"month\"])[\"mb_used\"].sum().reset_index(name=\"internet_usuario_mes\")\n",
    "internet_por_usuario_por_mes[\"Gb_usuario_mes\"] = np.ceil(internet_por_usuario_por_mes[\"internet_usuario_mes\"]/1024)\n",
    "print(\"Internet usado por usuario por mes:\")\n",
    "print(internet_por_usuario_por_mes)"
   ]
  },
  {
   "cell_type": "code",
   "execution_count": 183,
   "metadata": {
    "id": "FW99ykyf0q1H"
   },
   "outputs": [
    {
     "data": {
      "text/html": [
       "<div>\n",
       "<style scoped>\n",
       "    .dataframe tbody tr th:only-of-type {\n",
       "        vertical-align: middle;\n",
       "    }\n",
       "\n",
       "    .dataframe tbody tr th {\n",
       "        vertical-align: top;\n",
       "    }\n",
       "\n",
       "    .dataframe thead th {\n",
       "        text-align: right;\n",
       "    }\n",
       "</style>\n",
       "<table border=\"1\" class=\"dataframe\">\n",
       "  <thead>\n",
       "    <tr style=\"text-align: right;\">\n",
       "      <th></th>\n",
       "      <th>user_id</th>\n",
       "      <th>month</th>\n",
       "      <th>llamadas_usuario_mes</th>\n",
       "      <th>minutos_usuario_mes</th>\n",
       "      <th>mensajes_usuario_mes</th>\n",
       "      <th>internet_usuario_mes</th>\n",
       "      <th>Gb_usuario_mes</th>\n",
       "    </tr>\n",
       "  </thead>\n",
       "  <tbody>\n",
       "    <tr>\n",
       "      <th>0</th>\n",
       "      <td>1000</td>\n",
       "      <td>12</td>\n",
       "      <td>16</td>\n",
       "      <td>124</td>\n",
       "      <td>11</td>\n",
       "      <td>1903</td>\n",
       "      <td>2.0</td>\n",
       "    </tr>\n",
       "    <tr>\n",
       "      <th>1</th>\n",
       "      <td>1001</td>\n",
       "      <td>8</td>\n",
       "      <td>27</td>\n",
       "      <td>182</td>\n",
       "      <td>30</td>\n",
       "      <td>6929</td>\n",
       "      <td>7.0</td>\n",
       "    </tr>\n",
       "    <tr>\n",
       "      <th>2</th>\n",
       "      <td>1001</td>\n",
       "      <td>9</td>\n",
       "      <td>49</td>\n",
       "      <td>315</td>\n",
       "      <td>44</td>\n",
       "      <td>13333</td>\n",
       "      <td>14.0</td>\n",
       "    </tr>\n",
       "    <tr>\n",
       "      <th>3</th>\n",
       "      <td>1001</td>\n",
       "      <td>10</td>\n",
       "      <td>65</td>\n",
       "      <td>393</td>\n",
       "      <td>53</td>\n",
       "      <td>22356</td>\n",
       "      <td>22.0</td>\n",
       "    </tr>\n",
       "    <tr>\n",
       "      <th>4</th>\n",
       "      <td>1001</td>\n",
       "      <td>11</td>\n",
       "      <td>64</td>\n",
       "      <td>426</td>\n",
       "      <td>36</td>\n",
       "      <td>18524</td>\n",
       "      <td>19.0</td>\n",
       "    </tr>\n",
       "    <tr>\n",
       "      <th>...</th>\n",
       "      <td>...</td>\n",
       "      <td>...</td>\n",
       "      <td>...</td>\n",
       "      <td>...</td>\n",
       "      <td>...</td>\n",
       "      <td>...</td>\n",
       "      <td>...</td>\n",
       "    </tr>\n",
       "    <tr>\n",
       "      <th>1754</th>\n",
       "      <td>1496</td>\n",
       "      <td>9</td>\n",
       "      <td>52</td>\n",
       "      <td>414</td>\n",
       "      <td>21</td>\n",
       "      <td>16412</td>\n",
       "      <td>17.0</td>\n",
       "    </tr>\n",
       "    <tr>\n",
       "      <th>1755</th>\n",
       "      <td>1496</td>\n",
       "      <td>10</td>\n",
       "      <td>46</td>\n",
       "      <td>317</td>\n",
       "      <td>18</td>\n",
       "      <td>14308</td>\n",
       "      <td>14.0</td>\n",
       "    </tr>\n",
       "    <tr>\n",
       "      <th>1756</th>\n",
       "      <td>1496</td>\n",
       "      <td>11</td>\n",
       "      <td>39</td>\n",
       "      <td>308</td>\n",
       "      <td>13</td>\n",
       "      <td>8561</td>\n",
       "      <td>9.0</td>\n",
       "    </tr>\n",
       "    <tr>\n",
       "      <th>1757</th>\n",
       "      <td>1496</td>\n",
       "      <td>12</td>\n",
       "      <td>40</td>\n",
       "      <td>294</td>\n",
       "      <td>11</td>\n",
       "      <td>16460</td>\n",
       "      <td>17.0</td>\n",
       "    </tr>\n",
       "    <tr>\n",
       "      <th>1758</th>\n",
       "      <td>1497</td>\n",
       "      <td>12</td>\n",
       "      <td>54</td>\n",
       "      <td>300</td>\n",
       "      <td>50</td>\n",
       "      <td>11120</td>\n",
       "      <td>11.0</td>\n",
       "    </tr>\n",
       "  </tbody>\n",
       "</table>\n",
       "<p>1759 rows × 7 columns</p>\n",
       "</div>"
      ],
      "text/plain": [
       "      user_id  month  llamadas_usuario_mes  minutos_usuario_mes  \\\n",
       "0        1000     12                    16                  124   \n",
       "1        1001      8                    27                  182   \n",
       "2        1001      9                    49                  315   \n",
       "3        1001     10                    65                  393   \n",
       "4        1001     11                    64                  426   \n",
       "...       ...    ...                   ...                  ...   \n",
       "1754     1496      9                    52                  414   \n",
       "1755     1496     10                    46                  317   \n",
       "1756     1496     11                    39                  308   \n",
       "1757     1496     12                    40                  294   \n",
       "1758     1497     12                    54                  300   \n",
       "\n",
       "      mensajes_usuario_mes  internet_usuario_mes  Gb_usuario_mes  \n",
       "0                       11                  1903             2.0  \n",
       "1                       30                  6929             7.0  \n",
       "2                       44                 13333            14.0  \n",
       "3                       53                 22356            22.0  \n",
       "4                       36                 18524            19.0  \n",
       "...                    ...                   ...             ...  \n",
       "1754                    21                 16412            17.0  \n",
       "1755                    18                 14308            14.0  \n",
       "1756                    13                  8561             9.0  \n",
       "1757                    11                 16460            17.0  \n",
       "1758                    50                 11120            11.0  \n",
       "\n",
       "[1759 rows x 7 columns]"
      ]
     },
     "metadata": {},
     "output_type": "display_data"
    }
   ],
   "source": [
    "# Fusiona los datos de llamadas, minutos, mensajes e Internet con base en user_id y month\n",
    "dfs = [llamadas_por_usuario_por_mes, minutos_por_usuario_por_mes, mensajes_por_usuario_por_mes, internet_por_usuario_por_mes]\n",
    "union_datos_llamadas_minutos_mensajes_internet = reduce(lambda left, right: pd.merge(left, right, on=[\"user_id\", \"month\"], how=\"inner\"), dfs)\n",
    "display(union_datos_llamadas_minutos_mensajes_internet)\n"
   ]
  },
  {
   "cell_type": "code",
   "execution_count": 184,
   "metadata": {
    "id": "0dNOXHag0q1H"
   },
   "outputs": [
    {
     "data": {
      "text/html": [
       "<div>\n",
       "<style scoped>\n",
       "    .dataframe tbody tr th:only-of-type {\n",
       "        vertical-align: middle;\n",
       "    }\n",
       "\n",
       "    .dataframe tbody tr th {\n",
       "        vertical-align: top;\n",
       "    }\n",
       "\n",
       "    .dataframe thead th {\n",
       "        text-align: right;\n",
       "    }\n",
       "</style>\n",
       "<table border=\"1\" class=\"dataframe\">\n",
       "  <thead>\n",
       "    <tr style=\"text-align: right;\">\n",
       "      <th></th>\n",
       "      <th>user_id</th>\n",
       "      <th>month</th>\n",
       "      <th>llamadas_usuario_mes</th>\n",
       "      <th>minutos_usuario_mes</th>\n",
       "      <th>mensajes_usuario_mes</th>\n",
       "      <th>internet_usuario_mes</th>\n",
       "      <th>Gb_usuario_mes</th>\n",
       "      <th>plan</th>\n",
       "    </tr>\n",
       "  </thead>\n",
       "  <tbody>\n",
       "    <tr>\n",
       "      <th>0</th>\n",
       "      <td>1000</td>\n",
       "      <td>12</td>\n",
       "      <td>16</td>\n",
       "      <td>124</td>\n",
       "      <td>11</td>\n",
       "      <td>1903</td>\n",
       "      <td>2.0</td>\n",
       "      <td>ultimate</td>\n",
       "    </tr>\n",
       "    <tr>\n",
       "      <th>1</th>\n",
       "      <td>1001</td>\n",
       "      <td>8</td>\n",
       "      <td>27</td>\n",
       "      <td>182</td>\n",
       "      <td>30</td>\n",
       "      <td>6929</td>\n",
       "      <td>7.0</td>\n",
       "      <td>surf</td>\n",
       "    </tr>\n",
       "    <tr>\n",
       "      <th>2</th>\n",
       "      <td>1001</td>\n",
       "      <td>9</td>\n",
       "      <td>49</td>\n",
       "      <td>315</td>\n",
       "      <td>44</td>\n",
       "      <td>13333</td>\n",
       "      <td>14.0</td>\n",
       "      <td>surf</td>\n",
       "    </tr>\n",
       "    <tr>\n",
       "      <th>3</th>\n",
       "      <td>1001</td>\n",
       "      <td>10</td>\n",
       "      <td>65</td>\n",
       "      <td>393</td>\n",
       "      <td>53</td>\n",
       "      <td>22356</td>\n",
       "      <td>22.0</td>\n",
       "      <td>surf</td>\n",
       "    </tr>\n",
       "    <tr>\n",
       "      <th>4</th>\n",
       "      <td>1001</td>\n",
       "      <td>11</td>\n",
       "      <td>64</td>\n",
       "      <td>426</td>\n",
       "      <td>36</td>\n",
       "      <td>18524</td>\n",
       "      <td>19.0</td>\n",
       "      <td>surf</td>\n",
       "    </tr>\n",
       "    <tr>\n",
       "      <th>...</th>\n",
       "      <td>...</td>\n",
       "      <td>...</td>\n",
       "      <td>...</td>\n",
       "      <td>...</td>\n",
       "      <td>...</td>\n",
       "      <td>...</td>\n",
       "      <td>...</td>\n",
       "      <td>...</td>\n",
       "    </tr>\n",
       "    <tr>\n",
       "      <th>1754</th>\n",
       "      <td>1496</td>\n",
       "      <td>9</td>\n",
       "      <td>52</td>\n",
       "      <td>414</td>\n",
       "      <td>21</td>\n",
       "      <td>16412</td>\n",
       "      <td>17.0</td>\n",
       "      <td>surf</td>\n",
       "    </tr>\n",
       "    <tr>\n",
       "      <th>1755</th>\n",
       "      <td>1496</td>\n",
       "      <td>10</td>\n",
       "      <td>46</td>\n",
       "      <td>317</td>\n",
       "      <td>18</td>\n",
       "      <td>14308</td>\n",
       "      <td>14.0</td>\n",
       "      <td>surf</td>\n",
       "    </tr>\n",
       "    <tr>\n",
       "      <th>1756</th>\n",
       "      <td>1496</td>\n",
       "      <td>11</td>\n",
       "      <td>39</td>\n",
       "      <td>308</td>\n",
       "      <td>13</td>\n",
       "      <td>8561</td>\n",
       "      <td>9.0</td>\n",
       "      <td>surf</td>\n",
       "    </tr>\n",
       "    <tr>\n",
       "      <th>1757</th>\n",
       "      <td>1496</td>\n",
       "      <td>12</td>\n",
       "      <td>40</td>\n",
       "      <td>294</td>\n",
       "      <td>11</td>\n",
       "      <td>16460</td>\n",
       "      <td>17.0</td>\n",
       "      <td>surf</td>\n",
       "    </tr>\n",
       "    <tr>\n",
       "      <th>1758</th>\n",
       "      <td>1497</td>\n",
       "      <td>12</td>\n",
       "      <td>54</td>\n",
       "      <td>300</td>\n",
       "      <td>50</td>\n",
       "      <td>11120</td>\n",
       "      <td>11.0</td>\n",
       "      <td>ultimate</td>\n",
       "    </tr>\n",
       "  </tbody>\n",
       "</table>\n",
       "<p>1759 rows × 8 columns</p>\n",
       "</div>"
      ],
      "text/plain": [
       "      user_id  month  llamadas_usuario_mes  minutos_usuario_mes  \\\n",
       "0        1000     12                    16                  124   \n",
       "1        1001      8                    27                  182   \n",
       "2        1001      9                    49                  315   \n",
       "3        1001     10                    65                  393   \n",
       "4        1001     11                    64                  426   \n",
       "...       ...    ...                   ...                  ...   \n",
       "1754     1496      9                    52                  414   \n",
       "1755     1496     10                    46                  317   \n",
       "1756     1496     11                    39                  308   \n",
       "1757     1496     12                    40                  294   \n",
       "1758     1497     12                    54                  300   \n",
       "\n",
       "      mensajes_usuario_mes  internet_usuario_mes  Gb_usuario_mes      plan  \n",
       "0                       11                  1903             2.0  ultimate  \n",
       "1                       30                  6929             7.0      surf  \n",
       "2                       44                 13333            14.0      surf  \n",
       "3                       53                 22356            22.0      surf  \n",
       "4                       36                 18524            19.0      surf  \n",
       "...                    ...                   ...             ...       ...  \n",
       "1754                    21                 16412            17.0      surf  \n",
       "1755                    18                 14308            14.0      surf  \n",
       "1756                    13                  8561             9.0      surf  \n",
       "1757                    11                 16460            17.0      surf  \n",
       "1758                    50                 11120            11.0  ultimate  \n",
       "\n",
       "[1759 rows x 8 columns]"
      ]
     },
     "metadata": {},
     "output_type": "display_data"
    }
   ],
   "source": [
    "# Añade la información de la tarifa\n",
    "users.columns #'user_id', 'first_name', 'last_name', 'age', 'city', 'reg_date', 'plan','churn_date'\n",
    "#Solo interesa la columna plan \n",
    "df_todo_con_tarifa = pd.merge(union_datos_llamadas_minutos_mensajes_internet, users[[\"user_id\", \"plan\"]], on=\"user_id\", how=\"left\")\n",
    "display(df_todo_con_tarifa)\n"
   ]
  },
  {
   "cell_type": "code",
   "execution_count": 185,
   "metadata": {
    "id": "5FGCf_c60q1I"
   },
   "outputs": [
    {
     "name": "stdout",
     "output_type": "stream",
     "text": [
      "Calculos de servicios extra por usuario por mes\n"
     ]
    },
    {
     "data": {
      "text/html": [
       "<div>\n",
       "<style scoped>\n",
       "    .dataframe tbody tr th:only-of-type {\n",
       "        vertical-align: middle;\n",
       "    }\n",
       "\n",
       "    .dataframe tbody tr th {\n",
       "        vertical-align: top;\n",
       "    }\n",
       "\n",
       "    .dataframe thead th {\n",
       "        text-align: right;\n",
       "    }\n",
       "</style>\n",
       "<table border=\"1\" class=\"dataframe\">\n",
       "  <thead>\n",
       "    <tr style=\"text-align: right;\">\n",
       "      <th></th>\n",
       "      <th>user_id</th>\n",
       "      <th>month</th>\n",
       "      <th>llamadas_usuario_mes</th>\n",
       "      <th>minutos_usuario_mes</th>\n",
       "      <th>mensajes_usuario_mes</th>\n",
       "      <th>internet_usuario_mes</th>\n",
       "      <th>Gb_usuario_mes</th>\n",
       "      <th>plan</th>\n",
       "      <th>mensajes_extra</th>\n",
       "      <th>minutos_extra</th>\n",
       "      <th>internet_extra_Gb</th>\n",
       "    </tr>\n",
       "  </thead>\n",
       "  <tbody>\n",
       "    <tr>\n",
       "      <th>0</th>\n",
       "      <td>1000</td>\n",
       "      <td>12</td>\n",
       "      <td>16</td>\n",
       "      <td>124</td>\n",
       "      <td>11</td>\n",
       "      <td>1903</td>\n",
       "      <td>2.0</td>\n",
       "      <td>ultimate</td>\n",
       "      <td>-989.0</td>\n",
       "      <td>-2876.0</td>\n",
       "      <td>-28.0</td>\n",
       "    </tr>\n",
       "    <tr>\n",
       "      <th>1</th>\n",
       "      <td>1001</td>\n",
       "      <td>8</td>\n",
       "      <td>27</td>\n",
       "      <td>182</td>\n",
       "      <td>30</td>\n",
       "      <td>6929</td>\n",
       "      <td>7.0</td>\n",
       "      <td>surf</td>\n",
       "      <td>-20.0</td>\n",
       "      <td>-318.0</td>\n",
       "      <td>-8.0</td>\n",
       "    </tr>\n",
       "    <tr>\n",
       "      <th>2</th>\n",
       "      <td>1001</td>\n",
       "      <td>9</td>\n",
       "      <td>49</td>\n",
       "      <td>315</td>\n",
       "      <td>44</td>\n",
       "      <td>13333</td>\n",
       "      <td>14.0</td>\n",
       "      <td>surf</td>\n",
       "      <td>-6.0</td>\n",
       "      <td>-185.0</td>\n",
       "      <td>-1.0</td>\n",
       "    </tr>\n",
       "    <tr>\n",
       "      <th>3</th>\n",
       "      <td>1001</td>\n",
       "      <td>10</td>\n",
       "      <td>65</td>\n",
       "      <td>393</td>\n",
       "      <td>53</td>\n",
       "      <td>22356</td>\n",
       "      <td>22.0</td>\n",
       "      <td>surf</td>\n",
       "      <td>3.0</td>\n",
       "      <td>-107.0</td>\n",
       "      <td>7.0</td>\n",
       "    </tr>\n",
       "    <tr>\n",
       "      <th>4</th>\n",
       "      <td>1001</td>\n",
       "      <td>11</td>\n",
       "      <td>64</td>\n",
       "      <td>426</td>\n",
       "      <td>36</td>\n",
       "      <td>18524</td>\n",
       "      <td>19.0</td>\n",
       "      <td>surf</td>\n",
       "      <td>-14.0</td>\n",
       "      <td>-74.0</td>\n",
       "      <td>4.0</td>\n",
       "    </tr>\n",
       "    <tr>\n",
       "      <th>...</th>\n",
       "      <td>...</td>\n",
       "      <td>...</td>\n",
       "      <td>...</td>\n",
       "      <td>...</td>\n",
       "      <td>...</td>\n",
       "      <td>...</td>\n",
       "      <td>...</td>\n",
       "      <td>...</td>\n",
       "      <td>...</td>\n",
       "      <td>...</td>\n",
       "      <td>...</td>\n",
       "    </tr>\n",
       "    <tr>\n",
       "      <th>1754</th>\n",
       "      <td>1496</td>\n",
       "      <td>9</td>\n",
       "      <td>52</td>\n",
       "      <td>414</td>\n",
       "      <td>21</td>\n",
       "      <td>16412</td>\n",
       "      <td>17.0</td>\n",
       "      <td>surf</td>\n",
       "      <td>-29.0</td>\n",
       "      <td>-86.0</td>\n",
       "      <td>2.0</td>\n",
       "    </tr>\n",
       "    <tr>\n",
       "      <th>1755</th>\n",
       "      <td>1496</td>\n",
       "      <td>10</td>\n",
       "      <td>46</td>\n",
       "      <td>317</td>\n",
       "      <td>18</td>\n",
       "      <td>14308</td>\n",
       "      <td>14.0</td>\n",
       "      <td>surf</td>\n",
       "      <td>-32.0</td>\n",
       "      <td>-183.0</td>\n",
       "      <td>-1.0</td>\n",
       "    </tr>\n",
       "    <tr>\n",
       "      <th>1756</th>\n",
       "      <td>1496</td>\n",
       "      <td>11</td>\n",
       "      <td>39</td>\n",
       "      <td>308</td>\n",
       "      <td>13</td>\n",
       "      <td>8561</td>\n",
       "      <td>9.0</td>\n",
       "      <td>surf</td>\n",
       "      <td>-37.0</td>\n",
       "      <td>-192.0</td>\n",
       "      <td>-6.0</td>\n",
       "    </tr>\n",
       "    <tr>\n",
       "      <th>1757</th>\n",
       "      <td>1496</td>\n",
       "      <td>12</td>\n",
       "      <td>40</td>\n",
       "      <td>294</td>\n",
       "      <td>11</td>\n",
       "      <td>16460</td>\n",
       "      <td>17.0</td>\n",
       "      <td>surf</td>\n",
       "      <td>-39.0</td>\n",
       "      <td>-206.0</td>\n",
       "      <td>2.0</td>\n",
       "    </tr>\n",
       "    <tr>\n",
       "      <th>1758</th>\n",
       "      <td>1497</td>\n",
       "      <td>12</td>\n",
       "      <td>54</td>\n",
       "      <td>300</td>\n",
       "      <td>50</td>\n",
       "      <td>11120</td>\n",
       "      <td>11.0</td>\n",
       "      <td>ultimate</td>\n",
       "      <td>-950.0</td>\n",
       "      <td>-2700.0</td>\n",
       "      <td>-19.0</td>\n",
       "    </tr>\n",
       "  </tbody>\n",
       "</table>\n",
       "<p>1759 rows × 11 columns</p>\n",
       "</div>"
      ],
      "text/plain": [
       "      user_id  month  llamadas_usuario_mes  minutos_usuario_mes  \\\n",
       "0        1000     12                    16                  124   \n",
       "1        1001      8                    27                  182   \n",
       "2        1001      9                    49                  315   \n",
       "3        1001     10                    65                  393   \n",
       "4        1001     11                    64                  426   \n",
       "...       ...    ...                   ...                  ...   \n",
       "1754     1496      9                    52                  414   \n",
       "1755     1496     10                    46                  317   \n",
       "1756     1496     11                    39                  308   \n",
       "1757     1496     12                    40                  294   \n",
       "1758     1497     12                    54                  300   \n",
       "\n",
       "      mensajes_usuario_mes  internet_usuario_mes  Gb_usuario_mes      plan  \\\n",
       "0                       11                  1903             2.0  ultimate   \n",
       "1                       30                  6929             7.0      surf   \n",
       "2                       44                 13333            14.0      surf   \n",
       "3                       53                 22356            22.0      surf   \n",
       "4                       36                 18524            19.0      surf   \n",
       "...                    ...                   ...             ...       ...   \n",
       "1754                    21                 16412            17.0      surf   \n",
       "1755                    18                 14308            14.0      surf   \n",
       "1756                    13                  8561             9.0      surf   \n",
       "1757                    11                 16460            17.0      surf   \n",
       "1758                    50                 11120            11.0  ultimate   \n",
       "\n",
       "      mensajes_extra  minutos_extra  internet_extra_Gb  \n",
       "0             -989.0        -2876.0              -28.0  \n",
       "1              -20.0         -318.0               -8.0  \n",
       "2               -6.0         -185.0               -1.0  \n",
       "3                3.0         -107.0                7.0  \n",
       "4              -14.0          -74.0                4.0  \n",
       "...              ...            ...                ...  \n",
       "1754           -29.0          -86.0                2.0  \n",
       "1755           -32.0         -183.0               -1.0  \n",
       "1756           -37.0         -192.0               -6.0  \n",
       "1757           -39.0         -206.0                2.0  \n",
       "1758          -950.0        -2700.0              -19.0  \n",
       "\n",
       "[1759 rows x 11 columns]"
      ]
     },
     "metadata": {},
     "output_type": "display_data"
    },
    {
     "name": "stdout",
     "output_type": "stream",
     "text": [
      "\n",
      "Calculos de servicios extra por usuario por mes con remoción de números negativos\n"
     ]
    },
    {
     "data": {
      "text/html": [
       "<div>\n",
       "<style scoped>\n",
       "    .dataframe tbody tr th:only-of-type {\n",
       "        vertical-align: middle;\n",
       "    }\n",
       "\n",
       "    .dataframe tbody tr th {\n",
       "        vertical-align: top;\n",
       "    }\n",
       "\n",
       "    .dataframe thead th {\n",
       "        text-align: right;\n",
       "    }\n",
       "</style>\n",
       "<table border=\"1\" class=\"dataframe\">\n",
       "  <thead>\n",
       "    <tr style=\"text-align: right;\">\n",
       "      <th></th>\n",
       "      <th>user_id</th>\n",
       "      <th>month</th>\n",
       "      <th>llamadas_usuario_mes</th>\n",
       "      <th>minutos_usuario_mes</th>\n",
       "      <th>mensajes_usuario_mes</th>\n",
       "      <th>internet_usuario_mes</th>\n",
       "      <th>Gb_usuario_mes</th>\n",
       "      <th>plan</th>\n",
       "      <th>mensajes_extra</th>\n",
       "      <th>minutos_extra</th>\n",
       "      <th>internet_extra_Gb</th>\n",
       "    </tr>\n",
       "  </thead>\n",
       "  <tbody>\n",
       "    <tr>\n",
       "      <th>0</th>\n",
       "      <td>1000</td>\n",
       "      <td>12</td>\n",
       "      <td>16</td>\n",
       "      <td>124</td>\n",
       "      <td>11</td>\n",
       "      <td>1903</td>\n",
       "      <td>2.0</td>\n",
       "      <td>ultimate</td>\n",
       "      <td>0.0</td>\n",
       "      <td>0.0</td>\n",
       "      <td>0.0</td>\n",
       "    </tr>\n",
       "    <tr>\n",
       "      <th>1</th>\n",
       "      <td>1001</td>\n",
       "      <td>8</td>\n",
       "      <td>27</td>\n",
       "      <td>182</td>\n",
       "      <td>30</td>\n",
       "      <td>6929</td>\n",
       "      <td>7.0</td>\n",
       "      <td>surf</td>\n",
       "      <td>0.0</td>\n",
       "      <td>0.0</td>\n",
       "      <td>0.0</td>\n",
       "    </tr>\n",
       "    <tr>\n",
       "      <th>2</th>\n",
       "      <td>1001</td>\n",
       "      <td>9</td>\n",
       "      <td>49</td>\n",
       "      <td>315</td>\n",
       "      <td>44</td>\n",
       "      <td>13333</td>\n",
       "      <td>14.0</td>\n",
       "      <td>surf</td>\n",
       "      <td>0.0</td>\n",
       "      <td>0.0</td>\n",
       "      <td>0.0</td>\n",
       "    </tr>\n",
       "    <tr>\n",
       "      <th>3</th>\n",
       "      <td>1001</td>\n",
       "      <td>10</td>\n",
       "      <td>65</td>\n",
       "      <td>393</td>\n",
       "      <td>53</td>\n",
       "      <td>22356</td>\n",
       "      <td>22.0</td>\n",
       "      <td>surf</td>\n",
       "      <td>3.0</td>\n",
       "      <td>0.0</td>\n",
       "      <td>7.0</td>\n",
       "    </tr>\n",
       "    <tr>\n",
       "      <th>4</th>\n",
       "      <td>1001</td>\n",
       "      <td>11</td>\n",
       "      <td>64</td>\n",
       "      <td>426</td>\n",
       "      <td>36</td>\n",
       "      <td>18524</td>\n",
       "      <td>19.0</td>\n",
       "      <td>surf</td>\n",
       "      <td>0.0</td>\n",
       "      <td>0.0</td>\n",
       "      <td>4.0</td>\n",
       "    </tr>\n",
       "    <tr>\n",
       "      <th>...</th>\n",
       "      <td>...</td>\n",
       "      <td>...</td>\n",
       "      <td>...</td>\n",
       "      <td>...</td>\n",
       "      <td>...</td>\n",
       "      <td>...</td>\n",
       "      <td>...</td>\n",
       "      <td>...</td>\n",
       "      <td>...</td>\n",
       "      <td>...</td>\n",
       "      <td>...</td>\n",
       "    </tr>\n",
       "    <tr>\n",
       "      <th>1754</th>\n",
       "      <td>1496</td>\n",
       "      <td>9</td>\n",
       "      <td>52</td>\n",
       "      <td>414</td>\n",
       "      <td>21</td>\n",
       "      <td>16412</td>\n",
       "      <td>17.0</td>\n",
       "      <td>surf</td>\n",
       "      <td>0.0</td>\n",
       "      <td>0.0</td>\n",
       "      <td>2.0</td>\n",
       "    </tr>\n",
       "    <tr>\n",
       "      <th>1755</th>\n",
       "      <td>1496</td>\n",
       "      <td>10</td>\n",
       "      <td>46</td>\n",
       "      <td>317</td>\n",
       "      <td>18</td>\n",
       "      <td>14308</td>\n",
       "      <td>14.0</td>\n",
       "      <td>surf</td>\n",
       "      <td>0.0</td>\n",
       "      <td>0.0</td>\n",
       "      <td>0.0</td>\n",
       "    </tr>\n",
       "    <tr>\n",
       "      <th>1756</th>\n",
       "      <td>1496</td>\n",
       "      <td>11</td>\n",
       "      <td>39</td>\n",
       "      <td>308</td>\n",
       "      <td>13</td>\n",
       "      <td>8561</td>\n",
       "      <td>9.0</td>\n",
       "      <td>surf</td>\n",
       "      <td>0.0</td>\n",
       "      <td>0.0</td>\n",
       "      <td>0.0</td>\n",
       "    </tr>\n",
       "    <tr>\n",
       "      <th>1757</th>\n",
       "      <td>1496</td>\n",
       "      <td>12</td>\n",
       "      <td>40</td>\n",
       "      <td>294</td>\n",
       "      <td>11</td>\n",
       "      <td>16460</td>\n",
       "      <td>17.0</td>\n",
       "      <td>surf</td>\n",
       "      <td>0.0</td>\n",
       "      <td>0.0</td>\n",
       "      <td>2.0</td>\n",
       "    </tr>\n",
       "    <tr>\n",
       "      <th>1758</th>\n",
       "      <td>1497</td>\n",
       "      <td>12</td>\n",
       "      <td>54</td>\n",
       "      <td>300</td>\n",
       "      <td>50</td>\n",
       "      <td>11120</td>\n",
       "      <td>11.0</td>\n",
       "      <td>ultimate</td>\n",
       "      <td>0.0</td>\n",
       "      <td>0.0</td>\n",
       "      <td>0.0</td>\n",
       "    </tr>\n",
       "  </tbody>\n",
       "</table>\n",
       "<p>1759 rows × 11 columns</p>\n",
       "</div>"
      ],
      "text/plain": [
       "      user_id  month  llamadas_usuario_mes  minutos_usuario_mes  \\\n",
       "0        1000     12                    16                  124   \n",
       "1        1001      8                    27                  182   \n",
       "2        1001      9                    49                  315   \n",
       "3        1001     10                    65                  393   \n",
       "4        1001     11                    64                  426   \n",
       "...       ...    ...                   ...                  ...   \n",
       "1754     1496      9                    52                  414   \n",
       "1755     1496     10                    46                  317   \n",
       "1756     1496     11                    39                  308   \n",
       "1757     1496     12                    40                  294   \n",
       "1758     1497     12                    54                  300   \n",
       "\n",
       "      mensajes_usuario_mes  internet_usuario_mes  Gb_usuario_mes      plan  \\\n",
       "0                       11                  1903             2.0  ultimate   \n",
       "1                       30                  6929             7.0      surf   \n",
       "2                       44                 13333            14.0      surf   \n",
       "3                       53                 22356            22.0      surf   \n",
       "4                       36                 18524            19.0      surf   \n",
       "...                    ...                   ...             ...       ...   \n",
       "1754                    21                 16412            17.0      surf   \n",
       "1755                    18                 14308            14.0      surf   \n",
       "1756                    13                  8561             9.0      surf   \n",
       "1757                    11                 16460            17.0      surf   \n",
       "1758                    50                 11120            11.0  ultimate   \n",
       "\n",
       "      mensajes_extra  minutos_extra  internet_extra_Gb  \n",
       "0                0.0            0.0                0.0  \n",
       "1                0.0            0.0                0.0  \n",
       "2                0.0            0.0                0.0  \n",
       "3                3.0            0.0                7.0  \n",
       "4                0.0            0.0                4.0  \n",
       "...              ...            ...                ...  \n",
       "1754             0.0            0.0                2.0  \n",
       "1755             0.0            0.0                0.0  \n",
       "1756             0.0            0.0                0.0  \n",
       "1757             0.0            0.0                2.0  \n",
       "1758             0.0            0.0                0.0  \n",
       "\n",
       "[1759 rows x 11 columns]"
      ]
     },
     "metadata": {},
     "output_type": "display_data"
    },
    {
     "name": "stdout",
     "output_type": "stream",
     "text": [
      "\n",
      "Adición de costos debido a servicios extra por usuario por mes\n"
     ]
    },
    {
     "data": {
      "text/html": [
       "<div>\n",
       "<style scoped>\n",
       "    .dataframe tbody tr th:only-of-type {\n",
       "        vertical-align: middle;\n",
       "    }\n",
       "\n",
       "    .dataframe tbody tr th {\n",
       "        vertical-align: top;\n",
       "    }\n",
       "\n",
       "    .dataframe thead th {\n",
       "        text-align: right;\n",
       "    }\n",
       "</style>\n",
       "<table border=\"1\" class=\"dataframe\">\n",
       "  <thead>\n",
       "    <tr style=\"text-align: right;\">\n",
       "      <th></th>\n",
       "      <th>user_id</th>\n",
       "      <th>month</th>\n",
       "      <th>llamadas_usuario_mes</th>\n",
       "      <th>minutos_usuario_mes</th>\n",
       "      <th>mensajes_usuario_mes</th>\n",
       "      <th>internet_usuario_mes</th>\n",
       "      <th>Gb_usuario_mes</th>\n",
       "      <th>plan</th>\n",
       "      <th>mensajes_extra</th>\n",
       "      <th>minutos_extra</th>\n",
       "      <th>internet_extra_Gb</th>\n",
       "      <th>costo_internet_extra</th>\n",
       "      <th>costo_minutos_extra</th>\n",
       "      <th>costo_mensajes_extra</th>\n",
       "    </tr>\n",
       "  </thead>\n",
       "  <tbody>\n",
       "    <tr>\n",
       "      <th>0</th>\n",
       "      <td>1000</td>\n",
       "      <td>12</td>\n",
       "      <td>16</td>\n",
       "      <td>124</td>\n",
       "      <td>11</td>\n",
       "      <td>1903</td>\n",
       "      <td>2.0</td>\n",
       "      <td>ultimate</td>\n",
       "      <td>0.0</td>\n",
       "      <td>0.0</td>\n",
       "      <td>0.0</td>\n",
       "      <td>0.0</td>\n",
       "      <td>0.0</td>\n",
       "      <td>0.00</td>\n",
       "    </tr>\n",
       "    <tr>\n",
       "      <th>1</th>\n",
       "      <td>1001</td>\n",
       "      <td>8</td>\n",
       "      <td>27</td>\n",
       "      <td>182</td>\n",
       "      <td>30</td>\n",
       "      <td>6929</td>\n",
       "      <td>7.0</td>\n",
       "      <td>surf</td>\n",
       "      <td>0.0</td>\n",
       "      <td>0.0</td>\n",
       "      <td>0.0</td>\n",
       "      <td>0.0</td>\n",
       "      <td>0.0</td>\n",
       "      <td>0.00</td>\n",
       "    </tr>\n",
       "    <tr>\n",
       "      <th>2</th>\n",
       "      <td>1001</td>\n",
       "      <td>9</td>\n",
       "      <td>49</td>\n",
       "      <td>315</td>\n",
       "      <td>44</td>\n",
       "      <td>13333</td>\n",
       "      <td>14.0</td>\n",
       "      <td>surf</td>\n",
       "      <td>0.0</td>\n",
       "      <td>0.0</td>\n",
       "      <td>0.0</td>\n",
       "      <td>0.0</td>\n",
       "      <td>0.0</td>\n",
       "      <td>0.00</td>\n",
       "    </tr>\n",
       "    <tr>\n",
       "      <th>3</th>\n",
       "      <td>1001</td>\n",
       "      <td>10</td>\n",
       "      <td>65</td>\n",
       "      <td>393</td>\n",
       "      <td>53</td>\n",
       "      <td>22356</td>\n",
       "      <td>22.0</td>\n",
       "      <td>surf</td>\n",
       "      <td>3.0</td>\n",
       "      <td>0.0</td>\n",
       "      <td>7.0</td>\n",
       "      <td>70.0</td>\n",
       "      <td>0.0</td>\n",
       "      <td>0.09</td>\n",
       "    </tr>\n",
       "    <tr>\n",
       "      <th>4</th>\n",
       "      <td>1001</td>\n",
       "      <td>11</td>\n",
       "      <td>64</td>\n",
       "      <td>426</td>\n",
       "      <td>36</td>\n",
       "      <td>18524</td>\n",
       "      <td>19.0</td>\n",
       "      <td>surf</td>\n",
       "      <td>0.0</td>\n",
       "      <td>0.0</td>\n",
       "      <td>4.0</td>\n",
       "      <td>40.0</td>\n",
       "      <td>0.0</td>\n",
       "      <td>0.00</td>\n",
       "    </tr>\n",
       "    <tr>\n",
       "      <th>...</th>\n",
       "      <td>...</td>\n",
       "      <td>...</td>\n",
       "      <td>...</td>\n",
       "      <td>...</td>\n",
       "      <td>...</td>\n",
       "      <td>...</td>\n",
       "      <td>...</td>\n",
       "      <td>...</td>\n",
       "      <td>...</td>\n",
       "      <td>...</td>\n",
       "      <td>...</td>\n",
       "      <td>...</td>\n",
       "      <td>...</td>\n",
       "      <td>...</td>\n",
       "    </tr>\n",
       "    <tr>\n",
       "      <th>1754</th>\n",
       "      <td>1496</td>\n",
       "      <td>9</td>\n",
       "      <td>52</td>\n",
       "      <td>414</td>\n",
       "      <td>21</td>\n",
       "      <td>16412</td>\n",
       "      <td>17.0</td>\n",
       "      <td>surf</td>\n",
       "      <td>0.0</td>\n",
       "      <td>0.0</td>\n",
       "      <td>2.0</td>\n",
       "      <td>20.0</td>\n",
       "      <td>0.0</td>\n",
       "      <td>0.00</td>\n",
       "    </tr>\n",
       "    <tr>\n",
       "      <th>1755</th>\n",
       "      <td>1496</td>\n",
       "      <td>10</td>\n",
       "      <td>46</td>\n",
       "      <td>317</td>\n",
       "      <td>18</td>\n",
       "      <td>14308</td>\n",
       "      <td>14.0</td>\n",
       "      <td>surf</td>\n",
       "      <td>0.0</td>\n",
       "      <td>0.0</td>\n",
       "      <td>0.0</td>\n",
       "      <td>0.0</td>\n",
       "      <td>0.0</td>\n",
       "      <td>0.00</td>\n",
       "    </tr>\n",
       "    <tr>\n",
       "      <th>1756</th>\n",
       "      <td>1496</td>\n",
       "      <td>11</td>\n",
       "      <td>39</td>\n",
       "      <td>308</td>\n",
       "      <td>13</td>\n",
       "      <td>8561</td>\n",
       "      <td>9.0</td>\n",
       "      <td>surf</td>\n",
       "      <td>0.0</td>\n",
       "      <td>0.0</td>\n",
       "      <td>0.0</td>\n",
       "      <td>0.0</td>\n",
       "      <td>0.0</td>\n",
       "      <td>0.00</td>\n",
       "    </tr>\n",
       "    <tr>\n",
       "      <th>1757</th>\n",
       "      <td>1496</td>\n",
       "      <td>12</td>\n",
       "      <td>40</td>\n",
       "      <td>294</td>\n",
       "      <td>11</td>\n",
       "      <td>16460</td>\n",
       "      <td>17.0</td>\n",
       "      <td>surf</td>\n",
       "      <td>0.0</td>\n",
       "      <td>0.0</td>\n",
       "      <td>2.0</td>\n",
       "      <td>20.0</td>\n",
       "      <td>0.0</td>\n",
       "      <td>0.00</td>\n",
       "    </tr>\n",
       "    <tr>\n",
       "      <th>1758</th>\n",
       "      <td>1497</td>\n",
       "      <td>12</td>\n",
       "      <td>54</td>\n",
       "      <td>300</td>\n",
       "      <td>50</td>\n",
       "      <td>11120</td>\n",
       "      <td>11.0</td>\n",
       "      <td>ultimate</td>\n",
       "      <td>0.0</td>\n",
       "      <td>0.0</td>\n",
       "      <td>0.0</td>\n",
       "      <td>0.0</td>\n",
       "      <td>0.0</td>\n",
       "      <td>0.00</td>\n",
       "    </tr>\n",
       "  </tbody>\n",
       "</table>\n",
       "<p>1759 rows × 14 columns</p>\n",
       "</div>"
      ],
      "text/plain": [
       "      user_id  month  llamadas_usuario_mes  minutos_usuario_mes  \\\n",
       "0        1000     12                    16                  124   \n",
       "1        1001      8                    27                  182   \n",
       "2        1001      9                    49                  315   \n",
       "3        1001     10                    65                  393   \n",
       "4        1001     11                    64                  426   \n",
       "...       ...    ...                   ...                  ...   \n",
       "1754     1496      9                    52                  414   \n",
       "1755     1496     10                    46                  317   \n",
       "1756     1496     11                    39                  308   \n",
       "1757     1496     12                    40                  294   \n",
       "1758     1497     12                    54                  300   \n",
       "\n",
       "      mensajes_usuario_mes  internet_usuario_mes  Gb_usuario_mes      plan  \\\n",
       "0                       11                  1903             2.0  ultimate   \n",
       "1                       30                  6929             7.0      surf   \n",
       "2                       44                 13333            14.0      surf   \n",
       "3                       53                 22356            22.0      surf   \n",
       "4                       36                 18524            19.0      surf   \n",
       "...                    ...                   ...             ...       ...   \n",
       "1754                    21                 16412            17.0      surf   \n",
       "1755                    18                 14308            14.0      surf   \n",
       "1756                    13                  8561             9.0      surf   \n",
       "1757                    11                 16460            17.0      surf   \n",
       "1758                    50                 11120            11.0  ultimate   \n",
       "\n",
       "      mensajes_extra  minutos_extra  internet_extra_Gb  costo_internet_extra  \\\n",
       "0                0.0            0.0                0.0                   0.0   \n",
       "1                0.0            0.0                0.0                   0.0   \n",
       "2                0.0            0.0                0.0                   0.0   \n",
       "3                3.0            0.0                7.0                  70.0   \n",
       "4                0.0            0.0                4.0                  40.0   \n",
       "...              ...            ...                ...                   ...   \n",
       "1754             0.0            0.0                2.0                  20.0   \n",
       "1755             0.0            0.0                0.0                   0.0   \n",
       "1756             0.0            0.0                0.0                   0.0   \n",
       "1757             0.0            0.0                2.0                  20.0   \n",
       "1758             0.0            0.0                0.0                   0.0   \n",
       "\n",
       "      costo_minutos_extra  costo_mensajes_extra  \n",
       "0                     0.0                  0.00  \n",
       "1                     0.0                  0.00  \n",
       "2                     0.0                  0.00  \n",
       "3                     0.0                  0.09  \n",
       "4                     0.0                  0.00  \n",
       "...                   ...                   ...  \n",
       "1754                  0.0                  0.00  \n",
       "1755                  0.0                  0.00  \n",
       "1756                  0.0                  0.00  \n",
       "1757                  0.0                  0.00  \n",
       "1758                  0.0                  0.00  \n",
       "\n",
       "[1759 rows x 14 columns]"
      ]
     },
     "metadata": {},
     "output_type": "display_data"
    },
    {
     "name": "stdout",
     "output_type": "stream",
     "text": [
      "\n",
      "Marco de datos completo. Se le adicionó el ingreso generado por usuario por mes.\n"
     ]
    },
    {
     "data": {
      "text/html": [
       "<div>\n",
       "<style scoped>\n",
       "    .dataframe tbody tr th:only-of-type {\n",
       "        vertical-align: middle;\n",
       "    }\n",
       "\n",
       "    .dataframe tbody tr th {\n",
       "        vertical-align: top;\n",
       "    }\n",
       "\n",
       "    .dataframe thead th {\n",
       "        text-align: right;\n",
       "    }\n",
       "</style>\n",
       "<table border=\"1\" class=\"dataframe\">\n",
       "  <thead>\n",
       "    <tr style=\"text-align: right;\">\n",
       "      <th></th>\n",
       "      <th>user_id</th>\n",
       "      <th>month</th>\n",
       "      <th>llamadas_usuario_mes</th>\n",
       "      <th>minutos_usuario_mes</th>\n",
       "      <th>mensajes_usuario_mes</th>\n",
       "      <th>internet_usuario_mes</th>\n",
       "      <th>Gb_usuario_mes</th>\n",
       "      <th>plan</th>\n",
       "      <th>mensajes_extra</th>\n",
       "      <th>minutos_extra</th>\n",
       "      <th>internet_extra_Gb</th>\n",
       "      <th>costo_internet_extra</th>\n",
       "      <th>costo_minutos_extra</th>\n",
       "      <th>costo_mensajes_extra</th>\n",
       "      <th>costo_total</th>\n",
       "    </tr>\n",
       "  </thead>\n",
       "  <tbody>\n",
       "    <tr>\n",
       "      <th>0</th>\n",
       "      <td>1000</td>\n",
       "      <td>12</td>\n",
       "      <td>16</td>\n",
       "      <td>124</td>\n",
       "      <td>11</td>\n",
       "      <td>1903</td>\n",
       "      <td>2.0</td>\n",
       "      <td>ultimate</td>\n",
       "      <td>0.0</td>\n",
       "      <td>0.0</td>\n",
       "      <td>0.0</td>\n",
       "      <td>0.0</td>\n",
       "      <td>0.0</td>\n",
       "      <td>0.00</td>\n",
       "      <td>70.00</td>\n",
       "    </tr>\n",
       "    <tr>\n",
       "      <th>1</th>\n",
       "      <td>1001</td>\n",
       "      <td>8</td>\n",
       "      <td>27</td>\n",
       "      <td>182</td>\n",
       "      <td>30</td>\n",
       "      <td>6929</td>\n",
       "      <td>7.0</td>\n",
       "      <td>surf</td>\n",
       "      <td>0.0</td>\n",
       "      <td>0.0</td>\n",
       "      <td>0.0</td>\n",
       "      <td>0.0</td>\n",
       "      <td>0.0</td>\n",
       "      <td>0.00</td>\n",
       "      <td>20.00</td>\n",
       "    </tr>\n",
       "    <tr>\n",
       "      <th>2</th>\n",
       "      <td>1001</td>\n",
       "      <td>9</td>\n",
       "      <td>49</td>\n",
       "      <td>315</td>\n",
       "      <td>44</td>\n",
       "      <td>13333</td>\n",
       "      <td>14.0</td>\n",
       "      <td>surf</td>\n",
       "      <td>0.0</td>\n",
       "      <td>0.0</td>\n",
       "      <td>0.0</td>\n",
       "      <td>0.0</td>\n",
       "      <td>0.0</td>\n",
       "      <td>0.00</td>\n",
       "      <td>20.00</td>\n",
       "    </tr>\n",
       "    <tr>\n",
       "      <th>3</th>\n",
       "      <td>1001</td>\n",
       "      <td>10</td>\n",
       "      <td>65</td>\n",
       "      <td>393</td>\n",
       "      <td>53</td>\n",
       "      <td>22356</td>\n",
       "      <td>22.0</td>\n",
       "      <td>surf</td>\n",
       "      <td>3.0</td>\n",
       "      <td>0.0</td>\n",
       "      <td>7.0</td>\n",
       "      <td>70.0</td>\n",
       "      <td>0.0</td>\n",
       "      <td>0.09</td>\n",
       "      <td>90.09</td>\n",
       "    </tr>\n",
       "    <tr>\n",
       "      <th>4</th>\n",
       "      <td>1001</td>\n",
       "      <td>11</td>\n",
       "      <td>64</td>\n",
       "      <td>426</td>\n",
       "      <td>36</td>\n",
       "      <td>18524</td>\n",
       "      <td>19.0</td>\n",
       "      <td>surf</td>\n",
       "      <td>0.0</td>\n",
       "      <td>0.0</td>\n",
       "      <td>4.0</td>\n",
       "      <td>40.0</td>\n",
       "      <td>0.0</td>\n",
       "      <td>0.00</td>\n",
       "      <td>60.00</td>\n",
       "    </tr>\n",
       "    <tr>\n",
       "      <th>...</th>\n",
       "      <td>...</td>\n",
       "      <td>...</td>\n",
       "      <td>...</td>\n",
       "      <td>...</td>\n",
       "      <td>...</td>\n",
       "      <td>...</td>\n",
       "      <td>...</td>\n",
       "      <td>...</td>\n",
       "      <td>...</td>\n",
       "      <td>...</td>\n",
       "      <td>...</td>\n",
       "      <td>...</td>\n",
       "      <td>...</td>\n",
       "      <td>...</td>\n",
       "      <td>...</td>\n",
       "    </tr>\n",
       "    <tr>\n",
       "      <th>1754</th>\n",
       "      <td>1496</td>\n",
       "      <td>9</td>\n",
       "      <td>52</td>\n",
       "      <td>414</td>\n",
       "      <td>21</td>\n",
       "      <td>16412</td>\n",
       "      <td>17.0</td>\n",
       "      <td>surf</td>\n",
       "      <td>0.0</td>\n",
       "      <td>0.0</td>\n",
       "      <td>2.0</td>\n",
       "      <td>20.0</td>\n",
       "      <td>0.0</td>\n",
       "      <td>0.00</td>\n",
       "      <td>40.00</td>\n",
       "    </tr>\n",
       "    <tr>\n",
       "      <th>1755</th>\n",
       "      <td>1496</td>\n",
       "      <td>10</td>\n",
       "      <td>46</td>\n",
       "      <td>317</td>\n",
       "      <td>18</td>\n",
       "      <td>14308</td>\n",
       "      <td>14.0</td>\n",
       "      <td>surf</td>\n",
       "      <td>0.0</td>\n",
       "      <td>0.0</td>\n",
       "      <td>0.0</td>\n",
       "      <td>0.0</td>\n",
       "      <td>0.0</td>\n",
       "      <td>0.00</td>\n",
       "      <td>20.00</td>\n",
       "    </tr>\n",
       "    <tr>\n",
       "      <th>1756</th>\n",
       "      <td>1496</td>\n",
       "      <td>11</td>\n",
       "      <td>39</td>\n",
       "      <td>308</td>\n",
       "      <td>13</td>\n",
       "      <td>8561</td>\n",
       "      <td>9.0</td>\n",
       "      <td>surf</td>\n",
       "      <td>0.0</td>\n",
       "      <td>0.0</td>\n",
       "      <td>0.0</td>\n",
       "      <td>0.0</td>\n",
       "      <td>0.0</td>\n",
       "      <td>0.00</td>\n",
       "      <td>20.00</td>\n",
       "    </tr>\n",
       "    <tr>\n",
       "      <th>1757</th>\n",
       "      <td>1496</td>\n",
       "      <td>12</td>\n",
       "      <td>40</td>\n",
       "      <td>294</td>\n",
       "      <td>11</td>\n",
       "      <td>16460</td>\n",
       "      <td>17.0</td>\n",
       "      <td>surf</td>\n",
       "      <td>0.0</td>\n",
       "      <td>0.0</td>\n",
       "      <td>2.0</td>\n",
       "      <td>20.0</td>\n",
       "      <td>0.0</td>\n",
       "      <td>0.00</td>\n",
       "      <td>40.00</td>\n",
       "    </tr>\n",
       "    <tr>\n",
       "      <th>1758</th>\n",
       "      <td>1497</td>\n",
       "      <td>12</td>\n",
       "      <td>54</td>\n",
       "      <td>300</td>\n",
       "      <td>50</td>\n",
       "      <td>11120</td>\n",
       "      <td>11.0</td>\n",
       "      <td>ultimate</td>\n",
       "      <td>0.0</td>\n",
       "      <td>0.0</td>\n",
       "      <td>0.0</td>\n",
       "      <td>0.0</td>\n",
       "      <td>0.0</td>\n",
       "      <td>0.00</td>\n",
       "      <td>70.00</td>\n",
       "    </tr>\n",
       "  </tbody>\n",
       "</table>\n",
       "<p>1759 rows × 15 columns</p>\n",
       "</div>"
      ],
      "text/plain": [
       "      user_id  month  llamadas_usuario_mes  minutos_usuario_mes  \\\n",
       "0        1000     12                    16                  124   \n",
       "1        1001      8                    27                  182   \n",
       "2        1001      9                    49                  315   \n",
       "3        1001     10                    65                  393   \n",
       "4        1001     11                    64                  426   \n",
       "...       ...    ...                   ...                  ...   \n",
       "1754     1496      9                    52                  414   \n",
       "1755     1496     10                    46                  317   \n",
       "1756     1496     11                    39                  308   \n",
       "1757     1496     12                    40                  294   \n",
       "1758     1497     12                    54                  300   \n",
       "\n",
       "      mensajes_usuario_mes  internet_usuario_mes  Gb_usuario_mes      plan  \\\n",
       "0                       11                  1903             2.0  ultimate   \n",
       "1                       30                  6929             7.0      surf   \n",
       "2                       44                 13333            14.0      surf   \n",
       "3                       53                 22356            22.0      surf   \n",
       "4                       36                 18524            19.0      surf   \n",
       "...                    ...                   ...             ...       ...   \n",
       "1754                    21                 16412            17.0      surf   \n",
       "1755                    18                 14308            14.0      surf   \n",
       "1756                    13                  8561             9.0      surf   \n",
       "1757                    11                 16460            17.0      surf   \n",
       "1758                    50                 11120            11.0  ultimate   \n",
       "\n",
       "      mensajes_extra  minutos_extra  internet_extra_Gb  costo_internet_extra  \\\n",
       "0                0.0            0.0                0.0                   0.0   \n",
       "1                0.0            0.0                0.0                   0.0   \n",
       "2                0.0            0.0                0.0                   0.0   \n",
       "3                3.0            0.0                7.0                  70.0   \n",
       "4                0.0            0.0                4.0                  40.0   \n",
       "...              ...            ...                ...                   ...   \n",
       "1754             0.0            0.0                2.0                  20.0   \n",
       "1755             0.0            0.0                0.0                   0.0   \n",
       "1756             0.0            0.0                0.0                   0.0   \n",
       "1757             0.0            0.0                2.0                  20.0   \n",
       "1758             0.0            0.0                0.0                   0.0   \n",
       "\n",
       "      costo_minutos_extra  costo_mensajes_extra  costo_total  \n",
       "0                     0.0                  0.00        70.00  \n",
       "1                     0.0                  0.00        20.00  \n",
       "2                     0.0                  0.00        20.00  \n",
       "3                     0.0                  0.09        90.09  \n",
       "4                     0.0                  0.00        60.00  \n",
       "...                   ...                   ...          ...  \n",
       "1754                  0.0                  0.00        40.00  \n",
       "1755                  0.0                  0.00        20.00  \n",
       "1756                  0.0                  0.00        20.00  \n",
       "1757                  0.0                  0.00        40.00  \n",
       "1758                  0.0                  0.00        70.00  \n",
       "\n",
       "[1759 rows x 15 columns]"
      ]
     },
     "metadata": {},
     "output_type": "display_data"
    }
   ],
   "source": [
    "# Calcula el ingreso mensual para cada usuario\n",
    "plans.columns #'messages_included', 'mb_per_month_included', 'minutes_included', 'usd_monthly_pay', 'usd_per_gb', 'usd_per_message', 'usd_per_minute','plan_name'\n",
    "\n",
    "#Restar lo incluido en el paquete (*'messages_included', 'mb_per_month_included', 'minutes_included') a los datos de df_todo para internet, mensajes y minutos *minutos_usuario_mes, internet_usuario_mes, mensajes_usuario_mes\n",
    "#si lo consumido es menos que lo incluido dará negativos, se tienen que igualar los negativos a 0.\n",
    "surf_values = plans[plans[\"plan_name\"] == \"surf\"].iloc[0]\n",
    "ultimate_values = plans[plans[\"plan_name\"] == \"ultimate\"].iloc[0]\n",
    "\n",
    "mask_surf = df_todo_con_tarifa[\"plan\"] == \"surf\"\n",
    "mask_ultimate = df_todo_con_tarifa[\"plan\"] == \"ultimate\"\n",
    "\n",
    "#surf calculations\n",
    "df_todo_con_tarifa.loc[mask_surf, \"mensajes_extra\"] =df_todo_con_tarifa[\"mensajes_usuario_mes\"] - surf_values[\"messages_included\"] \n",
    "df_todo_con_tarifa.loc[mask_surf, \"minutos_extra\"]  =df_todo_con_tarifa[\"minutos_usuario_mes\"] - surf_values[\"minutes_included\"]\n",
    "df_todo_con_tarifa.loc[mask_surf, \"internet_extra_Gb\"] =df_todo_con_tarifa[\"Gb_usuario_mes\"] - (surf_values[\"mb_per_month_included\"]/1024)\n",
    "#ultimate calculations\n",
    "df_todo_con_tarifa.loc[mask_ultimate, \"mensajes_extra\"] =df_todo_con_tarifa[\"mensajes_usuario_mes\"] - ultimate_values[\"messages_included\"] \n",
    "df_todo_con_tarifa.loc[mask_ultimate, \"minutos_extra\"]  =df_todo_con_tarifa[\"minutos_usuario_mes\"] - ultimate_values[\"minutes_included\"]\n",
    "df_todo_con_tarifa.loc[mask_ultimate, \"internet_extra_Gb\"] =df_todo_con_tarifa[\"Gb_usuario_mes\"] - (ultimate_values[\"mb_per_month_included\"]/1024)\n",
    "\n",
    "print(\"Calculos de servicios extra por usuario por mes\")\n",
    "display(df_todo_con_tarifa) #tiene numeros negativos en los extra\n",
    "#remover los numeros negativos\n",
    "df_todo_con_tarifa[\"mensajes_extra\"] = df_todo_con_tarifa[\"mensajes_extra\"].clip(lower=0)\n",
    "df_todo_con_tarifa[\"internet_extra_Gb\"] = df_todo_con_tarifa[\"internet_extra_Gb\"].clip(lower=0)\n",
    "df_todo_con_tarifa[\"minutos_extra\"] = df_todo_con_tarifa[\"minutos_extra\"].clip(lower=0)\n",
    "\n",
    "print()\n",
    "print(\"Calculos de servicios extra por usuario por mes con remoción de números negativos\")\n",
    "display(df_todo_con_tarifa) #ya no hay numeros negativos\n",
    "\n",
    "#Añadir la multiplicación de lo extra a lo incluido por las tarifas *'usd_per_gb', 'usd_per_message', 'usd_per_minute'. Se ocupará usar if. \n",
    "df_todo_con_tarifa.loc[mask_surf, \"costo_internet_extra\"] = df_todo_con_tarifa[\"internet_extra_Gb\"]*surf_values[\"usd_per_gb\"]\n",
    "df_todo_con_tarifa.loc[mask_surf, \"costo_minutos_extra\"] = df_todo_con_tarifa[\"minutos_extra\"]*surf_values[\"usd_per_minute\"]\n",
    "df_todo_con_tarifa.loc[mask_surf, \"costo_mensajes_extra\"] = df_todo_con_tarifa[\"mensajes_extra\"]*surf_values[\"usd_per_message\"]\n",
    "\n",
    "df_todo_con_tarifa.loc[mask_ultimate, \"costo_internet_extra\"] = df_todo_con_tarifa[\"internet_extra_Gb\"]*ultimate_values[\"usd_per_gb\"]\n",
    "df_todo_con_tarifa.loc[mask_ultimate, \"costo_minutos_extra\"] = df_todo_con_tarifa[\"minutos_extra\"]*ultimate_values[\"usd_per_minute\"]\n",
    "df_todo_con_tarifa.loc[mask_ultimate, \"costo_mensajes_extra\"] = df_todo_con_tarifa[\"mensajes_extra\"]*ultimate_values[\"usd_per_message\"]\n",
    "print()\n",
    "print(\"Adición de costos debido a servicios extra por usuario por mes\")\n",
    "display(df_todo_con_tarifa) #se añadieron los costos extras por internet, mensajes y llamadas queda hacer el total con el pago de surf y ultimate añadido\n",
    "df_todo_con_tarifa.loc[mask_surf, \"costo_total\"]  = df_todo_con_tarifa[\"costo_internet_extra\"] + df_todo_con_tarifa[\"costo_mensajes_extra\"]+ df_todo_con_tarifa[\"costo_minutos_extra\"] +surf_values[\"usd_monthly_pay\"]\n",
    "df_todo_con_tarifa.loc[mask_ultimate, \"costo_total\"] = df_todo_con_tarifa[\"costo_internet_extra\"] + df_todo_con_tarifa[\"costo_mensajes_extra\"]+ df_todo_con_tarifa[\"costo_minutos_extra\"] +ultimate_values[\"usd_monthly_pay\"]\n",
    "print()\n",
    "print(\"Marco de datos completo. Se le adicionó el ingreso generado por usuario por mes.\")\n",
    "display(df_todo_con_tarifa) #con el costo total o ingreso por usuario por mes añadido. "
   ]
  },
  {
   "cell_type": "markdown",
   "metadata": {
    "id": "-jtyHzJb0q1I"
   },
   "source": [
    "## Estudia el comportamiento de usuario"
   ]
  },
  {
   "cell_type": "markdown",
   "metadata": {
    "id": "vtW4CJEe0q1J"
   },
   "source": [
    "### Llamadas"
   ]
  },
  {
   "cell_type": "code",
   "execution_count": 186,
   "metadata": {
    "id": "Jf5v5--k0q1J"
   },
   "outputs": [
    {
     "name": "stdout",
     "output_type": "stream",
     "text": [
      "    month  duracion_promedio_llamadas_surf\n",
      "0       1                       292.000000\n",
      "1       2                       331.200000\n",
      "2       3                       344.937500\n",
      "3       4                       366.228571\n",
      "4       5                       443.981132\n",
      "5       6                       425.514286\n",
      "6       7                       452.101124\n",
      "7       8                       427.873950\n",
      "8       9                       426.020408\n",
      "9      10                       442.348066\n",
      "10     11                       443.954128\n",
      "11     12                       495.069106\n",
      "    month  duracion_promedio_llamadas_ultimate\n",
      "0       1                           197.666667\n",
      "1       2                           486.800000\n",
      "2       3                           415.285714\n",
      "3       4                           322.750000\n",
      "4       5                           410.190476\n",
      "5       6                           370.918919\n",
      "6       7                           439.638298\n",
      "7       8                           436.438596\n",
      "8       9                           437.591549\n",
      "9      10                           465.034091\n",
      "10     11                           464.068627\n",
      "11     12                           463.296000\n"
     ]
    },
    {
     "data": {
      "image/png": "[encoded data removed]",
      "text/plain": [
       "<Figure size 1200x600 with 1 Axes>"
      ]
     },
     "metadata": {},
     "output_type": "display_data"
    }
   ],
   "source": [
    "# Compara la duración promedio de llamadas por cada plan y por cada mes. Traza un gráfico de barras para visualizarla.\n",
    "\n",
    "#Se puede hacer desde calls o desde df_todo_con_tarifa. df_todo_con_tarifa columna minutos. \n",
    "# Duración promedio de la suma de las llamadas por plan por mes. No por usuario ni la duración de la llamada promedio. \n",
    "#Si se busca promedio de llamada se tiene que dividir entre cantidad de llamadas y listo. \n",
    "\n",
    "duracion_promedio_surf_mes = df_todo_con_tarifa.loc[mask_surf, [\"user_id\", \"minutos_usuario_mes\", \"month\"]].groupby(\"month\")[\"minutos_usuario_mes\"].mean().reset_index(name=\"duracion_promedio_llamadas_surf\")\n",
    "duracion_promedio_ultimate_mes = df_todo_con_tarifa.loc[mask_ultimate, [\"user_id\", \"minutos_usuario_mes\", \"month\"]].groupby(\"month\")[\"minutos_usuario_mes\"].mean().reset_index(name=\"duracion_promedio_llamadas_ultimate\")\n",
    "\n",
    "print(duracion_promedio_surf_mes)\n",
    "print(duracion_promedio_ultimate_mes)\n",
    "\n",
    "#Gráfico para comparar las distintas tendencias de duración por mes entre ambos planes. \n",
    "plt.figure(figsize=(12, 6))\n",
    "bar_width = 0.4\n",
    "x = np.arange(len(duracion_promedio_surf_mes[\"month\"]))\n",
    "plt.bar(x-bar_width/2, duracion_promedio_surf_mes[\"duracion_promedio_llamadas_surf\"], width= bar_width, color = \"royalblue\", label = \"Surf\")\n",
    "plt.bar(x+bar_width/2, duracion_promedio_ultimate_mes[\"duracion_promedio_llamadas_ultimate\"], width= bar_width, color = \"orange\", label = \"Ultimate\")\n",
    "plt.title(\"Comparación de duración promedio de llamadas por plan por mes\")\n",
    "plt.xlabel(\"Mes\")\n",
    "plt.ylabel(\"Duración promedio de llamadas (minutos)\")\n",
    "plt.legend()\n",
    "plt.xticks(x, duracion_promedio_surf_mes[\"month\"])\n",
    "plt.show()\n",
    "#No es mucha la diferencia de consumo entre planes considerando que son promedios. \n"
   ]
  },
  {
   "cell_type": "code",
   "execution_count": 187,
   "metadata": {},
   "outputs": [
    {
     "name": "stdout",
     "output_type": "stream",
     "text": [
      "      user_id  month  llamadas_usuario_mes  minutos_usuario_mes  \\\n",
      "1        1001      8                    27                  182   \n",
      "2        1001      9                    49                  315   \n",
      "3        1001     10                    65                  393   \n",
      "4        1001     11                    64                  426   \n",
      "5        1001     12                    56                  412   \n",
      "...       ...    ...                   ...                  ...   \n",
      "1753     1496      8                    18                  122   \n",
      "1754     1496      9                    52                  414   \n",
      "1755     1496     10                    46                  317   \n",
      "1756     1496     11                    39                  308   \n",
      "1757     1496     12                    40                  294   \n",
      "\n",
      "      promedio_minutos_por_llamada  \n",
      "1                         6.740741  \n",
      "2                         6.428571  \n",
      "3                         6.046154  \n",
      "4                         6.656250  \n",
      "5                         7.357143  \n",
      "...                            ...  \n",
      "1753                      6.777778  \n",
      "1754                      7.961538  \n",
      "1755                      6.891304  \n",
      "1756                      7.897436  \n",
      "1757                      7.350000  \n",
      "\n",
      "[1180 rows x 5 columns]\n",
      "      user_id  month  llamadas_usuario_mes  minutos_usuario_mes  \\\n",
      "0        1000     12                    16                  124   \n",
      "19       1006     11                     2                   10   \n",
      "20       1006     12                     9                   59   \n",
      "26       1008     10                    71                  476   \n",
      "27       1008     11                    63                  446   \n",
      "...       ...    ...                   ...                  ...   \n",
      "1714     1478     12                    58                  376   \n",
      "1718     1482     11                   115                  785   \n",
      "1719     1482     12                     5                   56   \n",
      "1730     1487     12                    56                  416   \n",
      "1758     1497     12                    54                  300   \n",
      "\n",
      "      promedio_minutos_por_llamada  \n",
      "0                         7.750000  \n",
      "19                        5.000000  \n",
      "20                        6.555556  \n",
      "26                        6.704225  \n",
      "27                        7.079365  \n",
      "...                            ...  \n",
      "1714                      6.482759  \n",
      "1718                      6.826087  \n",
      "1719                     11.200000  \n",
      "1730                      7.428571  \n",
      "1758                      5.555556  \n",
      "\n",
      "[579 rows x 5 columns]\n",
      "    month  promedio_minutos_llamada_mes_surf\n",
      "0       1                           6.952381\n",
      "1       2                           6.578077\n",
      "2       3                           7.321056\n",
      "3       4                           6.985401\n",
      "4       5                           7.242443\n",
      "5       6                           7.118685\n",
      "6       7                           7.030025\n",
      "7       8                           7.102217\n",
      "8       9                           7.134543\n",
      "9      10                           7.112521\n",
      "10     11                           7.167284\n",
      "11     12                           7.233960\n",
      "    month  promedio_minutos_llamada_mes_ultimate\n",
      "0       1                               5.646032\n",
      "1       2                               7.202633\n",
      "2       3                               6.796706\n",
      "3       4                               7.264173\n",
      "4       5                               7.122373\n",
      "5       6                               7.077209\n",
      "6       7                               7.311958\n",
      "7       8                               7.076160\n",
      "8       9                               7.042775\n",
      "9      10                               7.154634\n",
      "10     11                               7.006187\n",
      "11     12                               7.038661\n"
     ]
    },
    {
     "data": {
      "image/png": "[encoded data removed]",
      "text/plain": [
       "<Figure size 1200x600 with 1 Axes>"
      ]
     },
     "metadata": {},
     "output_type": "display_data"
    }
   ],
   "source": [
    "#Por si se quiere la duración promedio de llamada a través de los meses en cada plan: \n",
    "\n",
    "#Aislas los marcos de datos y columnas deseadas por plan. \n",
    "promedio_por_llamada_surf = df_todo_con_tarifa.loc[mask_surf, [\"user_id\", \"month\", \"llamadas_usuario_mes\", \"minutos_usuario_mes\"]]\n",
    "promedio_por_llamada_ultimate = df_todo_con_tarifa.loc[mask_ultimate, [\"user_id\", \"month\", \"llamadas_usuario_mes\", \"minutos_usuario_mes\"]]\n",
    "\n",
    "promedio_por_llamada_surf[\"promedio_minutos_por_llamada\"] = promedio_por_llamada_surf[\"minutos_usuario_mes\"]/promedio_por_llamada_surf[\"llamadas_usuario_mes\"]\n",
    "promedio_por_llamada_ultimate[\"promedio_minutos_por_llamada\"] = promedio_por_llamada_ultimate[\"minutos_usuario_mes\"]/promedio_por_llamada_ultimate[\"llamadas_usuario_mes\"]\n",
    "\n",
    "print(promedio_por_llamada_surf)\n",
    "print(promedio_por_llamada_ultimate)\n",
    "\n",
    "#Agrupar por mes por plan y general el gráfico de barras\n",
    "promedio_duracion_llamada_por_mes_surf = promedio_por_llamada_surf[[\"month\",\"user_id\", \"promedio_minutos_por_llamada\"]].groupby([\"month\"])[\"promedio_minutos_por_llamada\"].mean().reset_index(name = \"promedio_minutos_llamada_mes_surf\")\n",
    "promedio_duracion_llamada_por_mes_ultimate = promedio_por_llamada_ultimate[[\"month\", \"user_id\", \"promedio_minutos_por_llamada\"]].groupby([\"month\"])[\"promedio_minutos_por_llamada\"].mean().reset_index(name = \"promedio_minutos_llamada_mes_ultimate\")\n",
    "\n",
    "print(promedio_duracion_llamada_por_mes_surf)\n",
    "print(promedio_duracion_llamada_por_mes_ultimate) #Está listo para graficar. \n",
    "\n",
    "#Gráfico de promedio de duración de llamadas por \n",
    "plt.figure(figsize=(12, 6))\n",
    "\n",
    "bar_width = 0.4\n",
    "x = np.arange(len(promedio_duracion_llamada_por_mes_surf[\"month\"]))\n",
    "plt.bar(x-bar_width/2, promedio_duracion_llamada_por_mes_surf[\"promedio_minutos_llamada_mes_surf\"], width= bar_width, color = \"royalblue\", label = \"Surf\")\n",
    "plt.bar(x+bar_width/2, promedio_duracion_llamada_por_mes_ultimate[\"promedio_minutos_llamada_mes_ultimate\"], width= bar_width, color = \"orange\", label = \"Ultimate\")\n",
    "plt.title(\"Comparación de duración promedio de llamada por plan por mes\")\n",
    "plt.xlabel(\"Mes\")\n",
    "plt.ylabel(\"Duración promedio de llamada (minutos)\")\n",
    "plt.legend()\n",
    "plt.xticks(x, promedio_duracion_llamada_por_mes_surf[\"month\"])\n",
    "plt.show()"
   ]
  },
  {
   "cell_type": "code",
   "execution_count": 188,
   "metadata": {
    "id": "QoLqW1S_0q1J"
   },
   "outputs": [
    {
     "name": "stdout",
     "output_type": "stream",
     "text": [
      "               minutos_usuario_mes\n",
      "month user_id                     \n",
      "1     1362                     292\n",
      "2     1099                      39\n",
      "      1138                     307\n",
      "      1261                      56\n",
      "      1362                     811\n",
      "...                            ...\n",
      "12    1489                     394\n",
      "      1491                     399\n",
      "      1492                     295\n",
      "      1494                     431\n",
      "      1496                     294\n",
      "\n",
      "[1180 rows x 1 columns]\n",
      "               minutos_usuario_mes\n",
      "month user_id                     \n",
      "1     1077                     290\n",
      "      1196                     287\n",
      "      1214                      16\n",
      "2     1077                     776\n",
      "      1155                      90\n",
      "...                            ...\n",
      "12    1477                     289\n",
      "      1478                     376\n",
      "      1482                      56\n",
      "      1487                     416\n",
      "      1497                     300\n",
      "\n",
      "[579 rows x 1 columns]\n"
     ]
    },
    {
     "data": {
      "image/png": "[encoded data removed]",
      "text/plain": [
       "<Figure size 1200x600 with 1 Axes>"
      ]
     },
     "metadata": {},
     "output_type": "display_data"
    }
   ],
   "source": [
    "# Compara el número de minutos mensuales que necesitan los usuarios de cada plan. Traza un histograma.\n",
    "#Frecuencia de usuarios variable cantidad de minutos por plan. El histograma lo separa en la cantidad de contenedores que se ocupen para abarcar el rango de minutos. \n",
    "#Un histograma no esta hecho para comparar al menos que se use transparencia. Por otra parte, no importa que mes es entonces con que la unidad sea conteo de usuarios en cantidad de minutos mensuales basta. Sino serían 12 histogramas.\n",
    "frecuencia_usuarios_minutos_por_mes_por_plan_surf = df_todo_con_tarifa.loc[mask_surf, [\"month\",\"user_id\", \"minutos_usuario_mes\"]].groupby([\"month\", \"user_id\"]).sum()\n",
    "frecuencia_usuarios_minutos_por_mes_por_plan_ultimate = df_todo_con_tarifa.loc[mask_ultimate, [\"month\",\"user_id\", \"minutos_usuario_mes\"]].groupby([\"month\", \"user_id\"]).sum()\n",
    "\n",
    "print(frecuencia_usuarios_minutos_por_mes_por_plan_surf)\n",
    "print(frecuencia_usuarios_minutos_por_mes_por_plan_ultimate)\n",
    "\n",
    "#obtener solo los valores sin importar a que mes pertenecen y hacer el histograma. \n",
    "minutos_usuario_mes_surf = frecuencia_usuarios_minutos_por_mes_por_plan_surf[\"minutos_usuario_mes\"].values\n",
    "minutos_usuario_mes_ultimate = frecuencia_usuarios_minutos_por_mes_por_plan_ultimate[\"minutos_usuario_mes\"].values\n",
    "\n",
    "plt.figure(figsize=(12, 6))\n",
    "plt.hist(minutos_usuario_mes_surf, bins=20, alpha=0.5, color='royalblue', label=\"Surf\")\n",
    "plt.hist(minutos_usuario_mes_ultimate, bins=20, alpha=0.5, color='orange', label=\"Ultimate\")\n",
    "plt.title(\"Frecuencia de usuarios según minutos mensuales utilizados por plan\")\n",
    "plt.xlabel(\"Minutos utilizados\")\n",
    "plt.ylabel(\"Número de usuarios\")\n",
    "plt.legend()\n",
    "plt.show()\n"
   ]
  },
  {
   "cell_type": "code",
   "execution_count": 189,
   "metadata": {
    "id": "oSndbAnt0q1K"
   },
   "outputs": [
    {
     "name": "stdout",
     "output_type": "stream",
     "text": [
      "Promedio minutos usados al mes por usuario plan surf:\n",
      "    month  promedio_minutos_usados_al_mes\n",
      "0       1                      292.000000\n",
      "1       2                      331.200000\n",
      "2       3                      344.937500\n",
      "3       4                      366.228571\n",
      "4       5                      443.981132\n",
      "5       6                      425.514286\n",
      "6       7                      452.101124\n",
      "7       8                      427.873950\n",
      "8       9                      426.020408\n",
      "9      10                      442.348066\n",
      "10     11                      443.954128\n",
      "11     12                      495.069106\n",
      "Promedio minutos usados al mes por usuario plan ultimate:\n",
      "    month  promedio_minutos_usados_al_mes\n",
      "0       1                      197.666667\n",
      "1       2                      486.800000\n",
      "2       3                      415.285714\n",
      "3       4                      322.750000\n",
      "4       5                      410.190476\n",
      "5       6                      370.918919\n",
      "6       7                      439.638298\n",
      "7       8                      436.438596\n",
      "8       9                      437.591549\n",
      "9      10                      465.034091\n",
      "10     11                      464.068627\n",
      "11     12                      463.296000\n",
      "Promedio, Mediana, Varianza y Desviación estándar para minutos por usuario al mes surf:\n",
      "407.60235591555823 , 426.94717887154866 ; 3581.2365483352773 ; 59.843433627552464\n",
      "Promedio, Mediana, Varianza y Desviación para minutos por usuario al mes ultimate:\n",
      "409.13991150676594 , 437.0150728935014 ; 6479.457163942291 ; 80.49507540180511\n"
     ]
    },
    {
     "data": {
      "text/html": [
       "<div>\n",
       "<style scoped>\n",
       "    .dataframe tbody tr th:only-of-type {\n",
       "        vertical-align: middle;\n",
       "    }\n",
       "\n",
       "    .dataframe tbody tr th {\n",
       "        vertical-align: top;\n",
       "    }\n",
       "\n",
       "    .dataframe thead th {\n",
       "        text-align: right;\n",
       "    }\n",
       "</style>\n",
       "<table border=\"1\" class=\"dataframe\">\n",
       "  <thead>\n",
       "    <tr style=\"text-align: right;\">\n",
       "      <th></th>\n",
       "      <th>month</th>\n",
       "      <th>llamadas_usuario_mes</th>\n",
       "      <th>minutos_usuario_mes</th>\n",
       "      <th>duracion_promedio_de_llamada_mensual</th>\n",
       "    </tr>\n",
       "  </thead>\n",
       "  <tbody>\n",
       "    <tr>\n",
       "      <th>1</th>\n",
       "      <td>8</td>\n",
       "      <td>27</td>\n",
       "      <td>182</td>\n",
       "      <td>6.740741</td>\n",
       "    </tr>\n",
       "    <tr>\n",
       "      <th>2</th>\n",
       "      <td>9</td>\n",
       "      <td>49</td>\n",
       "      <td>315</td>\n",
       "      <td>6.428571</td>\n",
       "    </tr>\n",
       "    <tr>\n",
       "      <th>3</th>\n",
       "      <td>10</td>\n",
       "      <td>65</td>\n",
       "      <td>393</td>\n",
       "      <td>6.046154</td>\n",
       "    </tr>\n",
       "    <tr>\n",
       "      <th>4</th>\n",
       "      <td>11</td>\n",
       "      <td>64</td>\n",
       "      <td>426</td>\n",
       "      <td>6.656250</td>\n",
       "    </tr>\n",
       "    <tr>\n",
       "      <th>5</th>\n",
       "      <td>12</td>\n",
       "      <td>56</td>\n",
       "      <td>412</td>\n",
       "      <td>7.357143</td>\n",
       "    </tr>\n",
       "    <tr>\n",
       "      <th>...</th>\n",
       "      <td>...</td>\n",
       "      <td>...</td>\n",
       "      <td>...</td>\n",
       "      <td>...</td>\n",
       "    </tr>\n",
       "    <tr>\n",
       "      <th>1753</th>\n",
       "      <td>8</td>\n",
       "      <td>18</td>\n",
       "      <td>122</td>\n",
       "      <td>6.777778</td>\n",
       "    </tr>\n",
       "    <tr>\n",
       "      <th>1754</th>\n",
       "      <td>9</td>\n",
       "      <td>52</td>\n",
       "      <td>414</td>\n",
       "      <td>7.961538</td>\n",
       "    </tr>\n",
       "    <tr>\n",
       "      <th>1755</th>\n",
       "      <td>10</td>\n",
       "      <td>46</td>\n",
       "      <td>317</td>\n",
       "      <td>6.891304</td>\n",
       "    </tr>\n",
       "    <tr>\n",
       "      <th>1756</th>\n",
       "      <td>11</td>\n",
       "      <td>39</td>\n",
       "      <td>308</td>\n",
       "      <td>7.897436</td>\n",
       "    </tr>\n",
       "    <tr>\n",
       "      <th>1757</th>\n",
       "      <td>12</td>\n",
       "      <td>40</td>\n",
       "      <td>294</td>\n",
       "      <td>7.350000</td>\n",
       "    </tr>\n",
       "  </tbody>\n",
       "</table>\n",
       "<p>1180 rows × 4 columns</p>\n",
       "</div>"
      ],
      "text/plain": [
       "      month  llamadas_usuario_mes  minutos_usuario_mes  \\\n",
       "1         8                    27                  182   \n",
       "2         9                    49                  315   \n",
       "3        10                    65                  393   \n",
       "4        11                    64                  426   \n",
       "5        12                    56                  412   \n",
       "...     ...                   ...                  ...   \n",
       "1753      8                    18                  122   \n",
       "1754      9                    52                  414   \n",
       "1755     10                    46                  317   \n",
       "1756     11                    39                  308   \n",
       "1757     12                    40                  294   \n",
       "\n",
       "      duracion_promedio_de_llamada_mensual  \n",
       "1                                 6.740741  \n",
       "2                                 6.428571  \n",
       "3                                 6.046154  \n",
       "4                                 6.656250  \n",
       "5                                 7.357143  \n",
       "...                                    ...  \n",
       "1753                              6.777778  \n",
       "1754                              7.961538  \n",
       "1755                              6.891304  \n",
       "1756                              7.897436  \n",
       "1757                              7.350000  \n",
       "\n",
       "[1180 rows x 4 columns]"
      ]
     },
     "metadata": {},
     "output_type": "display_data"
    },
    {
     "name": "stdout",
     "output_type": "stream",
     "text": [
      "surf:\n",
      "    month  duracion_promedio_de_llamada_por_mes\n",
      "0       1                              6.952381\n",
      "1       2                              6.578077\n",
      "2       3                              7.321056\n",
      "3       4                              6.985401\n",
      "4       5                              7.242443\n",
      "5       6                              7.118685\n",
      "6       7                              7.030025\n",
      "7       8                              7.102217\n",
      "8       9                              7.134543\n",
      "9      10                              7.112521\n",
      "10     11                              7.167284\n",
      "11     12                              7.233960\n",
      "ultimate:\n",
      "    month  duracion_promedio_de_llamada_por_mes\n",
      "0       1                              5.646032\n",
      "1       2                              7.202633\n",
      "2       3                              6.796706\n",
      "3       4                              7.264173\n",
      "4       5                              7.122373\n",
      "5       6                              7.077209\n",
      "6       7                              7.311958\n",
      "7       8                              7.076160\n",
      "8       9                              7.042775\n",
      "9      10                              7.154634\n",
      "10     11                              7.006187\n",
      "11     12                              7.038661\n",
      "Varianza de duracion promedio de las llamadas surf: 0.03649736476761341\n",
      "Varianza de duracion promedio de las llamadas surf: 0.19373453987346467\n",
      "Desviacion estándar de la duración de llamadas surf: 0.1910428349025773\n",
      "Desviacion estándar de la duración de llamadas ultimate: 0.4401528596674849\n"
     ]
    }
   ],
   "source": [
    "# Calcula la media y la varianza de la duración mensual de llamadas. Comportamiento de consumo de minutos.\n",
    "#La instrucción es de la duración total de las llamadas o de cada llamada?\n",
    "#Ambas son interesantes. Primero de duración total o consumo de minutos y le adicionaré desviación estándar ya que es informativo.\n",
    "\n",
    "#Promedio de los minutos consumidos mensuales por plan por usuario. Para checar el promedio de consumo de los usuarios como población.\n",
    "promedio_minutos_mes_usuario_surf =  df_todo_con_tarifa.loc[mask_surf, [\"month\", \"minutos_usuario_mes\"]].groupby(\"month\")[\"minutos_usuario_mes\"].mean().reset_index(name=\"promedio_minutos_usados_al_mes\")\n",
    "promedio_minutos_mes_usuario_ultimate =  df_todo_con_tarifa.loc[mask_ultimate, [\"month\", \"minutos_usuario_mes\"]].groupby(\"month\")[\"minutos_usuario_mes\"].mean().reset_index(name=\"promedio_minutos_usados_al_mes\")\n",
    "print(\"Promedio minutos usados al mes por usuario plan surf:\")\n",
    "print(promedio_minutos_mes_usuario_surf)\n",
    "print(\"Promedio minutos usados al mes por usuario plan ultimate:\")\n",
    "print(promedio_minutos_mes_usuario_ultimate) #son para comparar el consumo por mes de minutos por plan. 1er gráfico de caja;boxplot\n",
    "\n",
    "promedio_general_minutos_mes_usuario_surf = promedio_minutos_mes_usuario_surf[\"promedio_minutos_usados_al_mes\"].mean()\n",
    "promedio_general_minutos_mes_usuario_ultimate = promedio_minutos_mes_usuario_ultimate[\"promedio_minutos_usados_al_mes\"].mean()\n",
    "mediana_minutos_mes_usuario_surf = promedio_minutos_mes_usuario_surf[\"promedio_minutos_usados_al_mes\"].median()\n",
    "mediana_minutos_mes_usuario_ultimate = promedio_minutos_mes_usuario_ultimate[\"promedio_minutos_usados_al_mes\"].median()\n",
    "\n",
    "varianza_minutos_usuario_mes_surf = promedio_minutos_mes_usuario_surf[\"promedio_minutos_usados_al_mes\"].var()\n",
    "varianza_minutos_usuario_mes_ultimate = promedio_minutos_mes_usuario_ultimate[\"promedio_minutos_usados_al_mes\"].var()\n",
    "#Adición de desviación estándar    \n",
    "desv_est_minutos_usuario_mes_surf = np.sqrt(varianza_minutos_usuario_mes_surf)\n",
    "desv_est_minutos_usuario_mes_ultimate = np.sqrt(varianza_minutos_usuario_mes_ultimate)\n",
    "\n",
    "print(\"Promedio, Mediana, Varianza y Desviación estándar para minutos por usuario al mes surf:\")\n",
    "print(promedio_general_minutos_mes_usuario_surf,\",\",mediana_minutos_mes_usuario_surf, \";\",varianza_minutos_usuario_mes_surf ,\";\",desv_est_minutos_usuario_mes_surf)\n",
    "print(\"Promedio, Mediana, Varianza y Desviación para minutos por usuario al mes ultimate:\")\n",
    "print(promedio_general_minutos_mes_usuario_ultimate,\",\",mediana_minutos_mes_usuario_ultimate, \";\",varianza_minutos_usuario_mes_ultimate ,\";\",desv_est_minutos_usuario_mes_ultimate)\n",
    "\n",
    "#Ahora continuaré con la duración de la llamada promedio mensual, varianza y desviación estándar para surf y para ultimate. \n",
    "#Con esto se puede saber si en general gastan más tiempo por llamada dependiendo del plan. \n",
    "\n",
    "#Aislar los datos de todas las llamadas. \n",
    "datos_para_duración_promedio_llamadas_mensual_surf = df_todo_con_tarifa.loc[mask_surf, [\"month\", \"llamadas_usuario_mes\", \"minutos_usuario_mes\"]]\n",
    "datos_para_duración_promedio_llamadas_mensual_ultimate = df_todo_con_tarifa.loc[mask_ultimate, [\"month\", \"llamadas_usuario_mes\", \"minutos_usuario_mes\"]]\n",
    "\n",
    "#generar columna de llamada promedio. llamadas entre minutos consumidos\n",
    "datos_para_duración_promedio_llamadas_mensual_surf[\"duracion_promedio_de_llamada_mensual\"] = datos_para_duración_promedio_llamadas_mensual_surf[\"minutos_usuario_mes\"]/datos_para_duración_promedio_llamadas_mensual_surf[\"llamadas_usuario_mes\"]\n",
    "datos_para_duración_promedio_llamadas_mensual_ultimate[\"duracion_promedio_de_llamada_mensual\"] = datos_para_duración_promedio_llamadas_mensual_ultimate[\"minutos_usuario_mes\"]/datos_para_duración_promedio_llamadas_mensual_ultimate[\"llamadas_usuario_mes\"]\n",
    "\n",
    "display(datos_para_duración_promedio_llamadas_mensual_surf) #Para observar como se ven mis datos meramente. \n",
    "#Sacar un promedio de la duración promedio. Este promedio consiste en representar todas las duraciones de llamada por mes. Es decir sumar los promedios al mes de todos los usuarios y dividirlo entre todos los usuarios por plan.\n",
    "\n",
    "duracion_promedio_llamadas_mensual_surf = datos_para_duración_promedio_llamadas_mensual_surf.groupby(\"month\")[\"duracion_promedio_de_llamada_mensual\"].mean().reset_index(name=\"duracion_promedio_de_llamada_por_mes\")\n",
    "duracion_promedio_llamadas_mensual_ultimate = datos_para_duración_promedio_llamadas_mensual_ultimate.groupby(\"month\")[\"duracion_promedio_de_llamada_mensual\"].mean().reset_index(name=\"duracion_promedio_de_llamada_por_mes\")\n",
    "#Si no se agrupa por user_id se sabe la duración promedio mensual por plan. Si se agrupa por user_id tmbn pues es duracion promedio mensual por plan por usuario. \n",
    "#Se agrupó por user_id para poder ver los datos por usuario en el box plot. En lugar de solo tener un dato por mes.\n",
    "print(\"surf:\")\n",
    "print(duracion_promedio_llamadas_mensual_surf)\n",
    "print(\"ultimate:\")\n",
    "print(duracion_promedio_llamadas_mensual_ultimate)\n",
    "\n",
    "varianza_duracion_promedio_llamadas_usuario_mes_surf = duracion_promedio_llamadas_mensual_surf[\"duracion_promedio_de_llamada_por_mes\"].var()\n",
    "varianza_duracion_promedio_llamadas_usuario_mes_ultimate = duracion_promedio_llamadas_mensual_ultimate[\"duracion_promedio_de_llamada_por_mes\"].var()\n",
    "#Listo para graficar;falta sacar la varianza y desviación estandar. \n",
    "desv_est_llamadas_usuario_surf = mt.sqrt(varianza_duracion_promedio_llamadas_usuario_mes_surf)\n",
    "desv_est_llamadas_usuario_ultimate = mt.sqrt(varianza_duracion_promedio_llamadas_usuario_mes_ultimate)\n",
    "print(\"Varianza de duracion promedio de las llamadas surf:\", varianza_duracion_promedio_llamadas_usuario_mes_surf)\n",
    "print(\"Varianza de duracion promedio de las llamadas surf:\", varianza_duracion_promedio_llamadas_usuario_mes_ultimate)\n",
    "\n",
    "print(\"Desviacion estándar de la duración de llamadas surf:\", desv_est_llamadas_usuario_surf)\n",
    "print(\"Desviacion estándar de la duración de llamadas ultimate:\", desv_est_llamadas_usuario_ultimate)"
   ]
  },
  {
   "cell_type": "code",
   "execution_count": 190,
   "metadata": {},
   "outputs": [
    {
     "name": "stdout",
     "output_type": "stream",
     "text": [
      "Promedio minutos usados al mes plan surf:\n",
      "    month  promedio_minutos_usados_al_mes\n",
      "0       1                           292.0\n",
      "1       2                          1656.0\n",
      "2       3                          5519.0\n",
      "3       4                         12818.0\n",
      "4       5                         23531.0\n",
      "5       6                         29786.0\n",
      "6       7                         40237.0\n",
      "7       8                         50917.0\n",
      "8       9                         62625.0\n",
      "9      10                         80065.0\n",
      "10     11                         96782.0\n",
      "11     12                        121787.0\n",
      "Promedio minutos usados al mes plan ultimate:\n",
      "    month  promedio_minutos_usados_al_mes\n",
      "0       1                           593.0\n",
      "1       2                          2434.0\n",
      "2       3                          2907.0\n",
      "3       4                          5164.0\n",
      "4       5                          8614.0\n",
      "5       6                         13724.0\n",
      "6       7                         20663.0\n",
      "7       8                         24877.0\n",
      "8       9                         31069.0\n",
      "9      10                         40923.0\n",
      "10     11                         47335.0\n",
      "11     12                         57912.0\n",
      "Promedio de los minutos mensuales surf: 43834.583333333336\n",
      "Promedio de los minutos mensuales ultimate: 21351.25\n",
      "Varianza y desviación estándar de minutos al mes plan surf: 1574866753.7196968 ; 39684.59088512438\n",
      "Varianza y desviación estándar de minutos al mes plan ultimate: 373966687.29545456 ; 19338.218307161977\n",
      "Mediana de promedio de minutos por mes para el plan surf: 35011.5\n",
      "Mediana de promedio de minutos por mes para el plan ultimate: 17193.5\n"
     ]
    }
   ],
   "source": [
    "#Si no es por usuario sino consumo general sin sacar promedio al mes: \n",
    "#sumar lo consumido por cada usuario\n",
    "total_minutos_mes_surf =  df_todo_con_tarifa.loc[mask_surf, [\"month\", \"minutos_usuario_mes\"]].groupby(\"month\")[\"minutos_usuario_mes\"].sum().reset_index(name=\"total_minutos_usados_al_mes\")\n",
    "total_minutos_mes_ultimate =  df_todo_con_tarifa.loc[mask_ultimate, [\"month\", \"minutos_usuario_mes\"]].groupby(\"month\")[\"minutos_usuario_mes\"].sum().reset_index(name=\"total_minutos_usados_al_mes\")\n",
    "promedio_minutos_mes_surf =  total_minutos_mes_surf.groupby(\"month\")[\"total_minutos_usados_al_mes\"].mean().reset_index(name=\"promedio_minutos_usados_al_mes\")\n",
    "promedio_minutos_mes_ultimate =  total_minutos_mes_ultimate.groupby(\"month\")[\"total_minutos_usados_al_mes\"].mean().reset_index(name=\"promedio_minutos_usados_al_mes\")\n",
    "print(\"Promedio minutos usados al mes plan surf:\")\n",
    "print(promedio_minutos_mes_surf)\n",
    "print(\"Promedio minutos usados al mes plan ultimate:\")\n",
    "print(promedio_minutos_mes_ultimate) #son para comparar el consumo por mes de minutos por plan. 1er gráfico de caja;boxplot\n",
    "\n",
    "promedio_general_mensual_surf = promedio_minutos_mes_surf[\"promedio_minutos_usados_al_mes\"].mean()\n",
    "promedio_general_mensual_ultimate = promedio_minutos_mes_ultimate[\"promedio_minutos_usados_al_mes\"].mean()\n",
    "print(\"Promedio de los minutos mensuales surf:\", promedio_general_mensual_surf)\n",
    "print(\"Promedio de los minutos mensuales ultimate:\", promedio_general_mensual_ultimate)\n",
    "varianza_minutos_mes_surf_no_por_usuario =  promedio_minutos_mes_surf[\"promedio_minutos_usados_al_mes\"].var()\n",
    "varianza_minutos_mes_ultimate_no_por_usuario =  promedio_minutos_mes_ultimate[\"promedio_minutos_usados_al_mes\"].var()\n",
    "desv_est_minutos_mes_surf_no_por_usuario =  np.sqrt(varianza_minutos_mes_surf_no_por_usuario)\n",
    "desv_est_minutos_mes_ultimate_no_por_usuario =  np.sqrt(varianza_minutos_mes_ultimate_no_por_usuario)\n",
    "\n",
    "print(\"Varianza y desviación estándar de minutos al mes plan surf:\", varianza_minutos_mes_surf_no_por_usuario, \";\", desv_est_minutos_mes_surf_no_por_usuario)\n",
    "print(\"Varianza y desviación estándar de minutos al mes plan ultimate:\", varianza_minutos_mes_ultimate_no_por_usuario, \";\", desv_est_minutos_mes_ultimate_no_por_usuario)\n",
    "mediana_promedio_minutos_mensuales_surf = promedio_minutos_mes_surf[\"promedio_minutos_usados_al_mes\"].median()\n",
    "mediana_promedio_minutos_mensuales_ultimate = promedio_minutos_mes_ultimate[\"promedio_minutos_usados_al_mes\"].median()\n",
    "print(\"Mediana de promedio de minutos por mes para el plan surf:\", mediana_promedio_minutos_mensuales_surf)\n",
    "print(\"Mediana de promedio de minutos por mes para el plan ultimate:\", mediana_promedio_minutos_mensuales_ultimate)"
   ]
  },
  {
   "cell_type": "code",
   "execution_count": 191,
   "metadata": {
    "id": "nZzoRUKc0q1K"
   },
   "outputs": [
    {
     "data": {
      "image/png": "[encoded data removed]",
      "text/plain": [
       "<Figure size 1200x600 with 1 Axes>"
      ]
     },
     "metadata": {},
     "output_type": "display_data"
    }
   ],
   "source": [
    "# Traza un diagrama de caja para visualizar la distribución de la duración mensual de llamadas\n",
    "\n",
    "#Se quiere ver el comportamiento de consumo de los usuarios. \n",
    "#Se hará un diagrama de caja para duración mensual de la llamada promedio por cada plan. \n",
    "#Y un segundo diagrama de caja para total de minutos consumidos por usuario promedio. \n",
    "\n",
    "#1er caja. Minutos usados al mes por plan\n",
    "#unir los datos relevantes en un marco de datos. \n",
    "promedio_minutos_mes_surf[\"plan\"] = \"surf\"\n",
    "promedio_minutos_mes_ultimate[\"plan\"] = \"ultimate\" #'month', 'promedio_minutos_usados_al_mes_ultimate'\n",
    "promedios_minutos_usuario_mes_ambos_planes = pd.concat([promedio_minutos_mes_surf, promedio_minutos_mes_ultimate])\n",
    "\n",
    "#Graficar\n",
    "plt.figure(figsize=(12, 6))\n",
    "sns.boxplot(data = promedios_minutos_usuario_mes_ambos_planes, x = \"plan\", y= \"promedio_minutos_usados_al_mes\")\n",
    "plt.title(\"Distribución de minutos mensuales usados por plan\")\n",
    "plt.xlabel(\"Plan\")\n",
    "plt.ylabel(\"Minutos totales consumidos mensualmente por plan\")\n",
    "plt.show()"
   ]
  },
  {
   "cell_type": "code",
   "execution_count": 192,
   "metadata": {},
   "outputs": [
    {
     "data": {
      "image/png": "[encoded data removed]",
      "text/plain": [
       "<Figure size 1200x600 with 1 Axes>"
      ]
     },
     "metadata": {},
     "output_type": "display_data"
    }
   ],
   "source": [
    "#2da caja. Promedio de duración de llamada por plan.\n",
    "duracion_promedio_llamadas_mensual_surf[\"plan\"] = \"surf\"\n",
    "duracion_promedio_llamadas_mensual_ultimate[\"plan\"] = \"ultimate\"\n",
    "duracion_promedio_llamadas_mensual_ambos_planes = pd.concat([duracion_promedio_llamadas_mensual_surf, duracion_promedio_llamadas_mensual_ultimate])\n",
    "duracion_promedio_llamadas_mensual_ambos_planes.columns\n",
    "#Graficar\n",
    "plt.figure(figsize=(12, 6))\n",
    "sns.boxplot(data = duracion_promedio_llamadas_mensual_ambos_planes, x = \"plan\", y= \"duracion_promedio_de_llamada_por_mes\")\n",
    "plt.title(\"Distribución de duracion de llamadas por mes y por plan\")\n",
    "plt.xlabel(\"Plan\")\n",
    "plt.ylabel(\"Duración promedio de llamadas por mes y por plan (minutos)\")\n",
    "plt.show()"
   ]
  },
  {
   "cell_type": "markdown",
   "metadata": {
    "id": "r627zBO50q1K"
   },
   "source": [
    "El comportamiento de consumo de minutos tiene una mediana menor para el plan surf que para el plan ultimate, 403 vs 412 minutos. Ademas se percibe mayor variacion en la tendencia de consumo de minutos para el plan surf que el ultimate dado por las distancias entre el quartil 1 y el tercero asi como el rango de los bigotes y una desviación estándar de 75 minutos y 55 minutos respectivamente. \n",
    "En cuanto al comportamiento de los usuarios respecto a la longitud de las llamadas el rango de los datos es similar para ambos planes, sin embargo la mediana de los datos asi como tambien el 50 por ciento de los datos centrales dados por la caja son menores aunque con solapamiento para el plan ultimate que para el plan surf. Existe un valor excesivamente atípico para uno de los datos de ultimate. \n",
    "\n",
    "En resumen, hablando desde datos centrales como la mediana y variacion, hay más variación y menor consumo dentro del plan surf y las llamadas suelen ser un poco menores en el plan ultimate. "
   ]
  },
  {
   "cell_type": "markdown",
   "metadata": {
    "id": "8idKy8Wh0q1L"
   },
   "source": [
    "### Mensajes"
   ]
  },
  {
   "cell_type": "code",
   "execution_count": 193,
   "metadata": {
    "id": "NXLxiTit0q1L"
   },
   "outputs": [
    {
     "name": "stdout",
     "output_type": "stream",
     "text": [
      "Varianza para mensajes mensuales del plan surf: 77.86042992433698\n",
      "Varianza para mensajes mensuales del plan ultimate: 100.19932964061778\n",
      "Desviación estándar para mensajes mensuales del plan surf: 8.823855728894086\n",
      "Desviación estándar para mensajes mensuales del plan ultimate: 10.009961520436418\n"
     ]
    },
    {
     "data": {
      "image/png": "[encoded data removed]",
      "text/plain": [
       "<Figure size 1200x600 with 1 Axes>"
      ]
     },
     "metadata": {},
     "output_type": "display_data"
    }
   ],
   "source": [
    "# Compara el número de mensajes que tienden a enviar cada mes los usuarios de cada plan \n",
    "mensajes_mensuales_surf = df_todo_con_tarifa.loc[mask_surf, [\"month\", \"user_id\", \"mensajes_usuario_mes\"]]\n",
    "mensajes_mensuales_ultimate = df_todo_con_tarifa.loc[mask_ultimate, [\"month\", \"user_id\", \"mensajes_usuario_mes\"]]\n",
    "#display(mensajes_mensuales_surf)\n",
    "\n",
    "#obtener promedio, varianza, desviacion y grafico de caja o distribucion. \n",
    "#estamos comparando los meses no los usuarios individuales.\n",
    "promedio_mensajes_mensuales_surf = mensajes_mensuales_surf.groupby(\"month\")[\"mensajes_usuario_mes\"].mean().reset_index(name=\"promedio_mensajes_mensuales\")\n",
    "promedio_mensajes_mensuales_ultimate = mensajes_mensuales_ultimate.groupby(\"month\")[\"mensajes_usuario_mes\"].mean().reset_index(name=\"promedio_mensajes_mensuales\") #para graficar falta unir los marcos\n",
    "\n",
    "varianza_mensajes_mensuales_surf = promedio_mensajes_mensuales_surf[\"promedio_mensajes_mensuales\"].var()\n",
    "varianza_mensajes_mensuales_ultimate = promedio_mensajes_mensuales_ultimate[\"promedio_mensajes_mensuales\"].var()\n",
    "\n",
    "desv_est_mensajes_mensuales_surf = mt.sqrt(varianza_mensajes_mensuales_surf)\n",
    "desv_est_mensajes_mensuales_ultimate = mt.sqrt(varianza_mensajes_mensuales_ultimate)\n",
    "\n",
    "print(\"Varianza para mensajes mensuales del plan surf:\", varianza_mensajes_mensuales_surf)\n",
    "print(\"Varianza para mensajes mensuales del plan ultimate:\", varianza_mensajes_mensuales_ultimate)\n",
    "\n",
    "print(\"Desviación estándar para mensajes mensuales del plan surf:\", desv_est_mensajes_mensuales_surf)\n",
    "print(\"Desviación estándar para mensajes mensuales del plan ultimate:\", desv_est_mensajes_mensuales_ultimate)\n",
    "\n",
    "#Gráfico comparativo de distribucion de mensajes mensuales enviados por plan\n",
    "promedio_mensajes_mensuales_surf[\"plan\"] = \"surf\"\n",
    "promedio_mensajes_mensuales_ultimate[\"plan\"] = \"ultimate\"\n",
    "promedio_mensajes_mensuales_ambos_planes = pd.concat([promedio_mensajes_mensuales_surf, promedio_mensajes_mensuales_ultimate])\n",
    "promedio_mensajes_mensuales_ambos_planes.columns #'month', 'promedio_mensajes_mensuales', 'plan'\n",
    "\n",
    "plt.figure(figsize=(12, 6))\n",
    "sns.boxplot(data = promedio_mensajes_mensuales_ambos_planes, x = \"plan\", y= \"promedio_mensajes_mensuales\")\n",
    "plt.title(\"Distribución de mensajes mensuales enviados por plan\")\n",
    "plt.xlabel(\"Plan\")\n",
    "plt.ylabel(\"Mensajes mensuales\")\n",
    "plt.show()\n"
   ]
  },
  {
   "cell_type": "markdown",
   "metadata": {},
   "source": [
    "Se mandan menos mensajes mensuales por los usuarios del plan surf que los de ultimate. La mediana está al rededor de 7 mensajes arriba para el plan surf. El rango interquartil es mayor para surf siendo de 15 unidades o mensajes de variacion entre el 50% de los datos centrales mientras que son 13 para ultimate. El rango de mensajes mandados entre usuarios es mayor para el plan surf significando que hay mas variedad en cantidad de uso de mensajes entre los usuarios. "
   ]
  },
  {
   "cell_type": "markdown",
   "metadata": {
    "id": "42YSypXz0q1M"
   },
   "source": [
    "### Internet"
   ]
  },
  {
   "cell_type": "code",
   "execution_count": 194,
   "metadata": {
    "id": "lSuKPtjh0q1M"
   },
   "outputs": [
    {
     "data": {
      "image/png": "[encoded data removed]",
      "text/plain": [
       "<Figure size 1200x600 with 1 Axes>"
      ]
     },
     "metadata": {},
     "output_type": "display_data"
    }
   ],
   "source": [
    "# Compara la cantidad de tráfico de Internet consumido por usuarios por plan mensual\n",
    "internet_mensual_surf = df_todo_con_tarifa.loc[mask_surf, [\"month\", \"internet_usuario_mes\"]]\n",
    "internet_mensual_ultimate = df_todo_con_tarifa.loc[mask_ultimate, [\"month\", \"internet_usuario_mes\"]]\n",
    "\n",
    "promedio_internet_mensual_surf = internet_mensual_surf.groupby(\"month\")[\"internet_usuario_mes\"].mean().reset_index(name=\"promedio_mensual_internet\")\n",
    "promedio_internet_mensual_ultimate = internet_mensual_ultimate.groupby(\"month\")[\"internet_usuario_mes\"].mean().reset_index(name=\"promedio_mensual_internet\")\n",
    "\n",
    "promedio_internet_mensual_surf[\"varianza\"] = promedio_internet_mensual_surf[\"promedio_mensual_internet\"].var() #varianza siempre es la misma, ya sea que se anexe en el marco de datos o que se use como variable externa al marco de datos. Posteriormente preferiré como dato variable externa. \n",
    "promedio_internet_mensual_surf[\"desv_est\"] = np.sqrt(promedio_internet_mensual_surf[\"varianza\"])\n",
    "promedio_internet_mensual_ultimate[\"varianza\"] = promedio_internet_mensual_surf[\"promedio_mensual_internet\"].var()\n",
    "promedio_internet_mensual_ultimate[\"desv_est\"] = np.sqrt(promedio_internet_mensual_surf[\"varianza\"])\n",
    "\n",
    "#Grafico de distribución mensual de tráfico de internet por plan \n",
    "promedio_internet_mensual_surf[\"plan\"] = \"surf\"\n",
    "promedio_internet_mensual_ultimate[\"plan\"] = \"ultimate\"\n",
    "promedio_internet_mensual_ambos_planes = pd.concat([promedio_internet_mensual_surf, promedio_internet_mensual_ultimate])\n",
    "\n",
    "plt.figure(figsize=(12, 6))\n",
    "sns.boxplot(data = promedio_internet_mensual_ambos_planes, x = \"plan\", y= \"promedio_mensual_internet\")\n",
    "plt.title(\"Distribución de tráfico de internet mensual en megabytes por plan\")\n",
    "plt.xlabel(\"Plan\")\n",
    "plt.ylabel(\"Internet mensual (mb)\")\n",
    "plt.show()"
   ]
  },
  {
   "cell_type": "code",
   "execution_count": 195,
   "metadata": {},
   "outputs": [
    {
     "name": "stdout",
     "output_type": "stream",
     "text": [
      "15951.736041939712\n",
      "17178.491596638654\n",
      "1226.7555546989424\n"
     ]
    }
   ],
   "source": [
    "mediana_internet_surf = promedio_internet_mensual_surf[\"promedio_mensual_internet\"].median()\n",
    "mediana_internet_ultimate = promedio_internet_mensual_ultimate[\"promedio_mensual_internet\"].median()\n",
    "print(mediana_internet_surf)\n",
    "print(mediana_internet_ultimate)\n",
    "print(mediana_internet_ultimate-mediana_internet_surf)"
   ]
  },
  {
   "cell_type": "markdown",
   "metadata": {
    "id": "UN9zwuMP0q1N"
   },
   "source": [
    "El tráfico medio de internet es ligeramente superior para los usuarios ultimate con 17159 mb empleados mientras que la media para el plan surf es de 15933, 1225 mb de diferencia, aproximadamente un gigabyte. \n",
    "\n",
    "También es relevante destacar que hay mayor variación entre los datos para el plan surf dado por un rango entre quartiles superior así como un bigote inferior más amplio."
   ]
  },
  {
   "cell_type": "markdown",
   "metadata": {
    "id": "tCijq3260q1N"
   },
   "source": [
    "## Ingreso"
   ]
  },
  {
   "cell_type": "markdown",
   "metadata": {
    "id": "9nq5IAcy0q1O"
   },
   "source": [
    "[Del mismo modo que has estudiado el comportamiento de los usuarios, describe estadísticamente los ingresos de los planes.]"
   ]
  },
  {
   "cell_type": "code",
   "execution_count": 196,
   "metadata": {
    "id": "tz-dq_V00q1O"
   },
   "outputs": [
    {
     "name": "stdout",
     "output_type": "stream",
     "text": [
      "    month      plan  costo_total_mensual\n",
      "0       1      surf                20.00\n",
      "1       1  ultimate               210.00\n",
      "2       2      surf               119.57\n",
      "3       2  ultimate               350.00\n",
      "4       3      surf               616.65\n",
      "5       3  ultimate               546.00\n",
      "6       4      surf              1420.70\n",
      "7       4  ultimate              1169.00\n",
      "8       5      surf              2695.43\n",
      "9       5  ultimate              1491.00\n",
      "10      6      surf              3645.67\n",
      "11      6  ultimate              2667.00\n",
      "12      7      surf              5520.77\n",
      "13      7  ultimate              3402.00\n",
      "14      8      surf              7671.59\n",
      "15      8  ultimate              4130.00\n",
      "16      9      surf              8407.94\n",
      "17      9  ultimate              5068.00\n",
      "18     10      surf             11871.67\n",
      "19     10  ultimate              6349.00\n",
      "20     11      surf             12481.42\n",
      "21     11  ultimate              7364.00\n",
      "22     12      surf             16949.28\n",
      "23     12  ultimate              9100.00\n",
      "Ingresos totales por plan (anual):        plan  Ingresos_totales\n",
      "0      surf          71420.69\n",
      "1  ultimate          41846.00\n",
      "Promedio y mediana de ingreso mensual surf: 5951.724166666667 ; 4583.22\n",
      "Promedio y mediana ingreso mensual ultimate: 3487.1666666666665 ; 3034.5\n",
      "Varianza de ingresos mensuales surf: 31083589.50422651\n",
      "Desviación estándar de ingresos mensuales surf: 5575.265868478965\n",
      "Varianza de ingresos mensuales ultimate: 8809699.606060605\n",
      "Desviación estándar de ingresos mensuales ultimate: 2968.1138128549933\n"
     ]
    },
    {
     "data": {
      "image/png": "[encoded data removed]",
      "text/plain": [
       "<Figure size 1200x600 with 1 Axes>"
      ]
     },
     "metadata": {},
     "output_type": "display_data"
    }
   ],
   "source": [
    "#Obtención de datos sobre los ingresos por plan. \n",
    "#Interesa saber cuanto hay de gasto por mes, cual es el gasto promedio por usuario, varianza y desviación estándar así como distribuciones de tanto gastos totales como promedios.\n",
    "\n",
    "#Gasto total mensual por plan \n",
    "df_todo_con_tarifa.columns #'user_id', 'month', 'plan','costo_internet_extra', 'costo_minutos_extra', 'costo_mensajes_extra','costo_total'\n",
    "#gasto_total_mensual_surf = df_todo_con_tarifa.loc[mask_surf, [\"month\", \"user_id\", \"plan\", \"costo_total\"]]\n",
    "#gasto_total_mensual_ultimate = df_todo_con_tarifa.loc[mask_ultimate, [\"month\", \"user_id\", \"plan\", \"costo_total\"]]\n",
    "\n",
    "#Ah caray puedo no hacer el mask, y nadamás utilizar el plan como divisor en agrupamiento. \n",
    "gasto_total_mensual = df_todo_con_tarifa[[\"month\", \"user_id\", \"plan\", \"costo_total\"]].groupby([\"month\", \"plan\"])[\"costo_total\"].sum().reset_index(name=\"costo_total_mensual\") #gasto es ingreso dependiendo de la perspectiva; cliente o empresa respectivamente. \n",
    "gasto_total_por_plan = df_todo_con_tarifa[[\"month\", \"user_id\", \"plan\", \"costo_total\"]].groupby(\"plan\")[\"costo_total\"].sum().reset_index(name=\"Ingresos_totales\") #gasto es ingreso dependiendo de la perspectiva; cliente o empresa respectivamente. \n",
    "\n",
    "print(gasto_total_mensual)\n",
    "print(\"Ingresos totales por plan (anual):\", gasto_total_por_plan)\n",
    "promedio_ingreso_mensual_surf = gasto_total_mensual[gasto_total_mensual[\"plan\"] == \"surf\"][\"costo_total_mensual\"].mean() #promedio de la suma de ingresos mensuales, no por usuario.\n",
    "promedio_ingreso_mensual_ultimate = gasto_total_mensual[gasto_total_mensual[\"plan\"] == \"ultimate\"][\"costo_total_mensual\"].mean() \n",
    "mediana_ingreso_mensual_surf = gasto_total_mensual[gasto_total_mensual[\"plan\"] == \"surf\"][\"costo_total_mensual\"].median()\n",
    "mediana_ingreso_mensual_ultimate = gasto_total_mensual[gasto_total_mensual[\"plan\"] == \"ultimate\"][\"costo_total_mensual\"].median()\n",
    "\n",
    "print(\"Promedio y mediana de ingreso mensual surf:\",promedio_ingreso_mensual_surf, \";\", mediana_ingreso_mensual_surf) #5592 #Promedio de la suma de los costos totales es el promedio de ingresos por mes. \n",
    "print(\"Promedio y mediana ingreso mensual ultimate:\",promedio_ingreso_mensual_ultimate, \";\", mediana_ingreso_mensual_ultimate) #3477\n",
    "\n",
    "\n",
    "varianza_ingreso_mensual_surf = gasto_total_mensual[gasto_total_mensual[\"plan\"] == \"surf\"][\"costo_total_mensual\"].var()\n",
    "varianza_ingreso_mensual_ultimate = gasto_total_mensual[gasto_total_mensual[\"plan\"] == \"ultimate\"][\"costo_total_mensual\"].var()\n",
    "desv_est_ingreso_mensual_surf = mt.sqrt(varianza_ingreso_mensual_surf)\n",
    "desv_est_ingreso_mensual_ultimate = mt.sqrt(varianza_ingreso_mensual_ultimate)\n",
    "print(\"Varianza de ingresos mensuales surf:\", varianza_ingreso_mensual_surf)\n",
    "print(\"Desviación estándar de ingresos mensuales surf:\", desv_est_ingreso_mensual_surf)\n",
    "print(\"Varianza de ingresos mensuales ultimate:\", varianza_ingreso_mensual_ultimate)\n",
    "print(\"Desviación estándar de ingresos mensuales ultimate:\", desv_est_ingreso_mensual_ultimate)\n",
    "#Graficar Ingreso promedio.  \n",
    "plt.figure(figsize=(12, 6))\n",
    "sns.boxplot(data = gasto_total_mensual, x = \"plan\", y= \"costo_total_mensual\")\n",
    "plt.title(\"Distribución de ingreso total mensual por plan\")\n",
    "plt.xlabel(\"Plan\")\n",
    "plt.ylabel(\"ingreso total mensual\")\n",
    "plt.show()"
   ]
  },
  {
   "cell_type": "markdown",
   "metadata": {},
   "source": [
    "La mediana del ingreso total mensual para el plan surf es mayor que la del plan ultimate por 1268 dolares. Por otra parte el promedio para surf de ingresos mensuales es de 5593 mientras que el de ultimate es 3477. En ambos sentidos centralmente hay una variación de poco más de 1000 dólares.\n",
    "\n",
    "El ingreso mensual varía en mayor medida para el plan surf que para el plan ultimate dado por el rango interquartil o caja azul de mayor amplitud. Asimismo observable mediante la estadística de desviación estandar para los datos que es 5228 dólares y 2959 dólares respectivamente. En general hay una mayor ganancia anual por parte del plan surf comparado con el plan ultimate, un 62% más si comparamos los promedios. "
   ]
  },
  {
   "cell_type": "code",
   "execution_count": 197,
   "metadata": {},
   "outputs": [
    {
     "name": "stdout",
     "output_type": "stream",
     "text": [
      "    month      plan  promedio_gasto_total_usuario\n",
      "0       1      surf                     20.000000\n",
      "1       1  ultimate                     70.000000\n",
      "2       2      surf                     23.914000\n",
      "3       2  ultimate                     70.000000\n",
      "4       3      surf                     38.540625\n",
      "5       3  ultimate                     78.000000\n",
      "6       4      surf                     40.591429\n",
      "7       4  ultimate                     73.062500\n",
      "8       5      surf                     50.857170\n",
      "9       5  ultimate                     71.000000\n",
      "10      6      surf                     52.081000\n",
      "11      6  ultimate                     72.081081\n",
      "12      7      surf                     62.031124\n",
      "13      7  ultimate                     72.382979\n",
      "14      8      surf                     64.467143\n",
      "15      8  ultimate                     72.456140\n",
      "16      9      surf                     57.196871\n",
      "17      9  ultimate                     71.380282\n",
      "18     10      surf                     65.589337\n",
      "19     10  ultimate                     72.147727\n",
      "20     11      surf                     57.254220\n",
      "21     11  ultimate                     72.196078\n",
      "22     12      surf                     68.899512\n",
      "23     12  ultimate                     72.800000\n",
      "50.118535831573325\n",
      "72.29223229580026\n",
      "Mediana, varianza y desviación estándar para gastos o ingresos mensuales por usuario por el plan surf: 54.63893537414967 ; 260.35439874269434 ; 16.135501192795168\n",
      "Mediana, varianza y desviación estándar para gastos o ingresos mensuales por usuario por el plan ultimate: 72.17190285204991 ; 4.2317946744923 ; 2.0571326341517944\n"
     ]
    },
    {
     "data": {
      "image/png": "[encoded data removed]",
      "text/plain": [
       "<Figure size 1200x600 with 1 Axes>"
      ]
     },
     "metadata": {},
     "output_type": "display_data"
    }
   ],
   "source": [
    "#Diagrama de caja de comparación de gastos promedio mensuales.- Distribución de gastos promedio por usuario mensual. \n",
    "gasto_total_mensual_por_usuario = df_todo_con_tarifa[[\"month\", \"user_id\", \"plan\", \"costo_total\"]].groupby([\"month\", \"plan\"])[\"costo_total\"].mean().reset_index(name=\"promedio_gasto_total_usuario\") \n",
    "print(gasto_total_mensual_por_usuario)\n",
    "promedio_mensual_surf = gasto_total_mensual_por_usuario[gasto_total_mensual_por_usuario[\"plan\"]==\"surf\"][\"promedio_gasto_total_usuario\"].mean() #cuanto gasta el usuario promedio en el plan surf: 47dlls\n",
    "promedio_mensual_ultimate = gasto_total_mensual_por_usuario[gasto_total_mensual_por_usuario[\"plan\"]==\"ultimate\"][\"promedio_gasto_total_usuario\"].mean() #cuanto en el ultimate: 72 dlls\n",
    "\n",
    "print(promedio_mensual_surf) #47dlls. Este es promedio de la distribucion de valores. Los valores ya son el promedio de gasto por los usuarios al mes. Entonces representa el comportamiento de gasto del usuario promedio por el mes promedio desde una perspectiva anual. \n",
    "print(promedio_mensual_ultimate) #72 dlls\n",
    "\n",
    "varianza_mensual_surf = gasto_total_mensual_por_usuario[gasto_total_mensual_por_usuario[\"plan\"]==\"surf\"][\"promedio_gasto_total_usuario\"].var()\n",
    "mediana_mensual_surf = gasto_total_mensual_por_usuario[gasto_total_mensual_por_usuario[\"plan\"]==\"surf\"][\"promedio_gasto_total_usuario\"].median()\n",
    "desv_est_gasto_mensual_surf = mt.sqrt(varianza_mensual_surf)\n",
    "varianza_mensual_ultimate = gasto_total_mensual_por_usuario[gasto_total_mensual_por_usuario[\"plan\"]==\"ultimate\"][\"promedio_gasto_total_usuario\"].var()\n",
    "mediana_mensual_ultimate = gasto_total_mensual_por_usuario[gasto_total_mensual_por_usuario[\"plan\"]==\"ultimate\"][\"promedio_gasto_total_usuario\"].median()\n",
    "desv_est_gasto_mensual_ultimate = mt.sqrt(varianza_mensual_ultimate)\n",
    "\n",
    "print(\"Mediana, varianza y desviación estándar para gastos o ingresos mensuales por usuario por el plan surf:\", mediana_mensual_surf,\";\", varianza_mensual_surf, \";\", desv_est_gasto_mensual_surf )\n",
    "print(\"Mediana, varianza y desviación estándar para gastos o ingresos mensuales por usuario por el plan ultimate:\", mediana_mensual_ultimate,\";\", varianza_mensual_ultimate, \";\", desv_est_gasto_mensual_ultimate)\n",
    "#Graficar Ingreso promedio.  \n",
    "plt.figure(figsize=(12, 6))\n",
    "sns.boxplot(data = gasto_total_mensual_por_usuario, x = \"plan\", y= \"promedio_gasto_total_usuario\")\n",
    "plt.title(\"Distribución de ingresos mensuales por usuario por plan\")\n",
    "plt.xlabel(\"Plan\")\n",
    "plt.ylabel(\"ingresos mensuales por usuario\")\n",
    "plt.show()"
   ]
  },
  {
   "cell_type": "markdown",
   "metadata": {
    "id": "KAFidcXZ0q1P"
   },
   "source": [
    "Los ingresos por usuario para el plan ultimate son significativamente mayores ya que no hay solapamiento entre las cajas rango interquartiles y la mediana del plan ultimate es casi 20 dólares mayor que aquella de surf. El rango de los datos o variación para el plan surf es inmenso con una desviación estándar de 14.8 dólares mientras que la de surf es de 1.5 dólares. "
   ]
  },
  {
   "cell_type": "markdown",
   "metadata": {
    "id": "ajJ7VKeI0q1Q"
   },
   "source": [
    "## Prueba las hipótesis estadísticas"
   ]
  },
  {
   "cell_type": "markdown",
   "metadata": {
    "id": "AdXAZ-yL0q1Q"
   },
   "source": [
    "Hipótesis a probar: Los ingresos promedio procedentes de los usuarios de los planes de llamada Ultimate y Surf son diferentes."
   ]
  },
  {
   "cell_type": "code",
   "execution_count": 198,
   "metadata": {
    "id": "nFoPNlPq0q1R"
   },
   "outputs": [
    {
     "name": "stdout",
     "output_type": "stream",
     "text": [
      "Valor p: 0.00010344692020970612\n",
      "Rechazamos la hipótesis nula\n",
      "Es decir: Los ingresos promedio procedentes de los usuarios surf difieren de los ultimate.\n"
     ]
    }
   ],
   "source": [
    "# Prueba las hipótesis\n",
    "#Determinar si se haran unilaterales o bilaterales\n",
    "#Bilateral. \n",
    "\n",
    "#Alternativa: Los ingresos promedio procedentes de los usuarios surf difieren de los ultimate. \n",
    "#Nula: Los ingresos promedio procedentes de los usuarios surf no difieren de los ultimate. \n",
    "\n",
    "#Datos relevantes a ser comparados. Promedios de ingresos mensuales por usuario. \n",
    "gasto_total_mensual_por_usuario\n",
    "gasto_total_mensual_por_usuario_surf = gasto_total_mensual_por_usuario[gasto_total_mensual_por_usuario[\"plan\"]==\"surf\"][\"promedio_gasto_total_usuario\"]\n",
    "gasto_total_mensual_por_usuario_ultimate = gasto_total_mensual_por_usuario[gasto_total_mensual_por_usuario[\"plan\"]==\"ultimate\"][\"promedio_gasto_total_usuario\"]\n",
    "\n",
    "#Prueba bilateral ttest_ind\n",
    "alpha = 0.5\n",
    "resultados = st.ttest_ind(gasto_total_mensual_por_usuario_surf, gasto_total_mensual_por_usuario_ultimate)\n",
    "#Elección de hipótesis. \n",
    "print(\"Valor p:\", resultados.pvalue)\n",
    "\n",
    "if resultados.pvalue < alpha: \n",
    "    print(\"Rechazamos la hipótesis nula\")\n",
    "    print(\"Es decir: Los ingresos promedio procedentes de los usuarios surf difieren de los ultimate.\")\n",
    "else: \n",
    "    print(\"No rechazamos la hipótesis nula\")\n",
    "    print(\"Es decir: Los ingresos promedio procedentes de los usuarios surf no difieren de los ultimate.\")\n",
    "\n"
   ]
  },
  {
   "cell_type": "markdown",
   "metadata": {
    "id": "tCcAruM60q1R"
   },
   "source": [
    "Hipótesis a probar:\n",
    "El ingreso promedio de los usuarios del área NY-NJ es diferente al de los usuarios de otras regiones."
   ]
  },
  {
   "cell_type": "code",
   "execution_count": 199,
   "metadata": {
    "id": "Cqcj7wrZ0q1S"
   },
   "outputs": [
    {
     "data": {
      "text/html": [
       "<div>\n",
       "<style scoped>\n",
       "    .dataframe tbody tr th:only-of-type {\n",
       "        vertical-align: middle;\n",
       "    }\n",
       "\n",
       "    .dataframe tbody tr th {\n",
       "        vertical-align: top;\n",
       "    }\n",
       "\n",
       "    .dataframe thead th {\n",
       "        text-align: right;\n",
       "    }\n",
       "</style>\n",
       "<table border=\"1\" class=\"dataframe\">\n",
       "  <thead>\n",
       "    <tr style=\"text-align: right;\">\n",
       "      <th></th>\n",
       "      <th>month</th>\n",
       "      <th>plan</th>\n",
       "      <th>city</th>\n",
       "      <th>promedio_ingresos_ciudad</th>\n",
       "    </tr>\n",
       "  </thead>\n",
       "  <tbody>\n",
       "    <tr>\n",
       "      <th>0</th>\n",
       "      <td>1</td>\n",
       "      <td>surf</td>\n",
       "      <td>Denver-Aurora-Lakewood, CO MSA</td>\n",
       "      <td>20.0</td>\n",
       "    </tr>\n",
       "    <tr>\n",
       "      <th>1</th>\n",
       "      <td>1</td>\n",
       "      <td>ultimate</td>\n",
       "      <td>Charlotte-Concord-Gastonia, NC-SC MSA</td>\n",
       "      <td>70.0</td>\n",
       "    </tr>\n",
       "    <tr>\n",
       "      <th>2</th>\n",
       "      <td>1</td>\n",
       "      <td>ultimate</td>\n",
       "      <td>Los Angeles-Long Beach-Anaheim, CA MSA</td>\n",
       "      <td>70.0</td>\n",
       "    </tr>\n",
       "    <tr>\n",
       "      <th>3</th>\n",
       "      <td>1</td>\n",
       "      <td>ultimate</td>\n",
       "      <td>San Francisco-Oakland-Berkeley, CA MSA</td>\n",
       "      <td>70.0</td>\n",
       "    </tr>\n",
       "    <tr>\n",
       "      <th>4</th>\n",
       "      <td>2</td>\n",
       "      <td>surf</td>\n",
       "      <td>Baltimore-Columbia-Towson, MD MSA</td>\n",
       "      <td>20.0</td>\n",
       "    </tr>\n",
       "    <tr>\n",
       "      <th>...</th>\n",
       "      <td>...</td>\n",
       "      <td>...</td>\n",
       "      <td>...</td>\n",
       "      <td>...</td>\n",
       "    </tr>\n",
       "    <tr>\n",
       "      <th>740</th>\n",
       "      <td>12</td>\n",
       "      <td>ultimate</td>\n",
       "      <td>St. Louis, MO-IL MSA</td>\n",
       "      <td>70.0</td>\n",
       "    </tr>\n",
       "    <tr>\n",
       "      <th>741</th>\n",
       "      <td>12</td>\n",
       "      <td>ultimate</td>\n",
       "      <td>Tampa-St. Petersburg-Clearwater, FL MSA</td>\n",
       "      <td>70.0</td>\n",
       "    </tr>\n",
       "    <tr>\n",
       "      <th>742</th>\n",
       "      <td>12</td>\n",
       "      <td>ultimate</td>\n",
       "      <td>Tucson, AZ MSA</td>\n",
       "      <td>70.0</td>\n",
       "    </tr>\n",
       "    <tr>\n",
       "      <th>743</th>\n",
       "      <td>12</td>\n",
       "      <td>ultimate</td>\n",
       "      <td>Virginia Beach-Norfolk-Newport News, VA-NC MSA</td>\n",
       "      <td>70.0</td>\n",
       "    </tr>\n",
       "    <tr>\n",
       "      <th>744</th>\n",
       "      <td>12</td>\n",
       "      <td>ultimate</td>\n",
       "      <td>Washington-Arlington-Alexandria, DC-VA-MD-WV MSA</td>\n",
       "      <td>70.0</td>\n",
       "    </tr>\n",
       "  </tbody>\n",
       "</table>\n",
       "<p>745 rows × 4 columns</p>\n",
       "</div>"
      ],
      "text/plain": [
       "     month      plan                                              city  \\\n",
       "0        1      surf                    Denver-Aurora-Lakewood, CO MSA   \n",
       "1        1  ultimate             Charlotte-Concord-Gastonia, NC-SC MSA   \n",
       "2        1  ultimate            Los Angeles-Long Beach-Anaheim, CA MSA   \n",
       "3        1  ultimate            San Francisco-Oakland-Berkeley, CA MSA   \n",
       "4        2      surf                 Baltimore-Columbia-Towson, MD MSA   \n",
       "..     ...       ...                                               ...   \n",
       "740     12  ultimate                              St. Louis, MO-IL MSA   \n",
       "741     12  ultimate           Tampa-St. Petersburg-Clearwater, FL MSA   \n",
       "742     12  ultimate                                    Tucson, AZ MSA   \n",
       "743     12  ultimate    Virginia Beach-Norfolk-Newport News, VA-NC MSA   \n",
       "744     12  ultimate  Washington-Arlington-Alexandria, DC-VA-MD-WV MSA   \n",
       "\n",
       "     promedio_ingresos_ciudad  \n",
       "0                        20.0  \n",
       "1                        70.0  \n",
       "2                        70.0  \n",
       "3                        70.0  \n",
       "4                        20.0  \n",
       "..                        ...  \n",
       "740                      70.0  \n",
       "741                      70.0  \n",
       "742                      70.0  \n",
       "743                      70.0  \n",
       "744                      70.0  \n",
       "\n",
       "[745 rows x 4 columns]"
      ]
     },
     "metadata": {},
     "output_type": "display_data"
    },
    {
     "name": "stdout",
     "output_type": "stream",
     "text": [
      "['Denver-Aurora-Lakewood, CO MSA' 'Charlotte-Concord-Gastonia, NC-SC MSA'\n",
      " 'Los Angeles-Long Beach-Anaheim, CA MSA'\n",
      " 'San Francisco-Oakland-Berkeley, CA MSA'\n",
      " 'Baltimore-Columbia-Towson, MD MSA' 'Kansas City, MO-KS MSA'\n",
      " 'New York-Newark-Jersey City, NY-NJ-PA MSA'\n",
      " 'Riverside-San Bernardino-Ontario, CA MSA'\n",
      " 'Miami-Fort Lauderdale-West Palm Beach, FL MSA'\n",
      " 'Tampa-St. Petersburg-Clearwater, FL MSA'\n",
      " 'Boston-Cambridge-Newton, MA-NH MSA' 'Fresno, CA MSA'\n",
      " 'Philadelphia-Camden-Wilmington, PA-NJ-DE-MD MSA'\n",
      " 'Seattle-Tacoma-Bellevue, WA MSA' 'Dallas-Fort Worth-Arlington, TX MSA'\n",
      " 'Austin-Round Rock-Georgetown, TX MSA' 'Cincinnati, OH-KY-IN MSA'\n",
      " 'Indianapolis-Carmel-Anderson, IN MSA'\n",
      " 'Louisville/Jefferson County, KY-IN MSA' 'Memphis, TN-MS-AR MSA'\n",
      " 'Minneapolis-St. Paul-Bloomington, MN-WI MSA'\n",
      " 'Phoenix-Mesa-Chandler, AZ MSA' 'Portland-Vancouver-Hillsboro, OR-WA MSA'\n",
      " 'Washington-Arlington-Alexandria, DC-VA-MD-WV MSA'\n",
      " 'Atlanta-Sandy Springs-Roswell, GA MSA'\n",
      " 'Chicago-Naperville-Elgin, IL-IN-WI MSA' 'Columbia, SC MSA'\n",
      " 'San Antonio-New Braunfels, TX MSA' 'Tucson, AZ MSA'\n",
      " 'Baton Rouge, LA MSA' 'Cleveland-Elyria, OH MSA'\n",
      " 'Grand Rapids-Kentwood, MI MSA'\n",
      " 'Nashville-Davidson–Murfreesboro–Franklin, TN MSA' 'Tulsa, OK MSA'\n",
      " 'Urban Honolulu, HI MSA' 'St. Louis, MO-IL MSA'\n",
      " 'Birmingham-Hoover, AL MSA' 'Bridgeport-Stamford-Norwalk, CT MSA'\n",
      " 'Detroit-Warren-Dearborn, MI MSA'\n",
      " 'San Jose-Sunnyvale-Santa Clara, CA MSA' 'Columbus, OH MSA'\n",
      " 'Knoxville, TN MSA' 'Pittsburgh, PA MSA'\n",
      " 'San Diego-Chula Vista-Carlsbad, CA MSA' 'Buffalo-Cheektowaga, NY MSA'\n",
      " 'Greensboro-High Point, NC MSA'\n",
      " 'Houston-The Woodlands-Sugar Land, TX MSA'\n",
      " 'Omaha-Council Bluffs, NE-IA MSA' 'Providence-Warwick, RI-MA MSA'\n",
      " 'Rochester, NY MSA' 'Charleston-North Charleston, SC MSA'\n",
      " 'Albany-Schenectady-Troy, NY MSA' 'Bakersfield, CA MSA'\n",
      " 'New Haven-Milford, CT MSA' 'New Orleans-Metairie, LA MSA'\n",
      " 'Salt Lake City, UT MSA' 'Oklahoma City, OK MSA' 'Richmond, VA MSA'\n",
      " 'Albuquerque, NM MSA' 'Las Vegas-Henderson-Paradise, NV MSA'\n",
      " 'Milwaukee-Waukesha, WI MSA' 'Orlando-Kissimmee-Sanford, FL MSA'\n",
      " 'Oxnard-Thousand Oaks-Ventura, CA MSA' 'Stockton, CA MSA'\n",
      " 'Sacramento–Roseville–Folsom, CA MSA' 'Dayton-Kettering, OH MSA'\n",
      " 'El Paso, TX MSA' 'Jacksonville, FL MSA' 'Raleigh-Cary, NC MSA'\n",
      " 'Virginia Beach-Norfolk-Newport News, VA-NC MSA'\n",
      " 'North Port-Sarasota-Bradenton, FL MSA' 'Cape Coral-Fort Myers, FL MSA']\n",
      "7     20.000000\n",
      "19    35.368000\n",
      "43    41.741111\n",
      "59    70.000000\n",
      "85    52.737778\n",
      "Name: promedio_ingresos_ciudad, dtype: float64\n",
      "0    20.0\n",
      "1    70.0\n",
      "2    70.0\n",
      "3    70.0\n",
      "4    20.0\n",
      "Name: promedio_ingresos_ciudad, dtype: float64\n",
      "Valor de P: 0.4112086039753562\n",
      "No se rechaza la hipótesis nula\n",
      "Es decir: Los ingresos promedios de los usuarios del área NY-NJ no difieren significativamente con los de los usuarios para áreas distintas.\n"
     ]
    }
   ],
   "source": [
    "# Prueba las hipótesis\n",
    "\n",
    "#Nula: Los ingresos promedios de los usuarios del área NY-NJ no difieren significativamente con los de los usuarios para áreas distintas.\n",
    "#Alternativa: Los ingresos promedios de los usuarios del área NY-NJ difieren significativamente con los de los usuarios para áreas distintas.\n",
    "\n",
    "#Prueba\n",
    "#Bilateral. st_ttest_ind()\n",
    "\n",
    "#Datos a comparar\n",
    "#Para comparar ciudades se usará la tabla con todos los datos y se le añadirán las ciudades mediante un merge izquierdo por la columna user_id\n",
    "datos_para_ingresos_por_ciudad = pd.merge(df_todo_con_tarifa, users[[\"user_id\", \"city\"]], how=\"left\", on=\"user_id\")\n",
    "ingresos_por_ciudad = datos_para_ingresos_por_ciudad[[\"month\", \"plan\", \"user_id\", \"city\", \"costo_total\"]].groupby([\"month\", \"plan\", \"city\"])[\"costo_total\"].mean().reset_index(name=\"promedio_ingresos_ciudad\")\n",
    "display(ingresos_por_ciudad)\n",
    "print(ingresos_por_ciudad[\"city\"].unique()) #conseguir el nombre para NY-NJ: New York-Newark-Jersey City, NY-NJ-PA MSA\n",
    "ingresos_por_ciudad_ny_nj = ingresos_por_ciudad[ingresos_por_ciudad[\"city\"]==\"New York-Newark-Jersey City, NY-NJ-PA MSA\"][\"promedio_ingresos_ciudad\"]\n",
    "ingresos_por_ciudad_not_ny_nj = ingresos_por_ciudad[ingresos_por_ciudad[\"city\"]!=\"New York-Newark-Jersey City, NY-NJ-PA MSA\"][\"promedio_ingresos_ciudad\"]\n",
    "#son distintos?\n",
    "print(ingresos_por_ciudad_ny_nj.head()) #definitivamente distintos \n",
    "print(ingresos_por_ciudad_not_ny_nj.head())\n",
    "#Elección de hipótesis\n",
    "alpha = 0.05\n",
    "resultados_ingresos_ciudad = st.ttest_ind(ingresos_por_ciudad_ny_nj, ingresos_por_ciudad_not_ny_nj)\n",
    "\n",
    "print(\"Valor de P:\", resultados_ingresos_ciudad.pvalue)\n",
    "if resultados_ingresos_ciudad.pvalue < alpha: \n",
    "    print(\"Rechazamos la hipótesis nula\")\n",
    "    print(\"Es decir: Los ingresos promedios de los usuarios del área NY-NJ difieren significativamente con los de los usuarios para áreas distintas.\")\n",
    "else: \n",
    "    print(\"No se rechaza la hipótesis nula\")\n",
    "    print(\"Es decir: Los ingresos promedios de los usuarios del área NY-NJ no difieren significativamente con los de los usuarios para áreas distintas.\") \n",
    "\n"
   ]
  },
  {
   "cell_type": "markdown",
   "metadata": {
    "id": "bbTR8UQO0q1T"
   },
   "source": [
    "## Conclusión general\n",
    "A nivel metodológico el proyecto afianza habilidades de importe, revisión de formato de datos, organización, agregación y manipulación de datos con sus respectivas estructuras, adición de cálculos de interés entre ellos  consumo de servicios excedentes y tarifas asociadas de acuerdo a la cantidad de servicios permitidos por los planes para calcular los costos totales a pagar por cada cliente,  revisión de estadística central, realización de pruebas estadísticas y visualización. \n",
    "\n",
    "En el transcurso de análisis. Se pudo concretar lo siguiente: \n",
    "\n",
    "1. Hay 339 clientes en el plan surf y 161 en el plan ultimate. \n",
    "\n",
    "2. El tráfico de llamadas está sesgado hacia los últimos meses. Más del 50% de las llamadas ocurren del mes 10 al 12. El consumo de minutos totales por plan es de 41376 como promedio mensual de surf y 20147 minutos para ultimate. A nivel usuarios, hay un promedio de consumo de minutos por usuario al mes en el plan surf de 385 al igual que 385 para ultimate variando en decimales entre los planes. Como mediana varían minimamente siendo la de surf de 403 y la de ultimate de 412 con una desviación estándar mayor para últimate de 75 minutos y 55 minutos para surf.\n",
    "\n",
    "3. El consumo medio anual de mensajes por usuario es de 126 mensajes como mediana, 189 como promedio y en un rango de 0 a 1300. Lo cual habla sobre la tendencia en la distribución de usuarios a emplear poco uso de mensajes. Particularmente a nivel mensual se registraron valores medios de 34 y 41 mensajes respectivamente para el plan surf y ultimate.\n",
    "\n",
    "4. El consumo promedio y mediano anual por usuario de internet por es de 78 gigas y 62 gigas respectivamente. De forma mensual el consumo de mb por usuario para el plan surf es de 15932 contra 17158 por los usuarios ultimate. Una diferencia de medias de poco más de un giga, 1225 mb. \n",
    "\n",
    "5. Ingresos. Anualmente se generaron 67115 dólares por el plan surf y 41724 por el plan ultimate. Asimismo mensualmente el promedio de ganancia o ganancia mensual para el plan surf es de 5593 y 3477 dólares por el plan ultimate. Es útil saber que esto representa una ganancia de 62% más por parte del plan surf. La distribución de ingresos por cliente enseña que el cliente promedio surf gasta 51 dlls mientras que el de ultimate 71 dólares. Además el plan surf varía casi 10 veces más con una desviación estándar de 14.8 dólares frente a solo 1.54 dólares por el plan ultimate. \n",
    "\n",
    "5. Por último de la distribución para consumo de minutos mensuales se demostró que como promedio solo se llega a al rededor de un máximo de 500 minutos para ambos planes sin embargo ultimate concede 3000 minutos. Una acción interesante con esta información sería ajustar los servicios a los consumos y proporcionar una mejor tarifa como publicidad para atraer clientes al plan con apoyo preferencial. Aunque similar el consumo de minutos por plan tiene una mediana menor por 9 minutos siendo surf consumidor de 403 minutos y ultimate de 412.\n",
    "\n"
   ]
  }
 ],
 "metadata": {
  "ExecuteTimeLog": [
   {
    "duration": 828,
    "start_time": "2021-11-16T09:21:11.304Z"
   },
   {
    "duration": 893,
    "start_time": "2021-11-16T09:21:17.728Z"
   },
   {
    "duration": 1150,
    "start_time": "2021-11-16T09:21:29.568Z"
   },
   {
    "duration": 3,
    "start_time": "2021-11-16T09:24:14.495Z"
   },
   {
    "duration": 120,
    "start_time": "2021-11-16T09:24:46.630Z"
   },
   {
    "duration": 3,
    "start_time": "2021-11-16T09:28:27.882Z"
   },
   {
    "duration": 4,
    "start_time": "2021-11-16T09:29:54.281Z"
   },
   {
    "duration": 3,
    "start_time": "2021-11-16T09:30:45.936Z"
   },
   {
    "duration": 4,
    "start_time": "2021-11-16T09:31:06.300Z"
   },
   {
    "duration": 113,
    "start_time": "2021-11-16T09:31:37.208Z"
   },
   {
    "duration": 143,
    "start_time": "2021-11-16T09:31:48.656Z"
   },
   {
    "duration": 98,
    "start_time": "2021-11-16T09:31:55.678Z"
   },
   {
    "duration": 3,
    "start_time": "2021-11-16T09:32:08.535Z"
   },
   {
    "duration": 111,
    "start_time": "2021-11-16T09:32:10.120Z"
   },
   {
    "duration": 3,
    "start_time": "2021-11-16T09:32:15.732Z"
   },
   {
    "duration": 4,
    "start_time": "2021-11-16T09:32:29.423Z"
   },
   {
    "duration": 3,
    "start_time": "2021-11-16T10:03:03.074Z"
   },
   {
    "duration": 3,
    "start_time": "2021-11-16T10:10:01.288Z"
   },
   {
    "duration": 3,
    "start_time": "2021-11-16T10:10:46.923Z"
   },
   {
    "duration": 121,
    "start_time": "2021-11-16T10:37:46.494Z"
   },
   {
    "duration": 125,
    "start_time": "2021-11-16T10:38:20.632Z"
   },
   {
    "duration": 112,
    "start_time": "2021-11-16T10:46:53.001Z"
   },
   {
    "duration": 110,
    "start_time": "2021-11-16T10:48:25.775Z"
   },
   {
    "duration": 3,
    "start_time": "2021-11-16T10:50:18.720Z"
   },
   {
    "duration": 4,
    "start_time": "2021-11-16T10:50:37.649Z"
   },
   {
    "duration": 2,
    "start_time": "2021-11-16T10:50:51.884Z"
   },
   {
    "duration": 3,
    "start_time": "2021-11-16T10:51:56.237Z"
   },
   {
    "duration": 101,
    "start_time": "2021-11-16T10:53:13.791Z"
   },
   {
    "duration": 3,
    "start_time": "2021-11-16T10:55:59.186Z"
   },
   {
    "duration": 3,
    "start_time": "2021-11-16T10:56:10.751Z"
   },
   {
    "duration": 3,
    "start_time": "2021-11-16T10:56:49.038Z"
   },
   {
    "duration": 3,
    "start_time": "2021-11-16T10:56:49.174Z"
   },
   {
    "duration": 4,
    "start_time": "2021-11-16T10:56:49.414Z"
   },
   {
    "duration": 3,
    "start_time": "2021-11-16T10:56:49.680Z"
   },
   {
    "duration": 3,
    "start_time": "2021-11-16T10:56:50.370Z"
   },
   {
    "duration": 114,
    "start_time": "2021-11-16T10:59:34.518Z"
   },
   {
    "duration": 3,
    "start_time": "2021-11-16T11:01:41.201Z"
   },
   {
    "duration": 116,
    "start_time": "2021-11-16T11:01:48.754Z"
   },
   {
    "duration": 3,
    "start_time": "2021-11-16T11:02:16.685Z"
   },
   {
    "duration": 3,
    "start_time": "2021-11-16T11:02:19.479Z"
   },
   {
    "duration": 3,
    "start_time": "2021-11-16T11:02:47.067Z"
   },
   {
    "duration": 3,
    "start_time": "2021-11-16T11:02:49.353Z"
   },
   {
    "duration": 3,
    "start_time": "2021-11-16T11:03:07.835Z"
   },
   {
    "duration": 3,
    "start_time": "2021-11-16T11:03:07.953Z"
   },
   {
    "duration": 112,
    "start_time": "2021-11-16T11:07:52.072Z"
   },
   {
    "duration": 187,
    "start_time": "2021-11-16T11:09:23.468Z"
   },
   {
    "duration": 4,
    "start_time": "2021-11-16T11:10:01.455Z"
   },
   {
    "duration": 3,
    "start_time": "2021-11-16T11:10:05.069Z"
   },
   {
    "duration": 4,
    "start_time": "2021-11-16T11:10:13.376Z"
   },
   {
    "duration": 3,
    "start_time": "2021-11-16T11:10:14.434Z"
   },
   {
    "duration": 3,
    "start_time": "2021-11-16T11:10:22.853Z"
   },
   {
    "duration": 4,
    "start_time": "2021-11-16T11:27:29.279Z"
   },
   {
    "duration": 4,
    "start_time": "2021-11-16T11:29:08.919Z"
   },
   {
    "duration": 118,
    "start_time": "2021-11-16T11:29:46.703Z"
   },
   {
    "duration": 437,
    "start_time": "2021-11-16T11:36:02.181Z"
   },
   {
    "duration": 157,
    "start_time": "2021-11-16T11:36:14.388Z"
   },
   {
    "duration": 207,
    "start_time": "2021-11-16T11:47:15.898Z"
   },
   {
    "duration": 3,
    "start_time": "2021-11-16T11:53:52.092Z"
   },
   {
    "duration": 3,
    "start_time": "2021-11-16T11:53:52.236Z"
   },
   {
    "duration": 3,
    "start_time": "2021-11-16T11:59:12.005Z"
   },
   {
    "duration": 112,
    "start_time": "2021-11-16T12:00:33.446Z"
   },
   {
    "duration": 3,
    "start_time": "2021-11-16T12:02:14.453Z"
   },
   {
    "duration": 3,
    "start_time": "2021-11-16T12:02:39.512Z"
   },
   {
    "duration": 106,
    "start_time": "2021-11-16T12:03:03.460Z"
   },
   {
    "duration": 3,
    "start_time": "2021-11-17T20:37:21.139Z"
   },
   {
    "duration": 3,
    "start_time": "2021-11-17T20:37:22.229Z"
   },
   {
    "duration": 3,
    "start_time": "2021-11-17T20:38:38.806Z"
   },
   {
    "duration": 3,
    "start_time": "2021-11-17T20:38:41.958Z"
   },
   {
    "duration": 3,
    "start_time": "2021-11-17T20:43:46.551Z"
   },
   {
    "duration": 4,
    "start_time": "2021-11-17T20:58:21.835Z"
   },
   {
    "duration": 3,
    "start_time": "2021-11-17T20:59:21.872Z"
   },
   {
    "duration": 4,
    "start_time": "2021-11-17T20:59:45.352Z"
   },
   {
    "duration": 4,
    "start_time": "2021-11-17T20:59:49.646Z"
   },
   {
    "duration": 159,
    "start_time": "2021-11-17T21:02:26.949Z"
   },
   {
    "duration": 3,
    "start_time": "2021-11-17T21:03:53.461Z"
   },
   {
    "duration": 3,
    "start_time": "2021-11-17T21:03:53.694Z"
   },
   {
    "duration": 3,
    "start_time": "2021-11-17T21:05:28.145Z"
   },
   {
    "duration": 116,
    "start_time": "2021-11-17T21:05:57.787Z"
   },
   {
    "duration": 3,
    "start_time": "2021-11-17T21:06:37.993Z"
   },
   {
    "duration": 3,
    "start_time": "2021-11-17T21:06:38.261Z"
   },
   {
    "duration": 3,
    "start_time": "2021-11-17T21:11:54.358Z"
   },
   {
    "duration": 3,
    "start_time": "2021-11-17T21:12:43.846Z"
   },
   {
    "duration": 4,
    "start_time": "2021-11-17T21:13:08.773Z"
   },
   {
    "duration": 3,
    "start_time": "2021-11-17T21:14:44.441Z"
   },
   {
    "duration": 3,
    "start_time": "2021-11-17T21:15:42.059Z"
   },
   {
    "duration": 4,
    "start_time": "2021-11-17T21:15:51.995Z"
   },
   {
    "duration": 3,
    "start_time": "2021-11-17T21:15:53.923Z"
   },
   {
    "duration": 3,
    "start_time": "2021-11-17T21:15:55.282Z"
   },
   {
    "duration": 3,
    "start_time": "2021-11-17T21:16:28.492Z"
   },
   {
    "duration": 3,
    "start_time": "2021-11-17T21:16:32.603Z"
   },
   {
    "duration": 3,
    "start_time": "2021-11-17T21:17:06.941Z"
   },
   {
    "duration": 98,
    "start_time": "2021-11-17T21:18:05.733Z"
   },
   {
    "duration": 4,
    "start_time": "2021-11-17T21:21:35.255Z"
   },
   {
    "duration": 3,
    "start_time": "2021-11-17T21:21:37.804Z"
   },
   {
    "duration": 4,
    "start_time": "2021-11-17T21:23:06.071Z"
   },
   {
    "duration": 3,
    "start_time": "2021-11-17T21:23:24.799Z"
   },
   {
    "duration": 3,
    "start_time": "2021-11-17T21:23:32.591Z"
   },
   {
    "duration": 98,
    "start_time": "2021-11-17T21:28:31.559Z"
   },
   {
    "duration": 3,
    "start_time": "2021-11-17T21:28:45.448Z"
   },
   {
    "duration": 3,
    "start_time": "2021-11-17T21:29:17.303Z"
   },
   {
    "duration": 3,
    "start_time": "2021-11-17T21:29:29.617Z"
   },
   {
    "duration": 3,
    "start_time": "2021-11-17T21:29:32.681Z"
   },
   {
    "duration": 3,
    "start_time": "2021-11-17T21:36:11.474Z"
   },
   {
    "duration": 3,
    "start_time": "2021-11-17T21:36:14.791Z"
   },
   {
    "duration": 3,
    "start_time": "2021-11-17T21:36:53.943Z"
   },
   {
    "duration": 3,
    "start_time": "2021-11-17T21:36:56.165Z"
   },
   {
    "duration": 4,
    "start_time": "2021-11-17T21:37:16.590Z"
   },
   {
    "duration": 3,
    "start_time": "2021-11-17T21:37:22.702Z"
   },
   {
    "duration": 4,
    "start_time": "2021-11-17T21:38:03.479Z"
   },
   {
    "duration": 3,
    "start_time": "2021-11-17T21:38:08.601Z"
   },
   {
    "duration": 3,
    "start_time": "2021-11-17T21:38:12.928Z"
   },
   {
    "duration": 3,
    "start_time": "2021-11-17T21:38:48.896Z"
   },
   {
    "duration": 2,
    "start_time": "2021-11-17T21:38:49.171Z"
   },
   {
    "duration": 4,
    "start_time": "2021-11-17T21:39:57.889Z"
   },
   {
    "duration": 3,
    "start_time": "2021-11-17T21:39:58.057Z"
   },
   {
    "duration": 3,
    "start_time": "2021-11-17T21:41:20.108Z"
   },
   {
    "duration": 3,
    "start_time": "2021-11-17T21:41:20.629Z"
   },
   {
    "duration": 3,
    "start_time": "2021-11-17T21:42:49.136Z"
   },
   {
    "duration": 3,
    "start_time": "2021-11-17T21:43:15.137Z"
   },
   {
    "duration": 4,
    "start_time": "2021-11-17T21:43:16.766Z"
   },
   {
    "duration": 4,
    "start_time": "2021-11-17T21:43:31.711Z"
   },
   {
    "duration": 3,
    "start_time": "2021-11-17T21:43:36.312Z"
   },
   {
    "duration": 4,
    "start_time": "2021-11-17T21:45:08.825Z"
   },
   {
    "duration": 4,
    "start_time": "2021-11-17T21:45:10.119Z"
   },
   {
    "duration": 4,
    "start_time": "2021-11-17T21:45:13.748Z"
   },
   {
    "duration": 3,
    "start_time": "2021-11-17T21:45:22.219Z"
   },
   {
    "duration": 3,
    "start_time": "2021-11-17T21:45:33.412Z"
   },
   {
    "duration": 2,
    "start_time": "2021-11-17T21:46:01.885Z"
   },
   {
    "duration": 3,
    "start_time": "2021-11-17T21:46:03.628Z"
   },
   {
    "duration": 107,
    "start_time": "2021-11-17T21:47:32.512Z"
   },
   {
    "duration": 103,
    "start_time": "2021-11-17T21:50:36.243Z"
   },
   {
    "duration": 3,
    "start_time": "2021-11-18T06:28:31.440Z"
   },
   {
    "duration": 3,
    "start_time": "2021-11-18T06:29:00.168Z"
   },
   {
    "duration": 3,
    "start_time": "2021-11-18T06:31:27.008Z"
   },
   {
    "duration": 2,
    "start_time": "2021-11-18T06:35:34.288Z"
   },
   {
    "duration": 2,
    "start_time": "2021-11-18T06:38:04.527Z"
   }
  ],
  "colab": {
   "provenance": []
  },
  "kernelspec": {
   "display_name": "Python 3",
   "language": "python",
   "name": "python3"
  },
  "language_info": {
   "codemirror_mode": {
    "name": "ipython",
    "version": 3
   },
   "file_extension": ".py",
   "mimetype": "text/x-python",
   "name": "python",
   "nbconvert_exporter": "python",
   "pygments_lexer": "ipython3",
   "version": "3.13.0"
  },
  "toc": {
   "base_numbering": 1,
   "nav_menu": {},
   "number_sections": true,
   "sideBar": true,
   "skip_h1_title": false,
   "title_cell": "Table of Contents",
   "title_sidebar": "Contents",
   "toc_cell": false,
   "toc_position": {},
   "toc_section_display": true,
   "toc_window_display": true
  }
 },
 "nbformat": 4,
 "nbformat_minor": 1
}
